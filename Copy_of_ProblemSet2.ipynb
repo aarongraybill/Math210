{
  "nbformat": 4,
  "nbformat_minor": 0,
  "metadata": {
    "colab": {
      "name": "Copy of ProblemSet2.ipynb",
      "provenance": [],
      "collapsed_sections": [],
      "toc_visible": true,
      "include_colab_link": true
    },
    "kernelspec": {
      "name": "python3",
      "display_name": "Python 3"
    }
  },
  "cells": [
    {
      "cell_type": "markdown",
      "metadata": {
        "id": "view-in-github",
        "colab_type": "text"
      },
      "source": [
        "<a href=\"https://colab.research.google.com/github/aarongraybill/Math210/blob/main/Copy_of_ProblemSet2.ipynb\" target=\"_parent\"><img src=\"https://colab.research.google.com/assets/colab-badge.svg\" alt=\"Open In Colab\"/></a>"
      ]
    },
    {
      "cell_type": "markdown",
      "metadata": {
        "id": "hLpSiJM2WkeL"
      },
      "source": [
        "# Math 210\n",
        "## Aaron Graybill\n",
        "### Problem Set 6\n",
        "### 4/8/21\n",
        "\n"
      ]
    },
    {
      "cell_type": "code",
      "metadata": {
        "id": "tKHJr65KzubB"
      },
      "source": [
        "import numpy as np\n",
        "from scipy.optimize import linprog\n",
        "import pandas as pd"
      ],
      "execution_count": 12,
      "outputs": []
    },
    {
      "cell_type": "markdown",
      "metadata": {
        "id": "Ob9nA1DssA3c"
      },
      "source": [
        "## Problem 1.\n"
      ]
    },
    {
      "cell_type": "markdown",
      "metadata": {
        "id": "f7IFFdiesF4B"
      },
      "source": [
        "### a.\n",
        "I convert the problem to a single source problem:\n",
        "\n",
        "Edges: $\\mathcal{E}=\\left\\{(0,1),(0,2),(0,4),(1,2),(1,3),(2,3),(2,4),(2,5),(3,4),(3,5),(4,5),(4,6),(5,4),(5,6)\\right\\}$.\n",
        "\n",
        "Fix the flow on $(0,1),(0,2),(0,4)$ to $30,6,$ and $4$ respectively.\n",
        "\n",
        "Let the currently unspecified constraint set be $\\mathcal{C}$.\n",
        "\n",
        "Maximize the flow into vertex $6$, so $\\max_{x_{\\mathcal{E}}\\in\\mathcal{C}}\\left\\{x_{46}+x_{56}\\right\\}$\n",
        "\n",
        "We have the following constraint set:\n",
        "\\begin{align*}\n",
        "x_{12}+x_{13}&=x_{01}\\\\\n",
        "x_{23}+x_{24}+x_{25}&=x_{02}+x_{12}\\\\\n",
        "x_{34}+x_{35}&=x_{13}+x_{23}\\\\\n",
        "x_{45}+x_{46}&=x_{24}+x_{34}+x_{54}\\\\\n",
        "x_{54}+x_{56}&=x_{25}+x_{35}+x_{45}\\\\\n",
        "\\end{align*}"
      ]
    },
    {
      "cell_type": "code",
      "metadata": {
        "colab": {
          "base_uri": "https://localhost:8080/"
        },
        "id": "R5Vn4W-As03Q",
        "outputId": "f635f04f-c2fe-4c54-edd8-0a592b66b437"
      },
      "source": [
        "a_eq=np.array([\n",
        "            [-1,0,0,1,1,0,0,0,0,0,0,0,0,0],\n",
        "            [0,-1,0,-1,0,1,1,1,0,0,0,0,0,0],\n",
        "            [0,0,0,0,-1,-1,0,0,1,1,0,0,0,0],\n",
        "            [0,0,0,0,0,0,-1,0,-1,0,1,1,-1,0],\n",
        "            [0,0,0,0,0,0,0,-1,0,-1,-1,0,1,1],\n",
        "            [1,0,0,0,0,0,0,0,0,0,0,0,0,0],\n",
        "            [0,1,0,0,0,0,0,0,0,0,0,0,0,0],\n",
        "            [0,0,1,0,0,0,0,0,0,0,0,0,0,0]])\n",
        "\n",
        "b_eq=np.concatenate((np.zeros((5)),[30,6,4]))\n",
        "print(b_eq)\n",
        "a_leq=np.identity(14)\n",
        "b_leq=[100,100,100,14,16,9,3,8,10,6,5,16,4,15]\n",
        "\n",
        "c=[0,0,0,0,0,0,0,0,0,0,0,-1,0,-1]\n",
        "\n",
        "linprog(c,A_ub=a_leq,b_ub=b_leq,A_eq=a_eq,b_eq=b_eq)\n"
      ],
      "execution_count": 27,
      "outputs": [
        {
          "output_type": "stream",
          "text": [
            "[ 0.  0.  0.  0.  0. 30.  6.  4.]\n"
          ],
          "name": "stdout"
        },
        {
          "output_type": "stream",
          "text": [
            "/usr/local/lib/python3.7/dist-packages/numpy/core/fromnumeric.py:87: VisibleDeprecationWarning: Creating an ndarray from ragged nested sequences (which is a list-or-tuple of lists-or-tuples-or ndarrays with different lengths or shapes) is deprecated. If you meant to do this, you must specify 'dtype=object' when creating the ndarray\n",
            "  return ufunc.reduce(obj, axis, dtype, out, **passkwargs)\n"
          ],
          "name": "stderr"
        },
        {
          "output_type": "execute_result",
          "data": {
            "text/plain": [
              "     con: array([2.60071640e+01, 3.71530915e+00, 7.36996242e-10, 9.28827286e-01,\n",
              "       9.28827288e-01, 0.00000000e+00, 0.00000000e+00, 0.00000000e+00])\n",
              "     fun: -4.419872228913644\n",
              " message: 'The algorithm terminated successfully and determined that the problem is infeasible.'\n",
              "     nit: 4\n",
              "   slack: array([70.        , 94.        , 96.        , 12.05585812, 13.95130592,\n",
              "        7.89671993,  1.00428174,  6.8701656 ,  8.15174565,  4.69628021,\n",
              "        3.62732858, 13.47278483,  3.01525874, 13.10734294])\n",
              "  status: 2\n",
              " success: False\n",
              "       x: array([30.        ,  6.        ,  4.        ,  1.94414188,  2.04869408,\n",
              "        1.10328007,  1.99571826,  1.1298344 ,  1.84825435,  1.30371979,\n",
              "        1.37267142,  2.52721517,  0.98474126,  1.89265706])"
            ]
          },
          "metadata": {
            "tags": []
          },
          "execution_count": 27
        }
      ]
    },
    {
      "cell_type": "code",
      "metadata": {
        "colab": {
          "base_uri": "https://localhost:8080/",
          "height": 297
        },
        "id": "1QqyCDON-_ku",
        "outputId": "bf4d11de-4e5c-4674-91fa-27450660a5d5"
      },
      "source": [
        "names=[\"(0,1)\",\"(0,2)\",\"(0,4)\",\"(1,2)\",\"(1,3)\",\"(2,3)\",\"(2,4)\",\"(2,5)\",\"(3,4)\",\"(3,5)\",\"(4,5)\",\"(4,6)\",\"(5,4)\",\"(5,6)\",\"=b\"]\n",
        "row_names=[\"1\",\"2\",\"3\",\"4\",\"5\",\"0,1\",\"0,2\",\"0,4\"]\n",
        "test=pd.DataFrame(np.append(a_eq,np.transpose(np.array([b_eq])),axis=1),columns=names,index=row_names)\n",
        "test"
      ],
      "execution_count": 43,
      "outputs": [
        {
          "output_type": "execute_result",
          "data": {
            "text/html": [
              "<div>\n",
              "<style scoped>\n",
              "    .dataframe tbody tr th:only-of-type {\n",
              "        vertical-align: middle;\n",
              "    }\n",
              "\n",
              "    .dataframe tbody tr th {\n",
              "        vertical-align: top;\n",
              "    }\n",
              "\n",
              "    .dataframe thead th {\n",
              "        text-align: right;\n",
              "    }\n",
              "</style>\n",
              "<table border=\"1\" class=\"dataframe\">\n",
              "  <thead>\n",
              "    <tr style=\"text-align: right;\">\n",
              "      <th></th>\n",
              "      <th>(0,1)</th>\n",
              "      <th>(0,2)</th>\n",
              "      <th>(0,4)</th>\n",
              "      <th>(1,2)</th>\n",
              "      <th>(1,3)</th>\n",
              "      <th>(2,3)</th>\n",
              "      <th>(2,4)</th>\n",
              "      <th>(2,5)</th>\n",
              "      <th>(3,4)</th>\n",
              "      <th>(3,5)</th>\n",
              "      <th>(4,5)</th>\n",
              "      <th>(4,6)</th>\n",
              "      <th>(5,4)</th>\n",
              "      <th>(5,6)</th>\n",
              "      <th>=b</th>\n",
              "    </tr>\n",
              "  </thead>\n",
              "  <tbody>\n",
              "    <tr>\n",
              "      <th>1</th>\n",
              "      <td>-1.0</td>\n",
              "      <td>0.0</td>\n",
              "      <td>0.0</td>\n",
              "      <td>1.0</td>\n",
              "      <td>1.0</td>\n",
              "      <td>0.0</td>\n",
              "      <td>0.0</td>\n",
              "      <td>0.0</td>\n",
              "      <td>0.0</td>\n",
              "      <td>0.0</td>\n",
              "      <td>0.0</td>\n",
              "      <td>0.0</td>\n",
              "      <td>0.0</td>\n",
              "      <td>0.0</td>\n",
              "      <td>0.0</td>\n",
              "    </tr>\n",
              "    <tr>\n",
              "      <th>2</th>\n",
              "      <td>0.0</td>\n",
              "      <td>-1.0</td>\n",
              "      <td>0.0</td>\n",
              "      <td>-1.0</td>\n",
              "      <td>0.0</td>\n",
              "      <td>1.0</td>\n",
              "      <td>1.0</td>\n",
              "      <td>1.0</td>\n",
              "      <td>0.0</td>\n",
              "      <td>0.0</td>\n",
              "      <td>0.0</td>\n",
              "      <td>0.0</td>\n",
              "      <td>0.0</td>\n",
              "      <td>0.0</td>\n",
              "      <td>0.0</td>\n",
              "    </tr>\n",
              "    <tr>\n",
              "      <th>3</th>\n",
              "      <td>0.0</td>\n",
              "      <td>0.0</td>\n",
              "      <td>0.0</td>\n",
              "      <td>0.0</td>\n",
              "      <td>-1.0</td>\n",
              "      <td>-1.0</td>\n",
              "      <td>0.0</td>\n",
              "      <td>0.0</td>\n",
              "      <td>1.0</td>\n",
              "      <td>1.0</td>\n",
              "      <td>0.0</td>\n",
              "      <td>0.0</td>\n",
              "      <td>0.0</td>\n",
              "      <td>0.0</td>\n",
              "      <td>0.0</td>\n",
              "    </tr>\n",
              "    <tr>\n",
              "      <th>4</th>\n",
              "      <td>0.0</td>\n",
              "      <td>0.0</td>\n",
              "      <td>0.0</td>\n",
              "      <td>0.0</td>\n",
              "      <td>0.0</td>\n",
              "      <td>0.0</td>\n",
              "      <td>-1.0</td>\n",
              "      <td>0.0</td>\n",
              "      <td>-1.0</td>\n",
              "      <td>0.0</td>\n",
              "      <td>1.0</td>\n",
              "      <td>1.0</td>\n",
              "      <td>-1.0</td>\n",
              "      <td>0.0</td>\n",
              "      <td>0.0</td>\n",
              "    </tr>\n",
              "    <tr>\n",
              "      <th>5</th>\n",
              "      <td>0.0</td>\n",
              "      <td>0.0</td>\n",
              "      <td>0.0</td>\n",
              "      <td>0.0</td>\n",
              "      <td>0.0</td>\n",
              "      <td>0.0</td>\n",
              "      <td>0.0</td>\n",
              "      <td>-1.0</td>\n",
              "      <td>0.0</td>\n",
              "      <td>-1.0</td>\n",
              "      <td>-1.0</td>\n",
              "      <td>0.0</td>\n",
              "      <td>1.0</td>\n",
              "      <td>1.0</td>\n",
              "      <td>0.0</td>\n",
              "    </tr>\n",
              "    <tr>\n",
              "      <th>0,1</th>\n",
              "      <td>1.0</td>\n",
              "      <td>0.0</td>\n",
              "      <td>0.0</td>\n",
              "      <td>0.0</td>\n",
              "      <td>0.0</td>\n",
              "      <td>0.0</td>\n",
              "      <td>0.0</td>\n",
              "      <td>0.0</td>\n",
              "      <td>0.0</td>\n",
              "      <td>0.0</td>\n",
              "      <td>0.0</td>\n",
              "      <td>0.0</td>\n",
              "      <td>0.0</td>\n",
              "      <td>0.0</td>\n",
              "      <td>30.0</td>\n",
              "    </tr>\n",
              "    <tr>\n",
              "      <th>0,2</th>\n",
              "      <td>0.0</td>\n",
              "      <td>1.0</td>\n",
              "      <td>0.0</td>\n",
              "      <td>0.0</td>\n",
              "      <td>0.0</td>\n",
              "      <td>0.0</td>\n",
              "      <td>0.0</td>\n",
              "      <td>0.0</td>\n",
              "      <td>0.0</td>\n",
              "      <td>0.0</td>\n",
              "      <td>0.0</td>\n",
              "      <td>0.0</td>\n",
              "      <td>0.0</td>\n",
              "      <td>0.0</td>\n",
              "      <td>6.0</td>\n",
              "    </tr>\n",
              "    <tr>\n",
              "      <th>0,4</th>\n",
              "      <td>0.0</td>\n",
              "      <td>0.0</td>\n",
              "      <td>1.0</td>\n",
              "      <td>0.0</td>\n",
              "      <td>0.0</td>\n",
              "      <td>0.0</td>\n",
              "      <td>0.0</td>\n",
              "      <td>0.0</td>\n",
              "      <td>0.0</td>\n",
              "      <td>0.0</td>\n",
              "      <td>0.0</td>\n",
              "      <td>0.0</td>\n",
              "      <td>0.0</td>\n",
              "      <td>0.0</td>\n",
              "      <td>4.0</td>\n",
              "    </tr>\n",
              "  </tbody>\n",
              "</table>\n",
              "</div>"
            ],
            "text/plain": [
              "     (0,1)  (0,2)  (0,4)  (1,2)  (1,3)  ...  (4,5)  (4,6)  (5,4)  (5,6)    =b\n",
              "1     -1.0    0.0    0.0    1.0    1.0  ...    0.0    0.0    0.0    0.0   0.0\n",
              "2      0.0   -1.0    0.0   -1.0    0.0  ...    0.0    0.0    0.0    0.0   0.0\n",
              "3      0.0    0.0    0.0    0.0   -1.0  ...    0.0    0.0    0.0    0.0   0.0\n",
              "4      0.0    0.0    0.0    0.0    0.0  ...    1.0    1.0   -1.0    0.0   0.0\n",
              "5      0.0    0.0    0.0    0.0    0.0  ...   -1.0    0.0    1.0    1.0   0.0\n",
              "0,1    1.0    0.0    0.0    0.0    0.0  ...    0.0    0.0    0.0    0.0  30.0\n",
              "0,2    0.0    1.0    0.0    0.0    0.0  ...    0.0    0.0    0.0    0.0   6.0\n",
              "0,4    0.0    0.0    1.0    0.0    0.0  ...    0.0    0.0    0.0    0.0   4.0\n",
              "\n",
              "[8 rows x 15 columns]"
            ]
          },
          "metadata": {
            "tags": []
          },
          "execution_count": 43
        }
      ]
    }
  ]
}