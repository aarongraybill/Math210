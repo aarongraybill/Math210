{
  "nbformat": 4,
  "nbformat_minor": 0,
  "metadata": {
    "colab": {
      "name": "pivot_a_tableau.ipynb",
      "provenance": []
    },
    "kernelspec": {
      "name": "python3",
      "display_name": "Python 3"
    }
  },
  "cells": [
    {
      "cell_type": "markdown",
      "metadata": {
        "id": "R7w27qK4C9DD"
      },
      "source": [
        "This notebook is Python code for **computing a pivot of a Tucker tableau**.  \n",
        "\n",
        "The first three cells import the package numpy and define functions to print a tableau (including labels) and do the pivot.\n",
        "\n",
        "The bottom cell of the notebook is a sample of how to do an example (it's set up to do the Bakery Problem, pivoting twice)\n",
        "\n",
        "You can run individual cells by clicking on them and doing Shift-Enter.  Alternatively, you can run the entire notebook (on colab.research.google.com, this is found under Runtime; on the Python hub, it's under Cell)"
      ]
    },
    {
      "cell_type": "code",
      "metadata": {
        "id": "lYHyCd9QEat9"
      },
      "source": [
        "import numpy as np"
      ],
      "execution_count": 6,
      "outputs": []
    },
    {
      "cell_type": "code",
      "metadata": {
        "id": "Qno1kz97EehB"
      },
      "source": [
        "def print_tableau(a,indep_names,dep_names):\n",
        "#\n",
        "# Given matrix \"a\" and lists of variables names \"indep_names\" and \"dep_names\",\n",
        "# this function prints the matrix and labels in standard tableau format\n",
        "# (including adding the -1, the minus signs in the last column, and labeling the lower-right as obj)\n",
        "#\n",
        "# First, check the inputs: indep_names should be one shorter than the number of columns of A\n",
        "#                          dep_names should be one shorter than the number of rows of A\n",
        "#\n",
        "    nrows = a.shape[0]    # use the shape function to determine number of rows and cols in A\n",
        "    ncols = a.shape[1]\n",
        "    nindep = len(indep_names)\n",
        "    ndep = len(dep_names)\n",
        "    if nindep != ncols-1:\n",
        "        print(\"WARNING: # of indep vbles should be one fewer than # columns of matrix\")\n",
        "    if ndep != nrows-1:\n",
        "        print(\"WARNING: # of dep vbles should be one fewer than # rows of matrix\")\n",
        "# Now do the printing (uses a variety of formatting techniques in Python)        \n",
        "    for j in range(ncols-1):                    # Print the independent variables in the first row\n",
        "        print(indep_names[j].rjust(10),end=\"\")  # rjust(10) makes fields 10 wide and right-justifies;\n",
        "                                                #    the end command prevents newline)\n",
        "    print(\"        -1\")                         # Tack on the -1 at the end of the first row\n",
        "    for i in range(nrows-1):\n",
        "        for j in range(ncols):                  # Print all but the last row of the matrix\n",
        "            print(\"%10.3f\" % a[i][j],end=\"\") # The syntax prints in a field 10 wide, showing 3 decimal points\n",
        "        lab = \"= -\" + dep_names[i]\n",
        "        print(lab.rjust(10))\n",
        "    for j in range(ncols):\n",
        "        print(\"%10.3f\" % a[nrows-1][j],end=\"\")  # Print the last row of the matrix, with label \"obj\" at end\n",
        "    lab = \"= obj\"\n",
        "    print(lab.rjust(10))\n",
        "    print(\" \")    # Put blank line at bottom"
      ],
      "execution_count": 3,
      "outputs": []
    },
    {
      "cell_type": "code",
      "metadata": {
        "id": "rQI-mNTxEjZe"
      },
      "source": [
        "def pivot(a,pivrow,pivcol,indep_names,dep_names) :\n",
        "# \n",
        "# Given matrix \"a\", a row number \"pivrow\" and column number \"pivcol\", \n",
        "#  and lists of variable names \"indep_names\" and \"dep_names\", this\n",
        "#  function does three things:\n",
        "#    (1) outputs the new version of the matrix after a pivot,\n",
        "#    (2) updates the lists of variable names post-pivot\n",
        "#    (3) prints the new matrix, including labels showing the variable names\n",
        "#\n",
        "# First, check the inputs: indep_names should be one shorter than the number of columns of A\n",
        "#                          dep_names should be one shorter than the number of rows of A\n",
        "#                          you should not be pivoting on the last row or last column\n",
        "#\n",
        "    a = a.astype(float)   # make sure entries are treated as floating point numbers\n",
        "    nrows = a.shape[0]    # use the shape function to determine number of rows and cols in A\n",
        "    ncols = a.shape[1]\n",
        "    nindep = len(indep_names)\n",
        "    ndep = len(dep_names)\n",
        "    if nindep != ncols-1:\n",
        "        print(\"WARNING: # of indep vbles should be one fewer than # columns of matrix\")\n",
        "    if ndep != nrows-1:\n",
        "        print(\"WARNING: # of dep vbles should be one fewer than # rows of matrix\")\n",
        "    if pivrow > nrows-1 or pivcol > ncols-1:\n",
        "        print(\"WARNING: should not pivot on last row or column\")\n",
        "    newa = a.copy()       # make a copy of A, to be filled in below with result of pivot\n",
        "    p = a[pivrow-1][pivcol-1]   # identify pivot element\n",
        "    newa[pivrow-1][pivcol-1] = 1/p   # set new value of pivot element\n",
        "    # Set entries in p's row\n",
        "    for j in range(ncols):\n",
        "        if j != pivcol-1:\n",
        "            newa[pivrow-1][j]=a[pivrow-1][j]/p;\n",
        "    # Set entries in p's column\n",
        "    for i in range(nrows):\n",
        "        if i != pivrow-1:\n",
        "            newa[i][pivcol-1]=-a[i][pivcol-1]/p;\n",
        "    # Set all other entries\n",
        "    for i in range(nrows):\n",
        "        for j in range(ncols):\n",
        "            if i != pivrow-1 and j != pivcol-1:\n",
        "                r = a[i][pivcol-1]\n",
        "                q = a[pivrow-1][j]\n",
        "                s = a[i][j]\n",
        "                newa[i][j]=(p*s-q*r)/p\n",
        "    # Now swap the variable names\n",
        "    temp = indep_names[pivcol-1]\n",
        "    indep_names[pivcol-1]=dep_names[pivrow-1]\n",
        "    dep_names[pivrow-1]=temp\n",
        "    print_tableau(newa,indep_names,dep_names) # Print the matrix with updated labels\n",
        "    return newa;"
      ],
      "execution_count": 4,
      "outputs": []
    },
    {
      "cell_type": "code",
      "metadata": {
        "colab": {
          "base_uri": "https://localhost:8080/"
        },
        "id": "KVaCgrY2Epym",
        "outputId": "7413355a-45d3-4abe-a311-05f5b3a36dff"
      },
      "source": [
        "np.set_printoptions(suppress=True)   # Prevents scientific notation when printing\n",
        "a = np.array([[10,5,150],\n",
        "         [4,3,80],\n",
        "         [30,20,0]])\n",
        "indep_names = [\"donut\",\"cake\"]\n",
        "dep_names = [\"t1\",\"t2\"]\n",
        "print_tableau(a,indep_names,dep_names)\n",
        "a2 = pivot(a,1,1,indep_names,dep_names)\n",
        "a3 = pivot(a2,2,2,indep_names,dep_names)"
      ],
      "execution_count": 5,
      "outputs": [
        {
          "output_type": "stream",
          "text": [
            "     donut      cake        -1\n",
            "    10.000     5.000   150.000     = -t1\n",
            "     4.000     3.000    80.000     = -t2\n",
            "    30.000    20.000     0.000     = obj\n",
            " \n",
            "        t1      cake        -1\n",
            "     0.100     0.500    15.000  = -donut\n",
            "    -0.400     1.000    20.000     = -t2\n",
            "    -3.000     5.000  -450.000     = obj\n",
            " \n",
            "        t1        t2        -1\n",
            "     0.300    -0.500     5.000  = -donut\n",
            "    -0.400     1.000    20.000   = -cake\n",
            "    -1.000    -5.000  -550.000     = obj\n",
            " \n"
          ],
          "name": "stdout"
        }
      ]
    },
    {
      "cell_type": "code",
      "metadata": {
        "id": "bBWEctQyQt7-",
        "outputId": "296721af-1549-4669-8630-cc73b1b0c457",
        "colab": {
          "base_uri": "https://localhost:8080/"
        }
      },
      "source": [
        "b_1=np.array([[1,-2,2],[-1,-1,-7],[2,-1,-4],[-1,-2,-18],[3,2,0]])\n",
        "b_2=pivot(b_1,1,1,[\"x1\",\"x2\"],[\"t1\",\"t2\",\"t3\",\"t4\"])"
      ],
      "execution_count": 9,
      "outputs": [
        {
          "output_type": "stream",
          "text": [
            "        t1        x2        -1\n",
            "     1.000    -2.000     2.000     = -x1\n",
            "     1.000    -3.000    -5.000     = -t2\n",
            "    -2.000     3.000    -8.000     = -t3\n",
            "     1.000    -4.000   -16.000     = -t4\n",
            "    -3.000     8.000    -6.000     = obj\n",
            " \n"
          ],
          "name": "stdout"
        }
      ]
    },
    {
      "cell_type": "code",
      "metadata": {
        "id": "CpMztpznqwqo"
      },
      "source": [
        ""
      ],
      "execution_count": null,
      "outputs": []
    }
  ]
}