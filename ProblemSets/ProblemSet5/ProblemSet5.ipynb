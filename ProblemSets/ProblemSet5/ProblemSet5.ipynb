{
  "nbformat": 4,
  "nbformat_minor": 0,
  "metadata": {
    "colab": {
      "name": "ProblemSet2.ipynb",
      "provenance": [],
      "collapsed_sections": [],
      "toc_visible": true,
      "include_colab_link": true
    },
    "kernelspec": {
      "name": "python3",
      "display_name": "Python 3"
    }
  },
  "cells": [
    {
      "cell_type": "markdown",
      "metadata": {
        "id": "view-in-github",
        "colab_type": "text"
      },
      "source": [
        "<a href=\"https://colab.research.google.com/github/aarongraybill/Math210/blob/main/ProblemSets/ProblemSet5/ProblemSet5.ipynb\" target=\"_parent\"><img src=\"https://colab.research.google.com/assets/colab-badge.svg\" alt=\"Open In Colab\"/></a>"
      ]
    },
    {
      "cell_type": "markdown",
      "metadata": {
        "id": "hLpSiJM2WkeL"
      },
      "source": [
        "# Math 210\n",
        "## Aaron Graybill\n",
        "### Problem Set 5\n",
        "### 3/25/21\n",
        "\n",
        "**Click on 1.a** in the table of contents"
      ]
    },
    {
      "cell_type": "markdown",
      "metadata": {
        "id": "yra5pgeQzeNr"
      },
      "source": [
        "## Imports"
      ]
    },
    {
      "cell_type": "code",
      "metadata": {
        "id": "tKHJr65KzubB"
      },
      "source": [
        "import numpy as np\n",
        "from scipy.optimize import linprog"
      ],
      "execution_count": 2,
      "outputs": []
    },
    {
      "cell_type": "code",
      "metadata": {
        "id": "7OgnFZCzRNIs"
      },
      "source": [
        "def print_tableau(a,indep_names,dep_names):\n",
        "#\n",
        "# Given matrix \"a\" and lists of variables names \"indep_names\" and \"dep_names\",\n",
        "# this function prints the matrix and labels in standard tableau format\n",
        "# (including adding the -1, the minus signs in the last column, and labeling the lower-right as obj)\n",
        "#\n",
        "# First, check the inputs: indep_names should be one shorter than the number of columns of A\n",
        "#                          dep_names should be one shorter than the number of rows of A\n",
        "#\n",
        "    nrows = a.shape[0]    # use the shape function to determine number of rows and cols in A\n",
        "    ncols = a.shape[1]\n",
        "    nindep = len(indep_names)\n",
        "    ndep = len(dep_names)\n",
        "    if nindep != ncols-1:\n",
        "        print(\"WARNING: # of indep vbles should be one fewer than # columns of matrix\")\n",
        "    if ndep != nrows-1:\n",
        "        print(\"WARNING: # of dep vbles should be one fewer than # rows of matrix\")\n",
        "# Now do the printing (uses a variety of formatting techniques in Python)        \n",
        "    for j in range(ncols-1):                    # Print the independent variables in the first row\n",
        "        print(indep_names[j].rjust(10),end=\"\")  # rjust(10) makes fields 10 wide and right-justifies;\n",
        "                                                #    the end command prevents newline)\n",
        "    print(\"        -1\")                         # Tack on the -1 at the end of the first row\n",
        "    for i in range(nrows-1):\n",
        "        for j in range(ncols):                  # Print all but the last row of the matrix\n",
        "            print(\"%10.3f\" % a[i][j],end=\"\") # The syntax prints in a field 10 wide, showing 3 decimal points\n",
        "        lab = \"= -\" + dep_names[i]\n",
        "        print(lab.rjust(10))\n",
        "    for j in range(ncols):\n",
        "        print(\"%10.3f\" % a[nrows-1][j],end=\"\")  # Print the last row of the matrix, with label \"obj\" at end\n",
        "    lab = \"= obj\"\n",
        "    print(lab.rjust(10))\n",
        "    print(\" \")    # Put blank line at bottom"
      ],
      "execution_count": 3,
      "outputs": []
    },
    {
      "cell_type": "code",
      "metadata": {
        "id": "4UnP4mLZRW-n"
      },
      "source": [
        "def pivot(a,pivrow,pivcol,indep_names,dep_names) :\n",
        "# \n",
        "# Given matrix \"a\", a row number \"pivrow\" and column number \"pivcol\", \n",
        "#  and lists of variable names \"indep_names\" and \"dep_names\", this\n",
        "#  function does three things:\n",
        "#    (1) outputs the new version of the matrix after a pivot,\n",
        "#    (2) updates the lists of variable names post-pivot\n",
        "#    (3) prints the new matrix, including labels showing the variable names\n",
        "#\n",
        "# First, check the inputs: indep_names should be one shorter than the number of columns of A\n",
        "#                          dep_names should be one shorter than the number of rows of A\n",
        "#                          you should not be pivoting on the last row or last column\n",
        "#\n",
        "    a = a.astype(float)   # make sure entries are treated as floating point numbers\n",
        "    nrows = a.shape[0]    # use the shape function to determine number of rows and cols in A\n",
        "    ncols = a.shape[1]\n",
        "    nindep = len(indep_names)\n",
        "    ndep = len(dep_names)\n",
        "    if nindep != ncols-1:\n",
        "        print(\"WARNING: # of indep vbles should be one fewer than # columns of matrix\")\n",
        "    if ndep != nrows-1:\n",
        "        print(\"WARNING: # of dep vbles should be one fewer than # rows of matrix\")\n",
        "    if pivrow > nrows-1 or pivcol > ncols-1:\n",
        "        print(\"WARNING: should not pivot on last row or column\")\n",
        "    newa = a.copy()       # make a copy of A, to be filled in below with result of pivot\n",
        "    p = a[pivrow-1][pivcol-1]   # identify pivot element\n",
        "    newa[pivrow-1][pivcol-1] = 1/p   # set new value of pivot element\n",
        "    # Set entries in p's row\n",
        "    for j in range(ncols):\n",
        "        if j != pivcol-1:\n",
        "            newa[pivrow-1][j]=a[pivrow-1][j]/p;\n",
        "    # Set entries in p's column\n",
        "    for i in range(nrows):\n",
        "        if i != pivrow-1:\n",
        "            newa[i][pivcol-1]=-a[i][pivcol-1]/p;\n",
        "    # Set all other entries\n",
        "    for i in range(nrows):\n",
        "        for j in range(ncols):\n",
        "            if i != pivrow-1 and j != pivcol-1:\n",
        "                r = a[i][pivcol-1]\n",
        "                q = a[pivrow-1][j]\n",
        "                s = a[i][j]\n",
        "                newa[i][j]=(p*s-q*r)/p\n",
        "    # Now swap the variable names\n",
        "    temp = indep_names[pivcol-1]\n",
        "    indep_names[pivcol-1]=dep_names[pivrow-1]\n",
        "    dep_names[pivrow-1]=temp\n",
        "    print_tableau(newa,indep_names,dep_names) # Print the matrix with updated labels\n",
        "    return newa;"
      ],
      "execution_count": 4,
      "outputs": []
    },
    {
      "cell_type": "code",
      "metadata": {
        "id": "MQj2ylNFS3zv"
      },
      "source": [
        "def target(a) :\n",
        "    nrows = a.shape[0]    # use the shape function to determine number of rows and cols in \"a\"\n",
        "    ncols = a.shape[1]\n",
        "    import numpy as np\n",
        "    v = np.empty(ncols-1)\n",
        "    for i in range(ncols-1):\n",
        "        v[i]=a[nrows-1,i]\n",
        "    biggest_c = np.max(v)\n",
        "    where_is_biggest_c = np.argmax(v)+1\n",
        "    if biggest_c > 0 :\n",
        "        return where_is_biggest_c\n",
        "    else :\n",
        "        return -1"
      ],
      "execution_count": 5,
      "outputs": []
    },
    {
      "cell_type": "code",
      "metadata": {
        "id": "C6_nnkgOS8bO"
      },
      "source": [
        "def select(a,pivcolnum) :\n",
        "    nrows = a.shape[0]    # use the shape function to determine number of rows and cols in A\n",
        "    ncols = a.shape[1]\n",
        "# First task: work down the column and record the b/a ratios in a vector v\n",
        "#     except record -1 if a is negative or zero\n",
        "    import numpy as np\n",
        "    v = np.zeros(nrows-1)\n",
        "    for i in range(nrows-1):\n",
        "        if a[i,pivcolnum-1]>0 :\n",
        "            v[i] = a[i,ncols-1]/a[i,pivcolnum-1]\n",
        "        else :\n",
        "            v[i] = -1\n",
        "# Second task: if max b/a > -1, find min b/a by hand (ignoring zero entries in v)\n",
        "    if np.max(v) > -1 :  \n",
        "        min_so_far = np.max(v)+1  # Initialize variable to be for-sure bigger than the min\n",
        "        for i in range(nrows-1):\n",
        "            if v[i] > -1 and v[i] < min_so_far :\n",
        "                min_so_far = v[i]\n",
        "                where_is_min = i+1   # Add 1 to use human numbering\n",
        "        return where_is_min      # Once we've scanned v for min, we can return result\n",
        "    else :          \n",
        "        return -1"
      ],
      "execution_count": 6,
      "outputs": []
    },
    {
      "cell_type": "code",
      "metadata": {
        "id": "M3yzTXdsNb41"
      },
      "source": [
        "# Create Simplex BF\n",
        "def SimplexBF(a,indep_names,dep_names):\n",
        "  nrows, ncols = a.shape\n",
        "  a_new = a\n",
        "  print_tableau(a_new,indep_names,dep_names)\n",
        "  while np.max(a_new[nrows-1,:-1])>0:\n",
        "    pivcol=target(a_new)\n",
        "    pivrow=select(a_new,pivcol)\n",
        "    if pivrow == -1:\n",
        "      return(\"Unbounded\")\n",
        "    else:\n",
        "      a_new=pivot(a_new,pivrow,pivcol,indep_names,dep_names)\n",
        "      print_tableau(a_new,indep_names,dep_names)\n",
        "\n"
      ],
      "execution_count": 7,
      "outputs": []
    },
    {
      "cell_type": "code",
      "metadata": {
        "id": "979PDvog1R84"
      },
      "source": [
        "def column_delete(a,col_to_remove,indep_names,dep_names) :\n",
        "    import numpy as np\n",
        "    anew = np.delete(a,col_to_remove-1,axis=1)\n",
        "    del indep_names[col_to_remove-1]\n",
        "    print_tableau(anew,indep_names,dep_names)\n",
        "    return anew"
      ],
      "execution_count": 8,
      "outputs": []
    },
    {
      "cell_type": "code",
      "metadata": {
        "id": "D4-S8DvB1TjQ"
      },
      "source": [
        "def row_delete(a,row_to_remove,indep_names,dep_names) :\n",
        "    import numpy as np\n",
        "    anew = np.delete(a,row_to_remove-1,axis=0)\n",
        "    del dep_names[row_to_remove-1]\n",
        "    print_tableau(anew,indep_names,dep_names)\n",
        "    return anew"
      ],
      "execution_count": 9,
      "outputs": []
    },
    {
      "cell_type": "code",
      "metadata": {
        "id": "w0u1JGl74jX-"
      },
      "source": [
        "def targetnbf(tab):\n",
        "  nrows, ncols = tab.shape\n",
        "  new_i = -1\n",
        "  for i in range(nrows-1) :# don't check obj fn row\n",
        "    if tab[i,ncols-1] < 0:\n",
        "      new_i = i+1\n",
        "  return(new_i)\n",
        "\n",
        "def candidateone(tab,targetedrow):\n",
        "  #don't specify a row that's the obj fn row, I have no protocol against it\n",
        "  nrows, ncols = tab.shape\n",
        "  for i in range(ncols-1): #don't check last col bc it's the b's\n",
        "    if tab[targetedrow-1,i]<0 :\n",
        "      return(i+1)#bailout if found one\n",
        "  return(-1) #none found in loop, return -1\n",
        "\n",
        "def  selectnbf(tab,targetedrow,pivcolumn) :\n",
        "  nrows, ncols = tab.shape\n",
        "\n",
        "  #subset of two columns in question exclude obj fn row\n",
        "  candidate_column =tab[targetedrow-1:nrows-1,pivcolumn-1]\n",
        "  b_column=tab[targetedrow-1:nrows-1,ncols-1]\n",
        "\n",
        "  # compute ratios\n",
        "  ratios=b_column/candidate_column\n",
        "\n",
        "  # Find row in subset and convert back to index in full table:\n",
        "  #don't need to start at first row, let those be the starting values\n",
        "  cur_ratio= ratios[0]\n",
        "  best_row=0\n",
        "  # the seemingly misplaced -1s and +1s are because we start at second row\n",
        "  for i in range(len(candidate_column)-1):\n",
        "    if candidate_column[i+1]>0 and ratios[i+1]<cur_ratio :\n",
        "      cur_ratio=ratios[i+1]\n",
        "      best_row=i+1\n",
        "\n",
        "  #the targetedrow already has the +1, so this converts to start at 1\n",
        "    #and converts table subset index to full tableau index\n",
        "  best_row=best_row+targetedrow  \n",
        "\n",
        "  return([best_row,pivcolumn]) #output\n",
        "\n",
        "def simplexnbf(tab,indep_names,dep_names):\n",
        "  nrows, ncols = tab.shape #get dims\n",
        "  current_target_row=np.Inf #set current target row to nonsense\n",
        "  tab_new=tab # get primer value for tableau iterator\n",
        "  \n",
        "  NotReadyForBF = True #changed when problem is BF\n",
        "  SolutionPossible = True #false when no solution is discovered\n",
        "\n",
        "  print_tableau(tab,indep_names,dep_names) #print initial tableau\n",
        "\n",
        "  # while NBF and solution still possible apply NBF rules\n",
        "  while NotReadyForBF and SolutionPossible:\n",
        "    current_target_row=targetnbf(tab_new) # find target\n",
        "    if current_target_row ==-1 : #if target is -1, Ready for BF\n",
        "      NotReadyForBF = False\n",
        "    else : #find candidate from targeted row\n",
        "      current_candidate_column=candidateone(tab_new,current_target_row)\n",
        "      if current_candidate_column ==-1 : #if no candidates, no solution\n",
        "        SolutionPossible = False\n",
        "      else : #pivot based off of the computed selection\n",
        "        pivot_row,pivot_col=selectnbf(tab_new,current_target_row,current_candidate_column)\n",
        "        tab_new=pivot(tab_new,pivot_row,pivot_col,indep_names,dep_names)\n",
        "  if not NotReadyForBF : #if we bailed because ready for BF apply SimplexBF\n",
        "    SimplexBF(tab_new,indep_names,dep_names)\n",
        "  if not SolutionPossible: # if we bailed bc constraint set emtpy, say so \n",
        "    return(\"-1, Constraint set empty, sorry ☹️\")\n",
        "  \n",
        "  #we can't exit the while loop for anything but the reasons above, \n",
        "  # so don't need any else statements"
      ],
      "execution_count": 10,
      "outputs": []
    },
    {
      "cell_type": "code",
      "metadata": {
        "id": "psW1dN33Ha2j"
      },
      "source": [
        "def dual_print_tableau(a,indep_names,dep_names,indep_names_dual,dep_names_dual):\n",
        "#\n",
        "# Given matrix \"a\" and lists of variables names \"indep_names\" and \"dep_names\",\n",
        "#   and (for the dual) \"indep_names_dual\" and \"dep_names_dual\",\n",
        "# this function prints the matrix and labels in standard tableau format\n",
        "# (including adding the -1, the minus signs in the last column, and labeling the lower-right as obj)\n",
        "#\n",
        "# First, check the inputs: indep_names and dep_names_dual should be one shorter than the number of columns of A\n",
        "#                          dep_names and indep_names_dual should be one shorter than the number of rows of A\n",
        "#\n",
        "    nrows = a.shape[0]    # use the shape function to determine number of rows and cols in A\n",
        "    ncols = a.shape[1]\n",
        "    nindep = len(indep_names)\n",
        "    nindep_dual = len(indep_names_dual)\n",
        "    ndep = len(dep_names)\n",
        "    ndep_dual = len(dep_names_dual)\n",
        "    if nindep != ncols-1:\n",
        "        print(\"WARNING: # of indep vbles should be one fewer than # columns of matrix\")\n",
        "    if ndep != nrows-1:\n",
        "        print(\"WARNING: # of dep vbles should be one fewer than # rows of matrix\")\n",
        "    if nindep_dual != nrows-1:\n",
        "        print(\"WARNING: # of indep dual vbles should be one fewer than # rows of matrix\")\n",
        "    if ndep_dual != ncols-1:\n",
        "        print(\"WARNING: # of dep dual vbles should be one fewer than # columns of matrix\")\n",
        "# Now do the printing (uses a variety of formatting techniques in Python)     \n",
        "    print(\"          \",end=\"\")       # On first line, leave blank space so we can fit in dual labels lower down \n",
        "    for j in range(ncols-1):                    # Print the independent variables in the first row\n",
        "        print(indep_names[j].rjust(10),end=\"\")  # rjust(10) makes fields 10 wide and right-justifies;\n",
        "                                                #    the end command prevents newline)\n",
        "    print(\"        -1\")                         # Tack on the -1 at the end of the first row\n",
        "    for i in range(nrows-1):\n",
        "        print(indep_names_dual[i].rjust(10),end=\"\")\n",
        "        for j in range(ncols):                  # Print all but the last row of the matrix\n",
        "                print(\"%10.3f\" % a[i][j],end=\"\") # The syntax prints in a field 10 wide, showing 3 decimal points\n",
        "        lab = \"= -\" + dep_names[i]\n",
        "        print(lab.rjust(10))\n",
        "    print(\"        -1\",end=\"\")\n",
        "    for j in range(ncols):\n",
        "        print(\"%10.3f\" % a[nrows-1][j],end=\"\")  # Print the last row of the matrix, with label \"obj\" at end\n",
        "    lab = \"= obj\"\n",
        "    print(lab.rjust(10))\n",
        "    print(\"          \",end=\"\")\n",
        "    for j in range(ncols-1):\n",
        "        lab = \"=\" + dep_names_dual[j]\n",
        "        print(lab.rjust(10),end=\"\")\n",
        "    print(\"  =dualobj\")\n",
        "    print(\" \")    # Put blank line at bottom"
      ],
      "execution_count": 11,
      "outputs": []
    },
    {
      "cell_type": "code",
      "metadata": {
        "id": "0wwSYFB7Hb1v"
      },
      "source": [
        "def dual_pivot(a,pivrow,pivcol,indep_names,dep_names,indep_names_dual,dep_names_dual) :\n",
        "# \n",
        "# Given matrix \"a\", a row number \"pivrow\" and column number \"pivcol\", \n",
        "#  and lists of variable names \"indep_names\" and \"dep_names\", this\n",
        "#  function does three things:\n",
        "#    (1) outputs the new version of the matrix after a pivot,\n",
        "#    (2) updates the lists of variable names post-pivot\n",
        "#    (3) prints the new matrix, including labels showing the variable names\n",
        "#\n",
        "# First, check the inputs: indep_names should be one shorter than the number of columns of A\n",
        "#                          dep_names should be one shorter than the number of rows of A\n",
        "#                          you should not be pivoting on the last row or last column\n",
        "#\n",
        "    a = a.astype(float)   # make sure entries are treated as floating point numbers\n",
        "    nrows = a.shape[0]    # use the shape function to determine number of rows and cols in A\n",
        "    ncols = a.shape[1]\n",
        "    nindep = len(indep_names)\n",
        "    nindep_dual = len(indep_names_dual)\n",
        "    ndep = len(dep_names)\n",
        "    ndep_dual = len(dep_names_dual)\n",
        "    if nindep != ncols-1:\n",
        "        print(\"WARNING: # of indep vbles should be one fewer than # columns of matrix\")\n",
        "    if ndep != nrows-1:\n",
        "        print(\"WARNING: # of dep vbles should be one fewer than # rows of matrix\")\n",
        "    if nindep_dual != nrows-1:\n",
        "        print(\"WARNING: # of indep dual vbles should be one fewer than # rows of matrix\")\n",
        "    if ndep_dual != ncols-1:\n",
        "        print(\"WARNING: # of dep dual vbles should be one fewer than # columns of matrix\")\n",
        "    if pivrow > nrows-1 or pivcol > ncols-1:\n",
        "        print(\"WARNING: should not pivot on last row or column\")\n",
        "    newa = a.copy()       # make a copy of A, to be filled in below with result of pivot\n",
        "    p = a[pivrow-1][pivcol-1]   # identify pivot element\n",
        "    newa[pivrow-1][pivcol-1] = 1/p   # set new value of pivot element\n",
        "    # Set entries in p's row\n",
        "    for j in range(ncols):\n",
        "        if j != pivcol-1:\n",
        "            newa[pivrow-1][j]=a[pivrow-1][j]/p;\n",
        "    # Set entries in p's column\n",
        "    for i in range(nrows):\n",
        "        if i != pivrow-1:\n",
        "            newa[i][pivcol-1]=-a[i][pivcol-1]/p;\n",
        "    # Set all other entries\n",
        "    for i in range(nrows):\n",
        "        for j in range(ncols):\n",
        "            if i != pivrow-1 and j != pivcol-1:\n",
        "                r = a[i][pivcol-1]\n",
        "                q = a[pivrow-1][j]\n",
        "                s = a[i][j]\n",
        "                newa[i][j]=(p*s-q*r)/p\n",
        "    # Now swap the variable names\n",
        "    temp = indep_names[pivcol-1]\n",
        "    indep_names[pivcol-1]=dep_names[pivrow-1]\n",
        "    dep_names[pivrow-1]=temp\n",
        "    temp = indep_names_dual[pivrow-1]\n",
        "    indep_names_dual[pivrow-1]=dep_names_dual[pivcol-1]\n",
        "    dep_names_dual[pivcol-1]=temp\n",
        "    dual_print_tableau(newa,indep_names,dep_names,indep_names_dual,dep_names_dual) # Print the matrix with updated labels\n",
        "    return newa;"
      ],
      "execution_count": 12,
      "outputs": []
    },
    {
      "cell_type": "markdown",
      "metadata": {
        "id": "OVm0kKdB0HbN"
      },
      "source": [
        "## Problem 1."
      ]
    },
    {
      "cell_type": "markdown",
      "metadata": {
        "id": "LK2IaWL70JDj"
      },
      "source": [
        "### a.\n",
        "As a tableau we have the following (ebing sure to convert the geq equation to leq and flipping the sign on the obj to minimize):"
      ]
    },
    {
      "cell_type": "code",
      "metadata": {
        "colab": {
          "base_uri": "https://localhost:8080/"
        },
        "id": "jThxGZ5g1eQ2",
        "outputId": "df976070-8c47-458f-8a11-d1247cbffd18"
      },
      "source": [
        "a=np.array([[-1,-2,-3,-24],[-2,-4,-3,-36],[-3,-1,-2,0]])\n",
        "id=[\"x\",\"y\",\"z\"]\n",
        "dp=[\"t1\",\"0\"]\n",
        "print_tableau(a,id,dp)"
      ],
      "execution_count": 13,
      "outputs": [
        {
          "output_type": "stream",
          "text": [
            "         x         y         z        -1\n",
            "    -1.000    -2.000    -3.000   -24.000     = -t1\n",
            "    -2.000    -4.000    -3.000   -36.000      = -0\n",
            "    -3.000    -1.000    -2.000     0.000     = obj\n",
            " \n"
          ],
          "name": "stdout"
        }
      ]
    },
    {
      "cell_type": "markdown",
      "metadata": {
        "id": "AkC-k6Te2Xs1"
      },
      "source": [
        "Following the rules for when we have an equality constraint, I will pivot on $x$ and then delete the corresponding column."
      ]
    },
    {
      "cell_type": "code",
      "metadata": {
        "colab": {
          "base_uri": "https://localhost:8080/"
        },
        "id": "lnPIJRKg23ju",
        "outputId": "5f673342-1cbd-42d3-ca7a-d550ddfbdad1"
      },
      "source": [
        "a2=pivot(a,2,1,id,dp)\n",
        "a3=column_delete(a2,1,id,dp)\n",
        "simplexnbf(a3,id,dp)"
      ],
      "execution_count": 14,
      "outputs": [
        {
          "output_type": "stream",
          "text": [
            "         0         y         z        -1\n",
            "    -0.500    -0.000    -1.500    -6.000     = -t1\n",
            "    -0.500     2.000     1.500    18.000      = -x\n",
            "    -1.500     5.000     2.500    54.000     = obj\n",
            " \n",
            "         y         z        -1\n",
            "    -0.000    -1.500    -6.000     = -t1\n",
            "     2.000     1.500    18.000      = -x\n",
            "     5.000     2.500    54.000     = obj\n",
            " \n",
            "         y         z        -1\n",
            "    -0.000    -1.500    -6.000     = -t1\n",
            "     2.000     1.500    18.000      = -x\n",
            "     5.000     2.500    54.000     = obj\n",
            " \n",
            "         y        t1        -1\n",
            "     0.000    -0.667     4.000      = -z\n",
            "     2.000     1.000    12.000      = -x\n",
            "     5.000     1.667    44.000     = obj\n",
            " \n",
            "         y        t1        -1\n",
            "     0.000    -0.667     4.000      = -z\n",
            "     2.000     1.000    12.000      = -x\n",
            "     5.000     1.667    44.000     = obj\n",
            " \n",
            "         x        t1        -1\n",
            "    -0.000    -0.667     4.000      = -z\n",
            "     0.500     0.500     6.000      = -y\n",
            "    -2.500    -0.833    14.000     = obj\n",
            " \n",
            "         x        t1        -1\n",
            "    -0.000    -0.667     4.000      = -z\n",
            "     0.500     0.500     6.000      = -y\n",
            "    -2.500    -0.833    14.000     = obj\n",
            " \n"
          ],
          "name": "stdout"
        }
      ]
    },
    {
      "cell_type": "markdown",
      "metadata": {
        "id": "gXJq1pCW4Ihv"
      },
      "source": [
        "We now have a solution which states that $x=0,y=6,z=4$ and the function attains a minimum of $14$"
      ]
    },
    {
      "cell_type": "markdown",
      "metadata": {
        "id": "UnfaFOj25XKl"
      },
      "source": [
        "## b.\n",
        "`linprog` takes leq contraints by default, so I convert to leq constraints where necessary. however, it minimizes, so no need to transform obj."
      ]
    },
    {
      "cell_type": "code",
      "metadata": {
        "colab": {
          "base_uri": "https://localhost:8080/"
        },
        "id": "Jg-q8-uK5XqO",
        "outputId": "9509ee19-d29d-4834-ea44-13c5e95dbf2d"
      },
      "source": [
        "A1=np.array([[-1,-2,-3]])\n",
        "A2=np.array([[2,4,3]])\n",
        "b1=[-24]\n",
        "b2=[36]\n",
        "\n",
        "c=[3,1,2]\n",
        "\n",
        "linprog(c,A_ub=A1,b_ub=b1,A_eq=A2,b_eq=b2,method='simplex')"
      ],
      "execution_count": 15,
      "outputs": [
        {
          "output_type": "execute_result",
          "data": {
            "text/plain": [
              "     con: array([0.])\n",
              "     fun: 14.0\n",
              " message: 'Optimization terminated successfully.'\n",
              "     nit: 2\n",
              "   slack: array([0.])\n",
              "  status: 0\n",
              " success: True\n",
              "       x: array([0., 6., 4.])"
            ]
          },
          "metadata": {
            "tags": []
          },
          "execution_count": 15
        }
      ]
    },
    {
      "cell_type": "markdown",
      "metadata": {
        "id": "sh8zY9KB-2XE"
      },
      "source": [
        "Note that this output is identical to doing things manually."
      ]
    },
    {
      "cell_type": "markdown",
      "metadata": {
        "id": "YSxENiLZ-8C9"
      },
      "source": [
        "## Problem 2."
      ]
    },
    {
      "cell_type": "markdown",
      "metadata": {
        "id": "hrfK6cjZ-_Q0"
      },
      "source": [
        "### a.\n",
        "I set up the tableau as follows:"
      ]
    },
    {
      "cell_type": "code",
      "metadata": {
        "colab": {
          "base_uri": "https://localhost:8080/"
        },
        "id": "KoNyk0FV_LTU",
        "outputId": "103fc218-0508-454f-a98d-f079dcdd459d"
      },
      "source": [
        "a=np.array([[1,-1,2,6],[1,0,2,8],[0,-1,-2,-2],[3,-2,3,0]])\n",
        "id=[\"xcirc\",\"y\",\"z\"]\n",
        "dp=[\"0\",\"0\",\"t3\"]\n",
        "print_tableau(a,id,dp)"
      ],
      "execution_count": 16,
      "outputs": [
        {
          "output_type": "stream",
          "text": [
            "     xcirc         y         z        -1\n",
            "     1.000    -1.000     2.000     6.000      = -0\n",
            "     1.000     0.000     2.000     8.000      = -0\n",
            "     0.000    -1.000    -2.000    -2.000     = -t3\n",
            "     3.000    -2.000     3.000     0.000     = obj\n",
            " \n"
          ],
          "name": "stdout"
        }
      ]
    },
    {
      "cell_type": "markdown",
      "metadata": {
        "id": "B4_VQ_Fu_5dv"
      },
      "source": [
        "Killing two birds with one stone, I pivot on one one and delete the fiirst column and row because our unconstrained indep var and equality constraint rules tell us to do those things:"
      ]
    },
    {
      "cell_type": "code",
      "metadata": {
        "colab": {
          "base_uri": "https://localhost:8080/"
        },
        "id": "GD5YKM4oAIG7",
        "outputId": "1fbee059-347f-4784-b7eb-aa1fb006c8a6"
      },
      "source": [
        "a2=pivot(a,1,1,id,dp)\n",
        "a3=column_delete(a2,1,id,dp)\n",
        "a4=row_delete(a3,1,id,dp)"
      ],
      "execution_count": 17,
      "outputs": [
        {
          "output_type": "stream",
          "text": [
            "         0         y         z        -1\n",
            "     1.000    -1.000     2.000     6.000  = -xcirc\n",
            "    -1.000     1.000     0.000     2.000      = -0\n",
            "    -0.000    -1.000    -2.000    -2.000     = -t3\n",
            "    -3.000     1.000    -3.000   -18.000     = obj\n",
            " \n",
            "         y         z        -1\n",
            "    -1.000     2.000     6.000  = -xcirc\n",
            "     1.000     0.000     2.000      = -0\n",
            "    -1.000    -2.000    -2.000     = -t3\n",
            "     1.000    -3.000   -18.000     = obj\n",
            " \n",
            "         y         z        -1\n",
            "     1.000     0.000     2.000      = -0\n",
            "    -1.000    -2.000    -2.000     = -t3\n",
            "     1.000    -3.000   -18.000     = obj\n",
            " \n"
          ],
          "name": "stdout"
        }
      ]
    },
    {
      "cell_type": "markdown",
      "metadata": {
        "id": "ToGxAlgDAZnn"
      },
      "source": [
        "Pivoting again on one-one allows us to delete the first column."
      ]
    },
    {
      "cell_type": "code",
      "metadata": {
        "colab": {
          "base_uri": "https://localhost:8080/"
        },
        "id": "5Jgb0L2NAnsP",
        "outputId": "7ac6d3e2-678d-47a0-c753-57d5d08ede78"
      },
      "source": [
        "a5=pivot(a4,1,1,id,dp)\n",
        "a6=column_delete(a5,1,id,dp)"
      ],
      "execution_count": 18,
      "outputs": [
        {
          "output_type": "stream",
          "text": [
            "         0         z        -1\n",
            "     1.000     0.000     2.000      = -y\n",
            "     1.000    -2.000     0.000     = -t3\n",
            "    -1.000    -3.000   -20.000     = obj\n",
            " \n",
            "         z        -1\n",
            "     0.000     2.000      = -y\n",
            "    -2.000     0.000     = -t3\n",
            "    -3.000   -20.000     = obj\n",
            " \n"
          ],
          "name": "stdout"
        }
      ]
    },
    {
      "cell_type": "markdown",
      "metadata": {
        "id": "Taw8x4XkA6gG"
      },
      "source": [
        "This is now conveniently solved. We have that the maximum is 20 which is attained at $y=2,z=0$ and then plugging back into the first equality constraint implies that $x^*=6-2z^*+y^*=6-0+2=8$."
      ]
    },
    {
      "cell_type": "markdown",
      "metadata": {
        "id": "8FvsMkl-BfOw"
      },
      "source": [
        "### b.\n",
        "Implementing this with `linprog` is noting that we have to flip one constranit and the obj function because we're maximinzing:"
      ]
    },
    {
      "cell_type": "code",
      "metadata": {
        "colab": {
          "base_uri": "https://localhost:8080/"
        },
        "id": "0RMvA7VbBki1",
        "outputId": "5546cbbe-3f1a-4a01-9186-d24ef5f6bd46"
      },
      "source": [
        "a=np.array([[1,-1,2,6],[1,0,2,8],[0,-1,-2,-2],[3,-2,3,0]])\n",
        "\n",
        "A1=np.array([[0,-1,-2]])\n",
        "A2=np.array([[1,-1,2],[1,0,2,]])\n",
        "b1=[-2]\n",
        "b2=[6,8]\n",
        "\n",
        "v = [(None,None) , (0,None) , (0,None) ]\n",
        "\n",
        "c=[-3,2,-3]\n",
        "\n",
        "linprog(c,A_ub=A1,b_ub=b1,A_eq=A2,b_eq=b2,bounds=v,method='simplex')"
      ],
      "execution_count": 19,
      "outputs": [
        {
          "output_type": "execute_result",
          "data": {
            "text/plain": [
              "     con: array([0., 0.])\n",
              "     fun: -20.0\n",
              " message: 'Optimization terminated successfully.'\n",
              "     nit: 4\n",
              "   slack: array([0.])\n",
              "  status: 0\n",
              " success: True\n",
              "       x: array([8., 2., 0.])"
            ]
          },
          "metadata": {
            "tags": []
          },
          "execution_count": 19
        }
      ]
    },
    {
      "cell_type": "markdown",
      "metadata": {
        "id": "xTtVJ4xiCqKB"
      },
      "source": [
        "Woohoo! that's the same result."
      ]
    },
    {
      "cell_type": "markdown",
      "metadata": {
        "id": "C6f55tQwCvsh"
      },
      "source": [
        "## Problem 3."
      ]
    },
    {
      "cell_type": "markdown",
      "metadata": {
        "id": "TI3OQXg6DtcB"
      },
      "source": [
        "###a."
      ]
    },
    {
      "cell_type": "markdown",
      "metadata": {
        "id": "dYbd1OHqDuo-"
      },
      "source": [
        "### b."
      ]
    },
    {
      "cell_type": "markdown",
      "metadata": {
        "id": "T_azmRi4Dm8V"
      },
      "source": [
        "## Problem 4."
      ]
    },
    {
      "cell_type": "markdown",
      "metadata": {
        "id": "QFjN8G8-DpCU"
      },
      "source": [
        "### a.\n",
        "The fast way to do this is to treat the given problem as the dual problem and reverse engineer the original problem (because we're given a minimize obj style problem. I will read in the rows of the constraints as columns in the following way (i'm just going to transpose the given data)."
      ]
    },
    {
      "cell_type": "code",
      "metadata": {
        "colab": {
          "base_uri": "https://localhost:8080/"
        },
        "id": "mPL8m3EzGFnT",
        "outputId": "e14afdcb-3460-4a50-f0a4-7bbabdfe1b19"
      },
      "source": [
        "a=np.transpose(np.array([[1,2,2,200],[2,2,1,150],[20,30,25,0]]))\n",
        "id=[\"x1\",\"x2\"]\n",
        "dp=[\"t1\",\"t2\",\"t3\"]\n",
        "id2=[\"y1\",\"y2\",\"y3\"]\n",
        "dp2=[\"s1\",\"s2\"]\n",
        "dual_print_tableau(a,id,dp,id2,dp2)"
      ],
      "execution_count": 20,
      "outputs": [
        {
          "output_type": "stream",
          "text": [
            "                  x1        x2        -1\n",
            "        y1     1.000     2.000    20.000     = -t1\n",
            "        y2     2.000     2.000    30.000     = -t2\n",
            "        y3     2.000     1.000    25.000     = -t3\n",
            "        -1   200.000   150.000     0.000     = obj\n",
            "                 =s1       =s2  =dualobj\n",
            " \n"
          ],
          "name": "stdout"
        }
      ]
    },
    {
      "cell_type": "markdown",
      "metadata": {
        "id": "jZKlNpUrMV46"
      },
      "source": [
        "So reverse engineering the dual problem we have, maximize $200x_1+150x_2$ such that:\n",
        "\\begin{align*}\n",
        "x_1+2x_2&\\leq20\\\\\n",
        "2x_1+2x_2&\\leq30\\\\\n",
        "2x_1+1x_2&\\leq20\\\\\n",
        "\\end{align*}"
      ]
    },
    {
      "cell_type": "markdown",
      "metadata": {
        "id": "_m0y3QixDqLx"
      },
      "source": [
        "### b.\n",
        "I will apply simplex BF manually to track the variables effectively:"
      ]
    },
    {
      "cell_type": "code",
      "metadata": {
        "colab": {
          "base_uri": "https://localhost:8080/"
        },
        "id": "czNNpNf_fWkP",
        "outputId": "5f8b4114-716b-40e9-b77c-909fbc347068"
      },
      "source": [
        "a2=dual_pivot(a,1,2,id,dp,id2,dp2)\n",
        "a3=dual_pivot(a2,2,1,id,dp,id2,dp2)\n",
        "a4=dual_pivot(a3,3,2,id,dp,id2,dp2)"
      ],
      "execution_count": 21,
      "outputs": [
        {
          "output_type": "stream",
          "text": [
            "                  x1        t1        -1\n",
            "        s2     0.500     0.500    10.000     = -x2\n",
            "        y2     1.000    -1.000    10.000     = -t2\n",
            "        y3     1.500    -0.500    15.000     = -t3\n",
            "        -1   125.000   -75.000 -1500.000     = obj\n",
            "                 =s1       =y1  =dualobj\n",
            " \n",
            "                  t2        t1        -1\n",
            "        s2    -0.500     1.000     5.000     = -x2\n",
            "        s1     1.000    -1.000    10.000     = -x1\n",
            "        y3    -1.500     1.000     0.000     = -t3\n",
            "        -1  -125.000    50.000 -2750.000     = obj\n",
            "                 =y2       =y1  =dualobj\n",
            " \n",
            "                  t2        t3        -1\n",
            "        s2     1.000    -1.000     5.000     = -x2\n",
            "        s1    -0.500     1.000    10.000     = -x1\n",
            "        y1    -1.500     1.000     0.000     = -t1\n",
            "        -1   -50.000   -50.000 -2750.000     = obj\n",
            "                 =y2       =y3  =dualobj\n",
            " \n"
          ],
          "name": "stdout"
        }
      ]
    },
    {
      "cell_type": "markdown",
      "metadata": {
        "id": "vpl13y4CgDF1"
      },
      "source": [
        ""
      ]
    },
    {
      "cell_type": "markdown",
      "metadata": {
        "id": "-Jd86xMmDroY"
      },
      "source": [
        "### c.\n",
        "Thankfully the problem only took one pivot to complete. The solution is that $x_1=10$,$x_2=5,y_1=0,y_2=50,y_3=50$ and the maximum/minimum is $2750$"
      ]
    },
    {
      "cell_type": "markdown",
      "metadata": {
        "id": "TNPVASdYqSSX"
      },
      "source": [
        "## Problem 5."
      ]
    },
    {
      "cell_type": "markdown",
      "metadata": {
        "id": "RhSIR5KkhDMu"
      },
      "source": [
        "### a.\n",
        "We are tasked with minimizing:\n",
        "$$\n",
        ".8Milk +.6Banana +.4Brussel Sprouts +2Salmon +Liverwurst\n",
        "$$\n",
        "\n",
        "While satisfying:\n",
        "\\begin{align}\n",
        "3.1Milk +1.1Banana +2.6BrusselSprouts+ 27Salmon +12Liverwurst &\\geq 80 \\\\\n",
        "64Milk +89Banana +36BrusselSprouts +184Salmon +305Liverwurst &\\geq 1800\n",
        "\\end{align}\n",
        "\n",
        "Thankfully no manipulations are necessary to convert this to canonical min."
      ]
    },
    {
      "cell_type": "markdown",
      "metadata": {
        "id": "0rCr1CKMk0c6"
      },
      "source": [
        "### b.\n",
        "I will use `linprog` to solve the problem:"
      ]
    },
    {
      "cell_type": "code",
      "metadata": {
        "colab": {
          "base_uri": "https://localhost:8080/"
        },
        "id": "3dAK1a3ck-Hj",
        "outputId": "bd46f1f9-01d3-489d-dc25-18619f3bfb99"
      },
      "source": [
        "A1=-1*np.array([[3.1,1.1,2.6,27,12],[64,89,36,184,305]])\n",
        "b1=[-80,-1800]\n",
        "\n",
        "\n",
        "v = [(0,None), (0,None),(0,None), (0,None),(0,None)]\n",
        "\n",
        "c=[.8,.6,.4,2,1]\n",
        "\n",
        "linprog(c,A_ub=A1,b_ub=b1,bounds=v,method='simplex')"
      ],
      "execution_count": 22,
      "outputs": [
        {
          "output_type": "execute_result",
          "data": {
            "text/plain": [
              "     con: array([], dtype=float64)\n",
              "     fun: 6.550522648083624\n",
              " message: 'Optimization terminated successfully.'\n",
              "     nit: 2\n",
              "   slack: array([0., 0.])\n",
              "  status: 0\n",
              " success: True\n",
              "       x: array([0.        , 0.        , 0.        , 0.46457607, 5.6213705 ])"
            ]
          },
          "metadata": {
            "tags": []
          },
          "execution_count": 22
        }
      ]
    },
    {
      "cell_type": "markdown",
      "metadata": {
        "id": "aEL_lu0OmAly"
      },
      "source": [
        "The cost minimizing bundle is $.46$ units of salmon and $5.62$ units of liverwurst costing a total of $\\$6.55$ "
      ]
    },
    {
      "cell_type": "markdown",
      "metadata": {
        "id": "6b2YOEaQmQHX"
      },
      "source": [
        "### c.\n",
        "Now let's solve the problem using the dual maximization problem.\n",
        "We would have the following tableau. Note that we no longer need to multiply by negative ones, because we are treating the problems as the columns which have the desired signs by default."
      ]
    },
    {
      "cell_type": "code",
      "metadata": {
        "colab": {
          "base_uri": "https://localhost:8080/"
        },
        "id": "rWLriBLAmgW0",
        "outputId": "1a47fab6-30cc-420f-893d-847d5b17c94c"
      },
      "source": [
        "a=np.transpose(np.array([[3.1,1.1,2.6,27,12,80],[64,89,36,184,305,1800],[.8,.6,.4,2,1,0]]))\n",
        "id=[\"x1\",\"x2\"]\n",
        "dp=[\"t1\",\"t2\",\"t3\",\"t4\",\"t5\"]\n",
        "id2=[\"Milk\",\"Bananas\",\"Brussel\",\"Salmon\",\"Liver\"]\n",
        "dp2=[\"s1\",\"s2\"]\n",
        "dual_print_tableau(a,id,dp,id2,dp2)\n"
      ],
      "execution_count": 23,
      "outputs": [
        {
          "output_type": "stream",
          "text": [
            "                  x1        x2        -1\n",
            "      Milk     3.100    64.000     0.800     = -t1\n",
            "   Bananas     1.100    89.000     0.600     = -t2\n",
            "   Brussel     2.600    36.000     0.400     = -t3\n",
            "    Salmon    27.000   184.000     2.000     = -t4\n",
            "     Liver    12.000   305.000     1.000     = -t5\n",
            "        -1    80.000  1800.000     0.000     = obj\n",
            "                 =s1       =s2  =dualobj\n",
            " \n"
          ],
          "name": "stdout"
        }
      ]
    },
    {
      "cell_type": "markdown",
      "metadata": {
        "id": "pwaBLySIm4Uc"
      },
      "source": [
        "You can read off the canonical max problem from the chart above. Running simplex on this code gives:"
      ]
    },
    {
      "cell_type": "code",
      "metadata": {
        "colab": {
          "base_uri": "https://localhost:8080/"
        },
        "id": "SoCCSY5XoEWC",
        "outputId": "4b0175b4-c2c3-48f6-df39-1f95a186e2d2"
      },
      "source": [
        "simplexnbf(a,id,id2)"
      ],
      "execution_count": 24,
      "outputs": [
        {
          "output_type": "stream",
          "text": [
            "        x1        x2        -1\n",
            "     3.100    64.000     0.800   = -Milk\n",
            "     1.100    89.000     0.600= -Bananas\n",
            "     2.600    36.000     0.400= -Brussel\n",
            "    27.000   184.000     2.000 = -Salmon\n",
            "    12.000   305.000     1.000  = -Liver\n",
            "    80.000  1800.000     0.000     = obj\n",
            " \n",
            "        x1        x2        -1\n",
            "     3.100    64.000     0.800   = -Milk\n",
            "     1.100    89.000     0.600= -Bananas\n",
            "     2.600    36.000     0.400= -Brussel\n",
            "    27.000   184.000     2.000 = -Salmon\n",
            "    12.000   305.000     1.000  = -Liver\n",
            "    80.000  1800.000     0.000     = obj\n",
            " \n",
            "        x1     Liver        -1\n",
            "     0.582    -0.210     0.590   = -Milk\n",
            "    -2.402    -0.292     0.308= -Bananas\n",
            "     1.184    -0.118     0.282= -Brussel\n",
            "    19.761    -0.603     1.397 = -Salmon\n",
            "     0.039     0.003     0.003     = -x2\n",
            "     9.180    -5.902    -5.902     = obj\n",
            " \n",
            "        x1     Liver        -1\n",
            "     0.582    -0.210     0.590   = -Milk\n",
            "    -2.402    -0.292     0.308= -Bananas\n",
            "     1.184    -0.118     0.282= -Brussel\n",
            "    19.761    -0.603     1.397 = -Salmon\n",
            "     0.039     0.003     0.003     = -x2\n",
            "     9.180    -5.902    -5.902     = obj\n",
            " \n",
            "    Salmon     Liver        -1\n",
            "    -0.029    -0.192     0.549   = -Milk\n",
            "     0.122    -0.365     0.478= -Bananas\n",
            "    -0.060    -0.082     0.198= -Brussel\n",
            "     0.051    -0.031     0.071     = -x1\n",
            "    -0.002     0.004     0.000     = -x2\n",
            "    -0.465    -5.621    -6.551     = obj\n",
            " \n",
            "    Salmon     Liver        -1\n",
            "    -0.029    -0.192     0.549   = -Milk\n",
            "     0.122    -0.365     0.478= -Bananas\n",
            "    -0.060    -0.082     0.198= -Brussel\n",
            "     0.051    -0.031     0.071     = -x1\n",
            "    -0.002     0.004     0.000     = -x2\n",
            "    -0.465    -5.621    -6.551     = obj\n",
            " \n"
          ],
          "name": "stdout"
        }
      ]
    },
    {
      "cell_type": "markdown",
      "metadata": {
        "id": "aCvFDiPIpvS9"
      },
      "source": [
        "This notation is more than a little naughty, but it does allow us to read off the desired answer in real world terms. The $x_1=.071$ an $x_2=0$. But reading off of the real world values we have that Salmon is $.465$ and Liver is $5.621$ being sure to account for the signs while the others are zero and the total cost is $6.55"
      ]
    },
    {
      "cell_type": "markdown",
      "metadata": {
        "id": "4QqwAlQqqox5"
      },
      "source": [
        "## Problem 6."
      ]
    },
    {
      "cell_type": "markdown",
      "metadata": {
        "id": "-dTAuwbeqqtC"
      },
      "source": [
        "### a."
      ]
    },
    {
      "cell_type": "code",
      "metadata": {
        "colab": {
          "base_uri": "https://localhost:8080/"
        },
        "id": "RUXkmHbRs_Oh",
        "outputId": "8c01f9a6-d725-4669-b6f3-71ed8ab6242e"
      },
      "source": [
        "import pandas as pd\n",
        "url = 'https://raw.githubusercontent.com/aarongraybill/Math210/main/ProblemSets/ProblemSet5/nutritional_data_by_food_group.csv'\n",
        "df = pd.read_csv(url, error_bad_lines=False)\n",
        "food_groups=df.to_numpy()[:,1:]\n",
        "\n",
        "dep_food=list(df.columns)[1:]\n",
        "indep_food=df.to_numpy()[:,0]\n",
        " \n",
        "#print the dimensions of the matrix\n",
        "food_groups.shape"
      ],
      "execution_count": 25,
      "outputs": [
        {
          "output_type": "execute_result",
          "data": {
            "text/plain": [
              "(9, 7)"
            ]
          },
          "metadata": {
            "tags": []
          },
          "execution_count": 25
        }
      ]
    },
    {
      "cell_type": "markdown",
      "metadata": {
        "id": "7vUN33l54GbY"
      },
      "source": [
        "### b.\n",
        "Let's define a per capita-kilogram cost vector:"
      ]
    },
    {
      "cell_type": "code",
      "metadata": {
        "id": "BlkXOd734uNA",
        "outputId": "e8d13a6a-319c-478b-ee52-8083a9003a78",
        "colab": {
          "base_uri": "https://localhost:8080/"
        }
      },
      "source": [
        "print(indep_food)\n",
        "\n",
        "cost_percap=[2.7,1.2,1.0,3.2,2.4,3.2,3.2,2.0,2.9]\n",
        "cost_percap = np.array([[x / 83000 for x in cost_percap]])\n",
        "\n",
        "print(cost_percap)"
      ],
      "execution_count": 26,
      "outputs": [
        {
          "output_type": "stream",
          "text": [
            "['Cereal' 'Vegetables' 'Fruit' 'Fats/oils' 'Dairy' 'Fish' 'Meat' 'Eggs'\n",
            " 'Pulses']\n",
            "[[3.25301205e-05 1.44578313e-05 1.20481928e-05 3.85542169e-05\n",
            "  2.89156627e-05 3.85542169e-05 3.85542169e-05 2.40963855e-05\n",
            "  3.49397590e-05]]\n"
          ],
          "name": "stdout"
        }
      ]
    },
    {
      "cell_type": "markdown",
      "metadata": {
        "id": "HR3Bk1Nb8V5H"
      },
      "source": [
        "### c.\n",
        "I'm just going to make the tableau and that should make it clear what the constraints are:"
      ]
    },
    {
      "cell_type": "code",
      "metadata": {
        "id": "blaZvyiI8hiT",
        "outputId": "10268b17-145c-4805-a0b7-824c336b3b4a",
        "colab": {
          "base_uri": "https://localhost:8080/"
        }
      },
      "source": [
        "#compute donation per capita\n",
        "donation_percap=[52000,69000,94000,13000,73000,5800,3700,0,13000]\n",
        "donation_percap = np.array([[x / 83000 for x in donation_percap]])\n",
        "\n",
        "#the required macronutrient vector\n",
        "b=np.array([[910,210,340,100,9.5,360,15500]])\n",
        "\n",
        "#matrix mult to compute the remaining nutrients after donation\n",
        "new_b_w_donations=b-donation_percap@food_groups\n",
        "\n",
        "#add nutrient vector to new constraints\n",
        "tableau1=np.append(food_groups,new_b_w_donations,axis=0)\n",
        "tableau1=np.transpose(tableau1)\n",
        "\n",
        "#add the fruit constraint\n",
        "indep_final=indep_food\n",
        "dep_final=np.append(dep_food,\"micronut\")\n",
        "tableau2=np.append(tableau1,[[0,1,1,0,0,0,0,0,0,2]],axis=0)\n",
        "#add obj fn\n",
        "\n",
        "obj_row=np.array([np.append(cost_percap,0)])\n",
        "tableau3=-1*np.append(tableau2,obj_row,axis=0)\n",
        "print(tableau3)\n",
        "\n",
        "\n",
        "print_tableau(tableau3,indep_final,dep_final)"
      ],
      "execution_count": 28,
      "outputs": [
        {
          "output_type": "stream",
          "text": [
            "[[-590.0 -86.0 -130.0 -0.71 -64.0 -2.7 -3.8 -0.0 -440.0\n",
            "  -195.96445783132538]\n",
            " [-33.0 -18.0 -19.0 -0.0 -0.18 -0.0 -0.0 -0.0 -86.0 -139.21518072289157]\n",
            " [-53.0 -2.7 -12.0 -970.0 -37.0 -70.0 -120.0 -100.0 -28.0\n",
            "  -91.86385542168674]\n",
            " [-7.1 -0.23 -1.4 -83.0 -3.9 -23.0 -30.0 -8.2 -4.4 -73.7112048192771]\n",
            " [-0.44 -0.099 -0.13 -3.8 -0.6 -7.1 -3.4 -0.77 -0.038 -7.2182530120481925]\n",
            " [-84.0 -17.0 -12.0 -0.86 -45.0 -170.0 -170.0 -120.0 -180.0\n",
            "  -192.28698795180722]\n",
            " [-3200 -440 -730 -8600 -750 -1400 -1900 -1400 -3000 -9643.614457831325]\n",
            " [0 -1 -1 0 0 0 0 0 0 -2]\n",
            " [-3.253012048192771e-05 -1.4457831325301205e-05 -1.2048192771084337e-05\n",
            "  -3.855421686746988e-05 -2.891566265060241e-05 -3.855421686746988e-05\n",
            "  -3.855421686746988e-05 -2.4096385542168674e-05 -3.493975903614458e-05\n",
            "  -0.0]]\n",
            "    CerealVegetables     Fruit Fats/oils     Dairy      Fish      Meat      Eggs    Pulses        -1\n",
            "  -590.000   -86.000  -130.000    -0.710   -64.000    -2.700    -3.800    -0.000  -440.000  -195.964= -Carbs (g)\n",
            "   -33.000   -18.000   -19.000    -0.000    -0.180    -0.000    -0.000    -0.000   -86.000  -139.215= -Fiber (g)\n",
            "   -53.000    -2.700   -12.000  -970.000   -37.000   -70.000  -120.000  -100.000   -28.000   -91.864= -Lipids (g)\n",
            "    -7.100    -0.230    -1.400   -83.000    -3.900   -23.000   -30.000    -8.200    -4.400   -73.711= -Omega-6 Acid (g)\n",
            "    -0.440    -0.099    -0.130    -3.800    -0.600    -7.100    -3.400    -0.770    -0.038    -7.218= -Omega-3 Acid (g)\n",
            "   -84.000   -17.000   -12.000    -0.860   -45.000  -170.000  -170.000  -120.000  -180.000  -192.287= -Protein (g)\n",
            " -3200.000  -440.000  -730.000 -8600.000  -750.000 -1400.000 -1900.000 -1400.000 -3000.000 -9643.614= -Energy (kcal)\n",
            "     0.000    -1.000    -1.000     0.000     0.000     0.000     0.000     0.000     0.000    -2.000= -micronut\n",
            "    -0.000    -0.000    -0.000    -0.000    -0.000    -0.000    -0.000    -0.000    -0.000    -0.000     = obj\n",
            " \n"
          ],
          "name": "stdout"
        }
      ]
    }
  ]
}