{
  "nbformat": 4,
  "nbformat_minor": 0,
  "metadata": {
    "colab": {
      "name": "ProblemSet2.ipynb",
      "provenance": [],
      "collapsed_sections": [],
      "toc_visible": true,
      "include_colab_link": true
    },
    "kernelspec": {
      "name": "python3",
      "display_name": "Python 3"
    }
  },
  "cells": [
    {
      "cell_type": "markdown",
      "metadata": {
        "id": "view-in-github",
        "colab_type": "text"
      },
      "source": [
        "<a href=\"https://colab.research.google.com/github/aarongraybill/Math210/blob/main/ProblemSets/Midterm1/Midterm1.ipynb\" target=\"_parent\"><img src=\"https://colab.research.google.com/assets/colab-badge.svg\" alt=\"Open In Colab\"/></a>"
      ]
    },
    {
      "cell_type": "markdown",
      "metadata": {
        "id": "hLpSiJM2WkeL"
      },
      "source": [
        "# Math 210\n",
        "## Aaron Graybill\n",
        "### Midterm 1\n",
        "### 3/18/21"
      ]
    },
    {
      "cell_type": "markdown",
      "metadata": {
        "id": "vgo9Ot_KHW0W"
      },
      "source": [
        "## Problem 1.\n",
        "First let me bring in all of the predefined scripts and packages:"
      ]
    },
    {
      "cell_type": "code",
      "metadata": {
        "id": "SPgd6dGnGRID"
      },
      "source": [
        "import numpy as np"
      ],
      "execution_count": 2,
      "outputs": []
    },
    {
      "cell_type": "code",
      "metadata": {
        "id": "yG9e_wWFVTTM"
      },
      "source": [
        "def print_tableau(a,indep_names,dep_names):\n",
        "#\n",
        "# Given matrix \"a\" and lists of variables names \"indep_names\" and \"dep_names\",\n",
        "# this function prints the matrix and labels in standard tableau format\n",
        "# (including adding the -1, the minus signs in the last column, and labeling the lower-right as obj)\n",
        "#\n",
        "# First, check the inputs: indep_names should be one shorter than the number of columns of A\n",
        "#                          dep_names should be one shorter than the number of rows of A\n",
        "#\n",
        "    nrows = a.shape[0]    # use the shape function to determine number of rows and cols in A\n",
        "    ncols = a.shape[1]\n",
        "    nindep = len(indep_names)\n",
        "    ndep = len(dep_names)\n",
        "    if nindep != ncols-1:\n",
        "        print(\"WARNING: # of indep vbles should be one fewer than # columns of matrix\")\n",
        "    if ndep != nrows-1:\n",
        "        print(\"WARNING: # of dep vbles should be one fewer than # rows of matrix\")\n",
        "# Now do the printing (uses a variety of formatting techniques in Python)        \n",
        "    for j in range(ncols-1):                    # Print the independent variables in the first row\n",
        "        print(indep_names[j].rjust(10),end=\"\")  # rjust(10) makes fields 10 wide and right-justifies;\n",
        "                                                #    the end command prevents newline)\n",
        "    print(\"        -1\")                         # Tack on the -1 at the end of the first row\n",
        "    for i in range(nrows-1):\n",
        "        for j in range(ncols):                  # Print all but the last row of the matrix\n",
        "            print(\"%10.3f\" % a[i][j],end=\"\") # The syntax prints in a field 10 wide, showing 3 decimal points\n",
        "        lab = \"= -\" + dep_names[i]\n",
        "        print(lab.rjust(10))\n",
        "    for j in range(ncols):\n",
        "        print(\"%10.3f\" % a[nrows-1][j],end=\"\")  # Print the last row of the matrix, with label \"obj\" at end\n",
        "    lab = \"= obj\"\n",
        "    print(lab.rjust(10))\n",
        "    print(\" \")    # Put blank line at bottom"
      ],
      "execution_count": 3,
      "outputs": []
    },
    {
      "cell_type": "code",
      "metadata": {
        "id": "4UnP4mLZRW-n"
      },
      "source": [
        "def pivot(a,pivrow,pivcol,indep_names,dep_names) :\n",
        "# \n",
        "# Given matrix \"a\", a row number \"pivrow\" and column number \"pivcol\", \n",
        "#  and lists of variable names \"indep_names\" and \"dep_names\", this\n",
        "#  function does three things:\n",
        "#    (1) outputs the new version of the matrix after a pivot,\n",
        "#    (2) updates the lists of variable names post-pivot\n",
        "#    (3) prints the new matrix, including labels showing the variable names\n",
        "#\n",
        "# First, check the inputs: indep_names should be one shorter than the number of columns of A\n",
        "#                          dep_names should be one shorter than the number of rows of A\n",
        "#                          you should not be pivoting on the last row or last column\n",
        "#\n",
        "    a = a.astype(float)   # make sure entries are treated as floating point numbers\n",
        "    nrows = a.shape[0]    # use the shape function to determine number of rows and cols in A\n",
        "    ncols = a.shape[1]\n",
        "    nindep = len(indep_names)\n",
        "    ndep = len(dep_names)\n",
        "    if nindep != ncols-1:\n",
        "        print(\"WARNING: # of indep vbles should be one fewer than # columns of matrix\")\n",
        "    if ndep != nrows-1:\n",
        "        print(\"WARNING: # of dep vbles should be one fewer than # rows of matrix\")\n",
        "    if pivrow > nrows-1 or pivcol > ncols-1:\n",
        "        print(\"WARNING: should not pivot on last row or column\")\n",
        "    newa = a.copy()       # make a copy of A, to be filled in below with result of pivot\n",
        "    p = a[pivrow-1][pivcol-1]   # identify pivot element\n",
        "    newa[pivrow-1][pivcol-1] = 1/p   # set new value of pivot element\n",
        "    # Set entries in p's row\n",
        "    for j in range(ncols):\n",
        "        if j != pivcol-1:\n",
        "            newa[pivrow-1][j]=a[pivrow-1][j]/p;\n",
        "    # Set entries in p's column\n",
        "    for i in range(nrows):\n",
        "        if i != pivrow-1:\n",
        "            newa[i][pivcol-1]=-a[i][pivcol-1]/p;\n",
        "    # Set all other entries\n",
        "    for i in range(nrows):\n",
        "        for j in range(ncols):\n",
        "            if i != pivrow-1 and j != pivcol-1:\n",
        "                r = a[i][pivcol-1]\n",
        "                q = a[pivrow-1][j]\n",
        "                s = a[i][j]\n",
        "                newa[i][j]=(p*s-q*r)/p\n",
        "    # Now swap the variable names\n",
        "    temp = indep_names[pivcol-1]\n",
        "    indep_names[pivcol-1]=dep_names[pivrow-1]\n",
        "    dep_names[pivrow-1]=temp\n",
        "    print_tableau(newa,indep_names,dep_names) # Print the matrix with updated labels\n",
        "    return newa;"
      ],
      "execution_count": 4,
      "outputs": []
    },
    {
      "cell_type": "code",
      "metadata": {
        "id": "MQj2ylNFS3zv"
      },
      "source": [
        "def target(a) :\n",
        "    nrows = a.shape[0]    # use the shape function to determine number of rows and cols in \"a\"\n",
        "    ncols = a.shape[1]\n",
        "    import numpy as np\n",
        "    v = np.empty(ncols-1)\n",
        "    for i in range(ncols-1):\n",
        "        v[i]=a[nrows-1,i]\n",
        "    biggest_c = np.max(v)\n",
        "    where_is_biggest_c = np.argmax(v)+1\n",
        "    if biggest_c > 0 :\n",
        "        return where_is_biggest_c\n",
        "    else :\n",
        "        return -1"
      ],
      "execution_count": 5,
      "outputs": []
    },
    {
      "cell_type": "code",
      "metadata": {
        "id": "C6_nnkgOS8bO"
      },
      "source": [
        "def select(a,pivcolnum) :\n",
        "    nrows = a.shape[0]    # use the shape function to determine number of rows and cols in A\n",
        "    ncols = a.shape[1]\n",
        "# First task: work down the column and record the b/a ratios in a vector v\n",
        "#     except record -1 if a is negative or zero\n",
        "    import numpy as np\n",
        "    v = np.zeros(nrows-1)\n",
        "    for i in range(nrows-1):\n",
        "        if a[i,pivcolnum-1]>0 :\n",
        "            v[i] = a[i,ncols-1]/a[i,pivcolnum-1]\n",
        "        else :\n",
        "            v[i] = -1\n",
        "# Second task: if max b/a > -1, find min b/a by hand (ignoring zero entries in v)\n",
        "    if np.max(v) > -1 :  \n",
        "        min_so_far = np.max(v)+1  # Initialize variable to be for-sure bigger than the min\n",
        "        for i in range(nrows-1):\n",
        "            if v[i] > -1 and v[i] < min_so_far :\n",
        "                min_so_far = v[i]\n",
        "                where_is_min = i+1   # Add 1 to use human numbering\n",
        "        return where_is_min      # Once we've scanned v for min, we can return result\n",
        "    else :          \n",
        "        return -1"
      ],
      "execution_count": 36,
      "outputs": []
    },
    {
      "cell_type": "code",
      "metadata": {
        "id": "M3yzTXdsNb41"
      },
      "source": [
        "# Create Simplex BF\n",
        "def SimplexBF(a,indep_names,dep_names):\n",
        "  nrows, ncols = a.shape\n",
        "  a_new = a\n",
        "  print_tableau(a_new,indep_names,dep_names)\n",
        "  while np.max(a_new[nrows-1,:-1])>0:\n",
        "    pivcol=target(a_new)\n",
        "    pivrow=select(a_new,pivcol)\n",
        "    if pivrow == -1:\n",
        "      return(\"Unbounded\")\n",
        "    else:\n",
        "      a_new=pivot(a_new,pivrow,pivcol,indep_names,dep_names)\n",
        "      print_tableau(a_new,indep_names,dep_names)\n",
        "\n"
      ],
      "execution_count": 7,
      "outputs": []
    },
    {
      "cell_type": "markdown",
      "metadata": {
        "id": "LLQVfj-EEGmH"
      },
      "source": [
        "### a.\n",
        "Okay now I can start on SimplexNBF:"
      ]
    },
    {
      "cell_type": "code",
      "metadata": {
        "id": "SXsz3YXlEcKz"
      },
      "source": [
        "def targetnbf(tab):\n",
        "  nrows, ncols = tab.shape\n",
        "  new_i = -1\n",
        "  for i in range(nrows-1) :# don't check obj fn row\n",
        "    if tab[i,ncols-1] < 0:\n",
        "      new_i = i+1\n",
        "  return(new_i)"
      ],
      "execution_count": 8,
      "outputs": []
    },
    {
      "cell_type": "markdown",
      "metadata": {
        "id": "1gq7I-3ilAWU"
      },
      "source": [
        "### b."
      ]
    },
    {
      "cell_type": "code",
      "metadata": {
        "id": "vLsLW1nqEf59"
      },
      "source": [
        "def candidateone(tab,targetedrow):\n",
        "  #don't specify a row that's the obj fn row, I have no protocol against it\n",
        "  nrows, ncols = tab.shape\n",
        "  for i in range(ncols-1): #don't check last col bc it's the b's\n",
        "    if tab[targetedrow-1,i]<0 :\n",
        "      return(i+1)#bailout if found one\n",
        "  return(-1) #none found in loop, return -1\n"
      ],
      "execution_count": 9,
      "outputs": []
    },
    {
      "cell_type": "markdown",
      "metadata": {
        "id": "Al8UEU67lBZp"
      },
      "source": [
        "### c."
      ]
    },
    {
      "cell_type": "code",
      "metadata": {
        "id": "YQUxoT9ZG4Uc"
      },
      "source": [
        "def  selectnbf(tab,targetedrow,pivcolumn) :\n",
        "  nrows, ncols = tab.shape\n",
        "\n",
        "  #subset of two columns in question exclude obj fn row\n",
        "  candidate_column =tab[targetedrow-1:nrows-1,pivcolumn-1]\n",
        "  b_column=tab[targetedrow-1:nrows-1,ncols-1]\n",
        "\n",
        "  # compute ratios\n",
        "  ratios=b_column/candidate_column\n",
        "\n",
        "  # Find row in subset and convert back to index in full table:\n",
        "  #don't need to start at first row, let those be the starting values\n",
        "  cur_ratio= ratios[0]\n",
        "  best_row=0\n",
        "  # the seemingly misplaced -1s and +1s are because we start at second row\n",
        "  for i in range(len(candidate_column)-1):\n",
        "    if candidate_column[i+1]>0 and ratios[i+1]<cur_ratio :\n",
        "      cur_ratio=ratios[i+1]\n",
        "      best_row=i+1\n",
        "\n",
        "  #the targetedrow already has the +1, so this converts to start at 1\n",
        "    #and converts table subset index to full tableau index\n",
        "  best_row=best_row+targetedrow  \n",
        "\n",
        "  return([best_row,pivcolumn]) #output"
      ],
      "execution_count": 10,
      "outputs": []
    },
    {
      "cell_type": "markdown",
      "metadata": {
        "id": "JwUuRgeqlFS5"
      },
      "source": [
        "### d."
      ]
    },
    {
      "cell_type": "code",
      "metadata": {
        "id": "nDioR1L6TbOG"
      },
      "source": [
        "def simplexnbf(tab,indep_names,dep_names):\n",
        "  nrows, ncols = tab.shape #get dims\n",
        "  current_target_row=np.Inf #set current target row to nonsense\n",
        "  tab_new=tab # get primer value for tableau iterator\n",
        "  \n",
        "  NotReadyForBF = True #changed when problem is BF\n",
        "  SolutionPossible = True #false when no solution is discovered\n",
        "\n",
        "  print_tableau(tab,indep_names,dep_names) #print initial tableau\n",
        "\n",
        "  # while NBF and solution still possible apply NBF rules\n",
        "  while NotReadyForBF and SolutionPossible:\n",
        "    current_target_row=targetnbf(tab_new) # find target\n",
        "    if current_target_row ==-1 : #if target is -1, Ready for BF\n",
        "      NotReadyForBF = False\n",
        "    else : #find candidate from targeted row\n",
        "      current_candidate_column=candidateone(tab_new,current_target_row)\n",
        "      if current_candidate_column ==-1 : #if no candidates, no solution\n",
        "        SolutionPossible = False\n",
        "      else : #pivot based off of the computed selection\n",
        "        pivot_row,pivot_col=selectnbf(tab_new,current_target_row,current_candidate_column)\n",
        "        tab_new=pivot(tab_new,pivot_row,pivot_col,indep_names,dep_names)\n",
        "  if not NotReadyForBF : #if we bailed because ready for BF apply SimplexBF\n",
        "    SimplexBF(tab_new,indep_names,dep_names)\n",
        "  if not SolutionPossible: # if we bailed bc constraint set emtpy, say so \n",
        "    return(\"-1, Constraint set empty, sorry ☹️\")\n",
        "  \n",
        "  #we can't exit the while loop for anything but the reasons above, \n",
        "  # so don't need any else statements\n",
        "  \n"
      ],
      "execution_count": 21,
      "outputs": []
    },
    {
      "cell_type": "markdown",
      "metadata": {
        "id": "LLhmkFxWlIor"
      },
      "source": [
        "That's actually not what the question is asking for, so let me tighten it up to give the requested output (though you can gather the desired result from the above)."
      ]
    },
    {
      "cell_type": "code",
      "metadata": {
        "id": "SXdkJ2jSlV0a"
      },
      "source": [
        "def simplexnbf_final(tab,indep_names,dep_names):\n",
        "  output = simplexnbf(tab,indep_names,dep_names)\n",
        "  # my sad error message is a string, so when we see that, return -1\n",
        "  if output==\"-1, Constraint set empty, sorry ☹️\": \n",
        "    return -1\n",
        "  #else we must have a tableau for BF, return 0\n",
        "  else : \n",
        "    return 0"
      ],
      "execution_count": 12,
      "outputs": []
    },
    {
      "cell_type": "markdown",
      "metadata": {
        "id": "utz0RBdC4Rs7"
      },
      "source": [
        "Here is proof that all of my functions work as desired."
      ]
    },
    {
      "cell_type": "code",
      "metadata": {
        "colab": {
          "base_uri": "https://localhost:8080/",
          "height": 392
        },
        "id": "z5hZeoPeporq",
        "outputId": "e2a51b7f-f5d8-4ad5-c8f2-eb887807e4dc"
      },
      "source": [
        "a=np.array([\n",
        "            [-2,-10,3,-20,8],\n",
        "            [-1,1,0,-3,-6],\n",
        "            [1,4,-1,8,-1],\n",
        "            [1,1,1,1,0]])\n",
        "indep_names=[\"x\",\"y\",\"z\",\"w\"]\n",
        "dep_names=[\"t1\",\"t2\",\"t3\"]\n",
        "\n",
        "print(targetnbf(a))\n",
        "print(candidateone(a,3))\n",
        "print(selectnbf(a,3,1))\n",
        "\n",
        "\n",
        "simplexnbf(a,indep_names,dep_names)"
      ],
      "execution_count": 32,
      "outputs": [
        {
          "output_type": "stream",
          "text": [
            "3\n",
            "3\n",
            "[3, 1]\n",
            "         x         y         z         w        -1\n",
            "    -2.000   -10.000     3.000   -20.000     8.000     = -t1\n",
            "    -1.000     1.000     0.000    -3.000    -6.000     = -t2\n",
            "     1.000     4.000    -1.000     8.000    -1.000     = -t3\n",
            "     1.000     1.000     1.000     1.000     0.000     = obj\n",
            " \n",
            "         x         y        t3         w        -1\n",
            "     1.000     2.000     3.000     4.000     5.000     = -t1\n",
            "    -1.000     1.000     0.000    -3.000    -6.000     = -t2\n",
            "    -1.000    -4.000    -1.000    -8.000     1.000      = -z\n",
            "     2.000     5.000     1.000     9.000    -1.000     = obj\n",
            " \n",
            "        t2         y        t3         w        -1\n",
            "     1.000     3.000     3.000     1.000    -1.000     = -t1\n",
            "    -1.000    -1.000    -0.000     3.000     6.000      = -x\n",
            "    -1.000    -5.000    -1.000    -5.000     7.000      = -z\n",
            "     2.000     7.000     1.000     3.000   -13.000     = obj\n",
            " \n"
          ],
          "name": "stdout"
        },
        {
          "output_type": "execute_result",
          "data": {
            "application/vnd.google.colaboratory.intrinsic+json": {
              "type": "string"
            },
            "text/plain": [
              "'-1, Constraint set empty, sorry ☹️'"
            ]
          },
          "metadata": {
            "tags": []
          },
          "execution_count": 32
        }
      ]
    },
    {
      "cell_type": "code",
      "metadata": {
        "colab": {
          "base_uri": "https://localhost:8080/"
        },
        "id": "2WzxdhCw5ak3",
        "outputId": "44b96422-3f63-4d43-b879-a06a34823cfc"
      },
      "source": [
        "indep_names=[\"x\",\"y\",\"z\",\"w\"]\n",
        "dep_names=[\"t1\",\"t2\",\"t3\"]\n",
        "\n",
        "simplexnbf_final(a,indep_names,dep_names)"
      ],
      "execution_count": 34,
      "outputs": [
        {
          "output_type": "stream",
          "text": [
            "         x         y         z         w        -1\n",
            "    -2.000   -10.000     3.000   -20.000     8.000     = -t1\n",
            "    -1.000     1.000     0.000    -3.000    -6.000     = -t2\n",
            "     1.000     4.000    -1.000     8.000    -1.000     = -t3\n",
            "     1.000     1.000     1.000     1.000     0.000     = obj\n",
            " \n",
            "         x         y        t3         w        -1\n",
            "     1.000     2.000     3.000     4.000     5.000     = -t1\n",
            "    -1.000     1.000     0.000    -3.000    -6.000     = -t2\n",
            "    -1.000    -4.000    -1.000    -8.000     1.000      = -z\n",
            "     2.000     5.000     1.000     9.000    -1.000     = obj\n",
            " \n",
            "        t2         y        t3         w        -1\n",
            "     1.000     3.000     3.000     1.000    -1.000     = -t1\n",
            "    -1.000    -1.000    -0.000     3.000     6.000      = -x\n",
            "    -1.000    -5.000    -1.000    -5.000     7.000      = -z\n",
            "     2.000     7.000     1.000     3.000   -13.000     = obj\n",
            " \n"
          ],
          "name": "stdout"
        },
        {
          "output_type": "execute_result",
          "data": {
            "text/plain": [
              "-1"
            ]
          },
          "metadata": {
            "tags": []
          },
          "execution_count": 34
        }
      ]
    },
    {
      "cell_type": "markdown",
      "metadata": {
        "id": "UwW_CuJg8MGY"
      },
      "source": [
        "## Problem 2"
      ]
    },
    {
      "cell_type": "markdown",
      "metadata": {
        "id": "npjd8V1q6DwH"
      },
      "source": [
        "### a.\n",
        "Since we pivot on $a_{62}$ using the pivot formula we have the following values for the new $b_i$s:\n",
        "\n",
        "$$\n",
        "b_i^{new}=\n",
        "\\begin{cases}\n",
        "\\frac{b_i}{a_{62}} & i =6\\\\\n",
        "\\frac{a_{62}b_i-a_{i2}b_6}{a_{62}} & i\\neq6\n",
        "\\end{cases}\n",
        "$$\n",
        "Plugging in the zeros and simplyfing gives:\n",
        "\n",
        "$$\n",
        "b_i^{new}=\n",
        "\\begin{cases}\n",
        "0 & i =6\\\\\n",
        "b_i & i\\neq6\n",
        "\\end{cases}\n",
        "$$\n",
        "\n",
        "But since $b_6=0$, we are back where we started with all of the $b$s reamining the same. "
      ]
    },
    {
      "cell_type": "markdown",
      "metadata": {
        "id": "mCa0Z5OF8Ox-"
      },
      "source": [
        "### b.\n",
        "Let $a_{ij}^n$ be the value $a_{ij}$ in tableau $T_n$.\n",
        "\n",
        "Proof by contradiction, suppose that $a_{62}^2$ was indeed the pivot for $T^2$. Since all of the $b_i^2$s remain the same in $T_2$ as the $b_i^1$s in $T_1$. we must again target row four.\n",
        "\n",
        "To pivot on $a_{62}^2$, by the candidate rules, $a_{42}^2<0$.\n",
        "\n",
        "Since we pivoted on $a_{62}^1$, $a_{62}^1>0$ (bc $b_6>0$ or it would be target). For $T_1$, we targeted row 4, so $a_{42}^1<0$ again by the candidate rules.\n",
        "\n",
        "Using the pivot rules, I compute $a_{42}^2$ as follows:\n",
        "$$\n",
        "a_{42}^2=-\\frac{a_{42}^1}{a_{62}^1}\n",
        "$$\n",
        "From the results above the numerator must be negative while the denominator must be positive, so the whole fraction when multiplied by $-1$ is positive. Therefore $a_{42}^2>0$. Which contradicts the earlier result. Therefore the supposition that $a_{62}^2$ is the pivot must be incorrect. We pivot elsewhere.  $\\blacksquare$"
      ]
    },
    {
      "cell_type": "markdown",
      "metadata": {
        "id": "0Va-LOfGCmX8"
      },
      "source": [
        "## Problem 3."
      ]
    },
    {
      "cell_type": "markdown",
      "metadata": {
        "id": "KnthyuAnCnxu"
      },
      "source": [
        "There are two ways to have no minimum. First if the constraint set is empty which in this case it is not (see plot below). Or if the objective function is unconstrained in a direction that decreases the objective function to decrease ad infiinitum. For the function objective function $y-Ax$ to be decreasing while $x,y\\geq0$, at least one of those terms has to be negative. Therefore $A>0$. \n",
        "\n",
        "Now if the max exists, it must occur at a finite point. By the geometric method, we know that this point must be at the intersection of wto constraints (because there are two indep vars). The plot below outlines which intersections form the corners of the region.\n"
      ]
    },
    {
      "cell_type": "code",
      "metadata": {
        "colab": {
          "base_uri": "https://localhost:8080/",
          "height": 523
        },
        "id": "qUFz4Dq0w9JF",
        "outputId": "7f7eba28-aa65-43dc-cf45-92a7022d6fbe"
      },
      "source": [
        "%%HTML\n",
        "<iframe src=\"https://www.desmos.com/calculator/6y1stgwg3x\" width=\"1000px\" height=\"500px\" style=\"border: 1px solid #ccc\" frameborder=0></iframe>"
      ],
      "execution_count": 47,
      "outputs": [
        {
          "output_type": "display_data",
          "data": {
            "text/html": [
              "<iframe src=\"https://www.desmos.com/calculator/6y1stgwg3x\" width=\"1000px\" height=\"500px\" style=\"border: 1px solid #ccc\" frameborder=0></iframe>"
            ],
            "text/plain": [
              "<IPython.core.display.HTML object>"
            ]
          },
          "metadata": {
            "tags": []
          }
        }
      ]
    },
    {
      "cell_type": "markdown",
      "metadata": {
        "id": "YQ-iJZH6yB9w"
      },
      "source": [
        "Reading off of the graph above, we have that the corners at which a maximum could occur are at the intersection of the edges of the 1st and 3rd constraints and the 2nd and 3rd constraints.\n",
        "\n",
        "Solving these systems gives that the maximum must occcur at either $\\left(\\frac{28}{5},\\frac{92}{5}\\right)$ or $\\left(\\frac{69}{4},\\frac{27}{4}\\right)$\n",
        "\n",
        "I will now show the extant maximum unbounded min property occurs whenever $A>4$. I spent a long, fruitless, time trying to come up with a concise algebraic proof, but alas I will have to appeal to graphical inuition.\n",
        "\n",
        "First suppose that $A\\leq4$, I will show that an arbitrarily high value $C$ can be attained. When $A\\leq4$ as plotted below, note that the slope of the contour is less than that of the upper part of the constraint set. Note that along this contour $C=y-Ax\\implies y=Ax+C$, so the contour value is only affect the $y$-intercept of the contour, increasing the $y$-intercept might push the intersection to a different place, but since the slope of the contour is less than that of the top of the constraint set, there must be an intersection, we can attain the desired $C$."
      ]
    },
    {
      "cell_type": "code",
      "metadata": {
        "id": "ymJmJBpWPFXq",
        "outputId": "4a73fe1f-a034-468e-bee4-c810b7c9f0ab",
        "colab": {
          "base_uri": "https://localhost:8080/",
          "height": 523
        }
      },
      "source": [
        "%%html\n",
        "<iframe src=\"https://www.desmos.com/calculator/v6bdqqvagy\" width=\"1000px\" height=\"500px\" style=\"border: 1px solid #ccc\" frameborder=0></iframe>"
      ],
      "execution_count": 70,
      "outputs": [
        {
          "output_type": "display_data",
          "data": {
            "text/html": [
              "<iframe src=\"https://www.desmos.com/calculator/v6bdqqvagy\" width=\"1000px\" height=\"500px\" style=\"border: 1px solid #ccc\" frameborder=0></iframe>"
            ],
            "text/plain": [
              "<IPython.core.display.HTML object>"
            ]
          },
          "metadata": {
            "tags": []
          }
        }
      ]
    },
    {
      "cell_type": "markdown",
      "metadata": {
        "id": "yqqI9rq7PRew"
      },
      "source": [
        "This shows that $A\\leq4$ cannot have the desired property, so we must see if we can find the desired property when $A>4$. First to show it has a maximum. Consider the plot below, whenever $A\\geq4$, the contours move in the northwest direction as the value of the contour increases and the slope of this line is greater than the top part of the constraint, so eventually we will be left with just one point in the constraint set and by the geometric method, this must be the unique maximizer at $(5.6,18.4)$."
      ]
    },
    {
      "cell_type": "code",
      "metadata": {
        "id": "4PGyXPx9Q41m",
        "outputId": "7760933c-ead9-4a50-ff59-f6f7b60d78e3",
        "colab": {
          "base_uri": "https://localhost:8080/",
          "height": 523
        }
      },
      "source": [
        "%%html\n",
        "<iframe src=\"https://www.desmos.com/calculator/2916qk5amf?embed\" width=\"1000px\" height=\"500px\" style=\"border: 1px solid #ccc\" frameborder=0></iframe>"
      ],
      "execution_count": 71,
      "outputs": [
        {
          "output_type": "display_data",
          "data": {
            "text/html": [
              "<iframe src=\"https://www.desmos.com/calculator/2916qk5amf?embed\" width=\"1000px\" height=\"500px\" style=\"border: 1px solid #ccc\" frameborder=0></iframe>"
            ],
            "text/plain": [
              "<IPython.core.display.HTML object>"
            ]
          },
          "metadata": {
            "tags": []
          }
        }
      ]
    },
    {
      "cell_type": "markdown",
      "metadata": {
        "id": "PHKH4Ob2RKl1"
      },
      "source": [
        "Now to show that the minimum is unbounded. The contours moving down go in the southeast direction, and since the slope of the contour is steeper than that of the bottom of the constraint set there always must be an intersection, we can find arbitrarily small values of the objective function. This completes the skeleton of the proof."
      ]
    },
    {
      "cell_type": "markdown",
      "metadata": {
        "id": "PMtkgZJ30Bwh"
      },
      "source": [
        "## Problem 4.\n",
        "Thankfully, the problem is already in the proper form to be added to the tableau, though we will have to run NBF.\n",
        "Note that the objective function is asking us to find the largest value of $x_4$ which means all of the other $x_i$s add nothing and each $x-4$ is worth one. The objective function must then be $f(X)=x_4$\n",
        "I setup the tableau by reading off of the constraints and applying SimplexNBF: "
      ]
    },
    {
      "cell_type": "code",
      "metadata": {
        "colab": {
          "base_uri": "https://localhost:8080/"
        },
        "id": "AmLkVeUH0t2C",
        "outputId": "ea104621-5300-469d-ffef-73d9913047cc"
      },
      "source": [
        "a=np.array([[1,2,1,1,16],[-1,-1,2,3,5],[-1,2,-4,5,-14],[1,-4,-3,6,24],[0,0,0,1,0]])\n",
        "indep_names=[\"x1\",\"x2\",\"x3\",\"x4\"]\n",
        "dep_names=[\"t1\",\"t2\",\"t3\",\"t4\"]\n",
        "simplexnbf(a,indep_names,dep_names)"
      ],
      "execution_count": 51,
      "outputs": [
        {
          "output_type": "stream",
          "text": [
            "        x1        x2        x3        x4        -1\n",
            "     1.000     2.000     1.000     1.000    16.000     = -t1\n",
            "    -1.000    -1.000     2.000     3.000     5.000     = -t2\n",
            "    -1.000     2.000    -4.000     5.000   -14.000     = -t3\n",
            "     1.000    -4.000    -3.000     6.000    24.000     = -t4\n",
            "     0.000     0.000     0.000     1.000     0.000     = obj\n",
            " \n",
            "        t3        x2        x3        x4        -1\n",
            "     1.000     4.000    -3.000     6.000     2.000     = -t1\n",
            "    -1.000    -3.000     6.000    -2.000    19.000     = -t2\n",
            "    -1.000    -2.000     4.000    -5.000    14.000     = -x1\n",
            "     1.000    -2.000    -7.000    11.000    10.000     = -t4\n",
            "     0.000     0.000    -0.000     1.000    -0.000     = obj\n",
            " \n",
            "        t3        x2        x3        x4        -1\n",
            "     1.000     4.000    -3.000     6.000     2.000     = -t1\n",
            "    -1.000    -3.000     6.000    -2.000    19.000     = -t2\n",
            "    -1.000    -2.000     4.000    -5.000    14.000     = -x1\n",
            "     1.000    -2.000    -7.000    11.000    10.000     = -t4\n",
            "     0.000     0.000    -0.000     1.000    -0.000     = obj\n",
            " \n",
            "        t3        x2        x3        t1        -1\n",
            "     0.167     0.667    -0.500     0.167     0.333     = -x4\n",
            "    -0.667    -1.667     5.000     0.333    19.667     = -t2\n",
            "    -0.167     1.333     1.500     0.833    15.667     = -x1\n",
            "    -0.833    -9.333    -1.500    -1.833     6.333     = -t4\n",
            "    -0.167    -0.667     0.500    -0.167    -0.333     = obj\n",
            " \n",
            "        t3        x2        x3        t1        -1\n",
            "     0.167     0.667    -0.500     0.167     0.333     = -x4\n",
            "    -0.667    -1.667     5.000     0.333    19.667     = -t2\n",
            "    -0.167     1.333     1.500     0.833    15.667     = -x1\n",
            "    -0.833    -9.333    -1.500    -1.833     6.333     = -t4\n",
            "    -0.167    -0.667     0.500    -0.167    -0.333     = obj\n",
            " \n",
            "        t3        x2        t2        t1        -1\n",
            "     0.100     0.500     0.100     0.200     2.300     = -x4\n",
            "    -0.133    -0.333     0.200     0.067     3.933     = -x3\n",
            "     0.033     1.833    -0.300     0.733     9.767     = -x1\n",
            "    -1.033    -9.833     0.300    -1.733    12.233     = -t4\n",
            "    -0.100    -0.500    -0.100    -0.200    -2.300     = obj\n",
            " \n",
            "        t3        x2        t2        t1        -1\n",
            "     0.100     0.500     0.100     0.200     2.300     = -x4\n",
            "    -0.133    -0.333     0.200     0.067     3.933     = -x3\n",
            "     0.033     1.833    -0.300     0.733     9.767     = -x1\n",
            "    -1.033    -9.833     0.300    -1.733    12.233     = -t4\n",
            "    -0.100    -0.500    -0.100    -0.200    -2.300     = obj\n",
            " \n"
          ],
          "name": "stdout"
        }
      ]
    },
    {
      "cell_type": "markdown",
      "metadata": {
        "id": "hbAiqsO31oaz"
      },
      "source": [
        "I will briefly talk through those pivots because the question seems to be asking us to figure out the pivots by hand. First we have to run NBF because one of the $b_i$s is negative. As such we target row 3, which makes us take row one as the candidates and then we compute smallest ratio which happens to be in $a_{31}$. Pivoting there gives the next tableau in the sequence, which happens to be BF. \n",
        "\n",
        "We target the column with the highest value, that happens to be column 4. I compute the ratios that have positive denominators, and we select the smallest which happens to be $a_{14}$. Continue in a similar way until we get the following result:\n",
        "\\begin{align}\n",
        "x_1^*&=9.767 \\\\\n",
        "x_2^*&=0 \\\\\n",
        "x_3^*&=3.933 \\\\\n",
        "x_4^*&=2.3 \\\\\n",
        "\\end{align}\n",
        "And the value of the objective function is 2.3, implying that the maximum value that $x_4$ can attain in the set is $2.3$ "
      ]
    },
    {
      "cell_type": "markdown",
      "metadata": {
        "id": "aMJ9sq8Z8Ere"
      },
      "source": [
        "## Problem 5.\n",
        "We have five choice variables, $\\mathcal{A}_1$ and $\\mathcal{A}_2$ the number of apartments built in periods one and two, $\\mathcal{O}_1$ and $\\mathcal{O}_2$ for the number of of offices built in period one and two and  $\\mathcal{T}$ for the number of electricians sent to training in period one\n",
        "The master electricians in period one is a static number and they can be allocated to either $\\mathcal{A}$ or $\\mathcal{O}$. Their constraint would be:\n",
        "$$\n",
        "\\mathcal{A}_1+\\mathcal{O}_1\\leq 20\\\\\n",
        "$$\n",
        "\n",
        "In period two, the constraint is eased by the number of electricians sent to training. Therefore the $t=2$ master electrician constraint is \n",
        "$$\n",
        "\\mathcal{A}_2+\\mathcal{O}_2\\leq 20+\\mathcal{T}\\\\\n",
        "$$.\n",
        "\n",
        "We have a similar constraint but going in the opposite direction for regular electricians. We send $\\mathcal{T}$ away in the first period meaning:\n",
        "$$\n",
        "2\\mathcal{A}_1+5\\mathcal{O}_1 \\leq120-\\mathcal{T}\n",
        "$$\n",
        "Those electricians become masters in period two, so are also removed from that constraint giving the same constraint for $t=2$\n",
        "$$\n",
        "2\\mathcal{A}_2+5\\mathcal{O}_2 \\leq120-\\mathcal{T}\n",
        "$$\n",
        "We then have the carptenter and painter constraints which are more straightforward and give:\n",
        "\\begin{align*}\n",
        "4\\mathcal{A}_1 + 2\\mathcal{O}_1 &\\leq 100 \\\\\n",
        "4\\mathcal{A}_2 + 2\\mathcal{O}_2 &\\leq 100 \\\\\n",
        "5\\mathcal{A}_1 + 2\\mathcal{O}_1 &\\leq 90 \\\\\n",
        "5\\mathcal{A}_2 + 2\\mathcal{O}_2 &\\leq 90\n",
        "\\end{align*}\n",
        "\n",
        "The final thing to mention is the objective function, each apartment in either period brings in 25k and an office brings in 30k in either period. Each trainee subtracts 5k from profit, so our objective function in thousands is:\n",
        "$$\n",
        "25\\mathcal{A}_1+25\\mathcal{A}_2+30\\mathcal{O}_1+30\\mathcal{O}_2-5\\mathcal{T}\n",
        "$$\n",
        "Let's tableau-ify and solve:\n"
      ]
    },
    {
      "cell_type": "code",
      "metadata": {
        "colab": {
          "base_uri": "https://localhost:8080/"
        },
        "id": "RbVWbwRBBzdA",
        "outputId": "9be9f49a-64c8-4a64-edf0-4e4f589cae11"
      },
      "source": [
        "a=np.array([[1,1,0,0,0,20],\n",
        "            [0,0,1,1,-1,20],\n",
        "            [2,5,0,0,1,120],\n",
        "            [0,0,2,5,1,120],\n",
        "            [4,2,0,0,0,100],\n",
        "            [0,0,4,2,0,100],\n",
        "            [5,2,0,0,0,90],\n",
        "            [0,0,5,2,0,90],\n",
        "            [25,30,25,30,-5,0]])\n",
        "indep_names=[\"A1\",\"O1\",\"A2\",\"O2\",\"T\"]\n",
        "dep_names=[\"mElec1\",\"mElec2\",\"Elec1\",\"Elec2\",\"Carp1\",\"Carp2\",\"Paint1\",\"Paint2\"]\n",
        "\n",
        "simplexnbf(a,indep_names,dep_names)"
      ],
      "execution_count": 58,
      "outputs": [
        {
          "output_type": "stream",
          "text": [
            "        A1        O1        A2        O2         T        -1\n",
            "     1.000     1.000     0.000     0.000     0.000    20.000 = -mElec1\n",
            "     0.000     0.000     1.000     1.000    -1.000    20.000 = -mElec2\n",
            "     2.000     5.000     0.000     0.000     1.000   120.000  = -Elec1\n",
            "     0.000     0.000     2.000     5.000     1.000   120.000  = -Elec2\n",
            "     4.000     2.000     0.000     0.000     0.000   100.000  = -Carp1\n",
            "     0.000     0.000     4.000     2.000     0.000   100.000  = -Carp2\n",
            "     5.000     2.000     0.000     0.000     0.000    90.000 = -Paint1\n",
            "     0.000     0.000     5.000     2.000     0.000    90.000 = -Paint2\n",
            "    25.000    30.000    25.000    30.000    -5.000     0.000     = obj\n",
            " \n",
            "        A1        O1        A2        O2         T        -1\n",
            "     1.000     1.000     0.000     0.000     0.000    20.000 = -mElec1\n",
            "     0.000     0.000     1.000     1.000    -1.000    20.000 = -mElec2\n",
            "     2.000     5.000     0.000     0.000     1.000   120.000  = -Elec1\n",
            "     0.000     0.000     2.000     5.000     1.000   120.000  = -Elec2\n",
            "     4.000     2.000     0.000     0.000     0.000   100.000  = -Carp1\n",
            "     0.000     0.000     4.000     2.000     0.000   100.000  = -Carp2\n",
            "     5.000     2.000     0.000     0.000     0.000    90.000 = -Paint1\n",
            "     0.000     0.000     5.000     2.000     0.000    90.000 = -Paint2\n",
            "    25.000    30.000    25.000    30.000    -5.000     0.000     = obj\n",
            " \n",
            "        A1    mElec1        A2        O2         T        -1\n",
            "     1.000     1.000     0.000     0.000     0.000    20.000     = -O1\n",
            "     0.000    -0.000     1.000     1.000    -1.000    20.000 = -mElec2\n",
            "    -3.000    -5.000     0.000     0.000     1.000    20.000  = -Elec1\n",
            "     0.000    -0.000     2.000     5.000     1.000   120.000  = -Elec2\n",
            "     2.000    -2.000     0.000     0.000     0.000    60.000  = -Carp1\n",
            "     0.000    -0.000     4.000     2.000     0.000   100.000  = -Carp2\n",
            "     3.000    -2.000     0.000     0.000     0.000    50.000 = -Paint1\n",
            "     0.000    -0.000     5.000     2.000     0.000    90.000 = -Paint2\n",
            "    -5.000   -30.000    25.000    30.000    -5.000  -600.000     = obj\n",
            " \n",
            "        A1    mElec1        A2        O2         T        -1\n",
            "     1.000     1.000     0.000     0.000     0.000    20.000     = -O1\n",
            "     0.000    -0.000     1.000     1.000    -1.000    20.000 = -mElec2\n",
            "    -3.000    -5.000     0.000     0.000     1.000    20.000  = -Elec1\n",
            "     0.000    -0.000     2.000     5.000     1.000   120.000  = -Elec2\n",
            "     2.000    -2.000     0.000     0.000     0.000    60.000  = -Carp1\n",
            "     0.000    -0.000     4.000     2.000     0.000   100.000  = -Carp2\n",
            "     3.000    -2.000     0.000     0.000     0.000    50.000 = -Paint1\n",
            "     0.000    -0.000     5.000     2.000     0.000    90.000 = -Paint2\n",
            "    -5.000   -30.000    25.000    30.000    -5.000  -600.000     = obj\n",
            " \n",
            "        A1    mElec1        A2    mElec2         T        -1\n",
            "     1.000     1.000     0.000    -0.000     0.000    20.000     = -O1\n",
            "     0.000    -0.000     1.000     1.000    -1.000    20.000     = -O2\n",
            "    -3.000    -5.000     0.000    -0.000     1.000    20.000  = -Elec1\n",
            "     0.000     0.000    -3.000    -5.000     6.000    20.000  = -Elec2\n",
            "     2.000    -2.000     0.000    -0.000     0.000    60.000  = -Carp1\n",
            "     0.000     0.000     2.000    -2.000     2.000    60.000  = -Carp2\n",
            "     3.000    -2.000     0.000    -0.000     0.000    50.000 = -Paint1\n",
            "     0.000     0.000     3.000    -2.000     2.000    50.000 = -Paint2\n",
            "    -5.000   -30.000    -5.000   -30.000    25.000 -1200.000     = obj\n",
            " \n",
            "        A1    mElec1        A2    mElec2         T        -1\n",
            "     1.000     1.000     0.000    -0.000     0.000    20.000     = -O1\n",
            "     0.000    -0.000     1.000     1.000    -1.000    20.000     = -O2\n",
            "    -3.000    -5.000     0.000    -0.000     1.000    20.000  = -Elec1\n",
            "     0.000     0.000    -3.000    -5.000     6.000    20.000  = -Elec2\n",
            "     2.000    -2.000     0.000    -0.000     0.000    60.000  = -Carp1\n",
            "     0.000     0.000     2.000    -2.000     2.000    60.000  = -Carp2\n",
            "     3.000    -2.000     0.000    -0.000     0.000    50.000 = -Paint1\n",
            "     0.000     0.000     3.000    -2.000     2.000    50.000 = -Paint2\n",
            "    -5.000   -30.000    -5.000   -30.000    25.000 -1200.000     = obj\n",
            " \n",
            "        A1    mElec1        A2    mElec2     Elec2        -1\n",
            "     1.000     1.000     0.000     0.000    -0.000    20.000     = -O1\n",
            "     0.000     0.000     0.500     0.167     0.167    23.333     = -O2\n",
            "    -3.000    -5.000     0.500     0.833    -0.167    16.667  = -Elec1\n",
            "     0.000     0.000    -0.500    -0.833     0.167     3.333      = -T\n",
            "     2.000    -2.000     0.000     0.000    -0.000    60.000  = -Carp1\n",
            "     0.000     0.000     3.000    -0.333    -0.333    53.333  = -Carp2\n",
            "     3.000    -2.000     0.000     0.000    -0.000    50.000 = -Paint1\n",
            "     0.000     0.000     4.000    -0.333    -0.333    43.333 = -Paint2\n",
            "    -5.000   -30.000     7.500    -9.167    -4.167 -1283.333     = obj\n",
            " \n",
            "        A1    mElec1        A2    mElec2     Elec2        -1\n",
            "     1.000     1.000     0.000     0.000    -0.000    20.000     = -O1\n",
            "     0.000     0.000     0.500     0.167     0.167    23.333     = -O2\n",
            "    -3.000    -5.000     0.500     0.833    -0.167    16.667  = -Elec1\n",
            "     0.000     0.000    -0.500    -0.833     0.167     3.333      = -T\n",
            "     2.000    -2.000     0.000     0.000    -0.000    60.000  = -Carp1\n",
            "     0.000     0.000     3.000    -0.333    -0.333    53.333  = -Carp2\n",
            "     3.000    -2.000     0.000     0.000    -0.000    50.000 = -Paint1\n",
            "     0.000     0.000     4.000    -0.333    -0.333    43.333 = -Paint2\n",
            "    -5.000   -30.000     7.500    -9.167    -4.167 -1283.333     = obj\n",
            " \n",
            "        A1    mElec1    Paint2    mElec2     Elec2        -1\n",
            "     1.000     1.000    -0.000     0.000     0.000    20.000     = -O1\n",
            "     0.000     0.000    -0.125     0.208     0.208    17.917     = -O2\n",
            "    -3.000    -5.000    -0.125     0.875    -0.125    11.250  = -Elec1\n",
            "     0.000     0.000     0.125    -0.875     0.125     8.750      = -T\n",
            "     2.000    -2.000    -0.000     0.000     0.000    60.000  = -Carp1\n",
            "     0.000     0.000    -0.750    -0.083    -0.083    20.833  = -Carp2\n",
            "     3.000    -2.000    -0.000     0.000     0.000    50.000 = -Paint1\n",
            "     0.000     0.000     0.250    -0.083    -0.083    10.833     = -A2\n",
            "    -5.000   -30.000    -1.875    -8.542    -3.542 -1364.583     = obj\n",
            " \n",
            "        A1    mElec1    Paint2    mElec2     Elec2        -1\n",
            "     1.000     1.000    -0.000     0.000     0.000    20.000     = -O1\n",
            "     0.000     0.000    -0.125     0.208     0.208    17.917     = -O2\n",
            "    -3.000    -5.000    -0.125     0.875    -0.125    11.250  = -Elec1\n",
            "     0.000     0.000     0.125    -0.875     0.125     8.750      = -T\n",
            "     2.000    -2.000    -0.000     0.000     0.000    60.000  = -Carp1\n",
            "     0.000     0.000    -0.750    -0.083    -0.083    20.833  = -Carp2\n",
            "     3.000    -2.000    -0.000     0.000     0.000    50.000 = -Paint1\n",
            "     0.000     0.000     0.250    -0.083    -0.083    10.833     = -A2\n",
            "    -5.000   -30.000    -1.875    -8.542    -3.542 -1364.583     = obj\n",
            " \n"
          ],
          "name": "stdout"
        }
      ]
    },
    {
      "cell_type": "markdown",
      "metadata": {
        "id": "Qhfv7jwdGY-B"
      },
      "source": [
        "Let's interpret the above results. We have first that the company attains a maximal profit of $\\$1364.583$k dollars or $\\$1,364,583$ in profit. To attain that profit, the company sends $8.75$ electricians to training. They produce $20$ offices and no apartments in period one, but in period two, they produce $17.917$ offices and $10.833$ apartments. Note that we send just enough electricians to training such that neither master electricians or electrians are left not working in period two.  "
      ]
    },
    {
      "cell_type": "markdown",
      "metadata": {
        "id": "1a0z7XoZLZxa"
      },
      "source": [
        "## Problem 6. \n",
        "\n",
        "Define the following: $B$ number of protein bars used, $A$ number of apples used, $P$ number of poptarts, $T$ number of twinkies and $H$ for hot pockets.\n",
        "\n",
        "The constraints are fairly straightforward:\n",
        "\n",
        "\\begin{align*}\n",
        "8B+A+2.3P+2T+19H&\\geq300\\\\\n",
        "130B+95A+209P+260T+600H&\\geq10000 \\\\\n",
        "130B+95A+209P+260T+600H&\\leq20000 \\\\\n",
        "120B+0A+172P+350T+1050H&\\leq 15000 \\\\\n",
        "4B+0A+7P+8T+26H&\\leq 500 \\\\\n",
        "3B+3A+.7P+0T+2H&\\geq 100\n",
        "\\end{align*}\n",
        "\n",
        "To CanonicalMax Form:\n",
        "\\begin{align*}\n",
        "-8B-A-2.3P-2T-19H&\\leq-300\\\\\n",
        "-130B-95A-209P-260T-600H&\\leq-10000 \\\\\n",
        "130B+95A+209P+260T+600H&\\leq20000 \\\\\n",
        "120B+0A+172P+350T+1050H&\\leq 15000 \\\\\n",
        "4B+0A+7P+8T+26H&\\leq 500 \\\\\n",
        "-3B-3A-.7P-0T-2H&\\leq -100\n",
        "\\end{align*}\n",
        "\n",
        "But we are trying to find the minimum of the function so, we must also multiply the objective function by $-1$ giving:\n",
        "$$\n",
        "-1B -.8A -.75P -.6T- 1.75H\n",
        "$$\n",
        "\n",
        "tableauing and simplexing nbf gives:\n"
      ]
    },
    {
      "cell_type": "code",
      "metadata": {
        "colab": {
          "base_uri": "https://localhost:8080/"
        },
        "id": "H2k6vk-nar4d",
        "outputId": "c7f8a05d-fa3a-4cd0-fbb2-f46de5863737"
      },
      "source": [
        "a=np.array([[-8,-1,-2.3,-2,-19,-300],\n",
        "            [-130,-95,-209,-260,-600,-10000],\n",
        "            [130,95,209,260,600,10000],\n",
        "            [120,0,172,350,1050,15000],\n",
        "            [4,0,7,8,26,500],\n",
        "            [-3,-3,-.7,0,-2,-100],\n",
        "            [-1,-.8,-.75,-.6,-1.75,0]\n",
        "            ])\n",
        "indep_names=[\"ProtBar\",\"Apple\",\"PopTart\",\"Twinkie\",\"HotPock\"]\n",
        "dep_names=[\"Protein\",\"Calories_low\",\"Calories_high\",\"Sodium\",\"Fat\",\"Fiber\"]\n",
        "simplexnbf(a,indep_names,dep_names)"
      ],
      "execution_count": 67,
      "outputs": [
        {
          "output_type": "stream",
          "text": [
            "   ProtBar     Apple   PopTart   Twinkie   HotPock        -1\n",
            "    -8.000    -1.000    -2.300    -2.000   -19.000  -300.000= -Protein\n",
            "  -130.000   -95.000  -209.000  -260.000  -600.000-10000.000= -Calories_low\n",
            "   130.000    95.000   209.000   260.000   600.000 10000.000= -Calories_high\n",
            "   120.000     0.000   172.000   350.000  1050.000 15000.000 = -Sodium\n",
            "     4.000     0.000     7.000     8.000    26.000   500.000    = -Fat\n",
            "    -3.000    -3.000    -0.700     0.000    -2.000  -100.000  = -Fiber\n",
            "    -1.000    -0.800    -0.750    -0.600    -1.750     0.000     = obj\n",
            " \n",
            "     Fiber     Apple   PopTart   Twinkie   HotPock        -1\n",
            "    -2.667     7.000    -0.433    -2.000   -13.667   -33.333= -Protein\n",
            "   -43.333    35.000  -178.667  -260.000  -513.333 -5666.667= -Calories_low\n",
            "    43.333   -35.000   178.667   260.000   513.333  5666.667= -Calories_high\n",
            "    40.000  -120.000   144.000   350.000   970.000 11000.000 = -Sodium\n",
            "     1.333    -4.000     6.067     8.000    23.333   366.667    = -Fat\n",
            "    -0.333     1.000     0.233    -0.000     0.667    33.333= -ProtBar\n",
            "    -0.333     0.200    -0.517    -0.600    -1.083    33.333     = obj\n",
            " \n",
            "Calories_low     Apple   PopTart   Twinkie   HotPock        -1\n",
            "    -0.062     4.846    10.562    14.000    17.923   315.385= -Protein\n",
            "    -0.023    -0.808     4.123     6.000    11.846   130.769  = -Fiber\n",
            "     1.000    -0.000    -0.000    -0.000    -0.000    -0.000= -Calories_high\n",
            "     0.923   -87.692   -20.923   110.000   496.154  5769.231 = -Sodium\n",
            "     0.031    -2.923     0.569     0.000     7.538   192.308    = -Fat\n",
            "    -0.008     0.731     1.608     2.000     4.615    76.923= -ProtBar\n",
            "    -0.008    -0.069     0.858     1.400     2.865    76.923     = obj\n",
            " \n",
            "Calories_low     Apple   PopTart   Twinkie   HotPock        -1\n",
            "    -0.062     4.846    10.562    14.000    17.923   315.385= -Protein\n",
            "    -0.023    -0.808     4.123     6.000    11.846   130.769  = -Fiber\n",
            "     1.000    -0.000    -0.000    -0.000    -0.000    -0.000= -Calories_high\n",
            "     0.923   -87.692   -20.923   110.000   496.154  5769.231 = -Sodium\n",
            "     0.031    -2.923     0.569     0.000     7.538   192.308    = -Fat\n",
            "    -0.008     0.731     1.608     2.000     4.615    76.923= -ProtBar\n",
            "    -0.008    -0.069     0.858     1.400     2.865    76.923     = obj\n",
            " \n",
            "Calories_low     Apple   PopTart   Twinkie     Fiber        -1\n",
            "    -0.027     6.068     4.323     4.922    -1.513   117.532= -Protein\n",
            "    -0.002    -0.068     0.348     0.506     0.084    11.039= -HotPock\n",
            "     1.000    -0.000     0.000     0.000     0.000     0.000= -Calories_high\n",
            "     1.890   -53.864  -193.610  -141.299   -41.883   292.208 = -Sodium\n",
            "     0.045    -2.409    -2.055    -3.818    -0.636   109.091    = -Fat\n",
            "     0.001     1.045     0.001    -0.338    -0.390    25.974= -ProtBar\n",
            "    -0.002     0.126    -0.140    -0.051    -0.242    45.292     = obj\n",
            " \n",
            "Calories_low     Apple   PopTart   Twinkie     Fiber        -1\n",
            "    -0.027     6.068     4.323     4.922    -1.513   117.532= -Protein\n",
            "    -0.002    -0.068     0.348     0.506     0.084    11.039= -HotPock\n",
            "     1.000    -0.000     0.000     0.000     0.000     0.000= -Calories_high\n",
            "     1.890   -53.864  -193.610  -141.299   -41.883   292.208 = -Sodium\n",
            "     0.045    -2.409    -2.055    -3.818    -0.636   109.091    = -Fat\n",
            "     0.001     1.045     0.001    -0.338    -0.390    25.974= -ProtBar\n",
            "    -0.002     0.126    -0.140    -0.051    -0.242    45.292     = obj\n",
            " \n",
            "Calories_low   Protein   PopTart   Twinkie     Fiber        -1\n",
            "    -0.004     0.165     0.712     0.811    -0.249    19.369  = -Apple\n",
            "    -0.002     0.011     0.397     0.562     0.067    12.360= -HotPock\n",
            "     1.000     0.000     0.000     0.000     0.000     0.000= -Calories_high\n",
            "     1.653     8.876  -155.234   -97.608   -55.313  1335.474 = -Sodium\n",
            "     0.035     0.397    -0.338    -1.864    -1.237   155.752    = -Fat\n",
            "     0.006    -0.172    -0.744    -1.186    -0.129     5.725= -ProtBar\n",
            "    -0.002    -0.021    -0.229    -0.154    -0.210    42.849     = obj\n",
            " \n",
            "Calories_low   Protein   PopTart   Twinkie     Fiber        -1\n",
            "    -0.004     0.165     0.712     0.811    -0.249    19.369  = -Apple\n",
            "    -0.002     0.011     0.397     0.562     0.067    12.360= -HotPock\n",
            "     1.000     0.000     0.000     0.000     0.000     0.000= -Calories_high\n",
            "     1.653     8.876  -155.234   -97.608   -55.313  1335.474 = -Sodium\n",
            "     0.035     0.397    -0.338    -1.864    -1.237   155.752    = -Fat\n",
            "     0.006    -0.172    -0.744    -1.186    -0.129     5.725= -ProtBar\n",
            "    -0.002    -0.021    -0.229    -0.154    -0.210    42.849     = obj\n",
            " \n"
          ],
          "name": "stdout"
        }
      ]
    },
    {
      "cell_type": "markdown",
      "metadata": {
        "id": "Q6dhL3r4d1qd"
      },
      "source": [
        "The least expensive way to feed the camper is using $19.369$ Apples, $12.360$ hot pockets, $5.725$ protein bars and using none of the other items."
      ]
    }
  ]
}