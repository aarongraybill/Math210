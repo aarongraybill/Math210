{
  "nbformat": 4,
  "nbformat_minor": 0,
  "metadata": {
    "colab": {
      "name": "ProblemSet2.ipynb",
      "provenance": [],
      "collapsed_sections": [],
      "toc_visible": true,
      "include_colab_link": true
    },
    "kernelspec": {
      "name": "python3",
      "display_name": "Python 3"
    }
  },
  "cells": [
    {
      "cell_type": "markdown",
      "metadata": {
        "id": "view-in-github",
        "colab_type": "text"
      },
      "source": [
        "<a href=\"https://colab.research.google.com/github/aarongraybill/Math210/blob/main/ProblemSets/Midterm1/Midterm1.ipynb\" target=\"_parent\"><img src=\"https://colab.research.google.com/assets/colab-badge.svg\" alt=\"Open In Colab\"/></a>"
      ]
    },
    {
      "cell_type": "markdown",
      "metadata": {
        "id": "hLpSiJM2WkeL"
      },
      "source": [
        "# Math 210\n",
        "## Aaron Graybill\n",
        "### Midterm 1\n",
        "### 3/18/21"
      ]
    },
    {
      "cell_type": "markdown",
      "metadata": {
        "id": "vgo9Ot_KHW0W"
      },
      "source": [
        "## Problem 1.\n",
        "First let me bring in all of the predefined scripts and packages:"
      ]
    },
    {
      "cell_type": "code",
      "metadata": {
        "id": "SPgd6dGnGRID"
      },
      "source": [
        "import numpy as np"
      ],
      "execution_count": 2,
      "outputs": []
    },
    {
      "cell_type": "code",
      "metadata": {
        "id": "yG9e_wWFVTTM"
      },
      "source": [
        "def print_tableau(a,indep_names,dep_names):\n",
        "#\n",
        "# Given matrix \"a\" and lists of variables names \"indep_names\" and \"dep_names\",\n",
        "# this function prints the matrix and labels in standard tableau format\n",
        "# (including adding the -1, the minus signs in the last column, and labeling the lower-right as obj)\n",
        "#\n",
        "# First, check the inputs: indep_names should be one shorter than the number of columns of A\n",
        "#                          dep_names should be one shorter than the number of rows of A\n",
        "#\n",
        "    nrows = a.shape[0]    # use the shape function to determine number of rows and cols in A\n",
        "    ncols = a.shape[1]\n",
        "    nindep = len(indep_names)\n",
        "    ndep = len(dep_names)\n",
        "    if nindep != ncols-1:\n",
        "        print(\"WARNING: # of indep vbles should be one fewer than # columns of matrix\")\n",
        "    if ndep != nrows-1:\n",
        "        print(\"WARNING: # of dep vbles should be one fewer than # rows of matrix\")\n",
        "# Now do the printing (uses a variety of formatting techniques in Python)        \n",
        "    for j in range(ncols-1):                    # Print the independent variables in the first row\n",
        "        print(indep_names[j].rjust(10),end=\"\")  # rjust(10) makes fields 10 wide and right-justifies;\n",
        "                                                #    the end command prevents newline)\n",
        "    print(\"        -1\")                         # Tack on the -1 at the end of the first row\n",
        "    for i in range(nrows-1):\n",
        "        for j in range(ncols):                  # Print all but the last row of the matrix\n",
        "            print(\"%10.3f\" % a[i][j],end=\"\") # The syntax prints in a field 10 wide, showing 3 decimal points\n",
        "        lab = \"= -\" + dep_names[i]\n",
        "        print(lab.rjust(10))\n",
        "    for j in range(ncols):\n",
        "        print(\"%10.3f\" % a[nrows-1][j],end=\"\")  # Print the last row of the matrix, with label \"obj\" at end\n",
        "    lab = \"= obj\"\n",
        "    print(lab.rjust(10))\n",
        "    print(\" \")    # Put blank line at bottom"
      ],
      "execution_count": 3,
      "outputs": []
    },
    {
      "cell_type": "code",
      "metadata": {
        "id": "4UnP4mLZRW-n"
      },
      "source": [
        "def pivot(a,pivrow,pivcol,indep_names,dep_names) :\n",
        "# \n",
        "# Given matrix \"a\", a row number \"pivrow\" and column number \"pivcol\", \n",
        "#  and lists of variable names \"indep_names\" and \"dep_names\", this\n",
        "#  function does three things:\n",
        "#    (1) outputs the new version of the matrix after a pivot,\n",
        "#    (2) updates the lists of variable names post-pivot\n",
        "#    (3) prints the new matrix, including labels showing the variable names\n",
        "#\n",
        "# First, check the inputs: indep_names should be one shorter than the number of columns of A\n",
        "#                          dep_names should be one shorter than the number of rows of A\n",
        "#                          you should not be pivoting on the last row or last column\n",
        "#\n",
        "    a = a.astype(float)   # make sure entries are treated as floating point numbers\n",
        "    nrows = a.shape[0]    # use the shape function to determine number of rows and cols in A\n",
        "    ncols = a.shape[1]\n",
        "    nindep = len(indep_names)\n",
        "    ndep = len(dep_names)\n",
        "    if nindep != ncols-1:\n",
        "        print(\"WARNING: # of indep vbles should be one fewer than # columns of matrix\")\n",
        "    if ndep != nrows-1:\n",
        "        print(\"WARNING: # of dep vbles should be one fewer than # rows of matrix\")\n",
        "    if pivrow > nrows-1 or pivcol > ncols-1:\n",
        "        print(\"WARNING: should not pivot on last row or column\")\n",
        "    newa = a.copy()       # make a copy of A, to be filled in below with result of pivot\n",
        "    p = a[pivrow-1][pivcol-1]   # identify pivot element\n",
        "    newa[pivrow-1][pivcol-1] = 1/p   # set new value of pivot element\n",
        "    # Set entries in p's row\n",
        "    for j in range(ncols):\n",
        "        if j != pivcol-1:\n",
        "            newa[pivrow-1][j]=a[pivrow-1][j]/p;\n",
        "    # Set entries in p's column\n",
        "    for i in range(nrows):\n",
        "        if i != pivrow-1:\n",
        "            newa[i][pivcol-1]=-a[i][pivcol-1]/p;\n",
        "    # Set all other entries\n",
        "    for i in range(nrows):\n",
        "        for j in range(ncols):\n",
        "            if i != pivrow-1 and j != pivcol-1:\n",
        "                r = a[i][pivcol-1]\n",
        "                q = a[pivrow-1][j]\n",
        "                s = a[i][j]\n",
        "                newa[i][j]=(p*s-q*r)/p\n",
        "    # Now swap the variable names\n",
        "    temp = indep_names[pivcol-1]\n",
        "    indep_names[pivcol-1]=dep_names[pivrow-1]\n",
        "    dep_names[pivrow-1]=temp\n",
        "    print_tableau(newa,indep_names,dep_names) # Print the matrix with updated labels\n",
        "    return newa;"
      ],
      "execution_count": 4,
      "outputs": []
    },
    {
      "cell_type": "code",
      "metadata": {
        "id": "MQj2ylNFS3zv"
      },
      "source": [
        "def target(a) :\n",
        "    nrows = a.shape[0]    # use the shape function to determine number of rows and cols in \"a\"\n",
        "    ncols = a.shape[1]\n",
        "    import numpy as np\n",
        "    v = np.empty(ncols-1)\n",
        "    for i in range(ncols-1):\n",
        "        v[i]=a[nrows-1,i]\n",
        "    biggest_c = np.max(v)\n",
        "    where_is_biggest_c = np.argmax(v)+1\n",
        "    if biggest_c > 0 :\n",
        "        return where_is_biggest_c\n",
        "    else :\n",
        "        return -1"
      ],
      "execution_count": 5,
      "outputs": []
    },
    {
      "cell_type": "code",
      "metadata": {
        "id": "C6_nnkgOS8bO"
      },
      "source": [
        "def select(a,pivcolnum) :\n",
        "    nrows = a.shape[0]    # use the shape function to determine number of rows and cols in A\n",
        "    ncols = a.shape[1]\n",
        "# First task: work down the column and record the b/a ratios in a vector v\n",
        "#     except record -1 if a is negative or zero\n",
        "    import numpy as np\n",
        "    v = np.zeros(nrows-1)\n",
        "    for i in range(nrows-1):\n",
        "        if a[i,pivcolnum-1]>0 :\n",
        "            v[i] = a[i,ncols-1]/a[i,pivcolnum-1]\n",
        "        else :\n",
        "            v[i] = -1\n",
        "# Second task: if max b/a > -1, find min b/a by hand (ignoring zero entries in v)\n",
        "    if np.max(v) > -1 :  \n",
        "        min_so_far = np.max(v)+1  # Initialize variable to be for-sure bigger than the min\n",
        "        for i in range(nrows-1):\n",
        "            if v[i] > -1 and v[i] < min_so_far :\n",
        "                min_so_far = v[i]\n",
        "                where_is_min = i+1   # Add 1 to use human numbering\n",
        "        return where_is_min      # Once we've scanned v for min, we can return result\n",
        "    else :          \n",
        "        return -1"
      ],
      "execution_count": 36,
      "outputs": []
    },
    {
      "cell_type": "code",
      "metadata": {
        "id": "M3yzTXdsNb41"
      },
      "source": [
        "# Create Simplex BF\n",
        "def SimplexBF(a,indep_names,dep_names):\n",
        "  nrows, ncols = a.shape\n",
        "  a_new = a\n",
        "  print_tableau(a_new,indep_names,dep_names)\n",
        "  while np.max(a_new[nrows-1,:-1])>0:\n",
        "    pivcol=target(a_new)\n",
        "    pivrow=select(a_new,pivcol)\n",
        "    if pivrow == -1:\n",
        "      return(\"Unbounded\")\n",
        "    else:\n",
        "      a_new=pivot(a_new,pivrow,pivcol,indep_names,dep_names)\n",
        "      print_tableau(a_new,indep_names,dep_names)\n",
        "\n"
      ],
      "execution_count": 7,
      "outputs": []
    },
    {
      "cell_type": "markdown",
      "metadata": {
        "id": "LLQVfj-EEGmH"
      },
      "source": [
        "### a.\n",
        "Okay now I can start on SimplexNBF:"
      ]
    },
    {
      "cell_type": "code",
      "metadata": {
        "id": "SXsz3YXlEcKz"
      },
      "source": [
        "def targetnbf(tab):\n",
        "  nrows, ncols = tab.shape\n",
        "  new_i = -1\n",
        "  for i in range(nrows-1) :# don't check obj fn row\n",
        "    if tab[i,ncols-1] < 0:\n",
        "      new_i = i+1\n",
        "  return(new_i)"
      ],
      "execution_count": 8,
      "outputs": []
    },
    {
      "cell_type": "markdown",
      "metadata": {
        "id": "1gq7I-3ilAWU"
      },
      "source": [
        "### b."
      ]
    },
    {
      "cell_type": "code",
      "metadata": {
        "id": "vLsLW1nqEf59"
      },
      "source": [
        "def candidateone(tab,targetedrow):\n",
        "  #don't specify a row that's the obj fn row, I have no protocol against it\n",
        "  nrows, ncols = tab.shape\n",
        "  for i in range(ncols-1): #don't check last col bc it's the b's\n",
        "    if tab[targetedrow-1,i]<0 :\n",
        "      return(i+1)#bailout if found one\n",
        "  return(-1) #none found in loop, return -1\n"
      ],
      "execution_count": 9,
      "outputs": []
    },
    {
      "cell_type": "markdown",
      "metadata": {
        "id": "Al8UEU67lBZp"
      },
      "source": [
        "### c."
      ]
    },
    {
      "cell_type": "code",
      "metadata": {
        "id": "YQUxoT9ZG4Uc"
      },
      "source": [
        "def  selectnbf(tab,targetedrow,pivcolumn) :\n",
        "  nrows, ncols = tab.shape\n",
        "\n",
        "  #subset of two columns in question exclude obj fn row\n",
        "  candidate_column =tab[targetedrow-1:nrows-1,pivcolumn-1]\n",
        "  b_column=tab[targetedrow-1:nrows-1,ncols-1]\n",
        "\n",
        "  # compute ratios\n",
        "  ratios=b_column/candidate_column\n",
        "\n",
        "  # Find row in subset and convert back to index in full table:\n",
        "  #don't need to start at first row, let those be the starting values\n",
        "  cur_ratio= ratios[0]\n",
        "  best_row=0\n",
        "  # the seemingly misplaced -1s and +1s are because we start at second row\n",
        "  for i in range(len(candidate_column)-1):\n",
        "    if candidate_column[i+1]>0 and ratios[i+1]<cur_ratio :\n",
        "      cur_ratio=ratios[i+1]\n",
        "      best_row=i+1\n",
        "\n",
        "  #the targetedrow already has the +1, so this converts to start at 1\n",
        "    #and converts table subset index to full tableau index\n",
        "  best_row=best_row+targetedrow  \n",
        "\n",
        "  return([best_row,pivcolumn]) #output"
      ],
      "execution_count": 10,
      "outputs": []
    },
    {
      "cell_type": "markdown",
      "metadata": {
        "id": "JwUuRgeqlFS5"
      },
      "source": [
        "### d."
      ]
    },
    {
      "cell_type": "code",
      "metadata": {
        "id": "nDioR1L6TbOG"
      },
      "source": [
        "def simplexnbf(tab,indep_names,dep_names):\n",
        "  nrows, ncols = tab.shape #get dims\n",
        "  current_target_row=np.Inf #set current target row to nonsense\n",
        "  tab_new=tab # get primer value for tableau iterator\n",
        "  \n",
        "  NotReadyForBF = True #changed when problem is BF\n",
        "  SolutionPossible = True #false when no solution is discovered\n",
        "\n",
        "  print_tableau(tab,indep_names,dep_names) #print initial tableau\n",
        "\n",
        "  # while NBF and solution still possible apply NBF rules\n",
        "  while NotReadyForBF and SolutionPossible:\n",
        "    current_target_row=targetnbf(tab_new) # find target\n",
        "    if current_target_row ==-1 : #if target is -1, Ready for BF\n",
        "      NotReadyForBF = False\n",
        "    else : #find candidate from targeted row\n",
        "      current_candidate_column=candidateone(tab_new,current_target_row)\n",
        "      if current_candidate_column ==-1 : #if no candidates, no solution\n",
        "        SolutionPossible = False\n",
        "      else : #pivot based off of the computed selection\n",
        "        pivot_row,pivot_col=selectnbf(tab_new,current_target_row,current_candidate_column)\n",
        "        tab_new=pivot(tab_new,pivot_row,pivot_col,indep_names,dep_names)\n",
        "  if not NotReadyForBF : #if we bailed because ready for BF apply SimplexBF\n",
        "    SimplexBF(tab_new,indep_names,dep_names)\n",
        "  if not SolutionPossible: # if we bailed bc constraint set emtpy, say so \n",
        "    return(\"-1, Constraint set empty, sorry ☹️\")\n",
        "  \n",
        "  #we can't exit the while loop for anything but the reasons above, \n",
        "  # so don't need any else statements\n",
        "  \n"
      ],
      "execution_count": 21,
      "outputs": []
    },
    {
      "cell_type": "markdown",
      "metadata": {
        "id": "LLhmkFxWlIor"
      },
      "source": [
        "That's actually not what the question is asking for, so let me tighten it up to give the requested output (though you can gather the desired result from the above)."
      ]
    },
    {
      "cell_type": "code",
      "metadata": {
        "id": "SXdkJ2jSlV0a"
      },
      "source": [
        "def simplexnbf_final(tab,indep_names,dep_names):\n",
        "  output = simplexnbf(tab,indep_names,dep_names)\n",
        "  # my sad error message is a string, so when we see that, return -1\n",
        "  if output==\"-1, Constraint set empty, sorry ☹️\": \n",
        "    return -1\n",
        "  #else we must have a tableau for BF, return 0\n",
        "  else : \n",
        "    return 0"
      ],
      "execution_count": 12,
      "outputs": []
    },
    {
      "cell_type": "markdown",
      "metadata": {
        "id": "utz0RBdC4Rs7"
      },
      "source": [
        "Here is proof that all of my functions work as desired."
      ]
    },
    {
      "cell_type": "code",
      "metadata": {
        "colab": {
          "base_uri": "https://localhost:8080/",
          "height": 392
        },
        "id": "z5hZeoPeporq",
        "outputId": "e2a51b7f-f5d8-4ad5-c8f2-eb887807e4dc"
      },
      "source": [
        "a=np.array([\n",
        "            [-2,-10,3,-20,8],\n",
        "            [-1,1,0,-3,-6],\n",
        "            [1,4,-1,8,-1],\n",
        "            [1,1,1,1,0]])\n",
        "indep_names=[\"x\",\"y\",\"z\",\"w\"]\n",
        "dep_names=[\"t1\",\"t2\",\"t3\"]\n",
        "\n",
        "print(targetnbf(a))\n",
        "print(candidateone(a,3))\n",
        "print(selectnbf(a,3,1))\n",
        "\n",
        "\n",
        "simplexnbf(a,indep_names,dep_names)"
      ],
      "execution_count": 32,
      "outputs": [
        {
          "output_type": "stream",
          "text": [
            "3\n",
            "3\n",
            "[3, 1]\n",
            "         x         y         z         w        -1\n",
            "    -2.000   -10.000     3.000   -20.000     8.000     = -t1\n",
            "    -1.000     1.000     0.000    -3.000    -6.000     = -t2\n",
            "     1.000     4.000    -1.000     8.000    -1.000     = -t3\n",
            "     1.000     1.000     1.000     1.000     0.000     = obj\n",
            " \n",
            "         x         y        t3         w        -1\n",
            "     1.000     2.000     3.000     4.000     5.000     = -t1\n",
            "    -1.000     1.000     0.000    -3.000    -6.000     = -t2\n",
            "    -1.000    -4.000    -1.000    -8.000     1.000      = -z\n",
            "     2.000     5.000     1.000     9.000    -1.000     = obj\n",
            " \n",
            "        t2         y        t3         w        -1\n",
            "     1.000     3.000     3.000     1.000    -1.000     = -t1\n",
            "    -1.000    -1.000    -0.000     3.000     6.000      = -x\n",
            "    -1.000    -5.000    -1.000    -5.000     7.000      = -z\n",
            "     2.000     7.000     1.000     3.000   -13.000     = obj\n",
            " \n"
          ],
          "name": "stdout"
        },
        {
          "output_type": "execute_result",
          "data": {
            "application/vnd.google.colaboratory.intrinsic+json": {
              "type": "string"
            },
            "text/plain": [
              "'-1, Constraint set empty, sorry ☹️'"
            ]
          },
          "metadata": {
            "tags": []
          },
          "execution_count": 32
        }
      ]
    },
    {
      "cell_type": "code",
      "metadata": {
        "id": "2WzxdhCw5ak3",
        "outputId": "44b96422-3f63-4d43-b879-a06a34823cfc",
        "colab": {
          "base_uri": "https://localhost:8080/"
        }
      },
      "source": [
        "indep_names=[\"x\",\"y\",\"z\",\"w\"]\n",
        "dep_names=[\"t1\",\"t2\",\"t3\"]\n",
        "\n",
        "simplexnbf_final(a,indep_names,dep_names)"
      ],
      "execution_count": 34,
      "outputs": [
        {
          "output_type": "stream",
          "text": [
            "         x         y         z         w        -1\n",
            "    -2.000   -10.000     3.000   -20.000     8.000     = -t1\n",
            "    -1.000     1.000     0.000    -3.000    -6.000     = -t2\n",
            "     1.000     4.000    -1.000     8.000    -1.000     = -t3\n",
            "     1.000     1.000     1.000     1.000     0.000     = obj\n",
            " \n",
            "         x         y        t3         w        -1\n",
            "     1.000     2.000     3.000     4.000     5.000     = -t1\n",
            "    -1.000     1.000     0.000    -3.000    -6.000     = -t2\n",
            "    -1.000    -4.000    -1.000    -8.000     1.000      = -z\n",
            "     2.000     5.000     1.000     9.000    -1.000     = obj\n",
            " \n",
            "        t2         y        t3         w        -1\n",
            "     1.000     3.000     3.000     1.000    -1.000     = -t1\n",
            "    -1.000    -1.000    -0.000     3.000     6.000      = -x\n",
            "    -1.000    -5.000    -1.000    -5.000     7.000      = -z\n",
            "     2.000     7.000     1.000     3.000   -13.000     = obj\n",
            " \n"
          ],
          "name": "stdout"
        },
        {
          "output_type": "execute_result",
          "data": {
            "text/plain": [
              "-1"
            ]
          },
          "metadata": {
            "tags": []
          },
          "execution_count": 34
        }
      ]
    },
    {
      "cell_type": "markdown",
      "metadata": {
        "id": "UwW_CuJg8MGY"
      },
      "source": [
        "## Problem 2"
      ]
    },
    {
      "cell_type": "markdown",
      "metadata": {
        "id": "npjd8V1q6DwH"
      },
      "source": [
        "### a.\n",
        "Since we pivot on $a_{62}$ using the pivot formula we have the following values for the new $b_i$s:\n",
        "\n",
        "$$\n",
        "b_i^{new}=\n",
        "\\begin{cases}\n",
        "\\frac{b_i}{a_{62}} & i =6\\\\\n",
        "\\frac{a_{62}b_i-a_{i2}b_6}{a_{62}} & i\\neq6\n",
        "\\end{cases}\n",
        "$$\n",
        "Plugging in the zeros and simplyfing gives:\n",
        "\n",
        "$$\n",
        "b_i^{new}=\n",
        "\\begin{cases}\n",
        "0 & i =6\\\\\n",
        "b_i & i\\neq6\n",
        "\\end{cases}\n",
        "$$\n",
        "\n",
        "But since $b_6=0$, we are back where we started with all of the $b$s reamining the same. "
      ]
    },
    {
      "cell_type": "markdown",
      "metadata": {
        "id": "mCa0Z5OF8Ox-"
      },
      "source": [
        "### b.\n",
        "Let $a_{ij}^n$ be the value $a_{ij}$ in tableau $T_n$.\n",
        "\n",
        "Proof by contradiction, suppose that $a_{62}^2$ was indeed the pivot for $T^2$. Since all of the $b_i^2$s remain the same in $T_2$ as the $b_i^1$s in $T_1$. we must again target row four.\n",
        "\n",
        "To pivot on $a_{62}^2$, by the candidate rules, $a_{42}^2<0$.\n",
        "\n",
        "Since we pivoted on $a_{62}^1$, $a_{62}^1>0$ (bc $b_6>0$ or it would be target). For $T_1$, we targeted row 4, so $a_{42}^1<0$ again by the candidate rules.\n",
        "\n",
        "Using the pivot rules, I compute $a_{42}^2$ as follows:\n",
        "$$\n",
        "a_{42}^2=-\\frac{a_{42}^1}{a_{62}^1}\n",
        "$$\n",
        "From the results above the numerator must be negative while the denominator must be positive, so the whole fraction when multiplied by $-1$ is positive. Therefore $a_{42}^2>0$. Which contradicts the earlier result. Therefore the supposition that $a_{62}^2$ is the pivot must be incorrect. We pivot elsewhere.  $\\blacksquare$"
      ]
    },
    {
      "cell_type": "markdown",
      "metadata": {
        "id": "0Va-LOfGCmX8"
      },
      "source": [
        "## Problem 3."
      ]
    },
    {
      "cell_type": "markdown",
      "metadata": {
        "id": "KnthyuAnCnxu"
      },
      "source": [
        "### a.\n",
        "There are two ways to have no minimum. First if the constraint set is empty which in this case it is not (see plot below). Or if the objective function is unconstrained in a direction that decreases the objective function to decrease ad infiinitum. For the function objective function $y-Ax$ to be decreasing while $x,y\\geq0$, at least one of those terms has to be negative. Therefore $A>0$. \n",
        "\n",
        "Now if the max exists, it must occur at a finite point. By the geometric method, we know that this point must be at the intersection of wto constraints (because there are two indep vars). The plot below outlines which intersections form the corners of the region.\n"
      ]
    },
    {
      "cell_type": "code",
      "metadata": {
        "id": "qUFz4Dq0w9JF",
        "outputId": "7f7eba28-aa65-43dc-cf45-92a7022d6fbe",
        "colab": {
          "base_uri": "https://localhost:8080/",
          "height": 523
        }
      },
      "source": [
        "%%HTML\n",
        "<iframe src=\"https://www.desmos.com/calculator/6y1stgwg3x\" width=\"1000px\" height=\"500px\" style=\"border: 1px solid #ccc\" frameborder=0></iframe>"
      ],
      "execution_count": 47,
      "outputs": [
        {
          "output_type": "display_data",
          "data": {
            "text/html": [
              "<iframe src=\"https://www.desmos.com/calculator/6y1stgwg3x\" width=\"1000px\" height=\"500px\" style=\"border: 1px solid #ccc\" frameborder=0></iframe>"
            ],
            "text/plain": [
              "<IPython.core.display.HTML object>"
            ]
          },
          "metadata": {
            "tags": []
          }
        }
      ]
    },
    {
      "cell_type": "markdown",
      "metadata": {
        "id": "YQ-iJZH6yB9w"
      },
      "source": [
        "Reading off of the graph above, we have that the corners at which a maximum could occur are at the intersection of the edges of the 1st and 3rd constraints and the 2nd and 3rd constraints.\n",
        "\n",
        "Solving these systems gives that the maximum must occcur at either $\\left(\\frac{28}{5},\\frac{92}{5}\\right)$ or $\\left(\\frac{69}{4},\\frac{27}{4}\\right)$"
      ]
    },
    {
      "cell_type": "markdown",
      "metadata": {
        "id": "PMtkgZJ30Bwh"
      },
      "source": [
        "## Problem 4.\n",
        "Thankfully, the problem is already in the proper form to be added to the tableau, though we will have to run NBF.\n",
        "Note that the objective function is asking us to find the largest value of $x_4$ which means all of the other $x_i$s add nothing and each $x-4$ is worth one. The objective function must then be $f(X)=x_4$\n",
        "I setup the tableau by reading off of the constraints and applying SimplexNBF: "
      ]
    },
    {
      "cell_type": "code",
      "metadata": {
        "id": "AmLkVeUH0t2C",
        "outputId": "ea104621-5300-469d-ffef-73d9913047cc",
        "colab": {
          "base_uri": "https://localhost:8080/"
        }
      },
      "source": [
        "a=np.array([[1,2,1,1,16],[-1,-1,2,3,5],[-1,2,-4,5,-14],[1,-4,-3,6,24],[0,0,0,1,0]])\n",
        "indep_names=[\"x1\",\"x2\",\"x3\",\"x4\"]\n",
        "dep_names=[\"t1\",\"t2\",\"t3\",\"t4\"]\n",
        "simplexnbf(a,indep_names,dep_names)"
      ],
      "execution_count": 51,
      "outputs": [
        {
          "output_type": "stream",
          "text": [
            "        x1        x2        x3        x4        -1\n",
            "     1.000     2.000     1.000     1.000    16.000     = -t1\n",
            "    -1.000    -1.000     2.000     3.000     5.000     = -t2\n",
            "    -1.000     2.000    -4.000     5.000   -14.000     = -t3\n",
            "     1.000    -4.000    -3.000     6.000    24.000     = -t4\n",
            "     0.000     0.000     0.000     1.000     0.000     = obj\n",
            " \n",
            "        t3        x2        x3        x4        -1\n",
            "     1.000     4.000    -3.000     6.000     2.000     = -t1\n",
            "    -1.000    -3.000     6.000    -2.000    19.000     = -t2\n",
            "    -1.000    -2.000     4.000    -5.000    14.000     = -x1\n",
            "     1.000    -2.000    -7.000    11.000    10.000     = -t4\n",
            "     0.000     0.000    -0.000     1.000    -0.000     = obj\n",
            " \n",
            "        t3        x2        x3        x4        -1\n",
            "     1.000     4.000    -3.000     6.000     2.000     = -t1\n",
            "    -1.000    -3.000     6.000    -2.000    19.000     = -t2\n",
            "    -1.000    -2.000     4.000    -5.000    14.000     = -x1\n",
            "     1.000    -2.000    -7.000    11.000    10.000     = -t4\n",
            "     0.000     0.000    -0.000     1.000    -0.000     = obj\n",
            " \n",
            "        t3        x2        x3        t1        -1\n",
            "     0.167     0.667    -0.500     0.167     0.333     = -x4\n",
            "    -0.667    -1.667     5.000     0.333    19.667     = -t2\n",
            "    -0.167     1.333     1.500     0.833    15.667     = -x1\n",
            "    -0.833    -9.333    -1.500    -1.833     6.333     = -t4\n",
            "    -0.167    -0.667     0.500    -0.167    -0.333     = obj\n",
            " \n",
            "        t3        x2        x3        t1        -1\n",
            "     0.167     0.667    -0.500     0.167     0.333     = -x4\n",
            "    -0.667    -1.667     5.000     0.333    19.667     = -t2\n",
            "    -0.167     1.333     1.500     0.833    15.667     = -x1\n",
            "    -0.833    -9.333    -1.500    -1.833     6.333     = -t4\n",
            "    -0.167    -0.667     0.500    -0.167    -0.333     = obj\n",
            " \n",
            "        t3        x2        t2        t1        -1\n",
            "     0.100     0.500     0.100     0.200     2.300     = -x4\n",
            "    -0.133    -0.333     0.200     0.067     3.933     = -x3\n",
            "     0.033     1.833    -0.300     0.733     9.767     = -x1\n",
            "    -1.033    -9.833     0.300    -1.733    12.233     = -t4\n",
            "    -0.100    -0.500    -0.100    -0.200    -2.300     = obj\n",
            " \n",
            "        t3        x2        t2        t1        -1\n",
            "     0.100     0.500     0.100     0.200     2.300     = -x4\n",
            "    -0.133    -0.333     0.200     0.067     3.933     = -x3\n",
            "     0.033     1.833    -0.300     0.733     9.767     = -x1\n",
            "    -1.033    -9.833     0.300    -1.733    12.233     = -t4\n",
            "    -0.100    -0.500    -0.100    -0.200    -2.300     = obj\n",
            " \n"
          ],
          "name": "stdout"
        }
      ]
    },
    {
      "cell_type": "markdown",
      "metadata": {
        "id": "hbAiqsO31oaz"
      },
      "source": [
        "I will briefly talk through those pivots because the question seems to be asking us to figure out the pivots by hand. First we have to run NBF because one of the $b_i$s is negative. As such we target row 3, which makes us take row one as the candidates and then we compute smallest ratio which happens to be in $a_{31}$. Pivoting there gives the next tableau in the sequence, which happens to be BF. \n",
        "\n",
        "We target the column with the highest value, that happens to be column 4. I compute the ratios that have positive denominators, and we select the smallest which happens to be $a_{14}$. Continue in a similar way until we get the following result:\n",
        "\\begin{align}\n",
        "x_1^*&=9.767 \\\\\n",
        "x_2^*&=0 \\\\\n",
        "x_3^*&=3.933 \\\\\n",
        "x_4^*&=2.3 \\\\\n",
        "\\end{align}\n",
        "And the value of the objective function is 2.3, implying that the maximum value that $x_4$ can attain in the set is $2.3$ "
      ]
    },
    {
      "cell_type": "markdown",
      "metadata": {
        "id": "aMJ9sq8Z8Ere"
      },
      "source": [
        "## Problem 5.\n",
        "We have five choice variables, $\\mathcal{A}_1$ and $\\mathcal{A}_2$ the number of apartments built in periods one and two, $\\mathcal{O}_1$ and $\\mathcal{O}_2$ for the number of of offices built in period one and two and  $\\mathcal{T}$ for the number of electricians sent to training in period one\n",
        "The master electricians in period one is a static number and they can be allocated to either $\\mathcal{A}$ or $\\mathcal{O}$. Their constraint would be:\n",
        "$$\n",
        "\\mathcal{A}_1+\\mathcal{O}_1\\leq 20\\\\\n",
        "$$\n",
        "\n",
        "In period two, the constraint is eased by the number of electricians sent to training. Therefore the $t=2$ master electrician constraint is \n",
        "$$\n",
        "\\mathcal{A}_2+\\mathcal{O}_2\\leq 20+\\mathcal{T}\\\\\n",
        "$$.\n",
        "\n",
        "We have a similar constraint but going in the opposite direction for regular electricians. We send $\\mathcal{T}$ away in the first period meaning:\n",
        "$$\n",
        "2\\mathcal{A}_1+5\\mathcal{O}_1 \\leq120-\\mathcal{T}\n",
        "$$\n",
        "Those electricians become masters in period two, so are also removed from that constraint giving the same constraint for $t=2$\n",
        "$$\n",
        "2\\mathcal{A}_2+5\\mathcal{O}_2 \\leq120-\\mathcal{T}\n",
        "$$\n",
        "We then have the carptenter and painter constraints which are more straightforward and give:\n",
        "\\begin{align*}\n",
        "x\n",
        "\\begin{align*}"
      ]
    }
  ]
}