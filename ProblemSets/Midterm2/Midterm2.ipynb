{
  "nbformat": 4,
  "nbformat_minor": 0,
  "metadata": {
    "colab": {
      "name": "ProblemSet8.ipynb",
      "provenance": [],
      "toc_visible": true,
      "authorship_tag": "ABX9TyMOzPaFa8LxRMSaJUnkul2v",
      "include_colab_link": true
    },
    "kernelspec": {
      "name": "python3",
      "display_name": "Python 3"
    },
    "language_info": {
      "name": "python"
    }
  },
  "cells": [
    {
      "cell_type": "markdown",
      "metadata": {
        "id": "view-in-github",
        "colab_type": "text"
      },
      "source": [
        "<a href=\"https://colab.research.google.com/github/aarongraybill/Math210/blob/main/ProblemSets/Midterm2/Midterm2.ipynb\" target=\"_parent\"><img src=\"https://colab.research.google.com/assets/colab-badge.svg\" alt=\"Open In Colab\"/></a>"
      ]
    },
    {
      "cell_type": "markdown",
      "metadata": {
        "id": "GN6bgZHB-ZvW"
      },
      "source": [
        "# Math 210\n",
        "## Aaron Graybill\n",
        "### Midterm 2\n",
        "### 4/30/21\n"
      ]
    },
    {
      "cell_type": "markdown",
      "metadata": {
        "id": "p6aYDYTa86UR"
      },
      "source": [
        "## Imports\n"
      ]
    },
    {
      "cell_type": "code",
      "metadata": {
        "id": "5R1PS0EqO_ab"
      },
      "source": [
        "import numpy as np\n",
        "from scipy.optimize import linprog\n",
        "import pandas as pd\n",
        "import itertools"
      ],
      "execution_count": 2,
      "outputs": []
    },
    {
      "cell_type": "code",
      "metadata": {
        "id": "yIsNZWNTS5gx"
      },
      "source": [
        "def print_tableau(a,indep_names,dep_names,indep_names_dual,dep_names_dual):\n",
        "#\n",
        "# Given matrix \"a\" and lists of variables names \"indep_names\" and \"dep_names\",\n",
        "#   and (for the dual) \"indep_names_dual\" and \"dep_names_dual\",\n",
        "# this function prints the matrix and labels in standard tableau format\n",
        "# (including adding the -1, the minus signs in the last column, and labeling the lower-right as obj)\n",
        "#\n",
        "# First, check the inputs: indep_names and dep_names_dual should be one shorter than the number of columns of A\n",
        "#                          dep_names and indep_names_dual should be one shorter than the number of rows of A\n",
        "#\n",
        "    nrows = a.shape[0]    # use the shape function to determine number of rows and cols in A\n",
        "    ncols = a.shape[1]\n",
        "    nindep = len(indep_names)\n",
        "    nindep_dual = len(indep_names_dual)\n",
        "    ndep = len(dep_names)\n",
        "    ndep_dual = len(dep_names_dual)\n",
        "    if nindep != ncols-1:\n",
        "        print(\"WARNING: # of indep vbles should be one fewer than # columns of matrix\")\n",
        "    if ndep != nrows-1:\n",
        "        print(\"WARNING: # of dep vbles should be one fewer than # rows of matrix\")\n",
        "    if nindep_dual != nrows-1:\n",
        "        print(\"WARNING: # of indep dual vbles should be one fewer than # rows of matrix\")\n",
        "    if ndep_dual != ncols-1:\n",
        "        print(\"WARNING: # of dep dual vbles should be one fewer than # columns of matrix\")\n",
        "# Now do the printing (uses a variety of formatting techniques in Python)     \n",
        "    print(\"          \",end=\"\")       # On first line, leave blank space so we can fit in dual labels lower down \n",
        "    for j in range(ncols-1):                    # Print the independent variables in the first row\n",
        "        print(indep_names[j].rjust(10),end=\"\")  # rjust(10) makes fields 10 wide and right-justifies;\n",
        "                                                #    the end command prevents newline)\n",
        "    print(\"        -1\")                         # Tack on the -1 at the end of the first row\n",
        "    for i in range(nrows-1):\n",
        "        print(indep_names_dual[i].rjust(10),end=\"\")\n",
        "        for j in range(ncols):                  # Print all but the last row of the matrix\n",
        "                print(\"%10.3f\" % a[i][j],end=\"\") # The syntax prints in a field 10 wide, showing 3 decimal points\n",
        "        lab = \"= -\" + dep_names[i]\n",
        "        print(lab.rjust(10))\n",
        "    print(\"        -1\",end=\"\")\n",
        "    for j in range(ncols):\n",
        "        print(\"%10.3f\" % a[nrows-1][j],end=\"\")  # Print the last row of the matrix, with label \"obj\" at end\n",
        "    lab = \"= obj\"\n",
        "    print(lab.rjust(10))\n",
        "    print(\"          \",end=\"\")\n",
        "    for j in range(ncols-1):\n",
        "        lab = \"=\" + dep_names_dual[j]\n",
        "        print(lab.rjust(10),end=\"\")\n",
        "    print(\"  =dualobj\")\n",
        "    print(\" \")    # Put blank line at bottom"
      ],
      "execution_count": 3,
      "outputs": []
    },
    {
      "cell_type": "code",
      "metadata": {
        "id": "n3VpfrG5TCTh"
      },
      "source": [
        "def pivot(a,pivrow,pivcol,indep_names,dep_names,indep_names_dual,dep_names_dual) :\n",
        "# \n",
        "# Given matrix \"a\", a row number \"pivrow\" and column number \"pivcol\", \n",
        "#  and lists of variable names \"indep_names\" and \"dep_names\", this\n",
        "#  function does three things:\n",
        "#    (1) outputs the new version of the matrix after a pivot,\n",
        "#    (2) updates the lists of variable names post-pivot\n",
        "#    (3) prints the new matrix, including labels showing the variable names\n",
        "#\n",
        "# First, check the inputs: indep_names should be one shorter than the number of columns of A\n",
        "#                          dep_names should be one shorter than the number of rows of A\n",
        "#                          you should not be pivoting on the last row or last column\n",
        "#\n",
        "    nrows = a.shape[0]    # use the shape function to determine number of rows and cols in A\n",
        "    ncols = a.shape[1]\n",
        "    nindep = len(indep_names)\n",
        "    nindep_dual = len(indep_names_dual)\n",
        "    ndep = len(dep_names)\n",
        "    ndep_dual = len(dep_names_dual)\n",
        "    if nindep != ncols-1:\n",
        "        print(\"WARNING: # of indep vbles should be one fewer than # columns of matrix\")\n",
        "    if ndep != nrows-1:\n",
        "        print(\"WARNING: # of dep vbles should be one fewer than # rows of matrix\")\n",
        "    if nindep_dual != nrows-1:\n",
        "        print(\"WARNING: # of indep dual vbles should be one fewer than # rows of matrix\")\n",
        "    if ndep_dual != ncols-1:\n",
        "        print(\"WARNING: # of dep dual vbles should be one fewer than # columns of matrix\")\n",
        "    if pivrow > nrows-1 or pivcol > ncols-1:\n",
        "        print(\"WARNING: should not pivot on last row or column\")\n",
        "    newa = a.copy()       # make a copy of A, to be filled in below with result of pivot\n",
        "    p = a[pivrow-1][pivcol-1]   # identify pivot element\n",
        "    newa[pivrow-1][pivcol-1] = 1/p   # set new value of pivot element\n",
        "    # Set entries in p's row\n",
        "    for j in range(ncols):\n",
        "        if j != pivcol-1:\n",
        "            newa[pivrow-1][j]=a[pivrow-1][j]/p;\n",
        "    # Set entries in p's column\n",
        "    for i in range(nrows):\n",
        "        if i != pivrow-1:\n",
        "            newa[i][pivcol-1]=-a[i][pivcol-1]/p;\n",
        "    # Set all other entries\n",
        "    for i in range(nrows):\n",
        "        for j in range(ncols):\n",
        "            if i != pivrow-1 and j != pivcol-1:\n",
        "                r = a[i][pivcol-1]\n",
        "                q = a[pivrow-1][j]\n",
        "                s = a[i][j]\n",
        "                newa[i][j]=(p*s-q*r)/p\n",
        "    # Now transfer the new tableau into a\n",
        "    for i in range(nrows) :\n",
        "        for j in range(ncols) :\n",
        "            a[i][j] = newa[i][j]\n",
        "    # Now swap the variable names\n",
        "    temp = indep_names[pivcol-1]\n",
        "    indep_names[pivcol-1]=dep_names[pivrow-1]\n",
        "    dep_names[pivrow-1]=temp\n",
        "    temp = indep_names_dual[pivrow-1]\n",
        "    indep_names_dual[pivrow-1]=dep_names_dual[pivcol-1]\n",
        "    dep_names_dual[pivcol-1]=temp\n",
        "    print_tableau(newa,indep_names,dep_names,indep_names_dual,dep_names_dual) # Print the matrix with updated labels\n",
        "    return 0;"
      ],
      "execution_count": 4,
      "outputs": []
    },
    {
      "cell_type": "code",
      "metadata": {
        "id": "ow67-bcsTFH0"
      },
      "source": [
        "def column_delete(a,col_to_remove,indep_names,dep_names,indep_names_dual,dep_names_dual) :\n",
        "    import numpy as np\n",
        "    anew = np.delete(a,col_to_remove-1,axis=1)\n",
        "    del indep_names[col_to_remove-1]\n",
        "    del dep_names_dual[col_to_remove-1]\n",
        "    print_tableau(anew,indep_names,dep_names,indep_names_dual,dep_names_dual)\n",
        "    return anew"
      ],
      "execution_count": 5,
      "outputs": []
    },
    {
      "cell_type": "code",
      "metadata": {
        "id": "mpsJvwCDTGjU"
      },
      "source": [
        "def row_delete(a,row_to_remove,indep_names,dep_names,indep_names_dual,dep_names_dual) :\n",
        "    import numpy as np\n",
        "    anew = np.delete(a,row_to_remove-1,axis=0)\n",
        "    del dep_names[row_to_remove-1]\n",
        "    del indep_names_dual[row_to_remove-1]\n",
        "    print_tableau(anew,indep_names,dep_names,indep_names_dual,dep_names_dual)\n",
        "    return anew"
      ],
      "execution_count": 6,
      "outputs": []
    },
    {
      "cell_type": "code",
      "metadata": {
        "id": "BGHqdaJqTIFd"
      },
      "source": [
        "def target(a) :\n",
        "    nrows = a.shape[0]    # use the shape function to determine number of rows and cols in \"a\"\n",
        "    ncols = a.shape[1]\n",
        "    import numpy as np\n",
        "    v = np.empty(ncols-1)\n",
        "    for i in range(ncols-1):\n",
        "        v[i]=a[nrows-1,i]\n",
        "    biggest_c = np.max(v)\n",
        "    where_is_biggest_c = np.argmax(v)+1\n",
        "    if biggest_c > 0 :\n",
        "        return where_is_biggest_c\n",
        "    else :\n",
        "        return -1"
      ],
      "execution_count": 7,
      "outputs": []
    },
    {
      "cell_type": "code",
      "metadata": {
        "id": "m3tto5uJTJs3"
      },
      "source": [
        "def select(a,pivcolnum) :\n",
        "    nrows = a.shape[0]    # use the shape function to determine number of rows and cols in A\n",
        "    ncols = a.shape[1]\n",
        "# First task: work down the column and record the b/a ratios in a vector v\n",
        "#     except record -1 if a is negative or zero\n",
        "    import numpy as np\n",
        "    v = np.zeros(nrows-1)\n",
        "    for i in range(nrows-1):\n",
        "        if a[i,pivcolnum-1]>0 :\n",
        "            v[i] = a[i,ncols-1]/a[i,pivcolnum-1]\n",
        "        else :\n",
        "            v[i] = -1\n",
        "# Second task: if max b/a > -1, find min b/a by hand (ignoring zero entries in v)\n",
        "    if np.max(v) > -1 :  \n",
        "        min_so_far = np.max(v)+1  # Initialize min to be for-sure bigger than the min\n",
        "        for i in range(nrows-1):\n",
        "            if v[i] > -1 and v[i] < min_so_far :\n",
        "                min_so_far = v[i]\n",
        "                where_is_min = i+1   # Add 1 to use human numbering\n",
        "        return where_is_min      # Once we've scanned v for min, we can return result\n",
        "            \n",
        "    else :          # Otherwise, we find the m\n",
        "        return -1"
      ],
      "execution_count": 8,
      "outputs": []
    },
    {
      "cell_type": "code",
      "metadata": {
        "id": "dXiiaV9HTLOB"
      },
      "source": [
        "def simplexbf(a,indep_names,dep_names,dual_indep_names,dual_dep_names):\n",
        "# Run the simplexbf algorithm\n",
        "# Inputs: np.array \"a\" (assumed to be basic feasible)\n",
        "#         lists of variable names indep_names and dep_names (pivot will catch if they're wrong size)\n",
        "# Output: -1 if we stop because problem is unbounded, 0 if we continue to a solution\n",
        "#         -9 if we take too many steps\n",
        "    nrows = a.shape[0]    # use shape to find # of rows and cols in A\n",
        "    ncols = a.shape[1]\n",
        "    print(\"Starting SimplexBF (will do nothing if solution can already be determined)\")\n",
        "    pivcol = target(a)\n",
        "    nsteps = 0\n",
        "    while pivcol > -1 and nsteps < 50:  # Repeat until either solution found or 50 pivots completed\n",
        "        pivrow = select(a,pivcol)\n",
        "        if pivrow == -1 :\n",
        "            return -1    # If select reports -1, problem is unbounded, so exit this function\n",
        "        else :\n",
        "            pivot(a,pivrow,pivcol,indep_names,dep_names,dual_indep_names,dual_dep_names)\n",
        "            nsteps=nsteps+1\n",
        "            pivcol = target(a)\n",
        "    if nsteps >= 50:\n",
        "        return -9    # we took too many pivots\n",
        "    else:\n",
        "        return 0"
      ],
      "execution_count": 9,
      "outputs": []
    },
    {
      "cell_type": "code",
      "metadata": {
        "id": "0NAHhPjZTMp_"
      },
      "source": [
        "def targetnbf(a):\n",
        "    nrows = a.shape[0]\n",
        "    ncols = a.shape[1]\n",
        "    import numpy as np\n",
        "    checkrow = nrows-2\n",
        "    while a[checkrow,ncols-1] >= -0.00000001 :\n",
        "        if checkrow == 0 :   # if still in the \"while\" and at the top,\n",
        "            return -1        # all the b's were >= 0, so return -1\n",
        "        else :\n",
        "            checkrow = checkrow-1\n",
        "    return checkrow+1    # if we exit the \"while\", we found a negative\n",
        "#                            b, so return current row # (in human numbering)"
      ],
      "execution_count": 10,
      "outputs": []
    },
    {
      "cell_type": "code",
      "metadata": {
        "id": "lbBEk16gTOVD"
      },
      "source": [
        "def selectnbf(a,targetrow) :\n",
        "#  Given inputs \"a\" (tableau as an np.array, numbers only, no labels) \n",
        "#       and \"targetrow\" (a row that has a negative b; start-at-1 numbering assumed),\n",
        "#  computes a pivot that could be chosen by SimplexNBF and \n",
        "#  outputs \"pivrow\" and \"pivcol\", the row and column (start-at-1 numbering) of that pivot\n",
        "#  If the targeted row has no negative aij, returns -2 for both pivrow and pivcol\n",
        "    nrows = a.shape[0]\n",
        "    ncols = a.shape[1]\n",
        "    import numpy as np\n",
        "    targetrow = targetrow-1   # convert to start-at-0\n",
        "    pivcol = ncols-2     # column index of last aij\n",
        "    while a[targetrow,pivcol] >= 0 :\n",
        "        if pivcol == 0 :   # if pivcol makes it to zero, all aij\n",
        "            return [-2,-2]   # in this row were >= 0, so problem infeasible\n",
        "        else :\n",
        "            pivcol = pivcol-1\n",
        "    minsofar = a[targetrow,ncols-1]/a[targetrow,pivcol] # we found a negative aij\n",
        "    pivrow = targetrow     \n",
        "    for i in range(targetrow+1,nrows-2):   # now check below it for a smaller bi/aij with aij>0\n",
        "        if a[i,pivcol]>0 and a[i,ncols-1]/a[i,pivcol] < minsofar :\n",
        "            minsofar = a[i,ncols-1]/a[i,pivcol]\n",
        "            pivrow = i\n",
        "    return [pivrow+1,pivcol+1]   # Return result (shifted to start-at-1 numbering)"
      ],
      "execution_count": 11,
      "outputs": []
    },
    {
      "cell_type": "code",
      "metadata": {
        "id": "C_gCCXokTPrs"
      },
      "source": [
        "def simplexnbf(a,indep_names,dep_names,dual_indep_names,dual_dep_names):\n",
        "# Run the simplexnbf algorithm\n",
        "# Inputs: np.array \"a\" \n",
        "#         lists of variable names indep_names and dep_names (pivot will catch if they're wrong size)\n",
        "# Output: -2 if we stop because problem is infeasible, 0 if we stop at a basic feasible tableau\n",
        "#.        -9 if we take too many pivots\n",
        "#    (Also, the tableau \"a\" and variable-lists are updated with each pivot)\n",
        "    nrows = a.shape[0]   \n",
        "    ncols = a.shape[1]\n",
        "    print(\"Starting SimplexNBF (will do nothing if already basic feasible)\")\n",
        "    nsteps = 0\n",
        "    targetrow = targetnbf(a)\n",
        "    while targetrow > -1 and nsteps < 50:  # Repeat until either basic feasible tableau produced or 50 pivots completed\n",
        "        [pivrow,pivcol] = selectnbf(a,targetrow)\n",
        "        if pivrow == -2 :\n",
        "            return -2    # If selectnbf reports -2, problem is infeasible, so exit this function\n",
        "        else :\n",
        "            pivot(a,pivrow,pivcol,indep_names,dep_names,dual_indep_names,dual_dep_names)\n",
        "            nsteps=nsteps+1\n",
        "            targetrow = targetnbf(a)\n",
        "    if nsteps >= 50:\n",
        "        return -9    # took too many pivots\n",
        "    else:\n",
        "        return 0"
      ],
      "execution_count": 12,
      "outputs": []
    },
    {
      "cell_type": "code",
      "metadata": {
        "id": "nx_dqkWyTRV6"
      },
      "source": [
        "def simplex(a,indep_names,dep_names,dual_indep_names,dual_dep_names) :\n",
        "# Runs the simplex algorithm (doing NBF if needed, then BF)\n",
        "# Inputs: np.array \"a\" \n",
        "#         lists of variable names indep_names and dep_names (pivot will catch if they're wrong size)\n",
        "# Output: -2 if problem is infeasible\n",
        "#         -1 if problem is unbounded\n",
        "#         0 if problem has a solution\n",
        "#    (Also, the tableau \"a\" and variable-lists are updated with each pivot)\n",
        "    nrows = a.shape[0]   \n",
        "    ncols = a.shape[1]\n",
        "    print(\"Initial tableau\")\n",
        "    print_tableau(a,indep_names,dep_names,dual_indep_names,dual_dep_names)\n",
        "    code = simplexnbf(a,indep_names,dep_names,dual_indep_names,dual_dep_names)\n",
        "    if code == -2 :\n",
        "        print(\"Problem is infeasible\")\n",
        "        return -2\n",
        "    elif code == -9 : \n",
        "        print(\"SimplexNBF took too many pivots\")\n",
        "    else :\n",
        "        code = simplexbf(a,indep_names,dep_names,dual_indep_names,dual_dep_names)\n",
        "        if code == -1 :\n",
        "            print(\"Problem is unbounded\")\n",
        "            return -1\n",
        "        elif code == -9 :\n",
        "            print(\"SimplexBF took too many pivots\")\n",
        "        else :\n",
        "            print(\"Problem has solution, final tableau is shown above\")\n",
        "            return 0"
      ],
      "execution_count": 13,
      "outputs": []
    },
    {
      "cell_type": "code",
      "metadata": {
        "id": "vMPWIRcgTTaf"
      },
      "source": [
        "def simplexeq(a,k,indep_names,dep_names,dual_indep_names,dual_dep_names) :\n",
        "# Specialized function to do the \"pre-simplex\" step to handle tableaus where the\n",
        "#   first k rows correspond to equality constraints.\n",
        "    nrows = a.shape[0]   \n",
        "    ncols = a.shape[1]\n",
        "    print_tableau(a,indep_names,dep_names,dual_indep_names,dual_dep_names)\n",
        "    for i in range(k) :\n",
        "        j=0\n",
        "        pivcol=-1\n",
        "        for j in range(ncols-1) :\n",
        "            if abs(a[i,j]) > 0.000001 :\n",
        "                pivrow=i+1\n",
        "                pivcol=j+1\n",
        "                break\n",
        "        if pivcol == -1 :\n",
        "            return -3\n",
        "        else :\n",
        "            pivot(a,pivrow,pivcol,indep_names,dep_names,dual_indep_names,dual_dep_names)\n",
        "            a=column_delete(a,pivcol,indep_names,dep_names,dual_indep_names,dual_dep_names)\n",
        "            ncols=ncols-1\n",
        "    code = simplex(a,indep_names,dep_names,dual_indep_names,dual_dep_names)\n",
        "    return code  "
      ],
      "execution_count": 14,
      "outputs": []
    },
    {
      "cell_type": "markdown",
      "metadata": {
        "id": "GohNFC2A92m7"
      },
      "source": [
        "## Problem 1.\n"
      ]
    },
    {
      "cell_type": "markdown",
      "metadata": {
        "id": "z6UZpHdF94k9"
      },
      "source": [
        "### a.\n",
        "This problem asks for a standard implementation of simplex with equality constraints.\n",
        "\n",
        "The first two constraints are as given and the only other constraints are non-negativity.\n",
        "\n",
        "We maximize the given expression resulting in the following tableau:"
      ]
    },
    {
      "cell_type": "code",
      "metadata": {
        "id": "R8RGIQ5o-wcC",
        "outputId": "e99f75ff-1b88-46ba-ca20-ac7567a79f28",
        "colab": {
          "base_uri": "https://localhost:8080/"
        }
      },
      "source": [
        "a=np.array([[1,1,1,1,1,1,22],\n",
        "            [1,-2,3,-4,5,-6,0],\n",
        "            [2,3,5,7,11,13,0]])\n",
        "indep_names=[\"x1\",\"x2\",\"x3\",\"x4\",\"x5\",\"x6\"]\n",
        "dep_names=[\"0\",\"0\"]\n",
        "indep_names_dual=[\"y1\",\"y2\"]\n",
        "dep_names_dual=[\"s1\",\"s2\",\"s3\",\"s4\",\"s5\",\"s6\"]\n",
        "print_tableau(a,indep_names,dep_names,indep_names_dual,dep_names_dual)\n",
        "simplexeq(a,2,indep_names,dep_names,indep_names_dual,dep_names_dual)"
      ],
      "execution_count": 19,
      "outputs": [
        {
          "output_type": "stream",
          "text": [
            "                  x1        x2        x3        x4        x5        x6        -1\n",
            "        y1     1.000     1.000     1.000     1.000     1.000     1.000    22.000      = -0\n",
            "        y2     1.000    -2.000     3.000    -4.000     5.000    -6.000     0.000      = -0\n",
            "        -1     2.000     3.000     5.000     7.000    11.000    13.000     0.000     = obj\n",
            "                 =s1       =s2       =s3       =s4       =s5       =s6  =dualobj\n",
            " \n",
            "                  x1        x2        x3        x4        x5        x6        -1\n",
            "        y1     1.000     1.000     1.000     1.000     1.000     1.000    22.000      = -0\n",
            "        y2     1.000    -2.000     3.000    -4.000     5.000    -6.000     0.000      = -0\n",
            "        -1     2.000     3.000     5.000     7.000    11.000    13.000     0.000     = obj\n",
            "                 =s1       =s2       =s3       =s4       =s5       =s6  =dualobj\n",
            " \n",
            "                   0        x2        x3        x4        x5        x6        -1\n",
            "        s1     1.000     1.000     1.000     1.000     1.000     1.000    22.000     = -x1\n",
            "        y2    -1.000    -3.000     2.000    -5.000     4.000    -7.000   -22.000      = -0\n",
            "        -1    -2.000     1.000     3.000     5.000     9.000    11.000   -44.000     = obj\n",
            "                 =y1       =s2       =s3       =s4       =s5       =s6  =dualobj\n",
            " \n",
            "                  x2        x3        x4        x5        x6        -1\n",
            "        s1     1.000     1.000     1.000     1.000     1.000    22.000     = -x1\n",
            "        y2    -3.000     2.000    -5.000     4.000    -7.000   -22.000      = -0\n",
            "        -1     1.000     3.000     5.000     9.000    11.000   -44.000     = obj\n",
            "                 =s2       =s3       =s4       =s5       =s6  =dualobj\n",
            " \n",
            "                   0        x3        x4        x5        x6        -1\n",
            "        s1     0.000     1.000     0.000     2.000    -1.000    14.000     = -x1\n",
            "        s2     0.000     0.000     1.000    -1.000     2.000     7.000     = -x2\n",
            "        -1     0.000     3.000     3.000    10.000     8.000   -51.000     = obj\n",
            "                 =y2       =s3       =s4       =s5       =s6  =dualobj\n",
            " \n",
            "                  x3        x4        x5        x6        -1\n",
            "        s1     1.000     0.000     2.000    -1.000    14.000     = -x1\n",
            "        s2     0.000     1.000    -1.000     2.000     7.000     = -x2\n",
            "        -1     3.000     3.000    10.000     8.000   -51.000     = obj\n",
            "                 =s3       =s4       =s5       =s6  =dualobj\n",
            " \n",
            "Initial tableau\n",
            "                  x3        x4        x5        x6        -1\n",
            "        s1     1.000     0.000     2.000    -1.000    14.000     = -x1\n",
            "        s2     0.000     1.000    -1.000     2.000     7.000     = -x2\n",
            "        -1     3.000     3.000    10.000     8.000   -51.000     = obj\n",
            "                 =s3       =s4       =s5       =s6  =dualobj\n",
            " \n",
            "Starting SimplexNBF (will do nothing if already basic feasible)\n",
            "Starting SimplexBF (will do nothing if solution can already be determined)\n",
            "                  x3        x4        x1        x6        -1\n",
            "        s5     0.000     0.000     0.000     0.000     7.000     = -x5\n",
            "        s2     0.000     1.000     0.000     1.000    14.000     = -x2\n",
            "        -1    -2.000     3.000    -5.000    13.000  -121.000     = obj\n",
            "                 =s3       =s4       =s1       =s6  =dualobj\n",
            " \n",
            "                  x3        x4        x1        x2        -1\n",
            "        s5     0.000     0.000     0.000     0.000     7.000     = -x5\n",
            "        s6     0.000     1.000     0.000     1.000    14.000     = -x6\n",
            "        -1    -2.000   -10.000    -5.000   -13.000  -303.000     = obj\n",
            "                 =s3       =s4       =s1       =s2  =dualobj\n",
            " \n",
            "Problem has solution, final tableau is shown above\n"
          ],
          "name": "stdout"
        },
        {
          "output_type": "execute_result",
          "data": {
            "text/plain": [
              "0"
            ]
          },
          "metadata": {
            "tags": []
          },
          "execution_count": 19
        }
      ]
    }
  ]
}