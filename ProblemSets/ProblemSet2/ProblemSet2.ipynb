{
  "nbformat": 4,
  "nbformat_minor": 0,
  "metadata": {
    "colab": {
      "name": "ProblemSet2.ipynb",
      "provenance": [],
      "collapsed_sections": [],
      "toc_visible": true,
      "authorship_tag": "ABX9TyMyE/xRawrtm9Oev+kMKgcG",
      "include_colab_link": true
    },
    "kernelspec": {
      "name": "python3",
      "display_name": "Python 3"
    }
  },
  "cells": [
    {
      "cell_type": "markdown",
      "metadata": {
        "id": "view-in-github",
        "colab_type": "text"
      },
      "source": [
        "<a href=\"https://colab.research.google.com/github/aarongraybill/Math210/blob/main/ProblemSets/ProblemSet2/ProblemSet2.ipynb\" target=\"_parent\"><img src=\"https://colab.research.google.com/assets/colab-badge.svg\" alt=\"Open In Colab\"/></a>"
      ]
    },
    {
      "cell_type": "markdown",
      "metadata": {
        "id": "hLpSiJM2WkeL"
      },
      "source": [
        "# Math 210\n",
        "## Aaron Graybill\n",
        "### Problem Set 2\n",
        "### 3/4/21"
      ]
    },
    {
      "cell_type": "markdown",
      "metadata": {
        "id": "3Gw4HtjIYwrC"
      },
      "source": [
        "## Problem 1."
      ]
    },
    {
      "cell_type": "markdown",
      "metadata": {
        "id": "79TmejRWY2d3"
      },
      "source": [
        "### a.\n",
        "The objective function remains the same: $g(x_1,x_2)=30x_1+12x_2$.\n",
        "\n",
        "We have the slack equations:\n",
        "\\begin{equation*}\n",
        "10x_1+5x_2-150=-t_1 \\tag{1}\n",
        "\\end{equation*}\n",
        "\\begin{equation*}\n",
        "4x_1+3x_2-80=-t_2 \\tag{2}\n",
        "\\end{equation*}\n",
        "\n",
        "With the same non-negativity constraints, $x_1,x_2\\geq0$ and well as $t_1,t_2\\geq0$.\n"
      ]
    },
    {
      "cell_type": "markdown",
      "metadata": {
        "id": "d_58DUvacLC_"
      },
      "source": [
        "### b.\n",
        "Solving $(1)$ for $x_1$ gives:\n",
        "$$\n",
        "x_1=-\\frac{1}{10}t_1-\\frac{1}{2}x_2+15 \\tag{3}\n",
        "$$\n",
        "Plugging this into $g$ gives:\n",
        "\\begin{align*}\n",
        "g(-\\frac{1}{10}t_1-\\frac{1}{2}x_2+15,x_2)&=30\\left(-\\frac{1}{10}t_1-\\frac{1}{2}x_2+15\\right)+12x_2\\\\\n",
        "&=-3t_1-3x_2+450\n",
        "\\end{align*}\n",
        "\n",
        "We could also rewrite the constraints as:\n",
        "\\begin{align}\n",
        "\\frac{1}{10}t_1+\\frac{1}{2}x_2-15&=-x_1\\\\\n",
        "4\\left(-\\frac{1}{10}t_1-\\frac{1}{2}x_2+15\\right)+3x_2-80&=-t_2\\implies\\\\\n",
        "-\\frac{2}{5}t_1+x_2-20&=-t_2\n",
        "\\end{align}"
      ]
    },
    {
      "cell_type": "markdown",
      "metadata": {
        "id": "u8aiWTxsiizY"
      },
      "source": [
        "### c.\n",
        "\n",
        "Look at the rewritten objective function. Note that by our new non-negativity constraints both $x_2$ and $t_1$ must be greater than or equal to zero. This allows to easily see that the theoretical maximum of this this function is $450$ (because it decreasing in $x_2,t_1$). We have then to show that we can actually attain 450. In order for this to happen both $x_2=t_1=0$. Plugging into our constraints gives:\n",
        "$$\n",
        "\\frac{1}{10}0+\\frac{1}{2}{0}-15=-x_1\\iff x_1=15\\\\\n",
        "-\\frac{2}{5}0+0-20=-t_2\\iff t_2=20\n",
        "$$\n",
        "\n",
        "Neither of those are outside the constraint set. Therefore our full answer must be: $x_1^*=15,x_2^*=0,t_1^*=0,t_2^*=15,g(x_1^*,x_2^*)=450$"
      ]
    },
    {
      "cell_type": "markdown",
      "metadata": {
        "id": "kuoIB_nIkeCy"
      },
      "source": [
        "### d.\n",
        "We can interpret the $t_i$s in the following way. In both cases the $t_i$ gives the amount of remaining slack in constraint $i$. But in context:\n",
        "\n",
        "\n",
        "> $t_1^*=0$: For the solution that maximizes sales, the bakery has $0$ units of flour remaining.\n",
        "\n",
        "> $t_2^*=20$: For the solution that maximizes sales, the baker has $20$ units of sugar remaining. \n",
        "\n"
      ]
    },
    {
      "cell_type": "markdown",
      "metadata": {
        "id": "v7r1BcHNlzu9"
      },
      "source": [
        "## Problem 2.\n",
        "The tableau as given is:\n",
        "\n",
        "| $d$ | $c$ | $-1$ | |\n",
        "| :-: | :-: | :-: | :-:|\n",
        "| 10| 5 | 150| $=-t_1$\n",
        "| <font color='red'>4</font>  | 3 | 80| $=-t_2$\n",
        "| 30 | 20 | 0| $=obj$\n",
        "\n",
        "The red cell is the pivot point.\n",
        "\n",
        "We should first empty the tableau and rename appropriately:\n",
        "\n",
        "| $t_2$ | $c$ | $-1$ | |\n",
        "| :-: | :-: | :-: | :-:|\n",
        "| | | | $=-t_1$\n",
        "|   |  | | $=-d$\n",
        "|  |  | | $=obj$\n",
        "\n",
        "Let's add $\\frac{1}{p}$ giving:\n",
        "\n",
        "| $t_2$ | $c$ | $-1$ | |\n",
        "| :-: | :-: | :-: | :-:|\n",
        "| | | | $=-t_1$\n",
        "| $\\frac{1}{4}$ |  | | $=-d$\n",
        "|  |  | | $=obj$\n",
        "\n",
        "Then let's add the $\\frac{q}{p}$ in the same row as $p$ giving:\n",
        "\n",
        "| $t_2$ | $c$ | $-1$ | |\n",
        "| :-: | :-: | :-: | :-:|\n",
        "| | | | $=-t_1$\n",
        "| $\\frac{1}{4}$ | $\\frac{3}{4}$ | 20| $=-d$\n",
        "|  |  | | $=obj$\n",
        "\n",
        "Now let's do the $-\\frac{q}{p}$ in the same column giving:\n",
        "\n",
        "| $t_2$ | $c$ | $-1$ | |\n",
        "| :-: | :-: | :-: | :-:|\n",
        "| $-\\frac{5}{2}$| | | $=-t_1$\n",
        "| $\\frac{1}{4}$ | $\\frac{3}{4}$ | 20| $=-d$\n",
        "|$-\\frac{15}{2}$ |  | | $=obj$\n",
        "\n",
        "Now applying the $\\frac{ps-qr}{p}$ to the other entries gives:\n",
        "\n",
        "| $t_2$ | $c$ | $-1$ | |\n",
        "| :-: | :-: | :-: | :-:|\n",
        "| $-\\frac{5}{2}$|$-\\frac{5}{2}$ | -50| $=-t_1$\n",
        "| $\\frac{1}{4}$ | $\\frac{3}{4}$ | 20| $=-d$\n",
        "|$-\\frac{15}{2}$ | $-\\frac{5}{2}$ | -60| $=obj$\n",
        "\n",
        "\n",
        "\n",
        "\n",
        "\n",
        "\n"
      ]
    },
    {
      "cell_type": "code",
      "metadata": {
        "id": "68yEnOQtUzFA",
        "outputId": "6539f8ba-a7a6-4772-daed-195cc1131428",
        "colab": {
          "base_uri": "https://localhost:8080/",
          "height": 523
        }
      },
      "source": [
        "%%html\n",
        "<iframe src=\"https://www.desmos.com/calculator/6ubr2jksrz?embed\" width=\"500px\" height=\"500px\" style=\"border: 1px solid #ccc\" frameborder=0></iframe>"
      ],
      "execution_count": 1,
      "outputs": [
        {
          "output_type": "display_data",
          "data": {
            "text/html": [
              "<iframe src=\"https://www.desmos.com/calculator/6ubr2jksrz?embed\" width=\"500px\" height=\"500px\" style=\"border: 1px solid #ccc\" frameborder=0></iframe>"
            ],
            "text/plain": [
              "<IPython.core.display.HTML object>"
            ]
          },
          "metadata": {
            "tags": []
          }
        }
      ]
    },
    {
      "cell_type": "markdown",
      "metadata": {
        "id": "QJK6GK2g2tLq"
      },
      "source": [
        "## Problem 3\n",
        "\n"
      ]
    },
    {
      "cell_type": "code",
      "metadata": {
        "id": "pO__6ynqXCRV",
        "outputId": "22b752eb-473e-4941-da23-e487a2d6b4c8",
        "colab": {
          "base_uri": "https://localhost:8080/"
        }
      },
      "source": [
        "# Import the os module\n",
        "import os\n",
        "# Get the current working directory\n",
        "cwd = os.getcwd()\n",
        "\n",
        "print(\"Current working directory: {0}\".format(cwd))\n",
        "\n",
        "os.listdir(\"sample_data\")"
      ],
      "execution_count": 6,
      "outputs": [
        {
          "output_type": "stream",
          "text": [
            "Current working directory: /content\n"
          ],
          "name": "stdout"
        },
        {
          "output_type": "execute_result",
          "data": {
            "text/plain": [
              "['README.md',\n",
              " 'anscombe.json',\n",
              " 'mnist_train_small.csv',\n",
              " 'mnist_test.csv',\n",
              " 'california_housing_train.csv',\n",
              " 'california_housing_test.csv']"
            ]
          },
          "metadata": {
            "tags": []
          },
          "execution_count": 6
        }
      ]
    },
    {
      "cell_type": "code",
      "metadata": {
        "id": "ZShA0POvYkJw"
      },
      "source": [
        ""
      ],
      "execution_count": null,
      "outputs": []
    }
  ]
}