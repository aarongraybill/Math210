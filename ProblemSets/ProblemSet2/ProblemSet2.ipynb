{
  "nbformat": 4,
  "nbformat_minor": 0,
  "metadata": {
    "colab": {
      "name": "ProblemSet2.ipynb",
      "provenance": [],
      "collapsed_sections": [],
      "authorship_tag": "ABX9TyNYzx0e+7AeWxZ3C+uGEF78",
      "include_colab_link": true
    },
    "kernelspec": {
      "name": "python3",
      "display_name": "Python 3"
    }
  },
  "cells": [
    {
      "cell_type": "markdown",
      "metadata": {
        "id": "view-in-github",
        "colab_type": "text"
      },
      "source": [
        "<a href=\"https://colab.research.google.com/github/aarongraybill/Math210/blob/main/ProblemSets/ProblemSet2/ProblemSet2.ipynb\" target=\"_parent\"><img src=\"https://colab.research.google.com/assets/colab-badge.svg\" alt=\"Open In Colab\"/></a>"
      ]
    },
    {
      "cell_type": "markdown",
      "metadata": {
        "id": "hLpSiJM2WkeL"
      },
      "source": [
        "# Math 210\n",
        "## Aaron Graybill\n",
        "### Problem Set 2\n",
        "### 3/4/21"
      ]
    },
    {
      "cell_type": "markdown",
      "metadata": {
        "id": "3Gw4HtjIYwrC"
      },
      "source": [
        "## Problem 1."
      ]
    },
    {
      "cell_type": "markdown",
      "metadata": {
        "id": "79TmejRWY2d3"
      },
      "source": [
        "### a.\n",
        "The objective function remains the same: $g(x_1,x_2)=30x_1+12x_2$.\n",
        "\n",
        "We have the slack equations:\n",
        "\\begin{equation*}\n",
        "10x_1+5x_2-150=-t_1 \\tag{1}\n",
        "\\end{equation*}\n",
        "\\begin{equation*}\n",
        "4x_1+3x_2-80=-t_2 \\tag{2}\n",
        "\\end{equation*}\n",
        "\n",
        "With the same non-negativity constraints, $x_1,x_2\\geq0$ and well as $t_1,t_2\\geq0$.\n"
      ]
    },
    {
      "cell_type": "markdown",
      "metadata": {
        "id": "d_58DUvacLC_"
      },
      "source": [
        "### b.\n",
        "Solving $(1)$ for $x_1$ gives:\n",
        "$$\n",
        "x_1=-\\frac{1}{10}t_1-\\frac{1}{2}x_2+15 \\tag{3}\n",
        "$$\n",
        "Plugging this into $g$ gives:\n",
        "\\begin{align*}\n",
        "g(-\\frac{1}{10}t_1-\\frac{1}{2}x_2+15,x_2)&=30\\left(-\\frac{1}{10}t_1-\\frac{1}{2}x_2+15\\right)+12x_2\\\\\n",
        "&=-3t_1-3x_2+450\n",
        "\\end{align*}\n",
        "\n",
        "We could also rewrite the constraints as:\n",
        "\\begin{align}\n",
        "\\frac{1}{10}t_1+\\frac{1}{2}x_2-15&=-x_1\\\\\n",
        "4\\left(-\\frac{1}{10}t_1-\\frac{1}{2}x_2+15\\right)+3x_2-80&=-t_2\\implies\\\\\n",
        "-\\frac{2}{5}t_1+x_2-20&=-t_2\n",
        "\\end{align}"
      ]
    },
    {
      "cell_type": "markdown",
      "metadata": {
        "id": "u8aiWTxsiizY"
      },
      "source": [
        "### c.\n",
        "\n",
        "Look at the rewritten objective function. Note that by our new non-negativity constraints both $x_2$ and $t_1$ must be greater than or equal to zero. This allows to easily see that the theoretical maximum of this this function is $450$ (because it decreasing in $x_2,t_1$). We have then to show that we can actually attain 450. In order for this to happen both $x_2=t_1=0$. Plugging into our constraints gives:\n",
        "$$\n",
        "\\frac{1}{10}0+\\frac{1}{2}{0}-15=-x_1\\iff x_1=15\\\\\n",
        "-\\frac{2}{5}0+0-20=-t_2\\iff t_2=20\n",
        "$$\n",
        "\n",
        "Neither of those are outside the constraint set. Therefore our full answer must be: $x_1^*=15,x_2^*=0,t_1^*=0,t_2^*=15,g(x_1^*,x_2^*)=450$"
      ]
    },
    {
      "cell_type": "markdown",
      "metadata": {
        "id": "kuoIB_nIkeCy"
      },
      "source": [
        "### d.\n",
        "We can interpret the $t_i$s in the following way. In both cases the $t_i$ gives the amount of remaining slack in constraint $i$. But in context:\n",
        "\n",
        "\n",
        "> $t_1^*=0$: For the solution that maximizes sales, the bakery has $0$ units of flour remaining.\n",
        "\n",
        "> $t_2^*=20$: For the solution that maximizes sales, the baker has $20$ units of sugar remaining. \n",
        "\n"
      ]
    },
    {
      "cell_type": "markdown",
      "metadata": {
        "id": "v7r1BcHNlzu9"
      },
      "source": [
        "## Problem 2.\n",
        "This is the start of problem 2.\n"
      ]
    }
  ]
}