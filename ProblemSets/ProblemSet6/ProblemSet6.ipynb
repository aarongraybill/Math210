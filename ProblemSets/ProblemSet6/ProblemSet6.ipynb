{
  "nbformat": 4,
  "nbformat_minor": 0,
  "metadata": {
    "colab": {
      "name": "Copy of ProblemSet2.ipynb",
      "provenance": [],
      "collapsed_sections": [],
      "toc_visible": true,
      "include_colab_link": true
    },
    "kernelspec": {
      "name": "python3",
      "display_name": "Python 3"
    }
  },
  "cells": [
    {
      "cell_type": "markdown",
      "metadata": {
        "id": "view-in-github",
        "colab_type": "text"
      },
      "source": [
        "<a href=\"https://colab.research.google.com/github/aarongraybill/Math210/blob/main/ProblemSets/ProblemSet6/ProblemSet6.ipynb\" target=\"_parent\"><img src=\"https://colab.research.google.com/assets/colab-badge.svg\" alt=\"Open In Colab\"/></a>"
      ]
    },
    {
      "cell_type": "markdown",
      "metadata": {
        "id": "hLpSiJM2WkeL"
      },
      "source": [
        "# Math 210\n",
        "## Aaron Graybill\n",
        "### Problem Set 6\n",
        "### 4/8/21\n",
        "\n"
      ]
    },
    {
      "cell_type": "code",
      "metadata": {
        "id": "tKHJr65KzubB"
      },
      "source": [
        "import numpy as np\n",
        "from scipy.optimize import linprog\n",
        "import pandas as pd"
      ],
      "execution_count": 4,
      "outputs": []
    },
    {
      "cell_type": "markdown",
      "metadata": {
        "id": "Ob9nA1DssA3c"
      },
      "source": [
        "## Problem 1.\n"
      ]
    },
    {
      "cell_type": "markdown",
      "metadata": {
        "id": "f7IFFdiesF4B"
      },
      "source": [
        "### a.\n",
        "I convert the problem to a single source problem:\n",
        "\n",
        "Edges: $\\mathcal{E}=\\left\\{(0,1),(0,2),(0,4),(1,2),(1,3),(2,3),(2,4),(2,5),(3,4),(3,5),(4,5),(4,6),(5,4),(5,6)\\right\\}$.\n",
        "\n",
        "Fix the flow on $(0,1),(0,2),(0,4)$ to $30,6,$ and $4$ respectively.\n",
        "\n",
        "Let the currently unspecified constraint set be $\\mathcal{C}$.\n",
        "\n",
        "Maximize the flow into vertex $6$, so $\\max_{x_{\\mathcal{E}}\\in\\mathcal{C}}\\left\\{x_{46}+x_{56}\\right\\}$\n",
        "\n",
        "We have the following constraint set:\n",
        "\\begin{align*}\n",
        "x_{12}+x_{13}&=x_{01}\\\\\n",
        "x_{23}+x_{24}+x_{25}&=x_{02}+x_{12}\\\\\n",
        "x_{34}+x_{35}&=x_{13}+x_{23}\\\\\n",
        "x_{45}+x_{46}&=x_{24}+x_{34}+x_{54}\\\\\n",
        "x_{54}+x_{56}&=x_{25}+x_{35}+x_{45}\\\\\n",
        "\\end{align*}"
      ]
    },
    {
      "cell_type": "code",
      "metadata": {
        "colab": {
          "base_uri": "https://localhost:8080/"
        },
        "id": "R5Vn4W-As03Q",
        "outputId": "2ae0e738-a902-49ec-83d9-80c95415798d"
      },
      "source": [
        "a_eq=np.array([\n",
        "            [1,0,-1,-1,-1,0,0,0,0,0,0],\n",
        "            [0,1,1,0,0,-1,-1,0,0,0,0],\n",
        "            [0,0,0,1,0,1,0,-1,-1,1,0],\n",
        "            [0,0,0,0,1,0,1,1,0,-1,-1]])\n",
        "print(a_eq)\n",
        "\n",
        "b_eq=np.zeros((4))\n",
        "print(b_eq)\n",
        "a_leq=np.identity(11)\n",
        "b_leq=[14,16,9,3,8,10,6,5,16,4,15]\n",
        "\n",
        "c=[0,0,0,0,0,0,0,0,-1,0,-1]\n",
        "\n",
        "linprog(c,A_ub=a_leq,b_ub=b_leq,A_eq=a_eq,b_eq=b_eq,method=\"simplex\")\n"
      ],
      "execution_count": 5,
      "outputs": [
        {
          "output_type": "stream",
          "text": [
            "[[ 1  0 -1 -1 -1  0  0  0  0  0  0]\n",
            " [ 0  1  1  0  0 -1 -1  0  0  0  0]\n",
            " [ 0  0  0  1  0  1  0 -1 -1  1  0]\n",
            " [ 0  0  0  0  1  0  1  1  0 -1 -1]]\n",
            "[0. 0. 0. 0.]\n"
          ],
          "name": "stdout"
        },
        {
          "output_type": "execute_result",
          "data": {
            "text/plain": [
              "     con: array([0., 0., 0., 0.])\n",
              "     fun: -27.0\n",
              " message: 'Optimization terminated successfully.'\n",
              "     nit: 15\n",
              "   slack: array([3., 0., 9., 0., 0., 0., 0., 4., 0., 0., 4.])\n",
              "  status: 0\n",
              " success: True\n",
              "       x: array([11., 16.,  0.,  3.,  8., 10.,  6.,  1., 16.,  4., 11.])"
            ]
          },
          "metadata": {
            "tags": []
          },
          "execution_count": 5
        }
      ]
    },
    {
      "cell_type": "markdown",
      "metadata": {
        "id": "8LtTgRDsBQDV"
      },
      "source": [
        "## Problem 3.\n"
      ]
    },
    {
      "cell_type": "code",
      "metadata": {
        "id": "kxReBN9bn4hh"
      },
      "source": [
        "#used to make label names:\n",
        "  #source: geeksforgeeks.org/python-insert-the-string-at-the-beginning-of-all-items-in-a-list/\n",
        "def prepend(list, str):   \n",
        "    \n",
        "  # Using '% s'\n",
        "  str += '% s'\n",
        "  list =  [str % i for i in list]\n",
        "  return(list)"
      ],
      "execution_count": null,
      "outputs": []
    },
    {
      "cell_type": "code",
      "metadata": {
        "id": "oVmBCN6mBSWi"
      },
      "source": [
        "def create_eq_matrix(nvert,edgemat):\n",
        "\n",
        "  A=np.zeros((nvert,(nvert**2)))  #too large will shrink later, \n",
        "                                  #but makes for easy indexing\n",
        "  c=np.zeros(nvert**2) # ditto\n",
        "\n",
        "  #loop over the edgemat, taking each path as an iterand\n",
        "  for count, value in enumerate(edgemat[:,0:2]):\n",
        "\n",
        "    col_num=(nvert)*(value[0])+(value[1]) # n columns from each vertex\n",
        "\n",
        "    if (value[0]==0): #coming from source\n",
        "      #Don't have to worry about constraint on sources\n",
        "      A[value[1],col_num]=1\n",
        "    elif (value[1]==(nvert-1)): #going to sink\n",
        "      #dont have to worry about constraint on sink\n",
        "      A[value[0],col_num]=-1\n",
        "      c[col_num]=-1#Hey this is an important column, but it in the objective\n",
        "    else: #intermediate\n",
        "      A[value[1],col_num]=1\n",
        "      A[value[0],col_num]=-1\n",
        "  \n",
        "  A=np.append(A,np.array([c]),axis=0) #add the row of cs\n",
        "\n",
        "  #Name appropriately\n",
        "  col_names=[] #create vector of names\n",
        "  for i in itertools.product(np.arange(nvert),repeat=2): #all combos of indexes\n",
        "    col_names += [str(i[0])+\",\"+str(i[1])]\n",
        "  row_names=prepend(np.arange(nvert),\"V\")\n",
        "  row_names+=\"c\" #add one final row name\n",
        "\n",
        "  A=pd.DataFrame(A,index=row_names,columns=col_names)# put things into pd data\n",
        "\n",
        "  # Remove unused rows and columns\n",
        "  A=A.loc[(A != 0).any(axis=1), (A != 0).any(axis=0)]\n",
        "\n",
        "  #separate A and c again\n",
        "  c=A.iloc[-1:,:]\n",
        "  A=A.iloc[:-1,:]\n",
        "\n",
        "  #create easy matrices and vectors\n",
        "  b_eq=np.zeros(A.shape[0])\n",
        "  A_leq=np.identity(edgemat.shape[0])\n",
        "  b_leq=edgemat[:,2]\n",
        "\n",
        "  #do optimization\n",
        "  optimal=linprog(c,A_eq=A,A_ub=A_leq,b_eq=b_eq,b_ub=b_leq,method=\"simplex\")\n",
        "  flows=np.array(np.array([optimal.x]))\n",
        "\n",
        "  #generateoutput\n",
        "  summary=pd.DataFrame(flows,index=[\"flow\"],columns=A.columns)\n",
        "  max=\"The maximum is: \" +str(-optimal.fun)\n",
        "\n",
        "  #print output and return\n",
        "  print(max)\n",
        "  return (summary,A)"
      ],
      "execution_count": 241,
      "outputs": []
    },
    {
      "cell_type": "markdown",
      "metadata": {
        "id": "my4JuTayGOse"
      },
      "source": [
        "### Problem 1 Confirmation"
      ]
    },
    {
      "cell_type": "code",
      "metadata": {
        "colab": {
          "base_uri": "https://localhost:8080/",
          "height": 95
        },
        "id": "8RMU5UhVGQaa",
        "outputId": "c46b26ef-40d4-4a0a-fad7-76b49a4893c8"
      },
      "source": [
        "create_eq_matrix(6,edgemat=np.array([\n",
        "                                  [0,1,14],\n",
        "                                  [0,2,16],\n",
        "                                  [1,2,9],\n",
        "                                  [1,3,3],\n",
        "                                  [1,4,8],\n",
        "                                  [2,3,10],\n",
        "                                  [2,4,6],\n",
        "                                  [3,4,5],\n",
        "                                  [3,5,16],\n",
        "                                  [4,3,4],\n",
        "                                  [4,5,15]]))[0]\n",
        "            "
      ],
      "execution_count": 240,
      "outputs": [
        {
          "output_type": "stream",
          "text": [
            "The maximum is: 27.0\n"
          ],
          "name": "stdout"
        },
        {
          "output_type": "execute_result",
          "data": {
            "text/html": [
              "<div>\n",
              "<style scoped>\n",
              "    .dataframe tbody tr th:only-of-type {\n",
              "        vertical-align: middle;\n",
              "    }\n",
              "\n",
              "    .dataframe tbody tr th {\n",
              "        vertical-align: top;\n",
              "    }\n",
              "\n",
              "    .dataframe thead th {\n",
              "        text-align: right;\n",
              "    }\n",
              "</style>\n",
              "<table border=\"1\" class=\"dataframe\">\n",
              "  <thead>\n",
              "    <tr style=\"text-align: right;\">\n",
              "      <th></th>\n",
              "      <th>0,1</th>\n",
              "      <th>0,2</th>\n",
              "      <th>1,2</th>\n",
              "      <th>1,3</th>\n",
              "      <th>1,4</th>\n",
              "      <th>2,3</th>\n",
              "      <th>2,4</th>\n",
              "      <th>3,4</th>\n",
              "      <th>3,5</th>\n",
              "      <th>4,3</th>\n",
              "      <th>4,5</th>\n",
              "    </tr>\n",
              "  </thead>\n",
              "  <tbody>\n",
              "    <tr>\n",
              "      <th>flow</th>\n",
              "      <td>11.0</td>\n",
              "      <td>16.0</td>\n",
              "      <td>0.0</td>\n",
              "      <td>3.0</td>\n",
              "      <td>8.0</td>\n",
              "      <td>10.0</td>\n",
              "      <td>6.0</td>\n",
              "      <td>1.0</td>\n",
              "      <td>16.0</td>\n",
              "      <td>4.0</td>\n",
              "      <td>11.0</td>\n",
              "    </tr>\n",
              "  </tbody>\n",
              "</table>\n",
              "</div>"
            ],
            "text/plain": [
              "       0,1   0,2  1,2  1,3  1,4   2,3  2,4  3,4   3,5  4,3   4,5\n",
              "flow  11.0  16.0  0.0  3.0  8.0  10.0  6.0  1.0  16.0  4.0  11.0"
            ]
          },
          "metadata": {
            "tags": []
          },
          "execution_count": 240
        }
      ]
    },
    {
      "cell_type": "markdown",
      "metadata": {
        "id": "lJoE_YHL8QFx"
      },
      "source": [
        "###  Problem 2 Confirmation."
      ]
    },
    {
      "cell_type": "code",
      "metadata": {
        "colab": {
          "base_uri": "https://localhost:8080/",
          "height": 95
        },
        "id": "AXmBN8k92ovE",
        "outputId": "3a80db92-0754-4e60-9c4e-8411d3d145b4"
      },
      "source": [
        "create_eq_matrix(10,\n",
        "                 np.array([\n",
        "                           [0,1,6],\n",
        "                           [0,5,6],\n",
        "                           [0,8,2],\n",
        "                           [1,2,3],\n",
        "                           [1,5,3],\n",
        "                           [2,3,2],\n",
        "                           [2,5,6],\n",
        "                           [2,7,3],\n",
        "                           [3,4,4],\n",
        "                           [4,7,4],\n",
        "                           [4,9,7],\n",
        "                           [5,6,3],\n",
        "                           [5,8,2],\n",
        "                           [6,7,2],\n",
        "                           [6,8,1],\n",
        "                           [7,9,3],\n",
        "                           [8,9,6]\n",
        "                           ]))[0]\n",
        "\n"
      ],
      "execution_count": 239,
      "outputs": [
        {
          "output_type": "stream",
          "text": [
            "The maximum is: 10.0\n"
          ],
          "name": "stdout"
        },
        {
          "output_type": "execute_result",
          "data": {
            "text/html": [
              "<div>\n",
              "<style scoped>\n",
              "    .dataframe tbody tr th:only-of-type {\n",
              "        vertical-align: middle;\n",
              "    }\n",
              "\n",
              "    .dataframe tbody tr th {\n",
              "        vertical-align: top;\n",
              "    }\n",
              "\n",
              "    .dataframe thead th {\n",
              "        text-align: right;\n",
              "    }\n",
              "</style>\n",
              "<table border=\"1\" class=\"dataframe\">\n",
              "  <thead>\n",
              "    <tr style=\"text-align: right;\">\n",
              "      <th></th>\n",
              "      <th>0,1</th>\n",
              "      <th>0,5</th>\n",
              "      <th>0,8</th>\n",
              "      <th>1,2</th>\n",
              "      <th>1,5</th>\n",
              "      <th>2,3</th>\n",
              "      <th>2,5</th>\n",
              "      <th>2,7</th>\n",
              "      <th>3,4</th>\n",
              "      <th>4,7</th>\n",
              "      <th>4,9</th>\n",
              "      <th>5,6</th>\n",
              "      <th>5,8</th>\n",
              "      <th>6,7</th>\n",
              "      <th>6,8</th>\n",
              "      <th>7,9</th>\n",
              "      <th>8,9</th>\n",
              "    </tr>\n",
              "  </thead>\n",
              "  <tbody>\n",
              "    <tr>\n",
              "      <th>flow</th>\n",
              "      <td>6.0</td>\n",
              "      <td>2.0</td>\n",
              "      <td>2.0</td>\n",
              "      <td>3.0</td>\n",
              "      <td>3.0</td>\n",
              "      <td>2.0</td>\n",
              "      <td>0.0</td>\n",
              "      <td>1.0</td>\n",
              "      <td>2.0</td>\n",
              "      <td>0.0</td>\n",
              "      <td>2.0</td>\n",
              "      <td>3.0</td>\n",
              "      <td>2.0</td>\n",
              "      <td>2.0</td>\n",
              "      <td>1.0</td>\n",
              "      <td>3.0</td>\n",
              "      <td>5.0</td>\n",
              "    </tr>\n",
              "  </tbody>\n",
              "</table>\n",
              "</div>"
            ],
            "text/plain": [
              "      0,1  0,5  0,8  1,2  1,5  2,3  2,5  ...  4,9  5,6  5,8  6,7  6,8  7,9  8,9\n",
              "flow  6.0  2.0  2.0  3.0  3.0  2.0  0.0  ...  2.0  3.0  2.0  2.0  1.0  3.0  5.0\n",
              "\n",
              "[1 rows x 17 columns]"
            ]
          },
          "metadata": {
            "tags": []
          },
          "execution_count": 239
        }
      ]
    },
    {
      "cell_type": "markdown",
      "metadata": {
        "id": "6wm2Ve-yHiq-"
      },
      "source": [
        "## Problem 4.\n"
      ]
    },
    {
      "cell_type": "markdown",
      "metadata": {
        "id": "GqXuh_sqHkcU"
      },
      "source": [
        "### a.\n"
      ]
    }
  ]
}