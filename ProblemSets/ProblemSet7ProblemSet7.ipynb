{
  "nbformat": 4,
  "nbformat_minor": 0,
  "metadata": {
    "colab": {
      "name": "ProblemSet7.ipynb",
      "provenance": [],
      "collapsed_sections": [],
      "toc_visible": true,
      "include_colab_link": true
    },
    "kernelspec": {
      "name": "python3",
      "display_name": "Python 3"
    }
  },
  "cells": [
    {
      "cell_type": "markdown",
      "metadata": {
        "id": "view-in-github",
        "colab_type": "text"
      },
      "source": [
        "<a href=\"https://colab.research.google.com/github/aarongraybill/Math210/blob/main/ProblemSets/ProblemSet7ProblemSet7.ipynb\" target=\"_parent\"><img src=\"https://colab.research.google.com/assets/colab-badge.svg\" alt=\"Open In Colab\"/></a>"
      ]
    },
    {
      "cell_type": "markdown",
      "metadata": {
        "id": "hLpSiJM2WkeL"
      },
      "source": [
        "# Math 210\n",
        "## Aaron Graybill\n",
        "### Problem Set 6\n",
        "### 4/8/21\n",
        "\n"
      ]
    },
    {
      "cell_type": "code",
      "metadata": {
        "id": "tKHJr65KzubB"
      },
      "source": [
        "import numpy as np\n",
        "from scipy.optimize import linprog\n",
        "import pandas as pd"
      ],
      "execution_count": 122,
      "outputs": []
    },
    {
      "cell_type": "markdown",
      "metadata": {
        "id": "Ob9nA1DssA3c"
      },
      "source": [
        "## Problem 1.\n"
      ]
    },
    {
      "cell_type": "markdown",
      "metadata": {
        "id": "f7IFFdiesF4B"
      },
      "source": [
        "### a.\n",
        "I convert the problem to a single source problem:\n",
        "\n",
        "Edges: $\\mathcal{E}=\\left\\{(0,1),(0,2),(0,4),(1,2),(1,3),(2,3),(2,4),(2,5),(3,4),(3,5),(4,5),(4,6),(5,4),(5,6)\\right\\}$.\n",
        "\n",
        "Fix the flow on $(0,1),(0,2),(0,4)$ to $30,6,$ and $4$ respectively.\n",
        "\n",
        "Let the currently unspecified constraint set be $\\mathcal{C}$.\n",
        "\n",
        "Maximize the flow into vertex $6$, so $\\max_{x_{\\mathcal{E}}\\in\\mathcal{C}}\\left\\{x_{46}+x_{56}\\right\\}$\n",
        "\n",
        "We have the following constraint set:\n",
        "\\begin{align*}\n",
        "x_{12}+x_{13}&=x_{01}\\\\\n",
        "x_{23}+x_{24}+x_{25}&=x_{02}+x_{12}\\\\\n",
        "x_{34}+x_{35}&=x_{13}+x_{23}\\\\\n",
        "x_{45}+x_{46}&=x_{24}+x_{34}+x_{54}\\\\\n",
        "x_{54}+x_{56}&=x_{25}+x_{35}+x_{45}\\\\\n",
        "\\end{align*}"
      ]
    },
    {
      "cell_type": "code",
      "metadata": {
        "colab": {
          "base_uri": "https://localhost:8080/"
        },
        "id": "R5Vn4W-As03Q",
        "outputId": "5874a33c-cd9a-47b7-8012-63728af77e04"
      },
      "source": [
        "a_eq=np.array([\n",
        "            [1,0,-1,-1,-1,0,0,0,0,0,0],\n",
        "            [0,1,1,0,0,-1,-1,0,0,0,0],\n",
        "            [0,0,0,1,0,1,0,-1,-1,1,0],\n",
        "            [0,0,0,0,1,0,1,1,0,-1,-1]])\n",
        "print(a_eq)\n",
        "\n",
        "b_eq=np.zeros((4))\n",
        "print(b_eq)\n",
        "a_leq=np.identity(11)\n",
        "b_leq=[14,16,9,3,8,10,6,5,16,4,15]\n",
        "\n",
        "c=[0,0,0,0,0,0,0,0,-1,0,-1]\n",
        "\n",
        "linprog(c,A_ub=a_leq,b_ub=b_leq,A_eq=a_eq,b_eq=b_eq,method=\"simplex\")\n"
      ],
      "execution_count": 123,
      "outputs": [
        {
          "output_type": "stream",
          "text": [
            "[[ 1  0 -1 -1 -1  0  0  0  0  0  0]\n",
            " [ 0  1  1  0  0 -1 -1  0  0  0  0]\n",
            " [ 0  0  0  1  0  1  0 -1 -1  1  0]\n",
            " [ 0  0  0  0  1  0  1  1  0 -1 -1]]\n",
            "[0. 0. 0. 0.]\n"
          ],
          "name": "stdout"
        },
        {
          "output_type": "execute_result",
          "data": {
            "text/plain": [
              "     con: array([0., 0., 0., 0.])\n",
              "     fun: -27.0\n",
              " message: 'Optimization terminated successfully.'\n",
              "     nit: 15\n",
              "   slack: array([3., 0., 9., 0., 0., 0., 0., 4., 0., 0., 4.])\n",
              "  status: 0\n",
              " success: True\n",
              "       x: array([11., 16.,  0.,  3.,  8., 10.,  6.,  1., 16.,  4., 11.])"
            ]
          },
          "metadata": {
            "tags": []
          },
          "execution_count": 123
        }
      ]
    },
    {
      "cell_type": "markdown",
      "metadata": {
        "id": "8LtTgRDsBQDV"
      },
      "source": [
        "## Problem 3.\n"
      ]
    },
    {
      "cell_type": "code",
      "metadata": {
        "id": "kxReBN9bn4hh"
      },
      "source": [
        "#used to make label names:\n",
        "  #source: geeksforgeeks.org/python-insert-the-string-at-the-beginning-of-all-items-in-a-list/\n",
        "def prepend(list, str):   \n",
        "    \n",
        "  # Using '% s'\n",
        "  str += '% s'\n",
        "  list =  [str % i for i in list]\n",
        "  return(list)"
      ],
      "execution_count": 124,
      "outputs": []
    },
    {
      "cell_type": "code",
      "metadata": {
        "id": "oVmBCN6mBSWi"
      },
      "source": [
        "import itertools\n",
        "\n",
        "def create_eq_matrix(nvert,edgemat):\n",
        "\n",
        "  A=np.zeros((nvert,(nvert**2)))  #too large will shrink later, \n",
        "                                  #but makes for easy indexing\n",
        "  c=np.zeros(nvert**2) # ditto\n",
        "\n",
        "  #loop over the edgemat, taking each path as an iterand\n",
        "  for count, value in enumerate(edgemat[:,0:2]):\n",
        "\n",
        "    col_num=(nvert)*(value[0])+(value[1]) # n columns from each vertex\n",
        "\n",
        "    if (value[0]==0): #coming from source\n",
        "      #Don't have to worry about constraint on sources\n",
        "      A[value[1],col_num]=1\n",
        "    elif (value[1]==(nvert-1)): #going to sink\n",
        "      #dont have to worry about constraint on sink\n",
        "      A[value[0],col_num]=-1\n",
        "      c[col_num]=-1#Hey this is an important column, but it in the objective\n",
        "    else: #intermediate\n",
        "      A[value[1],col_num]=1\n",
        "      A[value[0],col_num]=-1\n",
        "  \n",
        "  A=np.append(A,np.array([c]),axis=0) #add the row of cs\n",
        "\n",
        "  #Name appropriately\n",
        "  col_names=[] #create vector of names\n",
        "  for i in itertools.product(np.arange(nvert),repeat=2): #all combos of indexes\n",
        "    col_names += [str(i[0])+\",\"+str(i[1])]\n",
        "  row_names=prepend(np.arange(nvert),\"V\")\n",
        "  row_names+=\"c\" #add one final row name\n",
        "\n",
        "  A=pd.DataFrame(A,index=row_names,columns=col_names)# put things into pd data\n",
        "\n",
        "  # Remove unused rows and columns\n",
        "  A=A.loc[(A != 0).any(axis=1), (A != 0).any(axis=0)]\n",
        "\n",
        "  #separate A and c again\n",
        "  c=A.iloc[-1:,:]\n",
        "  A=A.iloc[:-1,:]\n",
        "\n",
        "  #create easy matrices and vectors\n",
        "  b_eq=np.zeros(A.shape[0])\n",
        "  A_leq=np.identity(edgemat.shape[0])\n",
        "  b_leq=edgemat[:,2]\n",
        "\n",
        "  #do optimization\n",
        "  optimal=linprog(c,A_eq=A,A_ub=A_leq,b_eq=b_eq,b_ub=b_leq,method=\"simplex\")\n",
        "  flows=np.array(np.array([optimal.x]))\n",
        "\n",
        "  #generateoutput\n",
        "  summary=pd.DataFrame(flows,index=[\"flow\"],columns=A.columns)\n",
        "  max=\"The maximum is: \" +str(-optimal.fun)\n",
        "\n",
        "  #print output and return\n",
        "  print(max)\n",
        "  return (summary,A)"
      ],
      "execution_count": 125,
      "outputs": []
    },
    {
      "cell_type": "markdown",
      "metadata": {
        "id": "my4JuTayGOse"
      },
      "source": [
        "### Problem 1 Confirmation"
      ]
    },
    {
      "cell_type": "code",
      "metadata": {
        "colab": {
          "base_uri": "https://localhost:8080/",
          "height": 95
        },
        "id": "8RMU5UhVGQaa",
        "outputId": "bf6dc436-fd14-4554-c690-4452515b93be"
      },
      "source": [
        "create_eq_matrix(6,edgemat=np.array([\n",
        "                                  [0,1,14],\n",
        "                                  [0,2,16],\n",
        "                                  [1,2,9],\n",
        "                                  [1,3,3],\n",
        "                                  [1,4,8],\n",
        "                                  [2,3,10],\n",
        "                                  [2,4,6],\n",
        "                                  [3,4,5],\n",
        "                                  [3,5,16],\n",
        "                                  [4,3,4],\n",
        "                                  [4,5,15]]))[0]\n",
        "            "
      ],
      "execution_count": 126,
      "outputs": [
        {
          "output_type": "stream",
          "text": [
            "The maximum is: 27.0\n"
          ],
          "name": "stdout"
        },
        {
          "output_type": "execute_result",
          "data": {
            "text/html": [
              "<div>\n",
              "<style scoped>\n",
              "    .dataframe tbody tr th:only-of-type {\n",
              "        vertical-align: middle;\n",
              "    }\n",
              "\n",
              "    .dataframe tbody tr th {\n",
              "        vertical-align: top;\n",
              "    }\n",
              "\n",
              "    .dataframe thead th {\n",
              "        text-align: right;\n",
              "    }\n",
              "</style>\n",
              "<table border=\"1\" class=\"dataframe\">\n",
              "  <thead>\n",
              "    <tr style=\"text-align: right;\">\n",
              "      <th></th>\n",
              "      <th>0,1</th>\n",
              "      <th>0,2</th>\n",
              "      <th>1,2</th>\n",
              "      <th>1,3</th>\n",
              "      <th>1,4</th>\n",
              "      <th>2,3</th>\n",
              "      <th>2,4</th>\n",
              "      <th>3,4</th>\n",
              "      <th>3,5</th>\n",
              "      <th>4,3</th>\n",
              "      <th>4,5</th>\n",
              "    </tr>\n",
              "  </thead>\n",
              "  <tbody>\n",
              "    <tr>\n",
              "      <th>flow</th>\n",
              "      <td>11.0</td>\n",
              "      <td>16.0</td>\n",
              "      <td>0.0</td>\n",
              "      <td>3.0</td>\n",
              "      <td>8.0</td>\n",
              "      <td>10.0</td>\n",
              "      <td>6.0</td>\n",
              "      <td>1.0</td>\n",
              "      <td>16.0</td>\n",
              "      <td>4.0</td>\n",
              "      <td>11.0</td>\n",
              "    </tr>\n",
              "  </tbody>\n",
              "</table>\n",
              "</div>"
            ],
            "text/plain": [
              "       0,1   0,2  1,2  1,3  1,4   2,3  2,4  3,4   3,5  4,3   4,5\n",
              "flow  11.0  16.0  0.0  3.0  8.0  10.0  6.0  1.0  16.0  4.0  11.0"
            ]
          },
          "metadata": {
            "tags": []
          },
          "execution_count": 126
        }
      ]
    },
    {
      "cell_type": "markdown",
      "metadata": {
        "id": "lJoE_YHL8QFx"
      },
      "source": [
        "###  Problem 2 Confirmation."
      ]
    },
    {
      "cell_type": "code",
      "metadata": {
        "colab": {
          "base_uri": "https://localhost:8080/",
          "height": 95
        },
        "id": "AXmBN8k92ovE",
        "outputId": "73fbc21d-cfcf-4a52-d480-28ad82df4308"
      },
      "source": [
        "create_eq_matrix(10,\n",
        "                 np.array([\n",
        "                           [0,1,6],\n",
        "                           [0,5,6],\n",
        "                           [0,8,2],\n",
        "                           [1,2,3],\n",
        "                           [1,5,3],\n",
        "                           [2,3,2],\n",
        "                           [2,5,6],\n",
        "                           [2,7,3],\n",
        "                           [3,4,4],\n",
        "                           [4,7,4],\n",
        "                           [4,9,7],\n",
        "                           [5,6,3],\n",
        "                           [5,8,2],\n",
        "                           [6,7,2],\n",
        "                           [6,8,1],\n",
        "                           [7,9,3],\n",
        "                           [8,9,6]\n",
        "                           ]))[0]\n",
        "\n"
      ],
      "execution_count": 127,
      "outputs": [
        {
          "output_type": "stream",
          "text": [
            "The maximum is: 10.0\n"
          ],
          "name": "stdout"
        },
        {
          "output_type": "execute_result",
          "data": {
            "text/html": [
              "<div>\n",
              "<style scoped>\n",
              "    .dataframe tbody tr th:only-of-type {\n",
              "        vertical-align: middle;\n",
              "    }\n",
              "\n",
              "    .dataframe tbody tr th {\n",
              "        vertical-align: top;\n",
              "    }\n",
              "\n",
              "    .dataframe thead th {\n",
              "        text-align: right;\n",
              "    }\n",
              "</style>\n",
              "<table border=\"1\" class=\"dataframe\">\n",
              "  <thead>\n",
              "    <tr style=\"text-align: right;\">\n",
              "      <th></th>\n",
              "      <th>0,1</th>\n",
              "      <th>0,5</th>\n",
              "      <th>0,8</th>\n",
              "      <th>1,2</th>\n",
              "      <th>1,5</th>\n",
              "      <th>2,3</th>\n",
              "      <th>2,5</th>\n",
              "      <th>2,7</th>\n",
              "      <th>3,4</th>\n",
              "      <th>4,7</th>\n",
              "      <th>4,9</th>\n",
              "      <th>5,6</th>\n",
              "      <th>5,8</th>\n",
              "      <th>6,7</th>\n",
              "      <th>6,8</th>\n",
              "      <th>7,9</th>\n",
              "      <th>8,9</th>\n",
              "    </tr>\n",
              "  </thead>\n",
              "  <tbody>\n",
              "    <tr>\n",
              "      <th>flow</th>\n",
              "      <td>6.0</td>\n",
              "      <td>2.0</td>\n",
              "      <td>2.0</td>\n",
              "      <td>3.0</td>\n",
              "      <td>3.0</td>\n",
              "      <td>2.0</td>\n",
              "      <td>0.0</td>\n",
              "      <td>1.0</td>\n",
              "      <td>2.0</td>\n",
              "      <td>0.0</td>\n",
              "      <td>2.0</td>\n",
              "      <td>3.0</td>\n",
              "      <td>2.0</td>\n",
              "      <td>2.0</td>\n",
              "      <td>1.0</td>\n",
              "      <td>3.0</td>\n",
              "      <td>5.0</td>\n",
              "    </tr>\n",
              "  </tbody>\n",
              "</table>\n",
              "</div>"
            ],
            "text/plain": [
              "      0,1  0,5  0,8  1,2  1,5  2,3  2,5  ...  4,9  5,6  5,8  6,7  6,8  7,9  8,9\n",
              "flow  6.0  2.0  2.0  3.0  3.0  2.0  0.0  ...  2.0  3.0  2.0  2.0  1.0  3.0  5.0\n",
              "\n",
              "[1 rows x 17 columns]"
            ]
          },
          "metadata": {
            "tags": []
          },
          "execution_count": 127
        }
      ]
    },
    {
      "cell_type": "markdown",
      "metadata": {
        "id": "6wm2Ve-yHiq-"
      },
      "source": [
        "## Problem 4.\n"
      ]
    },
    {
      "cell_type": "markdown",
      "metadata": {
        "id": "GqXuh_sqHkcU"
      },
      "source": [
        "### a.\n"
      ]
    },
    {
      "cell_type": "code",
      "metadata": {
        "colab": {
          "base_uri": "https://localhost:8080/"
        },
        "id": "zUL-Glm7-vwe",
        "outputId": "1ad90582-7aab-42df-aabf-41a07402e761"
      },
      "source": [
        "A_leq=np.identity(9)\n",
        "A_eq=np.array([\n",
        "              [1,0,-1,-1,0,0,0,0,0],\n",
        "              [0,0,1,0,-1,-1,1,0,0],\n",
        "              [0,1,0,1,0,0,-1,-1,0],\n",
        "              [0,0,0,0,1,0,0,1,-1]\n",
        "])\n",
        "\n",
        "b_eq=np.zeros(4)\n",
        "b_leq=[5,6,4,1,2,4,3,3,6]\n",
        "\n",
        "tab=np.concatenate((A_eq,A_leq),axis=0)\n",
        "b_full=np.transpose(np.array([np.append(b_eq,b_leq)]))\n",
        "\n",
        "c=np.array([[0,0,0,0,0,1,0,0,1,0]])\n",
        "\n",
        "tab=np.concatenate((tab,b_full),axis=1)\n",
        "tab=np.concatenate((tab,c),axis=0)\n",
        "\n",
        "print(tab)\n",
        "\n",
        "indep_names=[\"x01\",\"x03\",\"x12\",\"x13\",\"x24\",\"x25\",\"x32\",\"x34\",\"x45\"]\n",
        "dep_names=[\"0\",\"0\",\"0\",\"0\",\"c01\",\"c03\",\"c12\",\"c13\",\"c24\",\"c25\",\"c32\",\"c34\",\"c45\"]\n",
        "\n",
        "indep_names_dual=[\"mu1\",\"mu2\",\"mu3\",\"mu4\",\"y01\",\"y03\",\"y12\",\"y13\",\"y24\",\"y25\",\"y32\",\"y34\",\"y45\"]\n",
        "dep_names_dual=[\"s01\",\"s03\",\"s12\",\"s13\",\"s24\",\"s25\",\"s32\",\"s34\",\"s45\"]\n",
        "\n"
      ],
      "execution_count": 128,
      "outputs": [
        {
          "output_type": "stream",
          "text": [
            "[[ 1.  0. -1. -1.  0.  0.  0.  0.  0.  0.]\n",
            " [ 0.  0.  1.  0. -1. -1.  1.  0.  0.  0.]\n",
            " [ 0.  1.  0.  1.  0.  0. -1. -1.  0.  0.]\n",
            " [ 0.  0.  0.  0.  1.  0.  0.  1. -1.  0.]\n",
            " [ 1.  0.  0.  0.  0.  0.  0.  0.  0.  5.]\n",
            " [ 0.  1.  0.  0.  0.  0.  0.  0.  0.  6.]\n",
            " [ 0.  0.  1.  0.  0.  0.  0.  0.  0.  4.]\n",
            " [ 0.  0.  0.  1.  0.  0.  0.  0.  0.  1.]\n",
            " [ 0.  0.  0.  0.  1.  0.  0.  0.  0.  2.]\n",
            " [ 0.  0.  0.  0.  0.  1.  0.  0.  0.  4.]\n",
            " [ 0.  0.  0.  0.  0.  0.  1.  0.  0.  3.]\n",
            " [ 0.  0.  0.  0.  0.  0.  0.  1.  0.  3.]\n",
            " [ 0.  0.  0.  0.  0.  0.  0.  0.  1.  6.]\n",
            " [ 0.  0.  0.  0.  0.  1.  0.  0.  1.  0.]]\n"
          ],
          "name": "stdout"
        }
      ]
    },
    {
      "cell_type": "code",
      "metadata": {
        "id": "IFd0z3Y8Ho3U"
      },
      "source": [
        "def print_tableau(a,indep_names,dep_names,indep_names_dual,dep_names_dual):\n",
        "#\n",
        "# Given matrix \"a\" and lists of variables names \"indep_names\" and \"dep_names\",\n",
        "#   and (for the dual) \"indep_names_dual\" and \"dep_names_dual\",\n",
        "# this function prints the matrix and labels in standard tableau format\n",
        "# (including adding the -1, the minus signs in the last column, and labeling the lower-right as obj)\n",
        "#\n",
        "# First, check the inputs: indep_names and dep_names_dual should be one shorter than the number of columns of A\n",
        "#                          dep_names and indep_names_dual should be one shorter than the number of rows of A\n",
        "#\n",
        "    nrows = a.shape[0]    # use the shape function to determine number of rows and cols in A\n",
        "    ncols = a.shape[1]\n",
        "    nindep = len(indep_names)\n",
        "    nindep_dual = len(indep_names_dual)\n",
        "    ndep = len(dep_names)\n",
        "    ndep_dual = len(dep_names_dual)\n",
        "    if nindep != ncols-1:\n",
        "        print(\"WARNING: # of indep vbles should be one fewer than # columns of matrix\")\n",
        "    if ndep != nrows-1:\n",
        "        print(\"WARNING: # of dep vbles should be one fewer than # rows of matrix\")\n",
        "    if nindep_dual != nrows-1:\n",
        "        print(\"WARNING: # of indep dual vbles should be one fewer than # rows of matrix\")\n",
        "    if ndep_dual != ncols-1:\n",
        "        print(\"WARNING: # of dep dual vbles should be one fewer than # columns of matrix\")\n",
        "# Now do the printing (uses a variety of formatting techniques in Python)     \n",
        "    print(\"          \",end=\"\")       # On first line, leave blank space so we can fit in dual labels lower down \n",
        "    for j in range(ncols-1):                    # Print the independent variables in the first row\n",
        "        print(indep_names[j].rjust(10),end=\"\")  # rjust(10) makes fields 10 wide and right-justifies;\n",
        "                                                #    the end command prevents newline)\n",
        "    print(\"        -1\")                         # Tack on the -1 at the end of the first row\n",
        "    for i in range(nrows-1):\n",
        "        print(indep_names_dual[i].rjust(10),end=\"\")\n",
        "        for j in range(ncols):                  # Print all but the last row of the matrix\n",
        "                print(\"%10.3f\" % a[i][j],end=\"\") # The syntax prints in a field 10 wide, showing 3 decimal points\n",
        "        lab = \"= -\" + dep_names[i]\n",
        "        print(lab.rjust(10))\n",
        "    print(\"        -1\",end=\"\")\n",
        "    for j in range(ncols):\n",
        "        print(\"%10.3f\" % a[nrows-1][j],end=\"\")  # Print the last row of the matrix, with label \"obj\" at end\n",
        "    lab = \"= obj\"\n",
        "    print(lab.rjust(10))\n",
        "    print(\"          \",end=\"\")\n",
        "    for j in range(ncols-1):\n",
        "        lab = \"=\" + dep_names_dual[j]\n",
        "        print(lab.rjust(10),end=\"\")\n",
        "    print(\"  =dualobj\")\n",
        "    print(\" \")    # Put blank line at bottom"
      ],
      "execution_count": 129,
      "outputs": []
    },
    {
      "cell_type": "code",
      "metadata": {
        "id": "fMPPC_r_HrwL"
      },
      "source": [
        "def pivot(a,pivrow,pivcol,indep_names,dep_names,indep_names_dual,dep_names_dual) :\n",
        "# \n",
        "# Given matrix \"a\", a row number \"pivrow\" and column number \"pivcol\", \n",
        "#  and lists of variable names \"indep_names\" and \"dep_names\", this\n",
        "#  function does three things:\n",
        "#    (1) outputs the new version of the matrix after a pivot,\n",
        "#    (2) updates the lists of variable names post-pivot\n",
        "#    (3) prints the new matrix, including labels showing the variable names\n",
        "#\n",
        "# First, check the inputs: indep_names should be one shorter than the number of columns of A\n",
        "#                          dep_names should be one shorter than the number of rows of A\n",
        "#                          you should not be pivoting on the last row or last column\n",
        "#\n",
        "    nrows = a.shape[0]    # use the shape function to determine number of rows and cols in A\n",
        "    ncols = a.shape[1]\n",
        "    nindep = len(indep_names)\n",
        "    nindep_dual = len(indep_names_dual)\n",
        "    ndep = len(dep_names)\n",
        "    ndep_dual = len(dep_names_dual)\n",
        "    if nindep != ncols-1:\n",
        "        print(\"WARNING: # of indep vbles should be one fewer than # columns of matrix\")\n",
        "    if ndep != nrows-1:\n",
        "        print(\"WARNING: # of dep vbles should be one fewer than # rows of matrix\")\n",
        "    if nindep_dual != nrows-1:\n",
        "        print(\"WARNING: # of indep dual vbles should be one fewer than # rows of matrix\")\n",
        "    if ndep_dual != ncols-1:\n",
        "        print(\"WARNING: # of dep dual vbles should be one fewer than # columns of matrix\")\n",
        "    if pivrow > nrows-1 or pivcol > ncols-1:\n",
        "        print(\"WARNING: should not pivot on last row or column\")\n",
        "    newa = a.copy()       # make a copy of A, to be filled in below with result of pivot\n",
        "    p = a[pivrow-1][pivcol-1]   # identify pivot element\n",
        "    newa[pivrow-1][pivcol-1] = 1/p   # set new value of pivot element\n",
        "    # Set entries in p's row\n",
        "    for j in range(ncols):\n",
        "        if j != pivcol-1:\n",
        "            newa[pivrow-1][j]=a[pivrow-1][j]/p;\n",
        "    # Set entries in p's column\n",
        "    for i in range(nrows):\n",
        "        if i != pivrow-1:\n",
        "            newa[i][pivcol-1]=-a[i][pivcol-1]/p;\n",
        "    # Set all other entries\n",
        "    for i in range(nrows):\n",
        "        for j in range(ncols):\n",
        "            if i != pivrow-1 and j != pivcol-1:\n",
        "                r = a[i][pivcol-1]\n",
        "                q = a[pivrow-1][j]\n",
        "                s = a[i][j]\n",
        "                newa[i][j]=(p*s-q*r)/p\n",
        "    # Now transfer the new tableau into a\n",
        "    for i in range(nrows) :\n",
        "        for j in range(ncols) :\n",
        "            a[i][j] = newa[i][j]\n",
        "    # Now swap the variable names\n",
        "    temp = indep_names[pivcol-1]\n",
        "    indep_names[pivcol-1]=dep_names[pivrow-1]\n",
        "    dep_names[pivrow-1]=temp\n",
        "    temp = indep_names_dual[pivrow-1]\n",
        "    indep_names_dual[pivrow-1]=dep_names_dual[pivcol-1]\n",
        "    dep_names_dual[pivcol-1]=temp\n",
        "    print_tableau(newa,indep_names,dep_names,indep_names_dual,dep_names_dual) # Print the matrix with updated labels\n",
        "    return 0;"
      ],
      "execution_count": 130,
      "outputs": []
    },
    {
      "cell_type": "code",
      "metadata": {
        "id": "CPi9B9zxHuQD"
      },
      "source": [
        "def column_delete(a,col_to_remove,indep_names,dep_names,indep_names_dual,dep_names_dual) :\n",
        "    import numpy as np\n",
        "    anew = np.delete(a,col_to_remove-1,axis=1)\n",
        "    del indep_names[col_to_remove-1]\n",
        "    del dep_names_dual[col_to_remove-1]\n",
        "    print_tableau(anew,indep_names,dep_names,indep_names_dual,dep_names_dual)\n",
        "    return anew"
      ],
      "execution_count": 131,
      "outputs": []
    },
    {
      "cell_type": "code",
      "metadata": {
        "id": "xzXswSu2Hvwc"
      },
      "source": [
        "def row_delete(a,row_to_remove,indep_names,dep_names,indep_names_dual,dep_names_dual) :\n",
        "    import numpy as np\n",
        "    anew = np.delete(a,row_to_remove-1,axis=0)\n",
        "    del dep_names[row_to_remove-1]\n",
        "    del indep_names_dual[row_to_remove-1]\n",
        "    print_tableau(anew,indep_names,dep_names,indep_names_dual,dep_names_dual)\n",
        "    return anew"
      ],
      "execution_count": 132,
      "outputs": []
    },
    {
      "cell_type": "code",
      "metadata": {
        "id": "1EnCCjPPHx7S"
      },
      "source": [
        "def target(a) :\n",
        "    nrows = a.shape[0]    # use the shape function to determine number of rows and cols in \"a\"\n",
        "    ncols = a.shape[1]\n",
        "    import numpy as np\n",
        "    v = np.empty(ncols-1)\n",
        "    for i in range(ncols-1):\n",
        "        v[i]=a[nrows-1,i]\n",
        "    biggest_c = np.max(v)\n",
        "    where_is_biggest_c = np.argmax(v)+1\n",
        "    if biggest_c > 0 :\n",
        "        return where_is_biggest_c\n",
        "    else :\n",
        "        return -1"
      ],
      "execution_count": 133,
      "outputs": []
    },
    {
      "cell_type": "code",
      "metadata": {
        "id": "3CLntTg7HznK"
      },
      "source": [
        "def select(a,pivcolnum) :\n",
        "    nrows = a.shape[0]    # use the shape function to determine number of rows and cols in A\n",
        "    ncols = a.shape[1]\n",
        "# First task: work down the column and record the b/a ratios in a vector v\n",
        "#     except record -1 if a is negative or zero\n",
        "    import numpy as np\n",
        "    v = np.zeros(nrows-1)\n",
        "    for i in range(nrows-1):\n",
        "        if a[i,pivcolnum-1]>0 :\n",
        "            v[i] = a[i,ncols-1]/a[i,pivcolnum-1]\n",
        "        else :\n",
        "            v[i] = -1\n",
        "# Second task: if max b/a > -1, find min b/a by hand (ignoring zero entries in v)\n",
        "    if np.max(v) > -1 :  \n",
        "        min_so_far = np.max(v)+1  # Initialize min to be for-sure bigger than the min\n",
        "        for i in range(nrows-1):\n",
        "            if v[i] > -1 and v[i] < min_so_far :\n",
        "                min_so_far = v[i]\n",
        "                where_is_min = i+1   # Add 1 to use human numbering\n",
        "        return where_is_min      # Once we've scanned v for min, we can return result\n",
        "            \n",
        "    else :          # Otherwise, we find the m\n",
        "        return -1"
      ],
      "execution_count": 134,
      "outputs": []
    },
    {
      "cell_type": "code",
      "metadata": {
        "id": "hrMq9fCHH1Wn"
      },
      "source": [
        "def simplexbf(a,indep_names,dep_names,dual_indep_names,dual_dep_names):\n",
        "# Run the simplexbf algorithm\n",
        "# Inputs: np.array \"a\" (assumed to be basic feasible)\n",
        "#         lists of variable names indep_names and dep_names (pivot will catch if they're wrong size)\n",
        "# Output: -1 if we stop because problem is unbounded, 0 if we continue to a solution\n",
        "#         -9 if we take too many steps\n",
        "    nrows = a.shape[0]    # use shape to find # of rows and cols in A\n",
        "    ncols = a.shape[1]\n",
        "    print(\"Starting SimplexBF (will do nothing if solution can already be determined)\")\n",
        "    pivcol = target(a)\n",
        "    nsteps = 0\n",
        "    while pivcol > -1 and nsteps < 50:  # Repeat until either solution found or 50 pivots completed\n",
        "        pivrow = select(a,pivcol)\n",
        "        if pivrow == -1 :\n",
        "            return -1    # If select reports -1, problem is unbounded, so exit this function\n",
        "        else :\n",
        "            pivot(a,pivrow,pivcol,indep_names,dep_names,dual_indep_names,dual_dep_names)\n",
        "            nsteps=nsteps+1\n",
        "            pivcol = target(a)\n",
        "    if nsteps >= 50:\n",
        "        return -9    # we took too many pivots\n",
        "    else:\n",
        "        return 0"
      ],
      "execution_count": 135,
      "outputs": []
    },
    {
      "cell_type": "code",
      "metadata": {
        "id": "uUeNv8wCH25j"
      },
      "source": [
        "def targetnbf(a):\n",
        "    nrows = a.shape[0]\n",
        "    ncols = a.shape[1]\n",
        "    import numpy as np\n",
        "    checkrow = nrows-2\n",
        "    while a[checkrow,ncols-1] >= -0.00000001 :\n",
        "        if checkrow == 0 :   # if still in the \"while\" and at the top,\n",
        "            return -1        # all the b's were >= 0, so return -1\n",
        "        else :\n",
        "            checkrow = checkrow-1\n",
        "    return checkrow+1    # if we exit the \"while\", we found a negative\n",
        "#                            b, so return current row # (in human numbering)"
      ],
      "execution_count": 136,
      "outputs": []
    },
    {
      "cell_type": "code",
      "metadata": {
        "id": "fvPhtvMmH4of"
      },
      "source": [
        "def selectnbf(a,targetrow) :\n",
        "#  Given inputs \"a\" (tableau as an np.array, numbers only, no labels) \n",
        "#       and \"targetrow\" (a row that has a negative b; start-at-1 numbering assumed),\n",
        "#  computes a pivot that could be chosen by SimplexNBF and \n",
        "#  outputs \"pivrow\" and \"pivcol\", the row and column (start-at-1 numbering) of that pivot\n",
        "#  If the targeted row has no negative aij, returns -2 for both pivrow and pivcol\n",
        "    nrows = a.shape[0]\n",
        "    ncols = a.shape[1]\n",
        "    import numpy as np\n",
        "    targetrow = targetrow-1   # convert to start-at-0\n",
        "    pivcol = ncols-2     # column index of last aij\n",
        "    while a[targetrow,pivcol] >= 0 :\n",
        "        if pivcol == 0 :   # if pivcol makes it to zero, all aij\n",
        "            return [-2,-2]   # in this row were >= 0, so problem infeasible\n",
        "        else :\n",
        "            pivcol = pivcol-1\n",
        "    minsofar = a[targetrow,ncols-1]/a[targetrow,pivcol] # we found a negative aij\n",
        "    pivrow = targetrow     \n",
        "    for i in range(targetrow+1,nrows-2):   # now check below it for a smaller bi/aij with aij>0\n",
        "        if a[i,pivcol]>0 and a[i,ncols-1]/a[i,pivcol] < minsofar :\n",
        "            minsofar = a[i,ncols-1]/a[i,pivcol]\n",
        "            pivrow = i\n",
        "    return [pivrow+1,pivcol+1]   # Return result (shifted to start-at-1 numbering)"
      ],
      "execution_count": 137,
      "outputs": []
    },
    {
      "cell_type": "code",
      "metadata": {
        "id": "MmS83yCUH602"
      },
      "source": [
        "def simplexnbf(a,indep_names,dep_names,dual_indep_names,dual_dep_names):\n",
        "# Run the simplexnbf algorithm\n",
        "# Inputs: np.array \"a\" \n",
        "#         lists of variable names indep_names and dep_names (pivot will catch if they're wrong size)\n",
        "# Output: -2 if we stop because problem is infeasible, 0 if we stop at a basic feasible tableau\n",
        "#.        -9 if we take too many pivots\n",
        "#    (Also, the tableau \"a\" and variable-lists are updated with each pivot)\n",
        "    nrows = a.shape[0]   \n",
        "    ncols = a.shape[1]\n",
        "    print(\"Starting SimplexNBF (will do nothing if already basic feasible)\")\n",
        "    nsteps = 0\n",
        "    targetrow = targetnbf(a)\n",
        "    while targetrow > -1 and nsteps < 50:  # Repeat until either basic feasible tableau produced or 50 pivots completed\n",
        "        [pivrow,pivcol] = selectnbf(a,targetrow)\n",
        "        if pivrow == -2 :\n",
        "            return -2    # If selectnbf reports -2, problem is infeasible, so exit this function\n",
        "        else :\n",
        "            pivot(a,pivrow,pivcol,indep_names,dep_names,dual_indep_names,dual_dep_names)\n",
        "            nsteps=nsteps+1\n",
        "            targetrow = targetnbf(a)\n",
        "    if nsteps >= 50:\n",
        "        return -9    # took too many pivots\n",
        "    else:\n",
        "        return 0"
      ],
      "execution_count": 138,
      "outputs": []
    },
    {
      "cell_type": "code",
      "metadata": {
        "id": "mpbgTG6eH9TN"
      },
      "source": [
        "def simplex(a,indep_names,dep_names,dual_indep_names,dual_dep_names) :\n",
        "# Runs the simplex algorithm (doing NBF if needed, then BF)\n",
        "# Inputs: np.array \"a\" \n",
        "#         lists of variable names indep_names and dep_names (pivot will catch if they're wrong size)\n",
        "# Output: -2 if problem is infeasible\n",
        "#         -1 if problem is unbounded\n",
        "#         0 if problem has a solution\n",
        "#    (Also, the tableau \"a\" and variable-lists are updated with each pivot)\n",
        "    nrows = a.shape[0]   \n",
        "    ncols = a.shape[1]\n",
        "    print(\"Initial tableau\")\n",
        "    print_tableau(a,indep_names,dep_names,dual_indep_names,dual_dep_names)\n",
        "    code = simplexnbf(a,indep_names,dep_names,dual_indep_names,dual_dep_names)\n",
        "    if code == -2 :\n",
        "        print(\"Problem is infeasible\")\n",
        "        return -2\n",
        "    elif code == -9 : \n",
        "        print(\"SimplexNBF took too many pivots\")\n",
        "    else :\n",
        "        code = simplexbf(a,indep_names,dep_names,dual_indep_names,dual_dep_names)\n",
        "        if code == -1 :\n",
        "            print(\"Problem is unbounded\")\n",
        "            return -1\n",
        "        elif code == -9 :\n",
        "            print(\"SimplexBF took too many pivots\")\n",
        "        else :\n",
        "            print(\"Problem has solution, final tableau is shown above\")\n",
        "            return 0"
      ],
      "execution_count": 139,
      "outputs": []
    },
    {
      "cell_type": "code",
      "metadata": {
        "id": "80vg1GaeH_8e"
      },
      "source": [
        "def simplexeq(a,k,indep_names,dep_names,dual_indep_names,dual_dep_names) :\n",
        "# Specialized function to do the \"pre-simplex\" step to handle tableaus where the\n",
        "#   first k rows correspond to equality constraints.\n",
        "    nrows = a.shape[0]   \n",
        "    ncols = a.shape[1]\n",
        "    print_tableau(a,indep_names,dep_names,dual_indep_names,dual_dep_names)\n",
        "    for i in range(k) :\n",
        "        j=0\n",
        "        pivcol=-1\n",
        "        for j in range(ncols-1) :\n",
        "            if abs(a[i,j]) > 0.000001 :\n",
        "                pivrow=i+1\n",
        "                pivcol=j+1\n",
        "                break\n",
        "        if pivcol == -1 :\n",
        "            return -3\n",
        "        else :\n",
        "            pivot(a,pivrow,pivcol,indep_names,dep_names,dual_indep_names,dual_dep_names)\n",
        "            a=column_delete(a,pivcol,indep_names,dep_names,dual_indep_names,dual_dep_names)\n",
        "            ncols=ncols-1\n",
        "    code = simplex(a,indep_names,dep_names,dual_indep_names,dual_dep_names)\n",
        "    return code  "
      ],
      "execution_count": 140,
      "outputs": []
    },
    {
      "cell_type": "code",
      "metadata": {
        "colab": {
          "base_uri": "https://localhost:8080/"
        },
        "id": "Q2y1YErKIGPy",
        "outputId": "15d82d9d-d46d-4cde-a3bf-37e34af9c666"
      },
      "source": [
        "tab,4,indep_names,dep_names,indep_names_dual,dep_names_dual"
      ],
      "execution_count": 141,
      "outputs": [
        {
          "output_type": "execute_result",
          "data": {
            "text/plain": [
              "(array([[ 1.,  0., -1., -1.,  0.,  0.,  0.,  0.,  0.,  0.],\n",
              "        [ 0.,  0.,  1.,  0., -1., -1.,  1.,  0.,  0.,  0.],\n",
              "        [ 0.,  1.,  0.,  1.,  0.,  0., -1., -1.,  0.,  0.],\n",
              "        [ 0.,  0.,  0.,  0.,  1.,  0.,  0.,  1., -1.,  0.],\n",
              "        [ 1.,  0.,  0.,  0.,  0.,  0.,  0.,  0.,  0.,  5.],\n",
              "        [ 0.,  1.,  0.,  0.,  0.,  0.,  0.,  0.,  0.,  6.],\n",
              "        [ 0.,  0.,  1.,  0.,  0.,  0.,  0.,  0.,  0.,  4.],\n",
              "        [ 0.,  0.,  0.,  1.,  0.,  0.,  0.,  0.,  0.,  1.],\n",
              "        [ 0.,  0.,  0.,  0.,  1.,  0.,  0.,  0.,  0.,  2.],\n",
              "        [ 0.,  0.,  0.,  0.,  0.,  1.,  0.,  0.,  0.,  4.],\n",
              "        [ 0.,  0.,  0.,  0.,  0.,  0.,  1.,  0.,  0.,  3.],\n",
              "        [ 0.,  0.,  0.,  0.,  0.,  0.,  0.,  1.,  0.,  3.],\n",
              "        [ 0.,  0.,  0.,  0.,  0.,  0.,  0.,  0.,  1.,  6.],\n",
              "        [ 0.,  0.,  0.,  0.,  0.,  1.,  0.,  0.,  1.,  0.]]),\n",
              " 4,\n",
              " ['x01', 'x03', 'x12', 'x13', 'x24', 'x25', 'x32', 'x34', 'x45'],\n",
              " ['0',\n",
              "  '0',\n",
              "  '0',\n",
              "  '0',\n",
              "  'c01',\n",
              "  'c03',\n",
              "  'c12',\n",
              "  'c13',\n",
              "  'c24',\n",
              "  'c25',\n",
              "  'c32',\n",
              "  'c34',\n",
              "  'c45'],\n",
              " ['mu1',\n",
              "  'mu2',\n",
              "  'mu3',\n",
              "  'mu4',\n",
              "  'y01',\n",
              "  'y03',\n",
              "  'y12',\n",
              "  'y13',\n",
              "  'y24',\n",
              "  'y25',\n",
              "  'y32',\n",
              "  'y34',\n",
              "  'y45'],\n",
              " ['s01', 's03', 's12', 's13', 's24', 's25', 's32', 's34', 's45'])"
            ]
          },
          "metadata": {
            "tags": []
          },
          "execution_count": 141
        }
      ]
    },
    {
      "cell_type": "code",
      "metadata": {
        "colab": {
          "base_uri": "https://localhost:8080/"
        },
        "id": "jk2-SoZ6G2nv",
        "outputId": "69c6566d-7c1f-48eb-a3e8-35571e8d255d"
      },
      "source": [
        "simplexeq(tab,4,indep_names,dep_names,indep_names_dual,dep_names_dual)"
      ],
      "execution_count": 142,
      "outputs": [
        {
          "output_type": "stream",
          "text": [
            "                 x01       x03       x12       x13       x24       x25       x32       x34       x45        -1\n",
            "       mu1     1.000     0.000    -1.000    -1.000     0.000     0.000     0.000     0.000     0.000     0.000      = -0\n",
            "       mu2     0.000     0.000     1.000     0.000    -1.000    -1.000     1.000     0.000     0.000     0.000      = -0\n",
            "       mu3     0.000     1.000     0.000     1.000     0.000     0.000    -1.000    -1.000     0.000     0.000      = -0\n",
            "       mu4     0.000     0.000     0.000     0.000     1.000     0.000     0.000     1.000    -1.000     0.000      = -0\n",
            "       y01     1.000     0.000     0.000     0.000     0.000     0.000     0.000     0.000     0.000     5.000    = -c01\n",
            "       y03     0.000     1.000     0.000     0.000     0.000     0.000     0.000     0.000     0.000     6.000    = -c03\n",
            "       y12     0.000     0.000     1.000     0.000     0.000     0.000     0.000     0.000     0.000     4.000    = -c12\n",
            "       y13     0.000     0.000     0.000     1.000     0.000     0.000     0.000     0.000     0.000     1.000    = -c13\n",
            "       y24     0.000     0.000     0.000     0.000     1.000     0.000     0.000     0.000     0.000     2.000    = -c24\n",
            "       y25     0.000     0.000     0.000     0.000     0.000     1.000     0.000     0.000     0.000     4.000    = -c25\n",
            "       y32     0.000     0.000     0.000     0.000     0.000     0.000     1.000     0.000     0.000     3.000    = -c32\n",
            "       y34     0.000     0.000     0.000     0.000     0.000     0.000     0.000     1.000     0.000     3.000    = -c34\n",
            "       y45     0.000     0.000     0.000     0.000     0.000     0.000     0.000     0.000     1.000     6.000    = -c45\n",
            "        -1     0.000     0.000     0.000     0.000     0.000     1.000     0.000     0.000     1.000     0.000     = obj\n",
            "                =s01      =s03      =s12      =s13      =s24      =s25      =s32      =s34      =s45  =dualobj\n",
            " \n",
            "                   0       x03       x12       x13       x24       x25       x32       x34       x45        -1\n",
            "       s01     1.000     0.000    -1.000    -1.000     0.000     0.000     0.000     0.000     0.000     0.000    = -x01\n",
            "       mu2    -0.000     0.000     1.000     0.000    -1.000    -1.000     1.000     0.000     0.000     0.000      = -0\n",
            "       mu3    -0.000     1.000     0.000     1.000     0.000     0.000    -1.000    -1.000     0.000     0.000      = -0\n",
            "       mu4    -0.000     0.000     0.000     0.000     1.000     0.000     0.000     1.000    -1.000     0.000      = -0\n",
            "       y01    -1.000     0.000     1.000     1.000     0.000     0.000     0.000     0.000     0.000     5.000    = -c01\n",
            "       y03    -0.000     1.000     0.000     0.000     0.000     0.000     0.000     0.000     0.000     6.000    = -c03\n",
            "       y12    -0.000     0.000     1.000     0.000     0.000     0.000     0.000     0.000     0.000     4.000    = -c12\n",
            "       y13    -0.000     0.000     0.000     1.000     0.000     0.000     0.000     0.000     0.000     1.000    = -c13\n",
            "       y24    -0.000     0.000     0.000     0.000     1.000     0.000     0.000     0.000     0.000     2.000    = -c24\n",
            "       y25    -0.000     0.000     0.000     0.000     0.000     1.000     0.000     0.000     0.000     4.000    = -c25\n",
            "       y32    -0.000     0.000     0.000     0.000     0.000     0.000     1.000     0.000     0.000     3.000    = -c32\n",
            "       y34    -0.000     0.000     0.000     0.000     0.000     0.000     0.000     1.000     0.000     3.000    = -c34\n",
            "       y45    -0.000     0.000     0.000     0.000     0.000     0.000     0.000     0.000     1.000     6.000    = -c45\n",
            "        -1    -0.000     0.000     0.000     0.000     0.000     1.000     0.000     0.000     1.000     0.000     = obj\n",
            "                =mu1      =s03      =s12      =s13      =s24      =s25      =s32      =s34      =s45  =dualobj\n",
            " \n",
            "                 x03       x12       x13       x24       x25       x32       x34       x45        -1\n",
            "       s01     0.000    -1.000    -1.000     0.000     0.000     0.000     0.000     0.000     0.000    = -x01\n",
            "       mu2     0.000     1.000     0.000    -1.000    -1.000     1.000     0.000     0.000     0.000      = -0\n",
            "       mu3     1.000     0.000     1.000     0.000     0.000    -1.000    -1.000     0.000     0.000      = -0\n",
            "       mu4     0.000     0.000     0.000     1.000     0.000     0.000     1.000    -1.000     0.000      = -0\n",
            "       y01     0.000     1.000     1.000     0.000     0.000     0.000     0.000     0.000     5.000    = -c01\n",
            "       y03     1.000     0.000     0.000     0.000     0.000     0.000     0.000     0.000     6.000    = -c03\n",
            "       y12     0.000     1.000     0.000     0.000     0.000     0.000     0.000     0.000     4.000    = -c12\n",
            "       y13     0.000     0.000     1.000     0.000     0.000     0.000     0.000     0.000     1.000    = -c13\n",
            "       y24     0.000     0.000     0.000     1.000     0.000     0.000     0.000     0.000     2.000    = -c24\n",
            "       y25     0.000     0.000     0.000     0.000     1.000     0.000     0.000     0.000     4.000    = -c25\n",
            "       y32     0.000     0.000     0.000     0.000     0.000     1.000     0.000     0.000     3.000    = -c32\n",
            "       y34     0.000     0.000     0.000     0.000     0.000     0.000     1.000     0.000     3.000    = -c34\n",
            "       y45     0.000     0.000     0.000     0.000     0.000     0.000     0.000     1.000     6.000    = -c45\n",
            "        -1     0.000     0.000     0.000     0.000     1.000     0.000     0.000     1.000     0.000     = obj\n",
            "                =s03      =s12      =s13      =s24      =s25      =s32      =s34      =s45  =dualobj\n",
            " \n",
            "                 x03         0       x13       x24       x25       x32       x34       x45        -1\n",
            "       s01     0.000     1.000    -1.000    -1.000    -1.000     1.000     0.000     0.000     0.000    = -x01\n",
            "       s12     0.000     1.000     0.000    -1.000    -1.000     1.000     0.000     0.000     0.000    = -x12\n",
            "       mu3     1.000    -0.000     1.000     0.000     0.000    -1.000    -1.000     0.000     0.000      = -0\n",
            "       mu4     0.000    -0.000     0.000     1.000     0.000     0.000     1.000    -1.000     0.000      = -0\n",
            "       y01     0.000    -1.000     1.000     1.000     1.000    -1.000     0.000     0.000     5.000    = -c01\n",
            "       y03     1.000    -0.000     0.000     0.000     0.000     0.000     0.000     0.000     6.000    = -c03\n",
            "       y12     0.000    -1.000     0.000     1.000     1.000    -1.000     0.000     0.000     4.000    = -c12\n",
            "       y13     0.000    -0.000     1.000     0.000     0.000     0.000     0.000     0.000     1.000    = -c13\n",
            "       y24     0.000    -0.000     0.000     1.000     0.000     0.000     0.000     0.000     2.000    = -c24\n",
            "       y25     0.000    -0.000     0.000     0.000     1.000     0.000     0.000     0.000     4.000    = -c25\n",
            "       y32     0.000    -0.000     0.000     0.000     0.000     1.000     0.000     0.000     3.000    = -c32\n",
            "       y34     0.000    -0.000     0.000     0.000     0.000     0.000     1.000     0.000     3.000    = -c34\n",
            "       y45     0.000    -0.000     0.000     0.000     0.000     0.000     0.000     1.000     6.000    = -c45\n",
            "        -1     0.000    -0.000     0.000     0.000     1.000     0.000     0.000     1.000     0.000     = obj\n",
            "                =s03      =mu2      =s13      =s24      =s25      =s32      =s34      =s45  =dualobj\n",
            " \n",
            "                 x03       x13       x24       x25       x32       x34       x45        -1\n",
            "       s01     0.000    -1.000    -1.000    -1.000     1.000     0.000     0.000     0.000    = -x01\n",
            "       s12     0.000     0.000    -1.000    -1.000     1.000     0.000     0.000     0.000    = -x12\n",
            "       mu3     1.000     1.000     0.000     0.000    -1.000    -1.000     0.000     0.000      = -0\n",
            "       mu4     0.000     0.000     1.000     0.000     0.000     1.000    -1.000     0.000      = -0\n",
            "       y01     0.000     1.000     1.000     1.000    -1.000     0.000     0.000     5.000    = -c01\n",
            "       y03     1.000     0.000     0.000     0.000     0.000     0.000     0.000     6.000    = -c03\n",
            "       y12     0.000     0.000     1.000     1.000    -1.000     0.000     0.000     4.000    = -c12\n",
            "       y13     0.000     1.000     0.000     0.000     0.000     0.000     0.000     1.000    = -c13\n",
            "       y24     0.000     0.000     1.000     0.000     0.000     0.000     0.000     2.000    = -c24\n",
            "       y25     0.000     0.000     0.000     1.000     0.000     0.000     0.000     4.000    = -c25\n",
            "       y32     0.000     0.000     0.000     0.000     1.000     0.000     0.000     3.000    = -c32\n",
            "       y34     0.000     0.000     0.000     0.000     0.000     1.000     0.000     3.000    = -c34\n",
            "       y45     0.000     0.000     0.000     0.000     0.000     0.000     1.000     6.000    = -c45\n",
            "        -1     0.000     0.000     0.000     1.000     0.000     0.000     1.000     0.000     = obj\n",
            "                =s03      =s13      =s24      =s25      =s32      =s34      =s45  =dualobj\n",
            " \n",
            "                   0       x13       x24       x25       x32       x34       x45        -1\n",
            "       s01    -0.000    -1.000    -1.000    -1.000     1.000     0.000     0.000     0.000    = -x01\n",
            "       s12    -0.000     0.000    -1.000    -1.000     1.000     0.000     0.000     0.000    = -x12\n",
            "       s03     1.000     1.000     0.000     0.000    -1.000    -1.000     0.000     0.000    = -x03\n",
            "       mu4    -0.000     0.000     1.000     0.000     0.000     1.000    -1.000     0.000      = -0\n",
            "       y01    -0.000     1.000     1.000     1.000    -1.000     0.000     0.000     5.000    = -c01\n",
            "       y03    -1.000    -1.000     0.000     0.000     1.000     1.000     0.000     6.000    = -c03\n",
            "       y12    -0.000     0.000     1.000     1.000    -1.000     0.000     0.000     4.000    = -c12\n",
            "       y13    -0.000     1.000     0.000     0.000     0.000     0.000     0.000     1.000    = -c13\n",
            "       y24    -0.000     0.000     1.000     0.000     0.000     0.000     0.000     2.000    = -c24\n",
            "       y25    -0.000     0.000     0.000     1.000     0.000     0.000     0.000     4.000    = -c25\n",
            "       y32    -0.000     0.000     0.000     0.000     1.000     0.000     0.000     3.000    = -c32\n",
            "       y34    -0.000     0.000     0.000     0.000     0.000     1.000     0.000     3.000    = -c34\n",
            "       y45    -0.000     0.000     0.000     0.000     0.000     0.000     1.000     6.000    = -c45\n",
            "        -1    -0.000     0.000     0.000     1.000     0.000     0.000     1.000     0.000     = obj\n",
            "                =mu3      =s13      =s24      =s25      =s32      =s34      =s45  =dualobj\n",
            " \n",
            "                 x13       x24       x25       x32       x34       x45        -1\n",
            "       s01    -1.000    -1.000    -1.000     1.000     0.000     0.000     0.000    = -x01\n",
            "       s12     0.000    -1.000    -1.000     1.000     0.000     0.000     0.000    = -x12\n",
            "       s03     1.000     0.000     0.000    -1.000    -1.000     0.000     0.000    = -x03\n",
            "       mu4     0.000     1.000     0.000     0.000     1.000    -1.000     0.000      = -0\n",
            "       y01     1.000     1.000     1.000    -1.000     0.000     0.000     5.000    = -c01\n",
            "       y03    -1.000     0.000     0.000     1.000     1.000     0.000     6.000    = -c03\n",
            "       y12     0.000     1.000     1.000    -1.000     0.000     0.000     4.000    = -c12\n",
            "       y13     1.000     0.000     0.000     0.000     0.000     0.000     1.000    = -c13\n",
            "       y24     0.000     1.000     0.000     0.000     0.000     0.000     2.000    = -c24\n",
            "       y25     0.000     0.000     1.000     0.000     0.000     0.000     4.000    = -c25\n",
            "       y32     0.000     0.000     0.000     1.000     0.000     0.000     3.000    = -c32\n",
            "       y34     0.000     0.000     0.000     0.000     1.000     0.000     3.000    = -c34\n",
            "       y45     0.000     0.000     0.000     0.000     0.000     1.000     6.000    = -c45\n",
            "        -1     0.000     0.000     1.000     0.000     0.000     1.000     0.000     = obj\n",
            "                =s13      =s24      =s25      =s32      =s34      =s45  =dualobj\n",
            " \n",
            "                 x13         0       x25       x32       x34       x45        -1\n",
            "       s01    -1.000     1.000    -1.000     1.000     1.000    -1.000     0.000    = -x01\n",
            "       s12     0.000     1.000    -1.000     1.000     1.000    -1.000     0.000    = -x12\n",
            "       s03     1.000    -0.000     0.000    -1.000    -1.000     0.000     0.000    = -x03\n",
            "       s24     0.000     1.000     0.000     0.000     1.000    -1.000     0.000    = -x24\n",
            "       y01     1.000    -1.000     1.000    -1.000    -1.000     1.000     5.000    = -c01\n",
            "       y03    -1.000    -0.000     0.000     1.000     1.000     0.000     6.000    = -c03\n",
            "       y12     0.000    -1.000     1.000    -1.000    -1.000     1.000     4.000    = -c12\n",
            "       y13     1.000    -0.000     0.000     0.000     0.000     0.000     1.000    = -c13\n",
            "       y24     0.000    -1.000     0.000     0.000    -1.000     1.000     2.000    = -c24\n",
            "       y25     0.000    -0.000     1.000     0.000     0.000     0.000     4.000    = -c25\n",
            "       y32     0.000    -0.000     0.000     1.000     0.000     0.000     3.000    = -c32\n",
            "       y34     0.000    -0.000     0.000     0.000     1.000     0.000     3.000    = -c34\n",
            "       y45     0.000    -0.000     0.000     0.000     0.000     1.000     6.000    = -c45\n",
            "        -1     0.000    -0.000     1.000     0.000     0.000     1.000     0.000     = obj\n",
            "                =s13      =mu4      =s25      =s32      =s34      =s45  =dualobj\n",
            " \n",
            "                 x13       x25       x32       x34       x45        -1\n",
            "       s01    -1.000    -1.000     1.000     1.000    -1.000     0.000    = -x01\n",
            "       s12     0.000    -1.000     1.000     1.000    -1.000     0.000    = -x12\n",
            "       s03     1.000     0.000    -1.000    -1.000     0.000     0.000    = -x03\n",
            "       s24     0.000     0.000     0.000     1.000    -1.000     0.000    = -x24\n",
            "       y01     1.000     1.000    -1.000    -1.000     1.000     5.000    = -c01\n",
            "       y03    -1.000     0.000     1.000     1.000     0.000     6.000    = -c03\n",
            "       y12     0.000     1.000    -1.000    -1.000     1.000     4.000    = -c12\n",
            "       y13     1.000     0.000     0.000     0.000     0.000     1.000    = -c13\n",
            "       y24     0.000     0.000     0.000    -1.000     1.000     2.000    = -c24\n",
            "       y25     0.000     1.000     0.000     0.000     0.000     4.000    = -c25\n",
            "       y32     0.000     0.000     1.000     0.000     0.000     3.000    = -c32\n",
            "       y34     0.000     0.000     0.000     1.000     0.000     3.000    = -c34\n",
            "       y45     0.000     0.000     0.000     0.000     1.000     6.000    = -c45\n",
            "        -1     0.000     1.000     0.000     0.000     1.000     0.000     = obj\n",
            "                =s13      =s25      =s32      =s34      =s45  =dualobj\n",
            " \n",
            "Initial tableau\n",
            "                 x13       x25       x32       x34       x45        -1\n",
            "       s01    -1.000    -1.000     1.000     1.000    -1.000     0.000    = -x01\n",
            "       s12     0.000    -1.000     1.000     1.000    -1.000     0.000    = -x12\n",
            "       s03     1.000     0.000    -1.000    -1.000     0.000     0.000    = -x03\n",
            "       s24     0.000     0.000     0.000     1.000    -1.000     0.000    = -x24\n",
            "       y01     1.000     1.000    -1.000    -1.000     1.000     5.000    = -c01\n",
            "       y03    -1.000     0.000     1.000     1.000     0.000     6.000    = -c03\n",
            "       y12     0.000     1.000    -1.000    -1.000     1.000     4.000    = -c12\n",
            "       y13     1.000     0.000     0.000     0.000     0.000     1.000    = -c13\n",
            "       y24     0.000     0.000     0.000    -1.000     1.000     2.000    = -c24\n",
            "       y25     0.000     1.000     0.000     0.000     0.000     4.000    = -c25\n",
            "       y32     0.000     0.000     1.000     0.000     0.000     3.000    = -c32\n",
            "       y34     0.000     0.000     0.000     1.000     0.000     3.000    = -c34\n",
            "       y45     0.000     0.000     0.000     0.000     1.000     6.000    = -c45\n",
            "        -1     0.000     1.000     0.000     0.000     1.000     0.000     = obj\n",
            "                =s13      =s25      =s32      =s34      =s45  =dualobj\n",
            " \n",
            "Starting SimplexNBF (will do nothing if already basic feasible)\n",
            "Starting SimplexBF (will do nothing if solution can already be determined)\n",
            "                 x13       c12       x32       x34       x45        -1\n",
            "       s01    -1.000     1.000     0.000     0.000     0.000     4.000    = -x01\n",
            "       s12     0.000     1.000     0.000     0.000     0.000     4.000    = -x12\n",
            "       s03     1.000    -0.000    -1.000    -1.000     0.000     0.000    = -x03\n",
            "       s24     0.000    -0.000     0.000     1.000    -1.000     0.000    = -x24\n",
            "       y01     1.000    -1.000     0.000     0.000     0.000     1.000    = -c01\n",
            "       y03    -1.000    -0.000     1.000     1.000     0.000     6.000    = -c03\n",
            "       s25     0.000     1.000    -1.000    -1.000     1.000     4.000    = -x25\n",
            "       y13     1.000    -0.000     0.000     0.000     0.000     1.000    = -c13\n",
            "       y24     0.000    -0.000     0.000    -1.000     1.000     2.000    = -c24\n",
            "       y25     0.000    -1.000     1.000     1.000    -1.000     0.000    = -c25\n",
            "       y32     0.000    -0.000     1.000     0.000     0.000     3.000    = -c32\n",
            "       y34     0.000    -0.000     0.000     1.000     0.000     3.000    = -c34\n",
            "       y45     0.000    -0.000     0.000     0.000     1.000     6.000    = -c45\n",
            "        -1     0.000    -1.000     1.000     1.000     0.000    -4.000     = obj\n",
            "                =s13      =y12      =s32      =s34      =s45  =dualobj\n",
            " \n",
            "                 x13       c12       c25       x34       x45        -1\n",
            "       s01    -1.000     1.000    -0.000     0.000     0.000     4.000    = -x01\n",
            "       s12     0.000     1.000    -0.000     0.000     0.000     4.000    = -x12\n",
            "       s03     1.000    -1.000     1.000     0.000    -1.000     0.000    = -x03\n",
            "       s24     0.000     0.000    -0.000     1.000    -1.000     0.000    = -x24\n",
            "       y01     1.000    -1.000    -0.000     0.000     0.000     1.000    = -c01\n",
            "       y03    -1.000     1.000    -1.000     0.000     1.000     6.000    = -c03\n",
            "       s25     0.000     0.000     1.000     0.000     0.000     4.000    = -x25\n",
            "       y13     1.000     0.000    -0.000     0.000     0.000     1.000    = -c13\n",
            "       y24     0.000     0.000    -0.000    -1.000     1.000     2.000    = -c24\n",
            "       s32     0.000    -1.000     1.000     1.000    -1.000     0.000    = -x32\n",
            "       y32     0.000     1.000    -1.000    -1.000     1.000     3.000    = -c32\n",
            "       y34     0.000     0.000    -0.000     1.000     0.000     3.000    = -c34\n",
            "       y45     0.000     0.000    -0.000     0.000     1.000     6.000    = -c45\n",
            "        -1     0.000     0.000    -1.000     0.000     1.000    -4.000     = obj\n",
            "                =s13      =y12      =y25      =s34      =s45  =dualobj\n",
            " \n",
            "                 x13       c12       c25       x34       c24        -1\n",
            "       s01    -1.000     1.000     0.000     0.000    -0.000     4.000    = -x01\n",
            "       s12     0.000     1.000     0.000     0.000    -0.000     4.000    = -x12\n",
            "       s03     1.000    -1.000     1.000    -1.000     1.000     2.000    = -x03\n",
            "       s24     0.000     0.000    -0.000     0.000     1.000     2.000    = -x24\n",
            "       y01     1.000    -1.000     0.000     0.000    -0.000     1.000    = -c01\n",
            "       y03    -1.000     1.000    -1.000     1.000    -1.000     4.000    = -c03\n",
            "       s25     0.000     0.000     1.000     0.000    -0.000     4.000    = -x25\n",
            "       y13     1.000     0.000     0.000     0.000    -0.000     1.000    = -c13\n",
            "       s45     0.000     0.000    -0.000    -1.000     1.000     2.000    = -x45\n",
            "       s32     0.000    -1.000     1.000     0.000     1.000     2.000    = -x32\n",
            "       y32     0.000     1.000    -1.000     0.000    -1.000     1.000    = -c32\n",
            "       y34     0.000     0.000     0.000     1.000    -0.000     3.000    = -c34\n",
            "       y45     0.000     0.000     0.000     1.000    -1.000     4.000    = -c45\n",
            "        -1     0.000     0.000    -1.000     1.000    -1.000    -6.000     = obj\n",
            "                =s13      =y12      =y25      =s34      =y24  =dualobj\n",
            " \n",
            "                 x13       c12       c25       c34       c24        -1\n",
            "       s01    -1.000     1.000     0.000    -0.000     0.000     4.000    = -x01\n",
            "       s12     0.000     1.000     0.000    -0.000     0.000     4.000    = -x12\n",
            "       s03     1.000    -1.000     1.000     1.000     1.000     5.000    = -x03\n",
            "       s24     0.000     0.000    -0.000    -0.000     1.000     2.000    = -x24\n",
            "       y01     1.000    -1.000     0.000    -0.000     0.000     1.000    = -c01\n",
            "       y03    -1.000     1.000    -1.000    -1.000    -1.000     1.000    = -c03\n",
            "       s25     0.000     0.000     1.000    -0.000     0.000     4.000    = -x25\n",
            "       y13     1.000     0.000     0.000    -0.000     0.000     1.000    = -c13\n",
            "       s45     0.000     0.000     0.000     1.000     1.000     5.000    = -x45\n",
            "       s32     0.000    -1.000     1.000    -0.000     1.000     2.000    = -x32\n",
            "       y32     0.000     1.000    -1.000    -0.000    -1.000     1.000    = -c32\n",
            "       s34     0.000     0.000     0.000     1.000    -0.000     3.000    = -x34\n",
            "       y45     0.000     0.000     0.000    -1.000    -1.000     1.000    = -c45\n",
            "        -1     0.000     0.000    -1.000    -1.000    -1.000    -9.000     = obj\n",
            "                =s13      =y12      =y25      =y34      =y24  =dualobj\n",
            " \n",
            "Problem has solution, final tableau is shown above\n"
          ],
          "name": "stdout"
        },
        {
          "output_type": "execute_result",
          "data": {
            "text/plain": [
              "0"
            ]
          },
          "metadata": {
            "tags": []
          },
          "execution_count": 142
        }
      ]
    }
  ]
}