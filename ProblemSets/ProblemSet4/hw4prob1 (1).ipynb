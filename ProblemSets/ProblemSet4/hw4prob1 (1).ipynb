{
  "nbformat": 4,
  "nbformat_minor": 0,
  "metadata": {
    "kernelspec": {
      "display_name": "Python 3",
      "language": "python",
      "name": "python3"
    },
    "language_info": {
      "codemirror_mode": {
        "name": "ipython",
        "version": 3
      },
      "file_extension": ".py",
      "mimetype": "text/x-python",
      "name": "python",
      "nbconvert_exporter": "python",
      "pygments_lexer": "ipython3",
      "version": "3.5.2"
    },
    "colab": {
      "name": "hw4prob1.ipynb",
      "provenance": []
    }
  },
  "cells": [
    {
      "cell_type": "markdown",
      "metadata": {
        "id": "n2KOIhBri1Zz"
      },
      "source": [
        "__While loops__"
      ]
    },
    {
      "cell_type": "code",
      "metadata": {
        "id": "sDJw6rLBi1Z0",
        "outputId": "75d0dd91-91a4-401a-9f4e-cb0501cfc714"
      },
      "source": [
        "# As we have seen, a \"for\" loop is useful to repeat code some number of times\n",
        "#     but mostly if you know in advance how many times you will repeat it.\n",
        "#\n",
        "# In other circumstances, you want to repeat code until some condition holds\n",
        "#     and you don't know in advance how many repeats that will be.\n",
        "#     A \"while\" loop is useful for these situations.\n",
        "#\n",
        "# A \"while\" loop has syntax that resembles \"if\": \n",
        "#\n",
        "#  while  condition  : \n",
        "#       indented line 1\n",
        "#       indented line 2\n",
        "#       etc\n",
        "#  now we are outside the \"while loop\"\n",
        "#\n",
        "# So, you start with a \"while\" line that contains a condition and a colon,\n",
        "#    and then you follow that line with indented lines that are \"inside the while loop\"\n",
        "#\n",
        "# When we reach the line of the code that says \"while\", if \"condition\" is true, we enter \n",
        "#   the loop (if the condition is false, we jump down to the code after the loop).\n",
        "#   If we enter the loop, the indented lines will run.  After the code completes\n",
        "#   the last indented line, it will check \"condition\" again.  If the condition holds, the\n",
        "#   code returns to the first indented line and continues.  If the condition does not\n",
        "#   hold, we exit the while loop and continue down the code.\n",
        "# \n",
        "# For example, here's a code that will add 3 repeatedly until the sum exceeds 50\n",
        "sum = 0\n",
        "while sum <= 50 :\n",
        "    sum = sum+3\n",
        "    print(sum)\n",
        "print(\"We are done with the while loop\")"
      ],
      "execution_count": null,
      "outputs": [
        {
          "output_type": "stream",
          "text": [
            "3\n",
            "6\n",
            "9\n",
            "12\n",
            "15\n",
            "18\n",
            "21\n",
            "24\n",
            "27\n",
            "30\n",
            "33\n",
            "36\n",
            "39\n",
            "42\n",
            "45\n",
            "48\n",
            "51\n",
            "We are done with the while loop\n"
          ],
          "name": "stdout"
        }
      ]
    },
    {
      "cell_type": "code",
      "metadata": {
        "id": "cqhtNs9Qi1Z1",
        "outputId": "39b81538-903f-4874-9dd8-03f6b1ff8964"
      },
      "source": [
        "# Since a while loop can potentially run forever, it may be wise to build a counter\n",
        "#   that kicks you out of the while loop if we repeat more often than you think is reasonable\n",
        "#\n",
        "# Here's a way to do that using the logical structure \"and\" in the while \"condition\"\n",
        "#\n",
        "#   The code below would run forever if we didn't have the counter\n",
        "count = 0\n",
        "x = 1\n",
        "while x > 0 and count < 10 :\n",
        "    x=x/2\n",
        "    print(x)\n",
        "    count=count+1\n",
        "print(\"out of the while loop\")"
      ],
      "execution_count": null,
      "outputs": [
        {
          "output_type": "stream",
          "text": [
            "0.5\n",
            "0.25\n",
            "0.125\n",
            "0.0625\n",
            "0.03125\n",
            "0.015625\n",
            "0.0078125\n",
            "0.00390625\n",
            "0.001953125\n",
            "0.0009765625\n",
            "out of the while loop\n"
          ],
          "name": "stdout"
        }
      ]
    },
    {
      "cell_type": "code",
      "metadata": {
        "id": "a6zeRqlxi1Z1"
      },
      "source": [
        "import numpy as np"
      ],
      "execution_count": null,
      "outputs": []
    },
    {
      "cell_type": "code",
      "metadata": {
        "id": "JdL0inoVi1Z2"
      },
      "source": [
        "def print_tableau(a,indep_names,dep_names):\n",
        "#\n",
        "# Given matrix \"a\" and lists of variables names \"indep_names\" and \"dep_names\",\n",
        "# this function prints the matrix and labels in standard tableau format\n",
        "# (including adding the -1, the minus signs in the last column, and labeling the lower-right as obj)\n",
        "#\n",
        "# First, check the inputs: indep_names should be one shorter than the number of columns of A\n",
        "#                          dep_names should be one shorter than the number of rows of A\n",
        "#\n",
        "    nrows = a.shape[0]    # use the shape function to determine number of rows and cols in A\n",
        "    ncols = a.shape[1]\n",
        "    nindep = len(indep_names)\n",
        "    ndep = len(dep_names)\n",
        "    if nindep != ncols-1:\n",
        "        print(\"WARNING: # of indep vbles should be one fewer than # columns of matrix\")\n",
        "    if ndep != nrows-1:\n",
        "        print(\"WARNING: # of dep vbles should be one fewer than # rows of matrix\")\n",
        "# Now do the printing (uses a variety of formatting techniques in Python)        \n",
        "    for j in range(ncols-1):                    # Print the independent variables in the first row\n",
        "        print(indep_names[j].rjust(10),end=\"\")  # rjust(10) makes fields 10 wide and right-justifies;\n",
        "                                                #    the end command prevents newline)\n",
        "    print(\"        -1\")                         # Tack on the -1 at the end of the first row\n",
        "    for i in range(nrows-1):\n",
        "        for j in range(ncols):                  # Print all but the last row of the matrix\n",
        "            print(\"%10.3f\" % a[i][j],end=\"\") # The syntax prints in a field 10 wide, showing 3 decimal points\n",
        "        lab = \"= -\" + dep_names[i]\n",
        "        print(lab.rjust(10))\n",
        "    for j in range(ncols):\n",
        "        print(\"%10.3f\" % a[nrows-1][j],end=\"\")  # Print the last row of the matrix, with label \"obj\" at end\n",
        "    lab = \"= obj\"\n",
        "    print(lab.rjust(10))\n",
        "    print(\" \")    # Put blank line at bottom"
      ],
      "execution_count": null,
      "outputs": []
    },
    {
      "cell_type": "code",
      "metadata": {
        "id": "Xs0Sn6kqi1Z2"
      },
      "source": [
        "def pivot(a,pivrow,pivcol,indep_names,dep_names) :\n",
        "# \n",
        "# Given matrix \"a\", a row number \"pivrow\" and column number \"pivcol\", \n",
        "#  and lists of variable names \"indep_names\" and \"dep_names\", this\n",
        "#  function does three things:\n",
        "#    (1) outputs the new version of the matrix after a pivot,\n",
        "#    (2) updates the lists of variable names post-pivot\n",
        "#    (3) prints the new matrix, including labels showing the variable names\n",
        "#\n",
        "# First, check the inputs: indep_names should be one shorter than the number of columns of A\n",
        "#                          dep_names should be one shorter than the number of rows of A\n",
        "#                          you should not be pivoting on the last row or last column\n",
        "#\n",
        "    a = a.astype(float)   # make sure entries are treated as floating point numbers\n",
        "    nrows = a.shape[0]    # use the shape function to determine number of rows and cols in A\n",
        "    ncols = a.shape[1]\n",
        "    nindep = len(indep_names)\n",
        "    ndep = len(dep_names)\n",
        "    if nindep != ncols-1:\n",
        "        print(\"WARNING: # of indep vbles should be one fewer than # columns of matrix\")\n",
        "    if ndep != nrows-1:\n",
        "        print(\"WARNING: # of dep vbles should be one fewer than # rows of matrix\")\n",
        "    if pivrow > nrows-1 or pivcol > ncols-1:\n",
        "        print(\"WARNING: should not pivot on last row or column\")\n",
        "    newa = a.copy()       # make a copy of A, to be filled in below with result of pivot\n",
        "    p = a[pivrow-1][pivcol-1]   # identify pivot element\n",
        "    newa[pivrow-1][pivcol-1] = 1/p   # set new value of pivot element\n",
        "    # Set entries in p's row\n",
        "    for j in range(ncols):\n",
        "        if j != pivcol-1:\n",
        "            newa[pivrow-1][j]=a[pivrow-1][j]/p;\n",
        "    # Set entries in p's column\n",
        "    for i in range(nrows):\n",
        "        if i != pivrow-1:\n",
        "            newa[i][pivcol-1]=-a[i][pivcol-1]/p;\n",
        "    # Set all other entries\n",
        "    for i in range(nrows):\n",
        "        for j in range(ncols):\n",
        "            if i != pivrow-1 and j != pivcol-1:\n",
        "                r = a[i][pivcol-1]\n",
        "                q = a[pivrow-1][j]\n",
        "                s = a[i][j]\n",
        "                newa[i][j]=(p*s-q*r)/p\n",
        "    # Now swap the variable names\n",
        "    temp = indep_names[pivcol-1]\n",
        "    indep_names[pivcol-1]=dep_names[pivrow-1]\n",
        "    dep_names[pivrow-1]=temp\n",
        "    print_tableau(newa,indep_names,dep_names) # Print the matrix with updated labels\n",
        "    return newa;"
      ],
      "execution_count": null,
      "outputs": []
    },
    {
      "cell_type": "code",
      "metadata": {
        "id": "Nc0bLqwtjm4r"
      },
      "source": [
        "def target(a) :\n",
        "    nrows = a.shape[0]    # use the shape function to determine number of rows and cols in \"a\"\n",
        "    ncols = a.shape[1]\n",
        "    import numpy as np\n",
        "    v = np.empty(ncols-1)\n",
        "    for i in range(ncols-1):\n",
        "        v[i]=a[nrows-1,i]\n",
        "    biggest_c = np.max(v)\n",
        "    where_is_biggest_c = np.argmax(v)+1\n",
        "    if biggest_c > 0 :\n",
        "        return where_is_biggest_c\n",
        "    else :\n",
        "        return -1"
      ],
      "execution_count": null,
      "outputs": []
    },
    {
      "cell_type": "code",
      "metadata": {
        "id": "11A9Rx7Gj7d7"
      },
      "source": [
        "def select(a,pivcolnum) :\n",
        "    nrows = a.shape[0]    # use the shape function to determine number of rows and cols in A\n",
        "    ncols = a.shape[1]\n",
        "# First task: work down the column and record the b/a ratios in a vector v\n",
        "#     except record -1 if a is negative or zero\n",
        "    import numpy as np\n",
        "    v = np.zeros(nrows-1)\n",
        "    for i in range(nrows-1):\n",
        "        if a[i,pivcolnum-1]>0 :\n",
        "            v[i] = a[i,ncols-1]/a[i,pivcolnum-1]\n",
        "        else :\n",
        "            v[i] = -1\n",
        "# Second task: if max b/a > -1, find min b/a by hand (ignoring zero entries in v)\n",
        "    if np.max(v) > -1 :  \n",
        "        min_so_far = np.max(v)+1  # Initialize variable to be for-sure bigger than the min\n",
        "        for i in range(nrows-1):\n",
        "            if v[i] > -1 and v[i] < min_so_far :\n",
        "                min_so_far = v[i]\n",
        "                where_is_min = i+1   # Add 1 to use human numbering\n",
        "        return where_is_min      # Once we've scanned v for min, we can return result\n",
        "    else :          \n",
        "        return -1"
      ],
      "execution_count": null,
      "outputs": []
    },
    {
      "cell_type": "markdown",
      "metadata": {
        "id": "RT1GpN8ai1Z4"
      },
      "source": [
        "__Problem 1 starts here__"
      ]
    },
    {
      "cell_type": "code",
      "metadata": {
        "id": "sHg8NMPzi1Z4"
      },
      "source": [
        "def simplexbf(a,indep_names,dep_names):\n",
        "# The SimplexBF algorithm\n",
        "# Inputs: np.array \"a\" (assumed to be basic feasible)\n",
        "#         lists of variable names indep_names and dep_names (pivot will catch if they're wrong size)\n",
        "# Output: 0 if algorithm finds a solution, -1 if we stop because problem is unbounded\n",
        "    nrows = a.shape[0]    # use the shape function to determine number of rows and cols in A\n",
        "    ncols = a.shape[1]\n",
        "    print_tableau(a,indep_names,dep_names)\n",
        "# You fill the rest"
      ],
      "execution_count": null,
      "outputs": []
    },
    {
      "cell_type": "code",
      "metadata": {
        "id": "uttmw8Xmi1Z4"
      },
      "source": [
        "# This cell will let you test your simplexbf on the bakery problem\n",
        "#   You should get to obj = 550 in two steps\n",
        "import numpy as np\n",
        "np.set_printoptions(suppress=True)   # Prevents scientific notation when printing\n",
        "a = np.array([[10,5,150],\n",
        "              [4,3,80],\n",
        "             [30,20,0]])\n",
        "indep_names = [\"d\",\"c\"]\n",
        "dep_names = [\"t1\",\"t2\"]\n",
        "simplexbf(a,indep_names,dep_names)"
      ],
      "execution_count": null,
      "outputs": []
    },
    {
      "cell_type": "code",
      "metadata": {
        "scrolled": true,
        "id": "BnnxujlPi1Z4"
      },
      "source": [
        "# This cell will let you test your simplexbf on a problem from HW3\n",
        "#   There should be two steps with obj staying at 0 and then one\n",
        "#   last step where obj jumps to 900\n",
        "import numpy as np\n",
        "np.set_printoptions(suppress=True)   # Prevents scientific notation when printing\n",
        "a = np.array([[1,0.8,0.6,500],\n",
        "              [0,0.15,0.3,250],\n",
        "              [0,0.05,0.1,100],\n",
        "             [0,2,-1,0],\n",
        "              [2,-1,0,0],\n",
        "             [2,1.5,1,0]])\n",
        "indep_names = [\"x1\",\"x2\",\"x3\"]\n",
        "dep_names = [\"t1\",\"t2\",\"t3\",\"t4\",\"t5\"]\n",
        "simplexbf(a,indep_names,dep_names)"
      ],
      "execution_count": null,
      "outputs": []
    }
  ]
}