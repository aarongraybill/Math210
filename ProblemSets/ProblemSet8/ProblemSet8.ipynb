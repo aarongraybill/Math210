{
  "nbformat": 4,
  "nbformat_minor": 0,
  "metadata": {
    "colab": {
      "name": "ProblemSet8.ipynb",
      "provenance": [],
      "toc_visible": true,
      "authorship_tag": "ABX9TyPL0BFVIiJyu7qANu+1zB0T",
      "include_colab_link": true
    },
    "kernelspec": {
      "name": "python3",
      "display_name": "Python 3"
    },
    "language_info": {
      "name": "python"
    }
  },
  "cells": [
    {
      "cell_type": "markdown",
      "metadata": {
        "id": "view-in-github",
        "colab_type": "text"
      },
      "source": [
        "<a href=\"https://colab.research.google.com/github/aarongraybill/Math210/blob/main/ProblemSets/ProblemSet8/ProblemSet8.ipynb\" target=\"_parent\"><img src=\"https://colab.research.google.com/assets/colab-badge.svg\" alt=\"Open In Colab\"/></a>"
      ]
    },
    {
      "cell_type": "markdown",
      "metadata": {
        "id": "GN6bgZHB-ZvW"
      },
      "source": [
        "# Math 210\n",
        "## Aaron Graybill\n",
        "### Problem Set 6\n",
        "### 4/8/21\n"
      ]
    },
    {
      "cell_type": "code",
      "metadata": {
        "id": "5R1PS0EqO_ab"
      },
      "source": [
        "import numpy as np\n",
        "from scipy.optimize import linprog\n",
        "import pandas as pd\n",
        "import itertools"
      ],
      "execution_count": null,
      "outputs": []
    },
    {
      "cell_type": "code",
      "metadata": {
        "colab": {
          "base_uri": "https://localhost:8080/"
        },
        "id": "Edse9PDtdbw9",
        "outputId": "52451e22-6a55-4126-f27c-f54cc8f2b26d"
      },
      "source": [
        "!git clone https://github.com/aarongraybill/Math210/tree/main/ProblemSets/ProblemSet8\n",
        "from PIL import Image"
      ],
      "execution_count": 25,
      "outputs": [
        {
          "output_type": "stream",
          "text": [
            "Cloning into 'ProblemSet8'...\n",
            "fatal: repository 'https://github.com/aarongraybill/Math210/tree/main/ProblemSets/ProblemSet8/' not found\n"
          ],
          "name": "stdout"
        }
      ]
    },
    {
      "cell_type": "code",
      "metadata": {
        "id": "A93_8bMUO62e"
      },
      "source": [
        "# Gabe and I converted **his** maxflow code, but i had a substantial part\n",
        "# in this min cost implementation\n",
        "\n",
        "def maxflow(nvert,edgemat,reqflow) :\n",
        "  nrows = edgemat.shape[0]\n",
        "  A = np.identity(nrows)\n",
        "  b = np.zeros((1,nrows))\n",
        "  for i in range(nrows) :\n",
        "    b[0,i] = edgemat[i][2]\n",
        "  b2 = np.zeros((1,nvert-2))  \n",
        "  A3 = np.zeros((1,nrows))\n",
        "  for i in range(nrows) :\n",
        "    if edgemat[i][1] == nvert-1:\n",
        "      A3[0,i] = 1\n",
        "  A2 = np.zeros([nvert-2,nrows])\n",
        "  for count, value in enumerate(edgemat[:,0:2]):\n",
        "    colnum = count\n",
        "    count = count+1\n",
        "    if (value[0]==0) :\n",
        "      A2[value[1]-1,colnum] = 1\n",
        "    elif (value[1]==(nvert-1)) :\n",
        "      A2[value[0]-1,colnum] = -1\n",
        "    else :\n",
        "      A2[value[1]-1,colnum] = 1\n",
        "      A2[value[0]-1,colnum] = -1\n",
        "  c = edgemat[:,3]\n",
        "  #print(A)\n",
        "  #print(c)\n",
        "  reqflow = np.array([[reqflow]])\n",
        "  print(linprog(c,A_ub=A,b_ub=b,A_eq=np.append(A2,A3,axis=0),b_eq=np.append(b2,reqflow,axis=1),method='simplex'))"
      ],
      "execution_count": null,
      "outputs": []
    },
    {
      "cell_type": "code",
      "metadata": {
        "colab": {
          "base_uri": "https://localhost:8080/"
        },
        "id": "SQ4KVL7yJtiv",
        "outputId": "816c7328-a8fa-46a1-ee14-3b9eaedeaa85"
      },
      "source": [
        "a=np.array([[0,1,2,3],\n",
        "            [0,2,4,1],\n",
        "            [0,3,4,4],\n",
        "            [1,2,3,2],\n",
        "            [2,3,2,2],\n",
        "            [2,4,6,4],\n",
        "            [3,4,5,1]])\n",
        "maxflow(5,a,8)"
      ],
      "execution_count": null,
      "outputs": [
        {
          "output_type": "stream",
          "text": [
            "     con: array([0., 0., 0., 0.])\n",
            "     fun: 39.0\n",
            " message: 'Optimization terminated successfully.'\n",
            "     nit: 13\n",
            "   slack: array([2., 0., 0., 3., 1., 3., 0.])\n",
            "  status: 0\n",
            " success: True\n",
            "       x: array([0., 4., 4., 0., 1., 3., 5.])\n"
          ],
          "name": "stdout"
        }
      ]
    },
    {
      "cell_type": "markdown",
      "metadata": {
        "id": "Aj_QHVHxO1D_"
      },
      "source": [
        "## Problem 2."
      ]
    },
    {
      "cell_type": "code",
      "metadata": {
        "colab": {
          "base_uri": "https://localhost:8080/"
        },
        "id": "Gog8_OXfLVYf",
        "outputId": "afa581b2-5a20-41c7-a5e2-5a44efd86e60"
      },
      "source": [
        "a=np.array([[0,1,40,0],\n",
        "            [0,2,40,0],\n",
        "            [0,3,40,0],\n",
        "            [1,4,40,10],\n",
        "            [1,5,40,15],\n",
        "            [1,6,40,12],\n",
        "            [1,7,40,8],\n",
        "            [2,4,40,8],\n",
        "            [2,7,40,7],\n",
        "            [3,5,40,18],\n",
        "            [3,6,40,10],\n",
        "            [3,7,40,9],\n",
        "            [4,8,10,0],\n",
        "            [5,8,25,0],\n",
        "            [6,8,15,0],\n",
        "            [7,8,60,0]\n",
        "            ])\n",
        "maxflow(9,a,110)"
      ],
      "execution_count": null,
      "outputs": [
        {
          "output_type": "stream",
          "text": [
            "     con: array([0., 0., 0., 0., 0., 0., 0., 0.])\n",
            "     fun: 1070.0\n",
            " message: 'Optimization terminated successfully.'\n",
            "     nit: 35\n",
            "   slack: array([ 0.,  0., 10., 40., 15., 40., 25., 30., 10., 40., 25., 25.,  0.,\n",
            "        0.,  0.,  0.])\n",
            "  status: 0\n",
            " success: True\n",
            "       x: array([40., 40., 30.,  0., 25.,  0., 15., 10., 30.,  0., 15., 15., 10.,\n",
            "       25., 15., 60.])\n"
          ],
          "name": "stdout"
        }
      ]
    },
    {
      "cell_type": "markdown",
      "metadata": {
        "id": "du_MxzQVS7CP"
      },
      "source": [
        "## Problem 3.\n",
        "### Run a bunch of code:"
      ]
    },
    {
      "cell_type": "code",
      "metadata": {
        "id": "yIsNZWNTS5gx"
      },
      "source": [
        "def print_tableau(a,indep_names,dep_names,indep_names_dual,dep_names_dual):\n",
        "#\n",
        "# Given matrix \"a\" and lists of variables names \"indep_names\" and \"dep_names\",\n",
        "#   and (for the dual) \"indep_names_dual\" and \"dep_names_dual\",\n",
        "# this function prints the matrix and labels in standard tableau format\n",
        "# (including adding the -1, the minus signs in the last column, and labeling the lower-right as obj)\n",
        "#\n",
        "# First, check the inputs: indep_names and dep_names_dual should be one shorter than the number of columns of A\n",
        "#                          dep_names and indep_names_dual should be one shorter than the number of rows of A\n",
        "#\n",
        "    nrows = a.shape[0]    # use the shape function to determine number of rows and cols in A\n",
        "    ncols = a.shape[1]\n",
        "    nindep = len(indep_names)\n",
        "    nindep_dual = len(indep_names_dual)\n",
        "    ndep = len(dep_names)\n",
        "    ndep_dual = len(dep_names_dual)\n",
        "    if nindep != ncols-1:\n",
        "        print(\"WARNING: # of indep vbles should be one fewer than # columns of matrix\")\n",
        "    if ndep != nrows-1:\n",
        "        print(\"WARNING: # of dep vbles should be one fewer than # rows of matrix\")\n",
        "    if nindep_dual != nrows-1:\n",
        "        print(\"WARNING: # of indep dual vbles should be one fewer than # rows of matrix\")\n",
        "    if ndep_dual != ncols-1:\n",
        "        print(\"WARNING: # of dep dual vbles should be one fewer than # columns of matrix\")\n",
        "# Now do the printing (uses a variety of formatting techniques in Python)     \n",
        "    print(\"          \",end=\"\")       # On first line, leave blank space so we can fit in dual labels lower down \n",
        "    for j in range(ncols-1):                    # Print the independent variables in the first row\n",
        "        print(indep_names[j].rjust(10),end=\"\")  # rjust(10) makes fields 10 wide and right-justifies;\n",
        "                                                #    the end command prevents newline)\n",
        "    print(\"        -1\")                         # Tack on the -1 at the end of the first row\n",
        "    for i in range(nrows-1):\n",
        "        print(indep_names_dual[i].rjust(10),end=\"\")\n",
        "        for j in range(ncols):                  # Print all but the last row of the matrix\n",
        "                print(\"%10.3f\" % a[i][j],end=\"\") # The syntax prints in a field 10 wide, showing 3 decimal points\n",
        "        lab = \"= -\" + dep_names[i]\n",
        "        print(lab.rjust(10))\n",
        "    print(\"        -1\",end=\"\")\n",
        "    for j in range(ncols):\n",
        "        print(\"%10.3f\" % a[nrows-1][j],end=\"\")  # Print the last row of the matrix, with label \"obj\" at end\n",
        "    lab = \"= obj\"\n",
        "    print(lab.rjust(10))\n",
        "    print(\"          \",end=\"\")\n",
        "    for j in range(ncols-1):\n",
        "        lab = \"=\" + dep_names_dual[j]\n",
        "        print(lab.rjust(10),end=\"\")\n",
        "    print(\"  =dualobj\")\n",
        "    print(\" \")    # Put blank line at bottom"
      ],
      "execution_count": null,
      "outputs": []
    },
    {
      "cell_type": "code",
      "metadata": {
        "id": "n3VpfrG5TCTh"
      },
      "source": [
        "def pivot(a,pivrow,pivcol,indep_names,dep_names,indep_names_dual,dep_names_dual) :\n",
        "# \n",
        "# Given matrix \"a\", a row number \"pivrow\" and column number \"pivcol\", \n",
        "#  and lists of variable names \"indep_names\" and \"dep_names\", this\n",
        "#  function does three things:\n",
        "#    (1) outputs the new version of the matrix after a pivot,\n",
        "#    (2) updates the lists of variable names post-pivot\n",
        "#    (3) prints the new matrix, including labels showing the variable names\n",
        "#\n",
        "# First, check the inputs: indep_names should be one shorter than the number of columns of A\n",
        "#                          dep_names should be one shorter than the number of rows of A\n",
        "#                          you should not be pivoting on the last row or last column\n",
        "#\n",
        "    nrows = a.shape[0]    # use the shape function to determine number of rows and cols in A\n",
        "    ncols = a.shape[1]\n",
        "    nindep = len(indep_names)\n",
        "    nindep_dual = len(indep_names_dual)\n",
        "    ndep = len(dep_names)\n",
        "    ndep_dual = len(dep_names_dual)\n",
        "    if nindep != ncols-1:\n",
        "        print(\"WARNING: # of indep vbles should be one fewer than # columns of matrix\")\n",
        "    if ndep != nrows-1:\n",
        "        print(\"WARNING: # of dep vbles should be one fewer than # rows of matrix\")\n",
        "    if nindep_dual != nrows-1:\n",
        "        print(\"WARNING: # of indep dual vbles should be one fewer than # rows of matrix\")\n",
        "    if ndep_dual != ncols-1:\n",
        "        print(\"WARNING: # of dep dual vbles should be one fewer than # columns of matrix\")\n",
        "    if pivrow > nrows-1 or pivcol > ncols-1:\n",
        "        print(\"WARNING: should not pivot on last row or column\")\n",
        "    newa = a.copy()       # make a copy of A, to be filled in below with result of pivot\n",
        "    p = a[pivrow-1][pivcol-1]   # identify pivot element\n",
        "    newa[pivrow-1][pivcol-1] = 1/p   # set new value of pivot element\n",
        "    # Set entries in p's row\n",
        "    for j in range(ncols):\n",
        "        if j != pivcol-1:\n",
        "            newa[pivrow-1][j]=a[pivrow-1][j]/p;\n",
        "    # Set entries in p's column\n",
        "    for i in range(nrows):\n",
        "        if i != pivrow-1:\n",
        "            newa[i][pivcol-1]=-a[i][pivcol-1]/p;\n",
        "    # Set all other entries\n",
        "    for i in range(nrows):\n",
        "        for j in range(ncols):\n",
        "            if i != pivrow-1 and j != pivcol-1:\n",
        "                r = a[i][pivcol-1]\n",
        "                q = a[pivrow-1][j]\n",
        "                s = a[i][j]\n",
        "                newa[i][j]=(p*s-q*r)/p\n",
        "    # Now transfer the new tableau into a\n",
        "    for i in range(nrows) :\n",
        "        for j in range(ncols) :\n",
        "            a[i][j] = newa[i][j]\n",
        "    # Now swap the variable names\n",
        "    temp = indep_names[pivcol-1]\n",
        "    indep_names[pivcol-1]=dep_names[pivrow-1]\n",
        "    dep_names[pivrow-1]=temp\n",
        "    temp = indep_names_dual[pivrow-1]\n",
        "    indep_names_dual[pivrow-1]=dep_names_dual[pivcol-1]\n",
        "    dep_names_dual[pivcol-1]=temp\n",
        "    print_tableau(newa,indep_names,dep_names,indep_names_dual,dep_names_dual) # Print the matrix with updated labels\n",
        "    return 0;"
      ],
      "execution_count": null,
      "outputs": []
    },
    {
      "cell_type": "code",
      "metadata": {
        "id": "ow67-bcsTFH0"
      },
      "source": [
        "def column_delete(a,col_to_remove,indep_names,dep_names,indep_names_dual,dep_names_dual) :\n",
        "    import numpy as np\n",
        "    anew = np.delete(a,col_to_remove-1,axis=1)\n",
        "    del indep_names[col_to_remove-1]\n",
        "    del dep_names_dual[col_to_remove-1]\n",
        "    print_tableau(anew,indep_names,dep_names,indep_names_dual,dep_names_dual)\n",
        "    return anew"
      ],
      "execution_count": null,
      "outputs": []
    },
    {
      "cell_type": "code",
      "metadata": {
        "id": "mpsJvwCDTGjU"
      },
      "source": [
        "def row_delete(a,row_to_remove,indep_names,dep_names,indep_names_dual,dep_names_dual) :\n",
        "    import numpy as np\n",
        "    anew = np.delete(a,row_to_remove-1,axis=0)\n",
        "    del dep_names[row_to_remove-1]\n",
        "    del indep_names_dual[row_to_remove-1]\n",
        "    print_tableau(anew,indep_names,dep_names,indep_names_dual,dep_names_dual)\n",
        "    return anew"
      ],
      "execution_count": null,
      "outputs": []
    },
    {
      "cell_type": "code",
      "metadata": {
        "id": "BGHqdaJqTIFd"
      },
      "source": [
        "def target(a) :\n",
        "    nrows = a.shape[0]    # use the shape function to determine number of rows and cols in \"a\"\n",
        "    ncols = a.shape[1]\n",
        "    import numpy as np\n",
        "    v = np.empty(ncols-1)\n",
        "    for i in range(ncols-1):\n",
        "        v[i]=a[nrows-1,i]\n",
        "    biggest_c = np.max(v)\n",
        "    where_is_biggest_c = np.argmax(v)+1\n",
        "    if biggest_c > 0 :\n",
        "        return where_is_biggest_c\n",
        "    else :\n",
        "        return -1"
      ],
      "execution_count": null,
      "outputs": []
    },
    {
      "cell_type": "code",
      "metadata": {
        "id": "m3tto5uJTJs3"
      },
      "source": [
        "def select(a,pivcolnum) :\n",
        "    nrows = a.shape[0]    # use the shape function to determine number of rows and cols in A\n",
        "    ncols = a.shape[1]\n",
        "# First task: work down the column and record the b/a ratios in a vector v\n",
        "#     except record -1 if a is negative or zero\n",
        "    import numpy as np\n",
        "    v = np.zeros(nrows-1)\n",
        "    for i in range(nrows-1):\n",
        "        if a[i,pivcolnum-1]>0 :\n",
        "            v[i] = a[i,ncols-1]/a[i,pivcolnum-1]\n",
        "        else :\n",
        "            v[i] = -1\n",
        "# Second task: if max b/a > -1, find min b/a by hand (ignoring zero entries in v)\n",
        "    if np.max(v) > -1 :  \n",
        "        min_so_far = np.max(v)+1  # Initialize min to be for-sure bigger than the min\n",
        "        for i in range(nrows-1):\n",
        "            if v[i] > -1 and v[i] < min_so_far :\n",
        "                min_so_far = v[i]\n",
        "                where_is_min = i+1   # Add 1 to use human numbering\n",
        "        return where_is_min      # Once we've scanned v for min, we can return result\n",
        "            \n",
        "    else :          # Otherwise, we find the m\n",
        "        return -1"
      ],
      "execution_count": null,
      "outputs": []
    },
    {
      "cell_type": "code",
      "metadata": {
        "id": "dXiiaV9HTLOB"
      },
      "source": [
        "def simplexbf(a,indep_names,dep_names,dual_indep_names,dual_dep_names):\n",
        "# Run the simplexbf algorithm\n",
        "# Inputs: np.array \"a\" (assumed to be basic feasible)\n",
        "#         lists of variable names indep_names and dep_names (pivot will catch if they're wrong size)\n",
        "# Output: -1 if we stop because problem is unbounded, 0 if we continue to a solution\n",
        "#         -9 if we take too many steps\n",
        "    nrows = a.shape[0]    # use shape to find # of rows and cols in A\n",
        "    ncols = a.shape[1]\n",
        "    print(\"Starting SimplexBF (will do nothing if solution can already be determined)\")\n",
        "    pivcol = target(a)\n",
        "    nsteps = 0\n",
        "    while pivcol > -1 and nsteps < 50:  # Repeat until either solution found or 50 pivots completed\n",
        "        pivrow = select(a,pivcol)\n",
        "        if pivrow == -1 :\n",
        "            return -1    # If select reports -1, problem is unbounded, so exit this function\n",
        "        else :\n",
        "            pivot(a,pivrow,pivcol,indep_names,dep_names,dual_indep_names,dual_dep_names)\n",
        "            nsteps=nsteps+1\n",
        "            pivcol = target(a)\n",
        "    if nsteps >= 50:\n",
        "        return -9    # we took too many pivots\n",
        "    else:\n",
        "        return 0"
      ],
      "execution_count": null,
      "outputs": []
    },
    {
      "cell_type": "code",
      "metadata": {
        "id": "0NAHhPjZTMp_"
      },
      "source": [
        "def targetnbf(a):\n",
        "    nrows = a.shape[0]\n",
        "    ncols = a.shape[1]\n",
        "    import numpy as np\n",
        "    checkrow = nrows-2\n",
        "    while a[checkrow,ncols-1] >= -0.00000001 :\n",
        "        if checkrow == 0 :   # if still in the \"while\" and at the top,\n",
        "            return -1        # all the b's were >= 0, so return -1\n",
        "        else :\n",
        "            checkrow = checkrow-1\n",
        "    return checkrow+1    # if we exit the \"while\", we found a negative\n",
        "#                            b, so return current row # (in human numbering)"
      ],
      "execution_count": null,
      "outputs": []
    },
    {
      "cell_type": "code",
      "metadata": {
        "id": "lbBEk16gTOVD"
      },
      "source": [
        "def selectnbf(a,targetrow) :\n",
        "#  Given inputs \"a\" (tableau as an np.array, numbers only, no labels) \n",
        "#       and \"targetrow\" (a row that has a negative b; start-at-1 numbering assumed),\n",
        "#  computes a pivot that could be chosen by SimplexNBF and \n",
        "#  outputs \"pivrow\" and \"pivcol\", the row and column (start-at-1 numbering) of that pivot\n",
        "#  If the targeted row has no negative aij, returns -2 for both pivrow and pivcol\n",
        "    nrows = a.shape[0]\n",
        "    ncols = a.shape[1]\n",
        "    import numpy as np\n",
        "    targetrow = targetrow-1   # convert to start-at-0\n",
        "    pivcol = ncols-2     # column index of last aij\n",
        "    while a[targetrow,pivcol] >= 0 :\n",
        "        if pivcol == 0 :   # if pivcol makes it to zero, all aij\n",
        "            return [-2,-2]   # in this row were >= 0, so problem infeasible\n",
        "        else :\n",
        "            pivcol = pivcol-1\n",
        "    minsofar = a[targetrow,ncols-1]/a[targetrow,pivcol] # we found a negative aij\n",
        "    pivrow = targetrow     \n",
        "    for i in range(targetrow+1,nrows-2):   # now check below it for a smaller bi/aij with aij>0\n",
        "        if a[i,pivcol]>0 and a[i,ncols-1]/a[i,pivcol] < minsofar :\n",
        "            minsofar = a[i,ncols-1]/a[i,pivcol]\n",
        "            pivrow = i\n",
        "    return [pivrow+1,pivcol+1]   # Return result (shifted to start-at-1 numbering)"
      ],
      "execution_count": null,
      "outputs": []
    },
    {
      "cell_type": "code",
      "metadata": {
        "id": "C_gCCXokTPrs"
      },
      "source": [
        "def simplexnbf(a,indep_names,dep_names,dual_indep_names,dual_dep_names):\n",
        "# Run the simplexnbf algorithm\n",
        "# Inputs: np.array \"a\" \n",
        "#         lists of variable names indep_names and dep_names (pivot will catch if they're wrong size)\n",
        "# Output: -2 if we stop because problem is infeasible, 0 if we stop at a basic feasible tableau\n",
        "#.        -9 if we take too many pivots\n",
        "#    (Also, the tableau \"a\" and variable-lists are updated with each pivot)\n",
        "    nrows = a.shape[0]   \n",
        "    ncols = a.shape[1]\n",
        "    print(\"Starting SimplexNBF (will do nothing if already basic feasible)\")\n",
        "    nsteps = 0\n",
        "    targetrow = targetnbf(a)\n",
        "    while targetrow > -1 and nsteps < 50:  # Repeat until either basic feasible tableau produced or 50 pivots completed\n",
        "        [pivrow,pivcol] = selectnbf(a,targetrow)\n",
        "        if pivrow == -2 :\n",
        "            return -2    # If selectnbf reports -2, problem is infeasible, so exit this function\n",
        "        else :\n",
        "            pivot(a,pivrow,pivcol,indep_names,dep_names,dual_indep_names,dual_dep_names)\n",
        "            nsteps=nsteps+1\n",
        "            targetrow = targetnbf(a)\n",
        "    if nsteps >= 50:\n",
        "        return -9    # took too many pivots\n",
        "    else:\n",
        "        return 0"
      ],
      "execution_count": null,
      "outputs": []
    },
    {
      "cell_type": "code",
      "metadata": {
        "id": "nx_dqkWyTRV6"
      },
      "source": [
        "def simplex(a,indep_names,dep_names,dual_indep_names,dual_dep_names) :\n",
        "# Runs the simplex algorithm (doing NBF if needed, then BF)\n",
        "# Inputs: np.array \"a\" \n",
        "#         lists of variable names indep_names and dep_names (pivot will catch if they're wrong size)\n",
        "# Output: -2 if problem is infeasible\n",
        "#         -1 if problem is unbounded\n",
        "#         0 if problem has a solution\n",
        "#    (Also, the tableau \"a\" and variable-lists are updated with each pivot)\n",
        "    nrows = a.shape[0]   \n",
        "    ncols = a.shape[1]\n",
        "    print(\"Initial tableau\")\n",
        "    print_tableau(a,indep_names,dep_names,dual_indep_names,dual_dep_names)\n",
        "    code = simplexnbf(a,indep_names,dep_names,dual_indep_names,dual_dep_names)\n",
        "    if code == -2 :\n",
        "        print(\"Problem is infeasible\")\n",
        "        return -2\n",
        "    elif code == -9 : \n",
        "        print(\"SimplexNBF took too many pivots\")\n",
        "    else :\n",
        "        code = simplexbf(a,indep_names,dep_names,dual_indep_names,dual_dep_names)\n",
        "        if code == -1 :\n",
        "            print(\"Problem is unbounded\")\n",
        "            return -1\n",
        "        elif code == -9 :\n",
        "            print(\"SimplexBF took too many pivots\")\n",
        "        else :\n",
        "            print(\"Problem has solution, final tableau is shown above\")\n",
        "            return 0"
      ],
      "execution_count": null,
      "outputs": []
    },
    {
      "cell_type": "code",
      "metadata": {
        "id": "vMPWIRcgTTaf"
      },
      "source": [
        "def simplexeq(a,k,indep_names,dep_names,dual_indep_names,dual_dep_names) :\n",
        "# Specialized function to do the \"pre-simplex\" step to handle tableaus where the\n",
        "#   first k rows correspond to equality constraints.\n",
        "    nrows = a.shape[0]   \n",
        "    ncols = a.shape[1]\n",
        "    print_tableau(a,indep_names,dep_names,dual_indep_names,dual_dep_names)\n",
        "    for i in range(k) :\n",
        "        j=0\n",
        "        pivcol=-1\n",
        "        for j in range(ncols-1) :\n",
        "            if abs(a[i,j]) > 0.000001 :\n",
        "                pivrow=i+1\n",
        "                pivcol=j+1\n",
        "                break\n",
        "        if pivcol == -1 :\n",
        "            return -3\n",
        "        else :\n",
        "            pivot(a,pivrow,pivcol,indep_names,dep_names,dual_indep_names,dual_dep_names)\n",
        "            a=column_delete(a,pivcol,indep_names,dep_names,dual_indep_names,dual_dep_names)\n",
        "            ncols=ncols-1\n",
        "    code = simplex(a,indep_names,dep_names,dual_indep_names,dual_dep_names)\n",
        "    return code  "
      ],
      "execution_count": null,
      "outputs": []
    },
    {
      "cell_type": "code",
      "metadata": {
        "colab": {
          "base_uri": "https://localhost:8080/"
        },
        "id": "P46bcHKyTaCB",
        "outputId": "a4eed607-c78e-4308-db46-4a54777b3ea4"
      },
      "source": [
        "# In this one, the first constraint is an equality constraint, so we use simplexeq \n",
        "#  (with second argument = 1 to indicate there is one equality constraint)\n",
        "a = np.array([[0,-1,-1,-1,-1],\n",
        "              [-1,0,-2,1,0],\n",
        "              [-1,2,0,-1,0],\n",
        "              [-1,-1,1,0,0],\n",
        "              [-1,0,0,0,0]])\n",
        "print(a)\n",
        "a = a.astype(float)\n",
        "indep_names = [\"ucirc\",\"q1\",\"q2\",\"q3\"]\n",
        "dep_names = [\"0\",\"t1\",\"t2\",\"t3\"]\n",
        "dual_indep_names = [\"vcirc\",\"p1\",\"p2\",\"p3\"]\n",
        "dual_dep_names = [\"0\",\"s1\",\"s2\",\"s3\"]\n",
        "print_tableau(a,indep_names,dep_names,dual_indep_names,dual_dep_names)\n",
        "pivot(a,1,2,indep_names,dep_names,dual_indep_names,dual_dep_names)\n",
        "a = column_delete(a,2,indep_names,dep_names,dual_indep_names,dual_dep_names)\n",
        "pivot(a,2,1,indep_names,dep_names,dual_indep_names,dual_dep_names)\n",
        "a = row_delete(a,2,indep_names,dep_names,dual_indep_names,dual_dep_names)\n",
        "simplex(a,indep_names,dep_names,dual_indep_names,dual_dep_names)"
      ],
      "execution_count": null,
      "outputs": [
        {
          "output_type": "stream",
          "text": [
            "[[ 0 -1 -1 -1 -1]\n",
            " [-1  0 -2  1  0]\n",
            " [-1  2  0 -1  0]\n",
            " [-1 -1  1  0  0]\n",
            " [-1  0  0  0  0]]\n",
            "               ucirc        q1        q2        q3        -1\n",
            "     vcirc     0.000    -1.000    -1.000    -1.000    -1.000      = -0\n",
            "        p1    -1.000     0.000    -2.000     1.000     0.000     = -t1\n",
            "        p2    -1.000     2.000     0.000    -1.000     0.000     = -t2\n",
            "        p3    -1.000    -1.000     1.000     0.000     0.000     = -t3\n",
            "        -1    -1.000     0.000     0.000     0.000     0.000     = obj\n",
            "                  =0       =s1       =s2       =s3  =dualobj\n",
            " \n",
            "               ucirc         0        q2        q3        -1\n",
            "        s1    -0.000    -1.000     1.000     1.000     1.000     = -q1\n",
            "        p1    -1.000     0.000    -2.000     1.000    -0.000     = -t1\n",
            "        p2    -1.000     2.000    -2.000    -3.000    -2.000     = -t2\n",
            "        p3    -1.000    -1.000     2.000     1.000     1.000     = -t3\n",
            "        -1    -1.000     0.000    -0.000    -0.000    -0.000     = obj\n",
            "                  =0    =vcirc       =s2       =s3  =dualobj\n",
            " \n",
            "               ucirc        q2        q3        -1\n",
            "        s1    -0.000     1.000     1.000     1.000     = -q1\n",
            "        p1    -1.000    -2.000     1.000    -0.000     = -t1\n",
            "        p2    -1.000    -2.000    -3.000    -2.000     = -t2\n",
            "        p3    -1.000     2.000     1.000     1.000     = -t3\n",
            "        -1    -1.000    -0.000    -0.000    -0.000     = obj\n",
            "                  =0       =s2       =s3  =dualobj\n",
            " \n",
            "                  t1        q2        q3        -1\n",
            "        s1    -0.000     1.000     1.000     1.000     = -q1\n",
            "         0    -1.000     2.000    -1.000     0.000  = -ucirc\n",
            "        p2    -1.000    -0.000    -4.000    -2.000     = -t2\n",
            "        p3    -1.000     4.000    -0.000     1.000     = -t3\n",
            "        -1    -1.000     2.000    -1.000    -0.000     = obj\n",
            "                 =p1       =s2       =s3  =dualobj\n",
            " \n",
            "                  t1        q2        q3        -1\n",
            "        s1    -0.000     1.000     1.000     1.000     = -q1\n",
            "        p2    -1.000    -0.000    -4.000    -2.000     = -t2\n",
            "        p3    -1.000     4.000    -0.000     1.000     = -t3\n",
            "        -1    -1.000     2.000    -1.000    -0.000     = obj\n",
            "                 =p1       =s2       =s3  =dualobj\n",
            " \n",
            "Initial tableau\n",
            "                  t1        q2        q3        -1\n",
            "        s1    -0.000     1.000     1.000     1.000     = -q1\n",
            "        p2    -1.000    -0.000    -4.000    -2.000     = -t2\n",
            "        p3    -1.000     4.000    -0.000     1.000     = -t3\n",
            "        -1    -1.000     2.000    -1.000    -0.000     = obj\n",
            "                 =p1       =s2       =s3  =dualobj\n",
            " \n",
            "Starting SimplexNBF (will do nothing if already basic feasible)\n",
            "                  t1        q2        t2        -1\n",
            "        s1    -0.250     1.000     0.250     0.500     = -q1\n",
            "        s3     0.250     0.000    -0.250     0.500     = -q3\n",
            "        p3    -1.000     4.000    -0.000     1.000     = -t3\n",
            "        -1    -0.750     2.000    -0.250     0.500     = obj\n",
            "                 =p1       =s2       =p2  =dualobj\n",
            " \n",
            "Starting SimplexBF (will do nothing if solution can already be determined)\n",
            "                  t1        t3        t2        -1\n",
            "        s1     0.000    -0.250     0.250     0.250     = -q1\n",
            "        s3     0.250    -0.000    -0.250     0.500     = -q3\n",
            "        s2    -0.250     0.250    -0.000     0.250     = -q2\n",
            "        -1    -0.250    -0.500    -0.250     0.000     = obj\n",
            "                 =p1       =p3       =p2  =dualobj\n",
            " \n",
            "Problem has solution, final tableau is shown above\n"
          ],
          "name": "stdout"
        },
        {
          "output_type": "execute_result",
          "data": {
            "text/plain": [
              "0"
            ]
          },
          "metadata": {
            "tags": []
          },
          "execution_count": 18
        }
      ]
    },
    {
      "cell_type": "markdown",
      "metadata": {
        "id": "tFFqbLZAVurj"
      },
      "source": [
        "The output above shows that optimal play consists of each players playing scissors $50\\%$ of the time and the other two $25\\%$ of the time. The expected average payoff is zero. "
      ]
    },
    {
      "cell_type": "markdown",
      "metadata": {
        "id": "vVy84mVMWVkd"
      },
      "source": [
        "## Problem 4.\n"
      ]
    },
    {
      "cell_type": "markdown",
      "metadata": {
        "id": "sXgxaWh8ZjlG"
      },
      "source": [
        "### a."
      ]
    },
    {
      "cell_type": "code",
      "metadata": {
        "colab": {
          "base_uri": "https://localhost:8080/"
        },
        "id": "BkdoY1q6Waqb",
        "outputId": "514d638f-b219-4049-bee1-e9667e8ac7c9"
      },
      "source": [
        "# In this one, the first constraint is an equality constraint, so we use simplexeq \n",
        "#  (with second argument = 1 to indicate there is one equality constraint)\n",
        "a = np.array([[0,-1,-1,-1,-1,-1],\n",
        "              [-1,-1,1,-1,2,0],\n",
        "              [-1,-1,-1,1,1,0],\n",
        "              [-1,0,1,1,-1,0],\n",
        "              [-1,0,0,0,0,0]])\n",
        "print(a)\n",
        "a = a.astype(float)\n",
        "indep_names = [\"ucirc\",\"q1\",\"q2\",\"q3\",\"q4\"]\n",
        "dep_names = [\"0\",\"t1\",\"t2\",\"t3\"]\n",
        "dual_indep_names = [\"vcirc\",\"p1\",\"p2\",\"p3\"]\n",
        "dual_dep_names = [\"0\",\"s1\",\"s2\",\"s3\",\"s4\"]\n",
        "print_tableau(a,indep_names,dep_names,dual_indep_names,dual_dep_names)\n",
        "pivot(a,1,2,indep_names,dep_names,dual_indep_names,dual_dep_names)\n",
        "a = column_delete(a,2,indep_names,dep_names,dual_indep_names,dual_dep_names)\n",
        "pivot(a,2,1,indep_names,dep_names,dual_indep_names,dual_dep_names)\n",
        "a = row_delete(a,2,indep_names,dep_names,dual_indep_names,dual_dep_names)\n",
        "simplex(a,indep_names,dep_names,dual_indep_names,dual_dep_names)"
      ],
      "execution_count": null,
      "outputs": [
        {
          "output_type": "stream",
          "text": [
            "[[ 0 -1 -1 -1 -1 -1]\n",
            " [-1 -1  1 -1  2  0]\n",
            " [-1 -1 -1  1  1  0]\n",
            " [-1  0  1  1 -1  0]\n",
            " [-1  0  0  0  0  0]]\n",
            "               ucirc        q1        q2        q3        q4        -1\n",
            "     vcirc     0.000    -1.000    -1.000    -1.000    -1.000    -1.000      = -0\n",
            "        p1    -1.000    -1.000     1.000    -1.000     2.000     0.000     = -t1\n",
            "        p2    -1.000    -1.000    -1.000     1.000     1.000     0.000     = -t2\n",
            "        p3    -1.000     0.000     1.000     1.000    -1.000     0.000     = -t3\n",
            "        -1    -1.000     0.000     0.000     0.000     0.000     0.000     = obj\n",
            "                  =0       =s1       =s2       =s3       =s4  =dualobj\n",
            " \n",
            "               ucirc         0        q2        q3        q4        -1\n",
            "        s1    -0.000    -1.000     1.000     1.000     1.000     1.000     = -q1\n",
            "        p1    -1.000    -1.000     2.000    -0.000     3.000     1.000     = -t1\n",
            "        p2    -1.000    -1.000    -0.000     2.000     2.000     1.000     = -t2\n",
            "        p3    -1.000     0.000     1.000     1.000    -1.000    -0.000     = -t3\n",
            "        -1    -1.000     0.000    -0.000    -0.000    -0.000    -0.000     = obj\n",
            "                  =0    =vcirc       =s2       =s3       =s4  =dualobj\n",
            " \n",
            "               ucirc        q2        q3        q4        -1\n",
            "        s1    -0.000     1.000     1.000     1.000     1.000     = -q1\n",
            "        p1    -1.000     2.000    -0.000     3.000     1.000     = -t1\n",
            "        p2    -1.000    -0.000     2.000     2.000     1.000     = -t2\n",
            "        p3    -1.000     1.000     1.000    -1.000    -0.000     = -t3\n",
            "        -1    -1.000    -0.000    -0.000    -0.000    -0.000     = obj\n",
            "                  =0       =s2       =s3       =s4  =dualobj\n",
            " \n",
            "                  t1        q2        q3        q4        -1\n",
            "        s1    -0.000     1.000     1.000     1.000     1.000     = -q1\n",
            "         0    -1.000    -2.000     0.000    -3.000    -1.000  = -ucirc\n",
            "        p2    -1.000    -2.000     2.000    -1.000    -0.000     = -t2\n",
            "        p3    -1.000    -1.000     1.000    -4.000    -1.000     = -t3\n",
            "        -1    -1.000    -2.000    -0.000    -3.000    -1.000     = obj\n",
            "                 =p1       =s2       =s3       =s4  =dualobj\n",
            " \n",
            "                  t1        q2        q3        q4        -1\n",
            "        s1    -0.000     1.000     1.000     1.000     1.000     = -q1\n",
            "        p2    -1.000    -2.000     2.000    -1.000    -0.000     = -t2\n",
            "        p3    -1.000    -1.000     1.000    -4.000    -1.000     = -t3\n",
            "        -1    -1.000    -2.000    -0.000    -3.000    -1.000     = obj\n",
            "                 =p1       =s2       =s3       =s4  =dualobj\n",
            " \n",
            "Initial tableau\n",
            "                  t1        q2        q3        q4        -1\n",
            "        s1    -0.000     1.000     1.000     1.000     1.000     = -q1\n",
            "        p2    -1.000    -2.000     2.000    -1.000    -0.000     = -t2\n",
            "        p3    -1.000    -1.000     1.000    -4.000    -1.000     = -t3\n",
            "        -1    -1.000    -2.000    -0.000    -3.000    -1.000     = obj\n",
            "                 =p1       =s2       =s3       =s4  =dualobj\n",
            " \n",
            "Starting SimplexNBF (will do nothing if already basic feasible)\n",
            "                  t1        q2        q3        t3        -1\n",
            "        s1    -0.250     0.750     1.250     0.250     0.750     = -q1\n",
            "        p2    -0.750    -1.750     1.750    -0.250     0.250     = -t2\n",
            "        s4     0.250     0.250    -0.250    -0.250     0.250     = -q4\n",
            "        -1    -0.250    -1.250    -0.750    -0.750    -0.250     = obj\n",
            "                 =p1       =s2       =s3       =p3  =dualobj\n",
            " \n",
            "Starting SimplexBF (will do nothing if solution can already be determined)\n",
            "Problem has solution, final tableau is shown above\n"
          ],
          "name": "stdout"
        },
        {
          "output_type": "execute_result",
          "data": {
            "text/plain": [
              "0"
            ]
          },
          "metadata": {
            "tags": []
          },
          "execution_count": 19
        }
      ]
    },
    {
      "cell_type": "markdown",
      "metadata": {
        "id": "4_6lk57vZADU"
      },
      "source": [
        "The output above indicates that the row player should play strategy one with probability .25, and strategy three with probability .75. Player $R$ never plays strategy $2$.\n",
        "\n",
        "The column player plays strategies 1 and 4 with probabilties .75 and .25 respectively. Player $C$ never plays strategy two or four."
      ]
    },
    {
      "cell_type": "markdown",
      "metadata": {
        "id": "KF10RKMIZgbx"
      },
      "source": [
        "### b.\n",
        "Note that the column player recieves a higher payoff playing strategy one in every state than strategies two and three. These two strategies are dominated. However, strategy four is not dominated by strategy one as it pays more in when the opponent plays three.\n",
        "\n",
        "There are no dominant strategies for the row player.\n",
        "\n",
        "Reducing the tableau to the following and solving gives:"
      ]
    },
    {
      "cell_type": "markdown",
      "metadata": {
        "id": "i_jePBorboer"
      },
      "source": [
        "### c."
      ]
    },
    {
      "cell_type": "code",
      "metadata": {
        "colab": {
          "base_uri": "https://localhost:8080/"
        },
        "id": "p9W0RP93Y-U1",
        "outputId": "cf1756fe-29c0-4405-db37-38025c185999"
      },
      "source": [
        "# In this one, the first constraint is an equality constraint, so we use simplexeq \n",
        "#  (with second argument = 1 to indicate there is one equality constraint)\n",
        "a = np.array([[0,-1,-1,-1],\n",
        "              [-1,-1,2,0],\n",
        "              [-1,-1,1,0],\n",
        "              [-1,0,-1,0],\n",
        "              [-1,0,0,0]])\n",
        "print(a)\n",
        "a = a.astype(float)\n",
        "indep_names = [\"ucirc\",\"q1\",\"q4\"]\n",
        "dep_names = [\"0\",\"t1\",\"t2\",\"t3\"]\n",
        "dual_indep_names = [\"vcirc\",\"p1\",\"p2\",\"p3\"]\n",
        "dual_dep_names = [\"0\",\"s1\",\"s4\"]\n",
        "print_tableau(a,indep_names,dep_names,dual_indep_names,dual_dep_names)\n",
        "pivot(a,1,2,indep_names,dep_names,dual_indep_names,dual_dep_names)\n",
        "a = column_delete(a,2,indep_names,dep_names,dual_indep_names,dual_dep_names)\n",
        "pivot(a,2,1,indep_names,dep_names,dual_indep_names,dual_dep_names)\n",
        "a = row_delete(a,2,indep_names,dep_names,dual_indep_names,dual_dep_names)\n",
        "simplex(a,indep_names,dep_names,dual_indep_names,dual_dep_names)"
      ],
      "execution_count": null,
      "outputs": [
        {
          "output_type": "stream",
          "text": [
            "[[ 0 -1 -1 -1]\n",
            " [-1 -1  2  0]\n",
            " [-1 -1  1  0]\n",
            " [-1  0 -1  0]\n",
            " [-1  0  0  0]]\n",
            "               ucirc        q1        q4        -1\n",
            "     vcirc     0.000    -1.000    -1.000    -1.000      = -0\n",
            "        p1    -1.000    -1.000     2.000     0.000     = -t1\n",
            "        p2    -1.000    -1.000     1.000     0.000     = -t2\n",
            "        p3    -1.000     0.000    -1.000     0.000     = -t3\n",
            "        -1    -1.000     0.000     0.000     0.000     = obj\n",
            "                  =0       =s1       =s4  =dualobj\n",
            " \n",
            "               ucirc         0        q4        -1\n",
            "        s1    -0.000    -1.000     1.000     1.000     = -q1\n",
            "        p1    -1.000    -1.000     3.000     1.000     = -t1\n",
            "        p2    -1.000    -1.000     2.000     1.000     = -t2\n",
            "        p3    -1.000     0.000    -1.000    -0.000     = -t3\n",
            "        -1    -1.000     0.000    -0.000    -0.000     = obj\n",
            "                  =0    =vcirc       =s4  =dualobj\n",
            " \n",
            "               ucirc        q4        -1\n",
            "        s1    -0.000     1.000     1.000     = -q1\n",
            "        p1    -1.000     3.000     1.000     = -t1\n",
            "        p2    -1.000     2.000     1.000     = -t2\n",
            "        p3    -1.000    -1.000    -0.000     = -t3\n",
            "        -1    -1.000    -0.000    -0.000     = obj\n",
            "                  =0       =s4  =dualobj\n",
            " \n",
            "                  t1        q4        -1\n",
            "        s1    -0.000     1.000     1.000     = -q1\n",
            "         0    -1.000    -3.000    -1.000  = -ucirc\n",
            "        p2    -1.000    -1.000    -0.000     = -t2\n",
            "        p3    -1.000    -4.000    -1.000     = -t3\n",
            "        -1    -1.000    -3.000    -1.000     = obj\n",
            "                 =p1       =s4  =dualobj\n",
            " \n",
            "                  t1        q4        -1\n",
            "        s1    -0.000     1.000     1.000     = -q1\n",
            "        p2    -1.000    -1.000    -0.000     = -t2\n",
            "        p3    -1.000    -4.000    -1.000     = -t3\n",
            "        -1    -1.000    -3.000    -1.000     = obj\n",
            "                 =p1       =s4  =dualobj\n",
            " \n",
            "Initial tableau\n",
            "                  t1        q4        -1\n",
            "        s1    -0.000     1.000     1.000     = -q1\n",
            "        p2    -1.000    -1.000    -0.000     = -t2\n",
            "        p3    -1.000    -4.000    -1.000     = -t3\n",
            "        -1    -1.000    -3.000    -1.000     = obj\n",
            "                 =p1       =s4  =dualobj\n",
            " \n",
            "Starting SimplexNBF (will do nothing if already basic feasible)\n",
            "                  t1        t3        -1\n",
            "        s1    -0.250     0.250     0.750     = -q1\n",
            "        p2    -0.750    -0.250     0.250     = -t2\n",
            "        s4     0.250    -0.250     0.250     = -q4\n",
            "        -1    -0.250    -0.750    -0.250     = obj\n",
            "                 =p1       =p3  =dualobj\n",
            " \n",
            "Starting SimplexBF (will do nothing if solution can already be determined)\n",
            "Problem has solution, final tableau is shown above\n"
          ],
          "name": "stdout"
        },
        {
          "output_type": "execute_result",
          "data": {
            "text/plain": [
              "0"
            ]
          },
          "metadata": {
            "tags": []
          },
          "execution_count": 20
        }
      ]
    },
    {
      "cell_type": "markdown",
      "metadata": {
        "id": "AdX3iABQbMGQ"
      },
      "source": [
        "Reading off of the above output shows that the solution is identical. There is this pesky $p_2=0$ even though it's not dominated which is interesting."
      ]
    }
  ]
}