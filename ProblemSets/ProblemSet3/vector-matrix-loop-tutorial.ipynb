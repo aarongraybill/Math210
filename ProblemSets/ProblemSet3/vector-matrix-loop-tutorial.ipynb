{
 "cells": [
  {
   "cell_type": "markdown",
   "metadata": {},
   "source": [
    "__Creating vectors and matrices__"
   ]
  },
  {
   "cell_type": "code",
   "execution_count": 14,
   "metadata": {},
   "outputs": [
    {
     "name": "stdout",
     "output_type": "stream",
     "text": [
      "[1 4 5 6 7]\n"
     ]
    }
   ],
   "source": [
    "# Here's one way to handle a vector in Python: as a one-dimensional array in the package numpy\n",
    "# Execute this cell to see that it works\n",
    "import numpy as np\n",
    "w = np.array([1, 4, 5, 6, 7])\n",
    "print(w)"
   ]
  },
  {
   "cell_type": "code",
   "execution_count": 15,
   "metadata": {},
   "outputs": [
    {
     "name": "stdout",
     "output_type": "stream",
     "text": [
      "[[1 3 5]\n",
      " [2 4 6]]\n",
      "\n",
      "[[1]\n",
      " [4]\n",
      " [5]\n",
      " [6]\n",
      " [7]]\n"
     ]
    }
   ],
   "source": [
    "# To create a matrix, we use similar syntax:\n",
    "a = np.array([  [1, 3, 5], [2, 4, 6] ])\n",
    "print(a)\n",
    "# This gives us a way to make a column vector:\n",
    "v = np.array([ [1], [4], [5], [6], [7]])\n",
    "print()   # this is just a blank line\n",
    "print(v)"
   ]
  },
  {
   "cell_type": "markdown",
   "metadata": {},
   "source": [
    "__Accessing entries in a vector or a matrix__"
   ]
  },
  {
   "cell_type": "code",
   "execution_count": 16,
   "metadata": {},
   "outputs": [
    {
     "name": "stdout",
     "output_type": "stream",
     "text": [
      "[1]\n",
      "[5]\n",
      "1\n",
      "6\n"
     ]
    }
   ],
   "source": [
    "# Here's how you access entries in a vector or a matrix.  \n",
    "# Note that Python (like many programming languages) labels the first row, or the first column\n",
    "#     as index 0 rather than as index 1\n",
    "print(v[0])\n",
    "print(v[2])\n",
    "print(a[0][0])\n",
    "print(a[1][2])"
   ]
  },
  {
   "cell_type": "code",
   "execution_count": null,
   "metadata": {},
   "outputs": [],
   "source": [
    "# Notice that entering, displaying, and extracting entries from column vectors is a bit annoying.\n",
    "# As a result, some may prefer to just use row vectors and remember that we mean it to be a column"
   ]
  },
  {
   "cell_type": "markdown",
   "metadata": {},
   "source": [
    "__For loops__"
   ]
  },
  {
   "cell_type": "code",
   "execution_count": 17,
   "metadata": {},
   "outputs": [
    {
     "name": "stdout",
     "output_type": "stream",
     "text": [
      "0\n",
      "1\n",
      "2\n",
      "3\n",
      "4\n"
     ]
    }
   ],
   "source": [
    "# \"For loops\" allow you to repeat an action, with an integer tracking your progress\n",
    "# For example, \n",
    "#       for i in range(n) \n",
    "# will make \"i\" visit the integers 0, 1, 2, ..., n-1\n",
    "\n",
    "for i in range(5):\n",
    "    print(i)"
   ]
  },
  {
   "cell_type": "code",
   "execution_count": 19,
   "metadata": {},
   "outputs": [
    {
     "name": "stdout",
     "output_type": "stream",
     "text": [
      "entry   0  is  1\n",
      "entry   1  is  4\n",
      "entry   2  is  5\n",
      "entry   3  is  6\n",
      "entry   4  is  7\n"
     ]
    }
   ],
   "source": [
    "# Since vectors are also indexed starting at 0, we can use \"for\" and \"range\" to scan over entries of a vector\n",
    "w = np.array([1, 4, 5, 6, 7])\n",
    "for i in range(5):\n",
    "    print(\"entry  \",i,\" is \",w[i])"
   ]
  },
  {
   "cell_type": "code",
   "execution_count": 20,
   "metadata": {},
   "outputs": [
    {
     "name": "stdout",
     "output_type": "stream",
     "text": [
      "[1 4 5 6 7]\n",
      "[7 6 5 4 1]\n"
     ]
    }
   ],
   "source": [
    "# We can use this idea to build a vector from another vector.  For example,\n",
    "#    Here's an example of using a loop to create a vector that is v \"read backwards\"\n",
    "w = np.array([1,4,5,6,7])\n",
    "wnew = w.copy()         # This command makes a copy of w, so wnew has the desired number of entries\n",
    "for i in range(5):      # Now we use the loop to fill in the values we want\n",
    "    wnew[i] = w[4-i]\n",
    "print(w)\n",
    "print(wnew) "
   ]
  },
  {
   "cell_type": "code",
   "execution_count": 23,
   "metadata": {},
   "outputs": [
    {
     "name": "stdout",
     "output_type": "stream",
     "text": [
      "23\n"
     ]
    }
   ],
   "source": [
    "# We can also use a for loop to compute a sum\n",
    "w = np.array([1,4,5,6,7])\n",
    "sum = 0     # Initialize a variable to be zero, will accumulate the sum as we scan over the entries of w\n",
    "for i in range(5):\n",
    "    sum = sum + w[i]     # This command takes the old value of \"sum\", adds w[i] to it, and makes that the new value\n",
    "print(sum)"
   ]
  },
  {
   "cell_type": "markdown",
   "metadata": {},
   "source": [
    "__Double loops___"
   ]
  },
  {
   "cell_type": "code",
   "execution_count": 22,
   "metadata": {},
   "outputs": [
    {
     "name": "stdout",
     "output_type": "stream",
     "text": [
      "[[1 3 5]\n",
      " [2 4 6]]\n",
      "entry in row  0  and column  0  is  1\n",
      "entry in row  0  and column  1  is  3\n",
      "entry in row  0  and column  2  is  5\n",
      "entry in row  1  and column  0  is  2\n",
      "entry in row  1  and column  1  is  4\n",
      "entry in row  1  and column  2  is  6\n"
     ]
    }
   ],
   "source": [
    "# If you put one \"for loop\" inside another, you can cycle through the entries of a matrix:\n",
    "a = np.array([[1, 3, 5],[2,4,6]])\n",
    "print(a)\n",
    "for i in range(2):\n",
    "    for j in range(3):\n",
    "        print(\"entry in row \",i,\" and column \",j,\" is \",a[i][j])"
   ]
  },
  {
   "cell_type": "markdown",
   "metadata": {},
   "source": [
    "__Three exercises for you to do; some fundamental computations in linear\n",
    "algebra: the dot product, the outer product (which is a key component\n",
    "of the pivot computation), and the transpose__"
   ]
  },
  {
   "cell_type": "code",
   "execution_count": 31,
   "metadata": {},
   "outputs": [],
   "source": [
    "def dot_prod(v1,v2) :\n",
    "    # Inputs:   two vectors v1, v2 with the same number of entries\n",
    "    # Output:   the dot product of the vectors\n",
    "    n = v1.shape[0]    # The number of entries in v1 (and hence in v2 as well)\n",
    "    #\n",
    "    # You fill in what goes here to compute the dot product, call it \"x\"\n",
    "    #\n",
    "    return x"
   ]
  },
  {
   "cell_type": "code",
   "execution_count": 32,
   "metadata": {},
   "outputs": [],
   "source": [
    "def outer_prod(v1,v2) :\n",
    "    # Inputs: two vectors v1, v2 with the same number of entries\n",
    "    # Output: the matrix v1 v2^T (when v1, v2 are considered to be column vectors)\n",
    "    n = v1.shape[0]    # This determines how many entries are in v1 (and hence in v2 as well)\n",
    "    a = np.empty([n,n])    # This sets up \"a\" to be a matrix with the correct number of rows and columns\n",
    "    #\n",
    "    # You fill in what goes here to compute the entries of \"a\"\n",
    "    #\n",
    "    return a"
   ]
  },
  {
   "cell_type": "code",
   "execution_count": 33,
   "metadata": {},
   "outputs": [],
   "source": [
    "def transp(a) :\n",
    "    # Input: a (a matrix)\n",
    "    # Output: the matrix a^T\n",
    "    m = a.shape[0]   # This determines the number of rows in a\n",
    "    n = a.shape[1]   # This determines the number of columns in a\n",
    "    #\n",
    "    # You fill in what goes here to compute the entries of the transpose, call it \"b\"\n",
    "    #\n",
    "    return b"
   ]
  },
  {
   "cell_type": "code",
   "execution_count": null,
   "metadata": {},
   "outputs": [],
   "source": [
    "# You can run this to test your codes\n",
    "v1 = np.array([1,4,5,6])\n",
    "v2 = np.array([2,1,3,8])\n",
    "result1 = dot_prod(v1,v2)\n",
    "print(result1)\n",
    "print()\n",
    "result2 = outer_prod(v1,v2)\n",
    "print(result2)\n",
    "print()\n",
    "a = np.array([[1,4,6,7],[2,3,9,8]])\n",
    "print(a)\n",
    "print()\n",
    "m = transp(a)\n",
    "print(m)"
   ]
  },
  {
   "cell_type": "code",
   "execution_count": null,
   "metadata": {},
   "outputs": [],
   "source": []
  }
 ],
 "metadata": {
  "kernelspec": {
   "display_name": "Python 3",
   "language": "python",
   "name": "python3"
  },
  "language_info": {
   "codemirror_mode": {
    "name": "ipython",
    "version": 3
   },
   "file_extension": ".py",
   "mimetype": "text/x-python",
   "name": "python",
   "nbconvert_exporter": "python",
   "pygments_lexer": "ipython3",
   "version": "3.5.2"
  }
 },
 "nbformat": 4,
 "nbformat_minor": 2
}
