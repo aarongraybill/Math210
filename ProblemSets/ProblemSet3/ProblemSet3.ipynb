{
  "nbformat": 4,
  "nbformat_minor": 0,
  "metadata": {
    "colab": {
      "name": "ProblemSet2.ipynb",
      "provenance": [],
      "collapsed_sections": [],
      "toc_visible": true,
      "include_colab_link": true
    },
    "kernelspec": {
      "name": "python3",
      "display_name": "Python 3"
    }
  },
  "cells": [
    {
      "cell_type": "markdown",
      "metadata": {
        "id": "view-in-github",
        "colab_type": "text"
      },
      "source": [
        "<a href=\"https://colab.research.google.com/github/aarongraybill/Math210/blob/main/ProblemSets/ProblemSet3/ProblemSet3.ipynb\" target=\"_parent\"><img src=\"https://colab.research.google.com/assets/colab-badge.svg\" alt=\"Open In Colab\"/></a>"
      ]
    },
    {
      "cell_type": "markdown",
      "metadata": {
        "id": "hLpSiJM2WkeL"
      },
      "source": [
        "# Math 210\n",
        "## Aaron Graybill\n",
        "### Problem Set 3\n",
        "### 3/4/21"
      ]
    },
    {
      "cell_type": "markdown",
      "metadata": {
        "id": "vgo9Ot_KHW0W"
      },
      "source": [
        "## Problem 1."
      ]
    },
    {
      "cell_type": "code",
      "metadata": {
        "colab": {
          "base_uri": "https://localhost:8080/"
        },
        "id": "ZqEoqIDKImph",
        "outputId": "7eeb5ed9-c56e-4c92-c202-1172623be2e8"
      },
      "source": [
        "## Dot Product:\n",
        "import numpy as np\n",
        "\n",
        "def dot(v1,v2):\n",
        "  out=0\n",
        "  for idx, x in np.ndenumerate(v1): #iterator location and value\n",
        "    out = out + v1[idx]*v2[idx]\n",
        "  return out\n",
        "\n",
        "dot(np.array([1,2,3]),np.array([1,2,3]))"
      ],
      "execution_count": 3,
      "outputs": [
        {
          "output_type": "execute_result",
          "data": {
            "text/plain": [
              "14"
            ]
          },
          "metadata": {
            "tags": []
          },
          "execution_count": 3
        }
      ]
    },
    {
      "cell_type": "code",
      "metadata": {
        "colab": {
          "base_uri": "https://localhost:8080/"
        },
        "id": "7Rlxda8yL4ps",
        "outputId": "417564b4-7d31-446f-d3c4-dec49329c7cc"
      },
      "source": [
        "## Outer Product\n",
        "\n",
        "def outer(v1,v2):\n",
        "  out=np.empty((v1.shape[0],v2.shape[0])) #define empty matrix\n",
        "  for i in range(v1.shape[0]): #one iter for each row\n",
        "    out[i,:]=v1[i]*v2 # multiply each row vector by the current scalar\n",
        "  return out\n",
        "\n",
        "outer(np.array([1,2,3]),np.array([1,2,3]))\n"
      ],
      "execution_count": 4,
      "outputs": [
        {
          "output_type": "execute_result",
          "data": {
            "text/plain": [
              "array([[1., 2., 3.],\n",
              "       [2., 4., 6.],\n",
              "       [3., 6., 9.]])"
            ]
          },
          "metadata": {
            "tags": []
          },
          "execution_count": 4
        }
      ]
    },
    {
      "cell_type": "code",
      "metadata": {
        "id": "lkU7KyOvN8GV"
      },
      "source": [
        "## Transpose\n",
        "#This code is quite cute i think\n",
        "\n",
        "def transp(a) :\n",
        "  out=np.empty((a.shape[1],a.shape[0])) #make empty matrix of right dims\n",
        "  for idx, x in np.ndenumerate(a): #iterator location and value\n",
        "    out[idx[1],idx[0]] = x #give current value to opposite index\n",
        "  return out"
      ],
      "execution_count": 5,
      "outputs": []
    },
    {
      "cell_type": "code",
      "metadata": {
        "colab": {
          "base_uri": "https://localhost:8080/"
        },
        "id": "tA8dr-zKPbD9",
        "outputId": "c7cabe52-945a-4c1a-e3d5-223f7a215689"
      },
      "source": [
        "# You can run this to test your codes\n",
        "v1 = np.array([1,4,5,6])\n",
        "v2 = np.array([2,1,3,8])\n",
        "result1 = dot(v1,v2)\n",
        "print(result1)\n",
        "print()\n",
        "result2 = outer(v1,v2)\n",
        "print(result2)\n",
        "print()\n",
        "a = np.array([[1,4,6,7],[2,3,9,8]])\n",
        "print(a)\n",
        "#print()\n",
        "m = transp(a)\n",
        "print(m)"
      ],
      "execution_count": 6,
      "outputs": [
        {
          "output_type": "stream",
          "text": [
            "69\n",
            "\n",
            "[[ 2.  1.  3.  8.]\n",
            " [ 8.  4. 12. 32.]\n",
            " [10.  5. 15. 40.]\n",
            " [12.  6. 18. 48.]]\n",
            "\n",
            "[[1 4 6 7]\n",
            " [2 3 9 8]]\n",
            "[[1. 2.]\n",
            " [4. 3.]\n",
            " [6. 9.]\n",
            " [7. 8.]]\n"
          ],
          "name": "stdout"
        }
      ]
    },
    {
      "cell_type": "markdown",
      "metadata": {
        "id": "CqDpReNKWG-2"
      },
      "source": [
        "## Problem 2.\n"
      ]
    },
    {
      "cell_type": "markdown",
      "metadata": {
        "id": "ItC4tXkIWJcJ"
      },
      "source": [
        "### a.\n"
      ]
    },
    {
      "cell_type": "code",
      "metadata": {
        "id": "WFEgtjqNWVLD"
      },
      "source": [
        "# Problem 2a -- implements the Target step of SimplexBF\n",
        "#      Input: tableau \"a\" (just the numbers, no labels)\n",
        "#      Output: the column number where the largest c is located\n",
        "#                 except if all c's are <= 0, then return -1\n",
        "#              (in giving the column a number, use human numbering, i.e., first column is 1 not 0)\n",
        "# \n",
        "def target(a) :\n",
        "    nrows,ncols = a.shape #define row and column nums\n",
        "    if np.max(a[nrows-1,:-1])<0: #if highest val <0, return -1 (don't check constant)\n",
        "        return -1\n",
        "    else: \n",
        "      bestcol = np.argmax(a[nrows-1,:])+1 #return the maximizing place +1 (for readibility)\n",
        "      return bestcol\n"
      ],
      "execution_count": 60,
      "outputs": []
    },
    {
      "cell_type": "markdown",
      "metadata": {
        "id": "csAnhP8qYD7Y"
      },
      "source": [
        "### b. "
      ]
    },
    {
      "cell_type": "code",
      "metadata": {
        "id": "J4z3t2k6jiw9"
      },
      "source": [
        "\n",
        "# Problem 2b -- implements the Candidates/Select step of SimplexBF\n",
        "#      Two Inputs: tableau \"a\" (just the numbers, no labels)\n",
        "#               and column number \"pivcolnum\" where the Target lives\n",
        "#      Output: the row number for the pivot that SimplexBF would choose\n",
        "#                 except if all aij's in this column are <= 0, then return -1\n",
        "#     \n",
        "#     NOTE: for both the input column number and the output row number,\n",
        "#               please use human numbering, i.e., first column or row is 1 not 0\n",
        "#  \n",
        "def select(a,pivcolnum) :\n",
        "    bestratio=np.inf #initial value that anything will be better than\n",
        "    nrows = a.shape[0]    # use the shape function to determine number of rows and cols in A\n",
        "    ncols = a.shape[1]\n",
        "    rownum=\"Something is wrong if you're seeing this\"\n",
        "    if max(a[:-1,pivcol-1])<=0:#prevents checking the obj function\n",
        "      rownum =-1\n",
        "    else:\n",
        "      for i in range(nrows-1): #don't check obj function\n",
        "        ratio=a[i,ncols-1]/a[i,pivcolnum-1]\n",
        "        if ratio<bestratio:\n",
        "          bestratio=ratio\n",
        "          rownum=i+1\n",
        "\n",
        "# You fill in the rest.  In your code, define \"rownum\" to equal the row number for the pivot\n",
        "    return rownum;"
      ],
      "execution_count": 125,
      "outputs": []
    },
    {
      "cell_type": "code",
      "metadata": {
        "colab": {
          "base_uri": "https://localhost:8080/"
        },
        "id": "pPz86rKHZoLJ",
        "outputId": "68f594a3-0f0f-4cba-d791-5a0e24cc9603"
      },
      "source": [
        "# This cell could be useful for you to test the two functions above\n",
        "import numpy as np\n",
        "a = np.array([[10,5,150],   # This is the bakery-problem \"a\"\n",
        "         [4,3,80],          # target should return column = 1\n",
        "         [30,20,0]])        # and then select should return row = 1\n",
        "                            # If you swap the 30 and 20, column and row should change to 2 \n",
        "\n",
        "                                                    \n",
        "pivcol=target(a)\n",
        "print(pivcol)\n",
        "pivrow=select(a,pivcol)\n",
        "print(\"pivot on row \",pivrow,\" and column \",pivcol)"
      ],
      "execution_count": 129,
      "outputs": [
        {
          "output_type": "stream",
          "text": [
            "pivot on row  2  and column  1\n"
          ],
          "name": "stdout"
        }
      ]
    }
  ]
}