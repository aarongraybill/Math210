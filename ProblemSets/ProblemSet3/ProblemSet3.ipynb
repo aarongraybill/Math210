{
  "nbformat": 4,
  "nbformat_minor": 0,
  "metadata": {
    "colab": {
      "name": "ProblemSet2.ipynb",
      "provenance": [],
      "collapsed_sections": [],
      "toc_visible": true,
      "include_colab_link": true
    },
    "kernelspec": {
      "name": "python3",
      "display_name": "Python 3"
    }
  },
  "cells": [
    {
      "cell_type": "markdown",
      "metadata": {
        "id": "view-in-github",
        "colab_type": "text"
      },
      "source": [
        "<a href=\"https://colab.research.google.com/github/aarongraybill/Math210/blob/main/ProblemSets/ProblemSet3/ProblemSet3.ipynb\" target=\"_parent\"><img src=\"https://colab.research.google.com/assets/colab-badge.svg\" alt=\"Open In Colab\"/></a>"
      ]
    },
    {
      "cell_type": "markdown",
      "metadata": {
        "id": "hLpSiJM2WkeL"
      },
      "source": [
        "# Math 210\n",
        "## Aaron Graybill\n",
        "### Problem Set 3\n",
        "### 3/4/21"
      ]
    },
    {
      "cell_type": "markdown",
      "metadata": {
        "id": "vgo9Ot_KHW0W"
      },
      "source": [
        "## Problem 1."
      ]
    },
    {
      "cell_type": "code",
      "metadata": {
        "colab": {
          "base_uri": "https://localhost:8080/"
        },
        "id": "ZqEoqIDKImph",
        "outputId": "f5e5a7e5-23f3-4cae-ee33-9671e74efa25"
      },
      "source": [
        "## Dot Product:\n",
        "import numpy as np\n",
        "\n",
        "def dot(v1,v2):\n",
        "  out=0\n",
        "  for idx, x in np.ndenumerate(v1): #iterator location and value\n",
        "    out = out + v1[idx]*v2[idx]\n",
        "  return out\n",
        "\n",
        "dot(np.array([1,2,3]),np.array([1,2,3]))"
      ],
      "execution_count": 1,
      "outputs": [
        {
          "output_type": "execute_result",
          "data": {
            "text/plain": [
              "14"
            ]
          },
          "metadata": {
            "tags": []
          },
          "execution_count": 1
        }
      ]
    },
    {
      "cell_type": "code",
      "metadata": {
        "colab": {
          "base_uri": "https://localhost:8080/"
        },
        "id": "7Rlxda8yL4ps",
        "outputId": "7bbcbbcb-9eb2-447c-c084-16220a6de681"
      },
      "source": [
        "## Outer Product\n",
        "\n",
        "def outer(v1,v2):\n",
        "  out=np.empty((v1.shape[0],v2.shape[0])) #define empty matrix\n",
        "  for i in range(v1.shape[0]): #one iter for each row\n",
        "    out[i,:]=v1[i]*v2 # multiply each row vector by the current scalar\n",
        "  return out\n",
        "\n",
        "outer(np.array([1,2,3]),np.array([1,2,3]))\n"
      ],
      "execution_count": 2,
      "outputs": [
        {
          "output_type": "execute_result",
          "data": {
            "text/plain": [
              "array([[1., 2., 3.],\n",
              "       [2., 4., 6.],\n",
              "       [3., 6., 9.]])"
            ]
          },
          "metadata": {
            "tags": []
          },
          "execution_count": 2
        }
      ]
    },
    {
      "cell_type": "code",
      "metadata": {
        "id": "lkU7KyOvN8GV"
      },
      "source": [
        "## Transpose\n",
        "#This code is quite cute i think\n",
        "\n",
        "def transp(a) :\n",
        "  out=np.empty((a.shape[1],a.shape[0])) #make empty matrix of right dims\n",
        "  for idx, x in np.ndenumerate(a): #iterator location and value\n",
        "    out[idx[1],idx[0]] = x #give current value to opposite index\n",
        "  return out"
      ],
      "execution_count": 3,
      "outputs": []
    },
    {
      "cell_type": "code",
      "metadata": {
        "colab": {
          "base_uri": "https://localhost:8080/"
        },
        "id": "tA8dr-zKPbD9",
        "outputId": "5700345b-62e3-443e-8e4a-f2fd767dc9e7"
      },
      "source": [
        "# You can run this to test your codes\n",
        "v1 = np.array([1,4,5,6])\n",
        "v2 = np.array([2,1,3,8])\n",
        "result1 = dot(v1,v2)\n",
        "print(result1)\n",
        "print()\n",
        "result2 = outer(v1,v2)\n",
        "print(result2)\n",
        "print()\n",
        "a = np.array([[1,4,6,7],[2,3,9,8]])\n",
        "print(a)\n",
        "#print()\n",
        "m = transp(a)\n",
        "print(m)"
      ],
      "execution_count": 4,
      "outputs": [
        {
          "output_type": "stream",
          "text": [
            "69\n",
            "\n",
            "[[ 2.  1.  3.  8.]\n",
            " [ 8.  4. 12. 32.]\n",
            " [10.  5. 15. 40.]\n",
            " [12.  6. 18. 48.]]\n",
            "\n",
            "[[1 4 6 7]\n",
            " [2 3 9 8]]\n",
            "[[1. 2.]\n",
            " [4. 3.]\n",
            " [6. 9.]\n",
            " [7. 8.]]\n"
          ],
          "name": "stdout"
        }
      ]
    },
    {
      "cell_type": "markdown",
      "metadata": {
        "id": "CqDpReNKWG-2"
      },
      "source": [
        "## Problem 2.\n"
      ]
    },
    {
      "cell_type": "markdown",
      "metadata": {
        "id": "ItC4tXkIWJcJ"
      },
      "source": [
        "### a.\n"
      ]
    },
    {
      "cell_type": "code",
      "metadata": {
        "id": "WFEgtjqNWVLD"
      },
      "source": [
        "# Problem 2a -- implements the Target step of SimplexBF\n",
        "#      Input: tableau \"a\" (just the numbers, no labels)\n",
        "#      Output: the column number where the largest c is located\n",
        "#                 except if all c's are <= 0, then return -1\n",
        "#              (in giving the column a number, use human numbering, i.e., first column is 1 not 0)\n",
        "# \n",
        "def target(a) :\n",
        "    nrows,ncols = a.shape #define row and column nums\n",
        "    if np.max(a[nrows-1,:-1])<0: #if highest val <0, return -1 (don't check constant)\n",
        "        return -1\n",
        "    else: \n",
        "      bestcol = np.argmax(a[nrows-1,:])+1 #return the maximizing place +1 (for readibility)\n",
        "      return bestcol\n"
      ],
      "execution_count": 5,
      "outputs": []
    },
    {
      "cell_type": "markdown",
      "metadata": {
        "id": "csAnhP8qYD7Y"
      },
      "source": [
        "### b. "
      ]
    },
    {
      "cell_type": "code",
      "metadata": {
        "id": "J4z3t2k6jiw9"
      },
      "source": [
        "\n",
        "# Problem 2b -- implements the Candidates/Select step of SimplexBF\n",
        "#      Two Inputs: tableau \"a\" (just the numbers, no labels)\n",
        "#               and column number \"pivcolnum\" where the Target lives\n",
        "#      Output: the row number for the pivot that SimplexBF would choose\n",
        "#                 except if all aij's in this column are <= 0, then return -1\n",
        "#     \n",
        "#     NOTE: for both the input column number and the output row number,\n",
        "#               please use human numbering, i.e., first column or row is 1 not 0\n",
        "#  \n",
        "def select(a,pivcolnum) :\n",
        "    bestratio=np.inf #initial value that anything will be better than\n",
        "    nrows = a.shape[0]    # use the shape function to determine number of rows and cols in A\n",
        "    ncols = a.shape[1]\n",
        "    rownum=\"Something is wrong if you're seeing this\"\n",
        "    if max(a[:-1,pivcol-1])<=0:#prevents checking the obj function\n",
        "      rownum =-1\n",
        "    else:\n",
        "      for i in range(nrows-1): #don't check obj function\n",
        "        ratio=a[i,ncols-1]/a[i,pivcolnum-1]\n",
        "        if ratio<bestratio:\n",
        "          bestratio=ratio\n",
        "          rownum=i+1\n",
        "\n",
        "# You fill in the rest.  In your code, define \"rownum\" to equal the row number for the pivot\n",
        "    return rownum;"
      ],
      "execution_count": 6,
      "outputs": []
    },
    {
      "cell_type": "code",
      "metadata": {
        "colab": {
          "base_uri": "https://localhost:8080/"
        },
        "id": "pPz86rKHZoLJ",
        "outputId": "d65d7e17-e1f2-4b6f-c9f7-e2641401fdf0"
      },
      "source": [
        "# This cell could be useful for you to test the two functions above\n",
        "import numpy as np\n",
        "a = np.array([[10,5,150],   # This is the bakery-problem \"a\"\n",
        "         [4,3,80],          # target should return column = 1\n",
        "         [30,20,0]])        # and then select should return row = 1\n",
        "                            # If you swap the 30 and 20, column and row should change to 2 \n",
        "\n",
        "                                                    \n",
        "pivcol=target(a)\n",
        "print(pivcol)\n",
        "pivrow=select(a,pivcol)\n",
        "print(\"pivot on row \",pivrow,\" and column \",pivcol)"
      ],
      "execution_count": 7,
      "outputs": [
        {
          "output_type": "stream",
          "text": [
            "1\n",
            "pivot on row  1  and column  1\n"
          ],
          "name": "stdout"
        }
      ]
    },
    {
      "cell_type": "markdown",
      "metadata": {
        "id": "26_v-pF9SVvT"
      },
      "source": [
        "## Problem 3."
      ]
    },
    {
      "cell_type": "markdown",
      "metadata": {
        "id": "VFnKa2cJSYfu"
      },
      "source": [
        "### a.\n",
        "Reading off of the tableau we have that $x=t_1=0$ and that $y=t_2=1$ with the objective function also equal to one."
      ]
    },
    {
      "cell_type": "markdown",
      "metadata": {
        "id": "P9ggGePdYuDI"
      },
      "source": [
        "### b. \n",
        "Setting $x=M$ and $t_1=0$, the first line of the pivoted tableau requires that:\n",
        "$$\n",
        "-\\frac{2}{3}M+0-1=-y \\\\\n",
        "0\\cdot M + \\frac{1}{2}\\cdot 0-1=-t_2\n",
        "$$\n",
        "which gives: $y=\\frac{2}{3}M+1$ and $t_2=1$. This is in the feasible set because this would never require $y$ to be negative and $t_2=1\\geq0$.\n",
        "\n",
        "The objective function would then be:\n",
        "$$\n",
        "-\\frac{1}{3}M+\\frac{2}{3}M+1+0=\\frac{1}{3}M+1\n",
        "$$\n",
        "\n",
        "Therefore we can increase the objective function by taking larger and larger $M$s and we already showed that any $M\\geq0$ has a corresponding point in the constraint set. The problem has no solution and the objective function is unbounded."
      ]
    },
    {
      "cell_type": "markdown",
      "metadata": {
        "id": "EOP3bMk5bVHJ"
      },
      "source": [
        "### c.\n",
        "Take $x=M,t_1=0$ and solve for the corresponding $y$ reading off of the tableau we have:\n",
        "$$\n",
        "AM+1\\cdot0-C=-y\\\\\n",
        "BM+\\frac{1}{2}\\cdot0-D=-t_2\n",
        "$$\n",
        "Solving the equations gives: $y=-AM+C$ which cannot be negative because $A\\leq0\\leq M,C$. The second equation gives: $t_2=-BM+D$ which must be greater than zero because $B\\leq0\\leq M,D$. Therefore, the choice remains feasible.\n",
        "\n",
        "Plugging into the objective function gives:\n",
        "$$\n",
        "EM+1\n",
        "$$\n",
        "\n",
        "Which is increasinig in $M$ because $E>0$ and any $M$ is feasible as previously shown, so the objective function is unbounded in the positive direction, so there is no satisfactory solution."
      ]
    },
    {
      "cell_type": "markdown",
      "metadata": {
        "id": "4dR-w8XgmpXX"
      },
      "source": [
        "## Problem 4.\n"
      ]
    },
    {
      "cell_type": "markdown",
      "metadata": {
        "id": "ESp_bawrm3fv"
      },
      "source": [
        "## a.\n",
        "Value of $b_i$. First note that if $i=k$ then $b_i^{new}=\\frac{b_k}{a_{kj}}$ because it is in the same row. Otherwise, $b_i^{new}=\\frac{a_{kj}b_i-a_{ij}b_k}{a_{kj}}=b_i-\\frac{a_{ij}b_k}{a_{kj}}$."
      ]
    },
    {
      "cell_type": "markdown",
      "metadata": {
        "id": "NJfLJt4NoX4f"
      },
      "source": [
        "## b. \n",
        "Note: `SimplexBF` requires that the `select`ed $a_{kj}>0$. So $b_k^{new}$ is greater than zero because $b_k>0$. That takes care of $i=k$ (in both cases)\n",
        "\n",
        "First take $i=k$. Then $b_i^{new}=\\frac{b_k}{a_{kj}}$ and since $a_{kj}>0$ and $b_k\\geq0$ $b_i^{new}\\geq0$\n",
        "Next take $i\\neq k$ and etting $a_{ij}<0$, we know that both $b$s are positive. Therefore the whole expression is positive because we are subtracting a negative number."
      ]
    },
    {
      "cell_type": "markdown",
      "metadata": {
        "id": "qidc3--k4VCl"
      },
      "source": [
        "### c.\n",
        "`SimplexBF` requires that the `select`ed $a_{kj}>0$. So $b_k^{new}$ is greater than zero because $b_k>0$. That takes care of $i=k$\n",
        "\n",
        "Applying similar logic to $i\\neq k$, for $b_i^{new}\\geq0$ we need:\n",
        "\\begin{align}\n",
        "b_i-\\frac{a_{ij}b_k}{a_{kj}}&\\geq0\\\\\n",
        "b_i&\\geq\\frac{a_{ij}b_k}{a_{kj}}\\\\\n",
        "\\frac{b_i}{a_{ij}}&\\geq\\frac{b_k}{a_{kj}}\n",
        "\\end{align}\n",
        "And we can do those manipulations without flipping the inequality because $a_{ij}$ is given to be greater than zero.\n",
        "\n",
        "This is convenient because the `select` step of the process guarantees that the ratio on the RHS of the last inequality is the minimum of all of such ratios. This completes the proof, and it's almost like the algorithm was designed to exactly this, hehe."
      ]
    },
    {
      "cell_type": "markdown",
      "metadata": {
        "id": "h01oLfSp66VI"
      },
      "source": [
        "## Problem 5.\n",
        "The tableau as it stands is:"
      ]
    },
    {
      "cell_type": "code",
      "metadata": {
        "cellView": "form",
        "id": "gRk1_NV09FVZ"
      },
      "source": [
        "#@title\n",
        "def print_tableau(a,indep_names,dep_names):\n",
        "#\n",
        "# Given matrix \"a\" and lists of variables names \"indep_names\" and \"dep_names\",\n",
        "# this function prints the matrix and labels in standard tableau format\n",
        "# (including adding the -1, the minus signs in the last column, and labeling the lower-right as obj)\n",
        "#\n",
        "# First, check the inputs: indep_names should be one shorter than the number of columns of A\n",
        "#                          dep_names should be one shorter than the number of rows of A\n",
        "#\n",
        "    nrows = a.shape[0]    # use the shape function to determine number of rows and cols in A\n",
        "    ncols = a.shape[1]\n",
        "    nindep = len(indep_names)\n",
        "    ndep = len(dep_names)\n",
        "    if nindep != ncols-1:\n",
        "        print(\"WARNING: # of indep vbles should be one fewer than # columns of matrix\")\n",
        "    if ndep != nrows-1:\n",
        "        print(\"WARNING: # of dep vbles should be one fewer than # rows of matrix\")\n",
        "# Now do the printing (uses a variety of formatting techniques in Python)        \n",
        "    for j in range(ncols-1):                    # Print the independent variables in the first row\n",
        "        print(indep_names[j].rjust(10),end=\"\")  # rjust(10) makes fields 10 wide and right-justifies;\n",
        "                                                #    the end command prevents newline)\n",
        "    print(\"        -1\")                         # Tack on the -1 at the end of the first row\n",
        "    for i in range(nrows-1):\n",
        "        for j in range(ncols):                  # Print all but the last row of the matrix\n",
        "            print(\"%10.3f\" % a[i][j],end=\"\") # The syntax prints in a field 10 wide, showing 3 decimal points\n",
        "        lab = \"= -\" + dep_names[i]\n",
        "        print(lab.rjust(10))\n",
        "    for j in range(ncols):\n",
        "        print(\"%10.3f\" % a[nrows-1][j],end=\"\")  # Print the last row of the matrix, with label \"obj\" at end\n",
        "    lab = \"= obj\"\n",
        "    print(lab.rjust(10))\n",
        "    print(\" \")    # Put blank line at bottom\n",
        "\n",
        "\n",
        "def pivot(a,pivrow,pivcol,indep_names,dep_names) :\n",
        "# \n",
        "# Given matrix \"a\", a row number \"pivrow\" and column number \"pivcol\", \n",
        "#  and lists of variable names \"indep_names\" and \"dep_names\", this\n",
        "#  function does three things:\n",
        "#    (1) outputs the new version of the matrix after a pivot,\n",
        "#    (2) updates the lists of variable names post-pivot\n",
        "#    (3) prints the new matrix, including labels showing the variable names\n",
        "#\n",
        "# First, check the inputs: indep_names should be one shorter than the number of columns of A\n",
        "#                          dep_names should be one shorter than the number of rows of A\n",
        "#                          you should not be pivoting on the last row or last column\n",
        "#\n",
        "    a = a.astype(float)   # make sure entries are treated as floating point numbers\n",
        "    nrows = a.shape[0]    # use the shape function to determine number of rows and cols in A\n",
        "    ncols = a.shape[1]\n",
        "    nindep = len(indep_names)\n",
        "    ndep = len(dep_names)\n",
        "    if nindep != ncols-1:\n",
        "        print(\"WARNING: # of indep vbles should be one fewer than # columns of matrix\")\n",
        "    if ndep != nrows-1:\n",
        "        print(\"WARNING: # of dep vbles should be one fewer than # rows of matrix\")\n",
        "    if pivrow > nrows-1 or pivcol > ncols-1:\n",
        "        print(\"WARNING: should not pivot on last row or column\")\n",
        "    newa = a.copy()       # make a copy of A, to be filled in below with result of pivot\n",
        "    p = a[pivrow-1][pivcol-1]   # identify pivot element\n",
        "    newa[pivrow-1][pivcol-1] = 1/p   # set new value of pivot element\n",
        "    # Set entries in p's row\n",
        "    for j in range(ncols):\n",
        "        if j != pivcol-1:\n",
        "            newa[pivrow-1][j]=a[pivrow-1][j]/p;\n",
        "    # Set entries in p's column\n",
        "    for i in range(nrows):\n",
        "        if i != pivrow-1:\n",
        "            newa[i][pivcol-1]=-a[i][pivcol-1]/p;\n",
        "    # Set all other entries\n",
        "    for i in range(nrows):\n",
        "        for j in range(ncols):\n",
        "            if i != pivrow-1 and j != pivcol-1:\n",
        "                r = a[i][pivcol-1]\n",
        "                q = a[pivrow-1][j]\n",
        "                s = a[i][j]\n",
        "                newa[i][j]=(p*s-q*r)/p\n",
        "    # Now swap the variable names\n",
        "    temp = indep_names[pivcol-1]\n",
        "    indep_names[pivcol-1]=dep_names[pivrow-1]\n",
        "    dep_names[pivrow-1]=temp\n",
        "    print_tableau(newa,indep_names,dep_names) # Print the matrix with updated labels\n",
        "    return newa;"
      ],
      "execution_count": 8,
      "outputs": []
    },
    {
      "cell_type": "code",
      "metadata": {
        "id": "D24HULn5-CM1",
        "outputId": "6b9faf14-9fc1-4625-cd91-dab3c24bf90f",
        "colab": {
          "base_uri": "https://localhost:8080/"
        }
      },
      "source": [
        "import numpy as np\n",
        "a=np.array([[-1,-1,-2],[1,-2,0],[-2,1,1],[-3,1,0]])\n",
        "indep_names=[\"x\",\"y\"]\n",
        "dep_names=[\"t1\",\"t2\",\"t3\"]\n",
        "print_tableau(a,indep_names,dep_names)"
      ],
      "execution_count": 9,
      "outputs": [
        {
          "output_type": "stream",
          "text": [
            "         x         y        -1\n",
            "    -1.000    -1.000    -2.000     = -t1\n",
            "     1.000    -2.000     0.000     = -t2\n",
            "    -2.000     1.000     1.000     = -t3\n",
            "    -3.000     1.000     0.000     = obj\n",
            " \n"
          ],
          "name": "stdout"
        }
      ]
    },
    {
      "cell_type": "markdown",
      "metadata": {
        "id": "7nJWbeTn_Pho"
      },
      "source": [
        "We only have one negative $b_i$, so we target row 1. I will then choose $x$ as the column with the pivot. That leaves both the $a_{11}$ and $a_{21}$ as candidate solutions, the others in this column are negative so cannot be candidates. We now compute the ratios to find the minimum. $r_{11}=2$ and $r_{21}=0$. Zero is smaller than $2$, so we will pivot on $a_{21}$. Doing that gives:"
      ]
    },
    {
      "cell_type": "code",
      "metadata": {
        "id": "iKYfIxzBAVs7",
        "outputId": "c89113e8-af22-4a84-c289-0d49f0bc6abf",
        "colab": {
          "base_uri": "https://localhost:8080/"
        }
      },
      "source": [
        "a2=pivot(a,2,1,indep_names,dep_names)"
      ],
      "execution_count": 10,
      "outputs": [
        {
          "output_type": "stream",
          "text": [
            "        t2         y        -1\n",
            "     1.000    -3.000    -2.000     = -t1\n",
            "     1.000    -2.000     0.000      = -x\n",
            "     2.000    -3.000     1.000     = -t3\n",
            "     3.000    -5.000     0.000     = obj\n",
            " \n"
          ],
          "name": "stdout"
        }
      ]
    },
    {
      "cell_type": "markdown",
      "metadata": {
        "id": "grhLdV0wCI-j"
      },
      "source": [
        "We then must select row 1 because it is again the only negative. As such we can only select column $y$ because it is the only one less than 0. This makes $a_{12}$ a candidate. We need not compute any ratios because there are no positive values in the column below $ a_{12}$. Therefore, $a_{12}$ is our pivot:"
      ]
    },
    {
      "cell_type": "code",
      "metadata": {
        "id": "EfTPyzjqC1FP",
        "outputId": "d0c650bc-4853-4b62-d246-fa752c19d592",
        "colab": {
          "base_uri": "https://localhost:8080/"
        }
      },
      "source": [
        "a3=pivot(a2,1,2,indep_names,dep_names)"
      ],
      "execution_count": 11,
      "outputs": [
        {
          "output_type": "stream",
          "text": [
            "        t2        t1        -1\n",
            "    -0.333    -0.333     0.667      = -y\n",
            "     0.333    -0.667     1.333      = -x\n",
            "     1.000    -1.000     3.000     = -t3\n",
            "     1.333    -1.667     3.333     = obj\n",
            " \n"
          ],
          "name": "stdout"
        }
      ]
    },
    {
      "cell_type": "markdown",
      "metadata": {
        "id": "SzS7w78yC8Kv"
      },
      "source": [
        "Now we're in basic feasible. Let's run the `BasicFeasible` algorithm. First let's target $t_2$, column 1, because it is the only positive $c_i$. The corresponding rations are:\n",
        "\\begin{align}\n",
        "r_{11}&=\\text{not computed}, a_{11}<0 \\\\\n",
        "r_{21}&=4 \\\\\n",
        "r_{31}&=3\n",
        "\\end{align}\n",
        "\n",
        "Since $r_{31}$ is the smallest, $a_{31}$ our pivot:"
      ]
    },
    {
      "cell_type": "code",
      "metadata": {
        "id": "O1kqbfT_EAVq",
        "outputId": "5e41ddda-6259-4128-9b30-2fe41bb888e7",
        "colab": {
          "base_uri": "https://localhost:8080/"
        }
      },
      "source": [
        "a4=pivot(a3,3,1,indep_names,dep_names)"
      ],
      "execution_count": 12,
      "outputs": [
        {
          "output_type": "stream",
          "text": [
            "        t3        t1        -1\n",
            "     0.333    -0.667     1.667      = -y\n",
            "    -0.333    -0.333     0.333      = -x\n",
            "     1.000    -1.000     3.000     = -t2\n",
            "    -1.333    -0.333    -0.667     = obj\n",
            " \n"
          ],
          "name": "stdout"
        }
      ]
    },
    {
      "cell_type": "markdown",
      "metadata": {
        "id": "eqqz2dBdESKz"
      },
      "source": [
        "The problem is solved, we set $t_1=t_3=0$ and $y=\\frac{5}{3},x=\\frac{1}{3},t_2=3$ with the objective function attaining $\\frac{2}{3}$."
      ]
    },
    {
      "cell_type": "markdown",
      "metadata": {
        "id": "JD8XokadEpyz"
      },
      "source": [
        "## Problem 6.\n",
        "The independent variables in this problem are the number of each final product produced. Let $p$ be the quantity of pizza. Let $s$ be quantity soup. And let $y$ be stuffed peppers quantity. (grr no good letter). Tackling the constraints in order of their appearance in the problem, we have:\n",
        "\\begin{align}\n",
        ".5p+.3s+.1y&\\leq30 \\\\\n",
        ".3p+.1s+.8y&\\leq20 \\\\\n",
        ".1p+.4s+.05y&\\leq40 \\\\\n",
        "1.5p+.1s+.25y&\\leq40 \\\\\n",
        "-p-y&\\leq-30\n",
        "\\end{align}\n",
        "\n",
        "Now the interesting part comes in the objective function which is not as straightforward as in previous cases. So we make profit from selling final products in the following way: $\\pi_{fg}(p,s,y)=5p+1s+1.5y$. However we can also make profit from leftovers in the following manner. $\\pi_l(p,s,y)=2\\left(30-(.5p+.3s+.1y)\\right)=60-p-.6s-.2y$. This function takes the remaning tomatoes and multiplies them by 2 to get the profit. Combining these two profit functions gives:\n",
        "$$\n",
        "\\pi(p,s,y)=5p+1s+1.5y+60-p-.6s-.2y=4p+.4s+1.3y+60\n",
        "$$\n",
        "\n",
        "Let's tableau-ify this because everything is now in the right form:"
      ]
    },
    {
      "cell_type": "code",
      "metadata": {
        "id": "fm23UkaqJS_z",
        "outputId": "5115e69f-a678-4936-d5e7-d0534d2fa855",
        "colab": {
          "base_uri": "https://localhost:8080/"
        }
      },
      "source": [
        "b=np.array([\n",
        "    [.5,.3,.1,30],\n",
        "    [.3,.1,.8,20],\n",
        "    [.1,.4,.05,40],\n",
        "    [1.5,.1,.25,40],\n",
        "    [-1,0,-1,-30],\n",
        "    [4,.4,1.3,-60]])\n",
        "indep_names=[\"pizza\",\"soup\",\"stuffed\"]\n",
        "dep_names=[\"tomato\",\"pepper\",\"kale\",\"time\",\"Hometown\"]\n",
        "print_tableau(b,indep_names,dep_names)"
      ],
      "execution_count": 34,
      "outputs": [
        {
          "output_type": "stream",
          "text": [
            "     pizza      soup   stuffed        -1\n",
            "     0.500     0.300     0.100    30.000 = -tomato\n",
            "     0.300     0.100     0.800    20.000 = -pepper\n",
            "     0.100     0.400     0.050    40.000   = -kale\n",
            "     1.500     0.100     0.250    40.000   = -time\n",
            "    -1.000     0.000    -1.000   -30.000= -Hometown\n",
            "     4.000     0.400     1.300   -60.000     = obj\n",
            " \n"
          ],
          "name": "stdout"
        }
      ]
    },
    {
      "cell_type": "markdown",
      "metadata": {
        "id": "tyW4z2ILLI0Q"
      },
      "source": [
        "We are not in Basic Feasible, so we should first select row 5 because it is the $b<0$ in the lowest row. Then I will select to pivot on column 1, (because it has the largest coefficient in the objective function). Since there are no numbers below $a_{51}$, we must pivot on $a_{51}$. Okay so pivot:"
      ]
    },
    {
      "cell_type": "code",
      "metadata": {
        "id": "EUOn1R_dMIJI",
        "outputId": "f3849e23-4eb1-4cdf-dbce-71e72cd292e8",
        "colab": {
          "base_uri": "https://localhost:8080/"
        }
      },
      "source": [
        "b2=pivot(b,5,1,indep_names,dep_names)"
      ],
      "execution_count": 35,
      "outputs": [
        {
          "output_type": "stream",
          "text": [
            "  Hometown      soup   stuffed        -1\n",
            "     0.500     0.300    -0.400    15.000 = -tomato\n",
            "     0.300     0.100     0.500    11.000 = -pepper\n",
            "     0.100     0.400    -0.050    37.000   = -kale\n",
            "     1.500     0.100    -1.250    -5.000   = -time\n",
            "    -1.000    -0.000     1.000    30.000  = -pizza\n",
            "     4.000     0.400    -2.700  -180.000     = obj\n",
            " \n"
          ],
          "name": "stdout"
        }
      ]
    },
    {
      "cell_type": "markdown",
      "metadata": {
        "id": "mWy30L_2MZbs"
      },
      "source": [
        "Using similar logic our candidates are $a_{43}$ and $a_{53}$, computing their ratios, we have: $r_{43}=4,r_{53}=30$. So we pivot on $a_{43}$ giving:"
      ]
    },
    {
      "cell_type": "code",
      "metadata": {
        "id": "9WHPmXmYM7fj",
        "outputId": "411a5e0e-a6eb-4a48-cead-1d48cb2c3cc0",
        "colab": {
          "base_uri": "https://localhost:8080/"
        }
      },
      "source": [
        "b3=pivot(b2,4,3,indep_names,dep_names)"
      ],
      "execution_count": 36,
      "outputs": [
        {
          "output_type": "stream",
          "text": [
            "  Hometown      soup      time        -1\n",
            "     0.020     0.268    -0.320    16.600 = -tomato\n",
            "     0.900     0.140     0.400     9.000 = -pepper\n",
            "     0.040     0.396    -0.040    37.200   = -kale\n",
            "    -1.200    -0.080    -0.800     4.000= -stuffed\n",
            "     0.200     0.080     0.800    26.000  = -pizza\n",
            "     0.760     0.184    -2.160  -169.200     = obj\n",
            " \n"
          ],
          "name": "stdout"
        }
      ]
    },
    {
      "cell_type": "markdown",
      "metadata": {
        "id": "iVEjlJAbNGSA"
      },
      "source": [
        "We are now basic feasible. So I will target column 1 because it has the largest coefficients. Computing the ratios gives:"
      ]
    },
    {
      "cell_type": "code",
      "metadata": {
        "id": "eeMFymOFNSK4",
        "outputId": "37fbe913-4f9b-4a50-e932-abe8f855a5fd",
        "colab": {
          "base_uri": "https://localhost:8080/"
        }
      },
      "source": [
        "print(b3[:-1,3]/b3[:-1,0])"
      ],
      "execution_count": 37,
      "outputs": [
        {
          "output_type": "stream",
          "text": [
            "[830.          10.         930.          -3.33333333 130.        ]\n"
          ],
          "name": "stdout"
        }
      ]
    },
    {
      "cell_type": "markdown",
      "metadata": {
        "id": "HOEkTeYENpOu"
      },
      "source": [
        "I do not consider the negative values, so my lowest ratio comes from row 2. Therefore we pivot on $a_{21}$:"
      ]
    },
    {
      "cell_type": "code",
      "metadata": {
        "id": "IpRLg8tOOEcL",
        "outputId": "e83471ce-a97c-4d31-e81b-83eaf126afd1",
        "colab": {
          "base_uri": "https://localhost:8080/"
        }
      },
      "source": [
        "b4=pivot(b3,2,1,indep_names,dep_names)"
      ],
      "execution_count": 38,
      "outputs": [
        {
          "output_type": "stream",
          "text": [
            "    pepper      soup      time        -1\n",
            "    -0.022     0.265    -0.329    16.400 = -tomato\n",
            "     1.111     0.156     0.444    10.000= -Hometown\n",
            "    -0.044     0.390    -0.058    36.800   = -kale\n",
            "     1.333     0.107    -0.267    16.000= -stuffed\n",
            "    -0.222     0.049     0.711    24.000  = -pizza\n",
            "    -0.844     0.066    -2.498  -176.800     = obj\n",
            " \n"
          ],
          "name": "stdout"
        }
      ]
    },
    {
      "cell_type": "markdown",
      "metadata": {
        "id": "TAUWXFW4ON60"
      },
      "source": [
        "We must target soup, column two, so we compute the ratios:"
      ]
    },
    {
      "cell_type": "code",
      "metadata": {
        "id": "JcWUkZqBOXeT",
        "outputId": "a7338229-f6f8-463f-b5af-03631e12e316",
        "colab": {
          "base_uri": "https://localhost:8080/"
        }
      },
      "source": [
        "print(b4[:-1,3]/b4[:-1,1])"
      ],
      "execution_count": 39,
      "outputs": [
        {
          "output_type": "stream",
          "text": [
            "[ 61.91275168  64.28571429  94.41277081 150.         490.90909091]\n"
          ],
          "name": "stdout"
        }
      ]
    },
    {
      "cell_type": "markdown",
      "metadata": {
        "id": "kchb7iBKOpRg"
      },
      "source": [
        "The minimal ratio is attained in row 1, so let's pivot on $a_{12}$:"
      ]
    },
    {
      "cell_type": "code",
      "metadata": {
        "id": "Hi7s9h_0Ow0X",
        "outputId": "329521da-59db-4776-94b0-9647f1ca86f5",
        "colab": {
          "base_uri": "https://localhost:8080/"
        }
      },
      "source": [
        "b5=pivot(b4,1,2,indep_names,dep_names)"
      ],
      "execution_count": 40,
      "outputs": [
        {
          "output_type": "stream",
          "text": [
            "    pepper    tomato      time        -1\n",
            "    -0.084     3.775    -1.242    61.913   = -soup\n",
            "     1.124    -0.587     0.638     0.369= -Hometown\n",
            "    -0.012    -1.471     0.426    12.668   = -kale\n",
            "     1.342    -0.403    -0.134     9.396= -stuffed\n",
            "    -0.218    -0.185     0.772    20.973  = -pizza\n",
            "    -0.839    -0.248    -2.416  -180.872     = obj\n",
            " \n"
          ],
          "name": "stdout"
        }
      ]
    },
    {
      "cell_type": "markdown",
      "metadata": {
        "id": "PYBVVApjPcGK"
      },
      "source": [
        "And we're done, the maximal profit is attained with 0 peppers remaining, 0 tomatoes, 0 time remaining. Creating 61.913 soups, 9.396 stuffed peppers, and 20.973 pizzas. We will exceed the Hometown market constraint by .369 and we will leave 12.668 kales unsold. No tomatoes are sold as leftovers.\n",
        "\n",
        "All told, the company attains $180.862 in profit."
      ]
    }
  ]
}