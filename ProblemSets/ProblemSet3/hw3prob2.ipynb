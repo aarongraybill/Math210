{
  "nbformat": 4,
  "nbformat_minor": 0,
  "metadata": {
    "kernelspec": {
      "display_name": "Python 3",
      "language": "python",
      "name": "python3"
    },
    "language_info": {
      "codemirror_mode": {
        "name": "ipython",
        "version": 3
      },
      "file_extension": ".py",
      "mimetype": "text/x-python",
      "name": "python",
      "nbconvert_exporter": "python",
      "pygments_lexer": "ipython3",
      "version": "3.5.2"
    },
    "colab": {
      "name": "hw3prob2.ipynb",
      "provenance": []
    }
  },
  "cells": [
    {
      "cell_type": "code",
      "metadata": {
        "id": "yNxtBeTDf0ei"
      },
      "source": [
        "import numpy as np"
      ],
      "execution_count": null,
      "outputs": []
    },
    {
      "cell_type": "markdown",
      "metadata": {
        "id": "UBFDfMfnf0ej"
      },
      "source": [
        "__If Statements__"
      ]
    },
    {
      "cell_type": "code",
      "metadata": {
        "colab": {
          "base_uri": "https://localhost:8080/"
        },
        "id": "HLlT7tsaf0ej",
        "outputId": "fb56dd03-e675-4601-af37-fa299403b23d"
      },
      "source": [
        "# An \"if\" statement is a programming structure that lets you do something \n",
        "#   under certain conditions but not others.\n",
        "# For example, if we want to print a warning if a variable \"x\" is larger \n",
        "#   than some ceiling \"xmax\", we can do this:\n",
        "xmax = 10\n",
        "x = 11\n",
        "if x > xmax :\n",
        "    print(\"x is too large\")\n",
        "    diff = x-xmax\n",
        "    print(\"It exceeds xmax by \",diff)\n",
        "y = 9\n",
        "if y > xmax :\n",
        "    print(\"y is too large\")\n",
        "# Notice the syntax; you need a colon at the end of the \"if\" line and then \n",
        "#   you indent all the lines that should be done under that condition\n"
      ],
      "execution_count": 1,
      "outputs": [
        {
          "output_type": "stream",
          "text": [
            "x is too large\n",
            "It exceeds xmax by  1\n"
          ],
          "name": "stdout"
        }
      ]
    },
    {
      "cell_type": "code",
      "metadata": {
        "colab": {
          "base_uri": "https://localhost:8080/"
        },
        "id": "jowzd5Y6f0ek",
        "outputId": "b7aec0cf-1572-43ed-df4a-12010548110a"
      },
      "source": [
        "# There are many types of conditions you can put after \"if\".  To start, here are six:\n",
        "#\n",
        "#   >   means \"greater than\"\n",
        "#   <   means \"less than\"\n",
        "#   >=  means \"greater than or equal to\"\n",
        "#   <=  means \"less than or equal to\"\n",
        "#   ==  means \"is equal to\"\n",
        "#   !=  means \"is not equal to\"\n",
        "#\n",
        "#   Notice the fifth one is a double-equals-sign, not an equals sign.\n",
        "#      That's because in Python (and many other languages), a single\n",
        "#      equals sign means \"assign a value to a variable\", so it can't\n",
        "#      also mean \"check a condition\"\n",
        "x = 3\n",
        "y = 4\n",
        "z = 5\n",
        "if y-x == 1 :\n",
        "    print(\"y is one more than x\")\n",
        "if z-x == 1 :\n",
        "    print(\"z is one more than x\")"
      ],
      "execution_count": 2,
      "outputs": [
        {
          "output_type": "stream",
          "text": [
            "y is one more than x\n"
          ],
          "name": "stdout"
        }
      ]
    },
    {
      "cell_type": "code",
      "metadata": {
        "colab": {
          "base_uri": "https://localhost:8080/"
        },
        "id": "pgS5wAaaf0ek",
        "outputId": "31165b20-4c1c-4309-beac-f2395a648c13"
      },
      "source": [
        "# An extension of \"if\" is \"if...else\", where you do one thing when a condition\n",
        "#    is true, and a different thing when it is not\n",
        "import numpy as np\n",
        "y = np.pi     # This is how you get pi = 3.1415926... from numpy \n",
        "z = np.e      # This is how you get e = 2.7182818... from numpy\n",
        "if z > y :\n",
        "    print(\"e is bigger than pi.\")\n",
        "    diff = z-y\n",
        "    print(\"It exceeds pi by \",diff)\n",
        "else :\n",
        "    print(\"e is less than or equal to pi.\")\n",
        "    diff = y-z\n",
        "    print(\"It is \",diff,\" below pi.\")"
      ],
      "execution_count": 3,
      "outputs": [
        {
          "output_type": "stream",
          "text": [
            "e is less than or equal to pi.\n",
            "It is  0.423310825130748  below pi.\n"
          ],
          "name": "stdout"
        }
      ]
    },
    {
      "cell_type": "code",
      "metadata": {
        "colab": {
          "base_uri": "https://localhost:8080/"
        },
        "id": "KsFiyF3Ff0el",
        "outputId": "28285199-81e7-4909-e6b3-44bbb99234f4"
      },
      "source": [
        "# Finally, to test multiple conditions, here are two ideas:\n",
        "#   (1) you can string conditions together using \"and\" or \"or\"\n",
        "#   (2) you can nest \"if\" statements\n",
        "# Here's a demo of (1)\n",
        "x = 3\n",
        "if x > 2 and x*x < 10 :\n",
        "    print(\"This pair of conditions holds for x.\")\n",
        "y = 4\n",
        "if y > 2 and y*y < 10 :\n",
        "    print(\"This pair of conditions holds of y.\")"
      ],
      "execution_count": 4,
      "outputs": [
        {
          "output_type": "stream",
          "text": [
            "This pair of conditions holds for x.\n"
          ],
          "name": "stdout"
        }
      ]
    },
    {
      "cell_type": "code",
      "metadata": {
        "colab": {
          "base_uri": "https://localhost:8080/"
        },
        "id": "h289_SVRf0el",
        "outputId": "35f64b00-5c81-43d9-9574-8a24af780b0e"
      },
      "source": [
        "# And here's how you can do the same thing with nested \"if\" statements\n",
        "x = 3\n",
        "if x > 2 :\n",
        "    result = x*x\n",
        "    if result < 10 :\n",
        "        print(\"This pair of conditions holds for x.\")\n",
        "print(\"Now I'd continue my code from here.\")\n",
        "#   Notice that each new \"if\" gets an additional indent to show what it governs"
      ],
      "execution_count": 5,
      "outputs": [
        {
          "output_type": "stream",
          "text": [
            "This pair of conditions holds for x.\n",
            "Now I'd continue my code from here.\n"
          ],
          "name": "stdout"
        }
      ]
    },
    {
      "cell_type": "markdown",
      "metadata": {
        "id": "HLdOQKeQf0el"
      },
      "source": [
        "__Computing a Max or Min__"
      ]
    },
    {
      "cell_type": "code",
      "metadata": {
        "colab": {
          "base_uri": "https://localhost:8080/"
        },
        "id": "ynOyVH4xf0el",
        "outputId": "7c29832e-3213-4611-b0fc-80c6cde512c7"
      },
      "source": [
        "# In many settings, it can be helpful to compute the maximum value\n",
        "#   of the entries in a list.  Since we'll typically be working in \n",
        "#   numpy, I'll consider the version of a \"list\" that is an array\n",
        "#   with one dimension (i.e., a vector)\n",
        "#\n",
        "# numpy has some built-in functions that can do the work for us:\n",
        "#     np.max can compute the largest *value*\n",
        "#     np.argmax can determine in which slot the max occurs\n",
        "import numpy as np\n",
        "vec = np.array([1,5,2,3])\n",
        "print(\"vec is\",vec)\n",
        "print(\"max value in vec is \",np.max(vec),\" and that occurs in slot #\",np.argmax(vec))\n",
        "print(\"min value in vec is \",np.min(vec),\" and that occurs in slot #\",np.argmin(vec))\n",
        "print(\"  Note: argmax and argmin number the slots starting with 0\")"
      ],
      "execution_count": 6,
      "outputs": [
        {
          "output_type": "stream",
          "text": [
            "vec is [1 5 2 3]\n",
            "max value in vec is  5  and that occurs in slot # 1\n",
            "min value in vec is  1  and that occurs in slot # 0\n",
            "  Note: argmax and argmin number the slots starting with 0\n"
          ],
          "name": "stdout"
        }
      ]
    },
    {
      "cell_type": "code",
      "metadata": {
        "colab": {
          "base_uri": "https://localhost:8080/"
        },
        "id": "vROYk4haf0em",
        "outputId": "d454aaa6-1722-477a-fa4e-41ea797a7ad7"
      },
      "source": [
        "# Sometimes we may want a more hands-on approach (maybe for Problem 2b below)\n",
        "#\n",
        "# Here's \"max\" and \"argmax\" done by hand\n",
        "import numpy as np\n",
        "vec = np.array([1,5,2,3])\n",
        "nentries = vec.shape[0]    # how many entries are in vec\n",
        "max_so_far = vec[0]  # this vble tracks the max value so far; to start, it's the first slot of vec\n",
        "best_slot = 0        # this vble tracks where the max value so far occurred\n",
        "for i in range(1,nentries) :  # This will start with i=1 and continue through i=nentries-1\n",
        "    if vec[i] > max_so_far :\n",
        "        max_so_far = vec[i]   # If we beat the max-so-far, we update the two variables\n",
        "        best_slot = i\n",
        "print(\"vec is\",vec)\n",
        "print(\"The max value is \",max_so_far)\n",
        "print(\"It occurs in slot #\",best_slot,\", or, in human terms, slot #\",best_slot+1)\n"
      ],
      "execution_count": 7,
      "outputs": [
        {
          "output_type": "stream",
          "text": [
            "vec is [1 5 2 3]\n",
            "The max value is  5\n",
            "It occurs in slot # 1 , or, in human terms, slot # 2\n"
          ],
          "name": "stdout"
        }
      ]
    },
    {
      "cell_type": "code",
      "metadata": {
        "id": "645Gu1qbf0em"
      },
      "source": [
        "# Problem 2a -- implements the Target step of SimplexBF\n",
        "#      Input: tableau \"a\" (just the numbers, no labels)\n",
        "#      Output: the column number where the largest c is located\n",
        "#                 except if all c's are <= 0, then return -1\n",
        "#              (in giving the column a number, use human numbering, i.e., first column is 1 not 0)\n",
        "#   \n",
        "def target(a) :\n",
        "    nrows = a.shape[0]    # use the shape function to determine number of rows and cols in \"a\"\n",
        "    ncols = a.shape[1]\n",
        "#  You fill in the rest.  In your code, define \"colnum\" to equal the column number where the largest c is located\n",
        "    return colnum;"
      ],
      "execution_count": null,
      "outputs": []
    },
    {
      "cell_type": "code",
      "metadata": {
        "id": "KytxKlI_f0en"
      },
      "source": [
        "# Problem 2b -- implements the Candidates/Select step of SimplexBF\n",
        "#      Two Inputs: tableau \"a\" (just the numbers, no labels)\n",
        "#               and column number \"pivcolnum\" where the Target lives\n",
        "#      Output: the row number for the pivot that SimplexBF would choose\n",
        "#                 except if all aij's in this column are <= 0, then return -1\n",
        "#     \n",
        "#     NOTE: for both the input column number and the output row number,\n",
        "#               please use human numbering, i.e., first column or row is 1 not 0\n",
        "#  \n",
        "def select(a,pivcolnum) :\n",
        "    nrows = a.shape[0]    # use the shape function to determine number of rows and cols in A\n",
        "    ncols = a.shape[1]\n",
        "# You fill in the rest.  In your code, define \"rownum\" to equal the row number for the pivot\n",
        "    return rownum;         "
      ],
      "execution_count": null,
      "outputs": []
    },
    {
      "cell_type": "code",
      "metadata": {
        "id": "H47JcASOf0en",
        "outputId": "e3b1b5e3-5d49-4f64-b23a-6d4dee14f2be"
      },
      "source": [
        "# This cell could be useful for you to test the two functions above\n",
        "import numpy as np\n",
        "a = np.array([[10,5,150],   # This is the bakery-problem \"a\"\n",
        "         [4,3,80],          # target should return column = 1\n",
        "         [30,20,0]])        # and then select should return row = 1\n",
        "                            # If you swap the 30 and 20, column and row should change to 2                            \n",
        "pivcol=target(a)\n",
        "pivrow=select(a,pivcol)\n",
        "print(\"pivot on row \",pivrow,\" and column \",pivcol)"
      ],
      "execution_count": null,
      "outputs": [
        {
          "output_type": "stream",
          "text": [
            "pivot on row  4  and column  3\n"
          ],
          "name": "stdout"
        }
      ]
    }
  ]
}