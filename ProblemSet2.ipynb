{
  "nbformat": 4,
  "nbformat_minor": 0,
  "metadata": {
    "colab": {
      "name": "ProblemSet2.ipynb",
      "provenance": [],
      "collapsed_sections": [],
      "toc_visible": true,
      "authorship_tag": "ABX9TyM4jYMdRjzLW4FOT0JbsSci",
      "include_colab_link": true
    },
    "kernelspec": {
      "name": "python3",
      "display_name": "Python 3"
    }
  },
  "cells": [
    {
      "cell_type": "markdown",
      "metadata": {
        "id": "view-in-github",
        "colab_type": "text"
      },
      "source": [
        "<a href=\"https://colab.research.google.com/github/aarongraybill/Math210/blob/main/ProblemSet2.ipynb\" target=\"_parent\"><img src=\"https://colab.research.google.com/assets/colab-badge.svg\" alt=\"Open In Colab\"/></a>"
      ]
    },
    {
      "cell_type": "markdown",
      "metadata": {
        "id": "hLpSiJM2WkeL"
      },
      "source": [
        "# Math 210\n",
        "## Aaron Graybill\n",
        "### Problem Set 2\n",
        "### 3/4/21"
      ]
    },
    {
      "cell_type": "markdown",
      "metadata": {
        "id": "3Gw4HtjIYwrC"
      },
      "source": [
        "## Problem 1."
      ]
    },
    {
      "cell_type": "markdown",
      "metadata": {
        "id": "79TmejRWY2d3"
      },
      "source": [
        "### a.\n",
        "The objective function remains the same: $g(x_1,x_2)=30x_1+12x_2$.\n",
        "\n",
        "We have the slack equations:\n",
        "\\begin{equation*}\n",
        "10x_1+5x_2-150=-t_1 \\tag{1}\n",
        "\\end{equation*}\n",
        "\\begin{equation*}\n",
        "4x_1+3x_2-80=-t_2 \\tag{2}\n",
        "\\end{equation*}\n",
        "\n",
        "With the same non-negativity constraints, $x_1,x_2\\geq0$ and well as $t_1,t_2\\geq0$.\n"
      ]
    },
    {
      "cell_type": "markdown",
      "metadata": {
        "id": "d_58DUvacLC_"
      },
      "source": [
        "### b.\n",
        "Solving $(1)$ for $x_1$ gives:\n",
        "$$\n",
        "x_1=-\\frac{1}{10}t_1-\\frac{1}{2}x_2+15 \\tag{3}\n",
        "$$\n",
        "Plugging this into $g$ gives:\n",
        "\\begin{align*}\n",
        "g(-\\frac{1}{10}t_1-\\frac{1}{2}x_2+15,x_2)&=30\\left(-\\frac{1}{10}t_1-\\frac{1}{2}x_2+15\\right)+12x_2\\\\\n",
        "&=-3t_1-3x_2+450\n",
        "\\end{align*}\n",
        "\n",
        "We could also rewrite the constraints as:\n",
        "\\begin{align}\n",
        "\\frac{1}{10}t_1+\\frac{1}{2}x_2-15&=-x_1\\\\\n",
        "4\\left(-\\frac{1}{10}t_1-\\frac{1}{2}x_2+15\\right)+3x_2-80&=-t_2\\implies\\\\\n",
        "-\\frac{2}{5}t_1+x_2-20&=-t_2\n",
        "\\end{align}"
      ]
    },
    {
      "cell_type": "markdown",
      "metadata": {
        "id": "u8aiWTxsiizY"
      },
      "source": [
        "### c.\n",
        "\n",
        "Look at the rewritten objective function. Note that by our new non-negativity constraints both $x_2$ and $t_1$ must be greater than or equal to zero. This allows to easily see that the theoretical maximum of this this function is $450$ (because it decreasing in $x_2,t_1$). We have then to show that we can actually attain 450. In order for this to happen both $x_2=t_1=0$. Plugging into our constraints gives:\n",
        "$$\n",
        "\\frac{1}{10}0+\\frac{1}{2}{0}-15=-x_1\\iff x_1=15\\\\\n",
        "-\\frac{2}{5}0+0-20=-t_2\\iff t_2=20\n",
        "$$\n",
        "\n",
        "Neither of those are outside the constraint set. Therefore our full answer must be: $x_1^*=15,x_2^*=0,t_1^*=0,t_2^*=15,g(x_1^*,x_2^*)=450$"
      ]
    },
    {
      "cell_type": "markdown",
      "metadata": {
        "id": "kuoIB_nIkeCy"
      },
      "source": [
        "### d.\n",
        "We can interpret the $t_i$s in the following way. In both cases the $t_i$ gives the amount of remaining slack in constraint $i$. But in context:\n",
        "\n",
        "\n",
        "> $t_1^*=0$: For the solution that maximizes sales, the bakery has $0$ units of flour remaining.\n",
        "\n",
        "> $t_2^*=20$: For the solution that maximizes sales, the baker has $20$ units of sugar remaining. \n",
        "\n"
      ]
    },
    {
      "cell_type": "markdown",
      "metadata": {
        "id": "v7r1BcHNlzu9"
      },
      "source": [
        "## Problem 2.\n",
        "The tableau as given is:\n",
        "\n",
        "| $d$ | $c$ | $-1$ | |\n",
        "| :-: | :-: | :-: | :-:|\n",
        "| 10| 5 | 150| $=-t_1$\n",
        "| <font color='red'>4</font>  | 3 | 80| $=-t_2$\n",
        "| 30 | 20 | 0| $=obj$\n",
        "\n",
        "The red cell is the pivot point.\n",
        "\n",
        "We should first empty the tableau and rename appropriately:\n",
        "\n",
        "| $t_2$ | $c$ | $-1$ | |\n",
        "| :-: | :-: | :-: | :-:|\n",
        "| | | | $=-t_1$\n",
        "|   |  | | $=-d$\n",
        "|  |  | | $=obj$\n",
        "\n",
        "Let's add $\\frac{1}{p}$ giving:\n",
        "\n",
        "| $t_2$ | $c$ | $-1$ | |\n",
        "| :-: | :-: | :-: | :-:|\n",
        "| | | | $=-t_1$\n",
        "| $\\frac{1}{4}$ |  | | $=-d$\n",
        "|  |  | | $=obj$\n",
        "\n",
        "Then let's add the $\\frac{q}{p}$ in the same row as $p$ giving:\n",
        "\n",
        "| $t_2$ | $c$ | $-1$ | |\n",
        "| :-: | :-: | :-: | :-:|\n",
        "| | | | $=-t_1$\n",
        "| $\\frac{1}{4}$ | $\\frac{3}{4}$ | 20| $=-d$\n",
        "|  |  | | $=obj$\n",
        "\n",
        "Now let's do the $-\\frac{q}{p}$ in the same column giving:\n",
        "\n",
        "| $t_2$ | $c$ | $-1$ | |\n",
        "| :-: | :-: | :-: | :-:|\n",
        "| $-\\frac{5}{2}$| | | $=-t_1$\n",
        "| $\\frac{1}{4}$ | $\\frac{3}{4}$ | 20| $=-d$\n",
        "|$-\\frac{15}{2}$ |  | | $=obj$\n",
        "\n",
        "Now applying the $\\frac{ps-qr}{p}$ to the other entries gives:\n",
        "\n",
        "| $t_2$ | $c$ | $-1$ | |\n",
        "| :-: | :-: | :-: | :-:|\n",
        "| $-\\frac{5}{2}$|$-\\frac{5}{2}$ | -50| $=-t_1$\n",
        "| $\\frac{1}{4}$ | $\\frac{3}{4}$ | 20| $=-d$\n",
        "|$-\\frac{15}{2}$ | $-\\frac{5}{2}$ | -60| $=obj$\n",
        "\n",
        "And then making sure that works:"
      ]
    },
    {
      "cell_type": "markdown",
      "metadata": {
        "id": "QJK6GK2g2tLq"
      },
      "source": [
        "## Problem 3\n",
        "\n"
      ]
    },
    {
      "cell_type": "markdown",
      "metadata": {
        "id": "oUfN_Jj32jU6"
      },
      "source": [
        "### 1.\n",
        "The graph of the region is as follows:"
      ]
    },
    {
      "cell_type": "code",
      "metadata": {
        "colab": {
          "base_uri": "https://localhost:8080/",
          "height": 523
        },
        "id": "dSi6trXH2y28",
        "outputId": "df947299-41f8-44f5-a7c2-b94fdd34ce19"
      },
      "source": [
        "%%html\n",
        "<iframe src=\"https://www.desmos.com/calculator/6ubr2jksrz?embed\" width=\"500px\" height=\"500px\" style=\"border: 1px solid #ccc\" frameborder=0></iframe>"
      ],
      "execution_count": 9,
      "outputs": [
        {
          "output_type": "display_data",
          "data": {
            "text/html": [
              "<iframe src=\"https://www.desmos.com/calculator/6ubr2jksrz?embed\" width=\"500px\" height=\"500px\" style=\"border: 1px solid #ccc\" frameborder=0></iframe>"
            ],
            "text/plain": [
              "<IPython.core.display.HTML object>"
            ]
          },
          "metadata": {
            "tags": []
          }
        }
      ]
    },
    {
      "cell_type": "markdown",
      "metadata": {
        "id": "S5glOl2zDx0S"
      },
      "source": [
        "### 2. \n",
        "This only needs some minor manipulations to put it into `CanonicalMax` form. It is as follows:\n",
        "\\begin{align*}\n",
        "x-2y&\\leq-2\\\\\n",
        "-x-y&\\leq-7\\\\\n",
        "-2x+y&\\leq4\\\\\n",
        "x+2y&\\leq18\\\\\n",
        "x,y&\\geq0\n",
        "\\end{align*}"
      ]
    },
    {
      "cell_type": "markdown",
      "metadata": {
        "id": "llZqsuyMGGr3"
      },
      "source": [
        "### 3. \n",
        "\n",
        "Getting this to a Tucker tableau would then be:\n",
        "\n",
        "| $x$ | $y$ | $-1$ | |\n",
        "| :-: | :-: | :-: | :-:|\n",
        "|$1$|$-2$ | $-2$| $=-t_1$\n",
        "| $-1$ | $-1$ | $-7$| $=-t_2$\n",
        "|$-2$ | $1$ | $4$| $=-t_3$\n",
        "|$1$ | $2$ | $18$ | $=-t_4$\n",
        "|$2$ | $3$ | $0$ | $= obj$\n"
      ]
    },
    {
      "cell_type": "markdown",
      "metadata": {
        "id": "dYaA76U8DFFP"
      },
      "source": [
        "### 4. \n",
        "In the below hidden code block I pull in the functions Rob created to pivot tableaus."
      ]
    },
    {
      "cell_type": "code",
      "metadata": {
        "id": "ZShA0POvYkJw",
        "cellView": "form"
      },
      "source": [
        "#@title\n",
        "import numpy as np\n",
        "\n",
        "def print_tableau(a,indep_names,dep_names):\n",
        "#\n",
        "# Given matrix \"a\" and lists of variables names \"indep_names\" and \"dep_names\",\n",
        "# this function prints the matrix and labels in standard tableau format\n",
        "# (including adding the -1, the minus signs in the last column, and labeling the lower-right as obj)\n",
        "#\n",
        "# First, check the inputs: indep_names should be one shorter than the number of columns of A\n",
        "#                          dep_names should be one shorter than the number of rows of A\n",
        "#\n",
        "    nrows = a.shape[0]    # use the shape function to determine number of rows and cols in A\n",
        "    ncols = a.shape[1]\n",
        "    nindep = len(indep_names)\n",
        "    ndep = len(dep_names)\n",
        "    if nindep != ncols-1:\n",
        "        print(\"WARNING: # of indep vbles should be one fewer than # columns of matrix\")\n",
        "    if ndep != nrows-1:\n",
        "        print(\"WARNING: # of dep vbles should be one fewer than # rows of matrix\")\n",
        "# Now do the printing (uses a variety of formatting techniques in Python)        \n",
        "    for j in range(ncols-1):                    # Print the independent variables in the first row\n",
        "        print(indep_names[j].rjust(10),end=\"\")  # rjust(10) makes fields 10 wide and right-justifies;\n",
        "                                                #    the end command prevents newline)\n",
        "    print(\"        -1\")                         # Tack on the -1 at the end of the first row\n",
        "    for i in range(nrows-1):\n",
        "        for j in range(ncols):                  # Print all but the last row of the matrix\n",
        "            print(\"%10.3f\" % a[i][j],end=\"\") # The syntax prints in a field 10 wide, showing 3 decimal points\n",
        "        lab = \"= -\" + dep_names[i]\n",
        "        print(lab.rjust(10))\n",
        "    for j in range(ncols):\n",
        "        print(\"%10.3f\" % a[nrows-1][j],end=\"\")  # Print the last row of the matrix, with label \"obj\" at end\n",
        "    lab = \"= obj\"\n",
        "    print(lab.rjust(10))\n",
        "    print(\" \")    # Put blank line at bottom\n",
        "\n",
        "\n",
        "def pivot(a,pivrow,pivcol,indep_names,dep_names) :\n",
        "# \n",
        "# Given matrix \"a\", a row number \"pivrow\" and column number \"pivcol\", \n",
        "#  and lists of variable names \"indep_names\" and \"dep_names\", this\n",
        "#  function does three things:\n",
        "#    (1) outputs the new version of the matrix after a pivot,\n",
        "#    (2) updates the lists of variable names post-pivot\n",
        "#    (3) prints the new matrix, including labels showing the variable names\n",
        "#\n",
        "# First, check the inputs: indep_names should be one shorter than the number of columns of A\n",
        "#                          dep_names should be one shorter than the number of rows of A\n",
        "#                          you should not be pivoting on the last row or last column\n",
        "#\n",
        "    a = a.astype(float)   # make sure entries are treated as floating point numbers\n",
        "    nrows = a.shape[0]    # use the shape function to determine number of rows and cols in A\n",
        "    ncols = a.shape[1]\n",
        "    nindep = len(indep_names)\n",
        "    ndep = len(dep_names)\n",
        "    if nindep != ncols-1:\n",
        "        print(\"WARNING: # of indep vbles should be one fewer than # columns of matrix\")\n",
        "    if ndep != nrows-1:\n",
        "        print(\"WARNING: # of dep vbles should be one fewer than # rows of matrix\")\n",
        "    if pivrow > nrows-1 or pivcol > ncols-1:\n",
        "        print(\"WARNING: should not pivot on last row or column\")\n",
        "    newa = a.copy()       # make a copy of A, to be filled in below with result of pivot\n",
        "    p = a[pivrow-1][pivcol-1]   # identify pivot element\n",
        "    newa[pivrow-1][pivcol-1] = 1/p   # set new value of pivot element\n",
        "    # Set entries in p's row\n",
        "    for j in range(ncols):\n",
        "        if j != pivcol-1:\n",
        "            newa[pivrow-1][j]=a[pivrow-1][j]/p;\n",
        "    # Set entries in p's column\n",
        "    for i in range(nrows):\n",
        "        if i != pivrow-1:\n",
        "            newa[i][pivcol-1]=-a[i][pivcol-1]/p;\n",
        "    # Set all other entries\n",
        "    for i in range(nrows):\n",
        "        for j in range(ncols):\n",
        "            if i != pivrow-1 and j != pivcol-1:\n",
        "                r = a[i][pivcol-1]\n",
        "                q = a[pivrow-1][j]\n",
        "                s = a[i][j]\n",
        "                newa[i][j]=(p*s-q*r)/p\n",
        "    # Now swap the variable names\n",
        "    temp = indep_names[pivcol-1]\n",
        "    indep_names[pivcol-1]=dep_names[pivrow-1]\n",
        "    dep_names[pivrow-1]=temp\n",
        "    print_tableau(newa,indep_names,dep_names) # Print the matrix with updated labels\n",
        "    return newa;"
      ],
      "execution_count": 10,
      "outputs": []
    },
    {
      "cell_type": "markdown",
      "metadata": {
        "id": "sahnCxKmDjfr"
      },
      "source": [
        "With those imported, and pivoting as desired gives:"
      ]
    },
    {
      "cell_type": "code",
      "metadata": {
        "colab": {
          "base_uri": "https://localhost:8080/",
          "height": 0
        },
        "id": "oa5-S5CNBbDn",
        "outputId": "e6ae192d-872c-49eb-db5b-cc54fbe42aa5"
      },
      "source": [
        "#Define Problem Parameters\n",
        "indep_names=[\"x\",\"y\"]\n",
        "dep_names=[\"t1\",\"t2\",\"t3\",\"t4\"]\n",
        "b_1=np.array([[1,-2,-2],[-1,-1,-7],[-2,1,4],[1,2,18],[2,3,0]])\n",
        "print_tableau(b_1,indep_names,dep_names)"
      ],
      "execution_count": 13,
      "outputs": [
        {
          "output_type": "stream",
          "text": [
            "         x         y        -1\n",
            "     1.000    -2.000    -2.000     = -t1\n",
            "    -1.000    -1.000    -7.000     = -t2\n",
            "    -2.000     1.000     4.000     = -t3\n",
            "     1.000     2.000    18.000     = -t4\n",
            "     2.000     3.000     0.000     = obj\n",
            " \n"
          ],
          "name": "stdout"
        }
      ]
    },
    {
      "cell_type": "code",
      "metadata": {
        "id": "JEaBhFDYSCMd",
        "colab": {
          "base_uri": "https://localhost:8080/",
          "height": 0
        },
        "outputId": "b9eb580f-74ed-4c53-bad9-77b2095fef8e"
      },
      "source": [
        "#Do First Pivot:\n",
        "b_2=pivot(b_1,1,1,indep_names,dep_names)"
      ],
      "execution_count": 14,
      "outputs": [
        {
          "output_type": "stream",
          "text": [
            "        t1         y        -1\n",
            "     1.000    -2.000    -2.000      = -x\n",
            "     1.000    -3.000    -9.000     = -t2\n",
            "     2.000    -3.000     0.000     = -t3\n",
            "    -1.000     4.000    20.000     = -t4\n",
            "    -2.000     7.000     4.000     = obj\n",
            " \n"
          ],
          "name": "stdout"
        }
      ]
    },
    {
      "cell_type": "markdown",
      "metadata": {
        "id": "J8B56mBKSGuv"
      },
      "source": [
        "Reading off of this tableau, $x=-2$ and $y=0$, however by inspection of the above graph this is not in the constraint set."
      ]
    },
    {
      "cell_type": "markdown",
      "metadata": {
        "id": "8lS9rCRF87_H"
      },
      "source": [
        "### 5.\n",
        "Pivoting as requested gives the following."
      ]
    },
    {
      "cell_type": "code",
      "metadata": {
        "id": "GLdzrXoSRWCv",
        "colab": {
          "base_uri": "https://localhost:8080/",
          "height": 0
        },
        "outputId": "dd5ed225-f109-4a72-eb73-44b9d1f6cca6"
      },
      "source": [
        "#Do second pivot:\n",
        "b_3=pivot(b_2,4,2,indep_names,dep_names)"
      ],
      "execution_count": 15,
      "outputs": [
        {
          "output_type": "stream",
          "text": [
            "        t1        t4        -1\n",
            "     0.500     0.500     8.000      = -x\n",
            "     0.250     0.750     6.000     = -t2\n",
            "     1.250     0.750    15.000     = -t3\n",
            "    -0.250     0.250     5.000      = -y\n",
            "    -0.250    -1.750   -31.000     = obj\n",
            " \n"
          ],
          "name": "stdout"
        }
      ]
    },
    {
      "cell_type": "markdown",
      "metadata": {
        "id": "Ixbte5li9DPG"
      },
      "source": [
        "reading off the tableau, $x=8,y=5$ and the objective function is $31$."
      ]
    },
    {
      "cell_type": "markdown",
      "metadata": {
        "id": "baCAi90JyY_w"
      },
      "source": [
        "## 4.\n",
        "In the first tableau, the ratios are: $4,\\frac{5}{2},\\frac{3}{5},1$, so we select the $\\frac{3}{5}$ entry to pivot on, (3,1), $5$\n",
        "\n",
        "In the second tableau, the ratios are: $4,\\frac{5}{2},\\frac{3}{5},0$, so we select the $0$ entry to pivot on, (4,1), $3$ \n",
        "\n",
        "In the third tableau, the ratios are: $4,\\frac{5}{2},-\\frac{3}{5},-1$, so we select the $-1$ entry to pivot on, (2,1), $2$ because we have to pick a positive."
      ]
    },
    {
      "cell_type": "markdown",
      "metadata": {
        "id": "DVLHr4U10B8D"
      },
      "source": [
        "## 5."
      ]
    },
    {
      "cell_type": "code",
      "metadata": {
        "colab": {
          "base_uri": "https://localhost:8080/",
          "height": 0
        },
        "id": "07eMjfI40iRT",
        "outputId": "c2dc11b2-a2d6-4f4b-fe36-5cec08cf3067"
      },
      "source": [
        "#Define Problem Parameters\n",
        "indep_names=[\"cookie\",\"cake\",\"brownie\"]\n",
        "dep_names=[\"t1\",\"t2\",\"t3\"]\n",
        "c_1=np.array([[2,4,3,250],[1,1.5,2,150],[1,.25,.5,50],[15,20,12,0]])\n",
        "print_tableau(c_1,indep_names,dep_names)"
      ],
      "execution_count": 17,
      "outputs": [
        {
          "output_type": "stream",
          "text": [
            "    cookie      cake   brownie        -1\n",
            "     2.000     4.000     3.000   250.000     = -t1\n",
            "     1.000     1.500     2.000   150.000     = -t2\n",
            "     1.000     0.250     0.500    50.000     = -t3\n",
            "    15.000    20.000    12.000     0.000     = obj\n",
            " \n"
          ],
          "name": "stdout"
        }
      ]
    },
    {
      "cell_type": "markdown",
      "metadata": {
        "id": "FCmuO5ya1Uh4"
      },
      "source": [
        "Selecting cake as the pivot column (because it has the highest coefficient) means we have the ratios: $62.5,100,200$. We then select the $62.5$ entry, $(1,2)=4$. Applying that pivot yields"
      ]
    },
    {
      "cell_type": "code",
      "metadata": {
        "colab": {
          "base_uri": "https://localhost:8080/",
          "height": 0
        },
        "id": "4EAwv3dA1rqm",
        "outputId": "015521e3-0d90-40a0-9988-004758963137"
      },
      "source": [
        "#Do first pivot\n",
        "c_2=pivot(c_1,1,2,indep_names,dep_names)"
      ],
      "execution_count": 18,
      "outputs": [
        {
          "output_type": "stream",
          "text": [
            "    cookie        t1   brownie        -1\n",
            "     0.500     0.250     0.750    62.500   = -cake\n",
            "     0.250    -0.375     0.875    56.250     = -t2\n",
            "     0.875    -0.062     0.312    34.375     = -t3\n",
            "     5.000    -5.000    -3.000 -1250.000     = obj\n",
            " \n"
          ],
          "name": "stdout"
        }
      ]
    },
    {
      "cell_type": "markdown",
      "metadata": {
        "id": "TL8mjlfi16be"
      },
      "source": [
        "Nice, we then only have one positive coefficient in the objective function, so let's pivot on the first column, `cookie`. We compute the ratios yielding: $125,225,39.2857...$, we pivot on the $39$ and change, $(3,1)$ giving:"
      ]
    },
    {
      "cell_type": "code",
      "metadata": {
        "colab": {
          "base_uri": "https://localhost:8080/",
          "height": 0
        },
        "id": "L-WVliXO2W_6",
        "outputId": "1ea63a7a-16d1-47fa-c82e-78b0bb83f87e"
      },
      "source": [
        "#Do second pivot:\n",
        "c_3=pivot(c_2,3,1,indep_names,dep_names)"
      ],
      "execution_count": 19,
      "outputs": [
        {
          "output_type": "stream",
          "text": [
            "        t3        t1   brownie        -1\n",
            "    -0.571     0.286     0.571    42.857   = -cake\n",
            "    -0.286    -0.357     0.786    46.429     = -t2\n",
            "     1.143    -0.071     0.357    39.286 = -cookie\n",
            "    -5.714    -4.643    -4.786 -1446.429     = obj\n",
            " \n"
          ],
          "name": "stdout"
        }
      ]
    },
    {
      "cell_type": "markdown",
      "metadata": {
        "id": "XyiX0_Cv2fH8"
      },
      "source": [
        "We have solved the question and see that the maximmum revenue would be $\\$1446.429$ which is attained with $0$ brownies and zero slack in the first and third constraints meaning `cake`$=42.857 $ and `cookie`$=39.286$. "
      ]
    },
    {
      "cell_type": "markdown",
      "metadata": {
        "id": "V-H-8vFsJoJr"
      },
      "source": [
        "## 5."
      ]
    },
    {
      "cell_type": "markdown",
      "metadata": {
        "id": "3VG1IphTJpxd"
      },
      "source": [
        "### a.\n",
        "Let's first right down all of the constraints in their most basic form. Denote the weight of mixture $i$ as $m_i$. The constraints would then be:\n",
        "\n",
        "\\begin{align*}\n",
        "m_3&\\geq 2m_2 \\\\\n",
        "m_2&\\geq 2m_1 \\\\\n",
        "m_1+.8m_2+.6m_3&\\leq500\\\\\n",
        "0m_1+.15m_2+.3m_3&\\leq250\\\\\n",
        "0m_1+.05m_2+.1m_3&\\leq100\\\\\n",
        "m_1,m_2,m_3&\\geq0\n",
        "\\end{align*}\n",
        "\n",
        "Converting this to canonical max gives $\\max_\\limits{m_1,m_2,m_3}2m_1+1.5m_2+m_3$ such that:\n",
        "\n",
        "\\begin{align*}\n",
        "0m_1+2m_2-m_3&\\leq 0 \\\\\n",
        "2m_1-m_2+0m_3&\\leq 0 \\\\\n",
        "m_1+.8m_2+.6m_3&\\leq500\\\\\n",
        "0m_1+.15m_2+.3m_3&\\leq250\\\\\n",
        "0m_1+.05m_2+.1m_3&\\leq100\\\\\n",
        "m_1,m_2,m_3&\\geq0\n",
        "\\end{align*}\n",
        "\n",
        "And then as a tableau:"
      ]
    },
    {
      "cell_type": "code",
      "metadata": {
        "colab": {
          "base_uri": "https://localhost:8080/",
          "height": 0
        },
        "id": "2LaKH9czMeR9",
        "outputId": "1e4abb82-d8c8-40b3-8734-cf4e8f911ee2"
      },
      "source": [
        "#Define Problem Parameters\n",
        "indep_names=[\"m_1\",\"m_2\",\"m_3\"]\n",
        "dep_names=[\"t1\",\"t2\",\"t3\",\"t4\",\"t5\"]\n",
        "d_1=np.array([[0,2,-1,0],[2,-1,0,0],[1,.8,.6,500],[0,.15,.3,250],[0,.05,.1,100],[2,1.5,1,0]])\n",
        "print_tableau(d_1,indep_names,dep_names)"
      ],
      "execution_count": 41,
      "outputs": [
        {
          "output_type": "stream",
          "text": [
            "       m_1       m_2       m_3        -1\n",
            "     0.000     2.000    -1.000     0.000     = -t1\n",
            "     2.000    -1.000     0.000     0.000     = -t2\n",
            "     1.000     0.800     0.600   500.000     = -t3\n",
            "     0.000     0.150     0.300   250.000     = -t4\n",
            "     0.000     0.050     0.100   100.000     = -t5\n",
            "     2.000     1.500     1.000     0.000     = obj\n",
            " \n"
          ],
          "name": "stdout"
        }
      ]
    },
    {
      "cell_type": "markdown",
      "metadata": {
        "id": "A4C0k2I1Opzy"
      },
      "source": [
        "### b.\n",
        "First, I select to pivot on the $m_1$ column. As such the ratios necessary are: $\\frac{0}{0},\\frac{0}{2},500,\\frac{250}{0},\\frac{250}{0}$. Well that's a little funky. Let's pivot on the $(2,1)=0$ entry giving:"
      ]
    },
    {
      "cell_type": "code",
      "metadata": {
        "colab": {
          "base_uri": "https://localhost:8080/",
          "height": 0
        },
        "id": "zy_KW_HwP0aP",
        "outputId": "9ec17d3f-1708-43d2-981f-06ce8a287649"
      },
      "source": [
        "#first pivot\n",
        "d_2=pivot(d_1,2,1,indep_names,dep_names)"
      ],
      "execution_count": 42,
      "outputs": [
        {
          "output_type": "stream",
          "text": [
            "        t2       m_2       m_3        -1\n",
            "    -0.000     2.000    -1.000     0.000     = -t1\n",
            "     0.500    -0.500     0.000     0.000    = -m_1\n",
            "    -0.500     1.300     0.600   500.000     = -t3\n",
            "    -0.000     0.150     0.300   250.000     = -t4\n",
            "    -0.000     0.050     0.100   100.000     = -t5\n",
            "    -1.000     2.500     1.000     0.000     = obj\n",
            " \n"
          ],
          "name": "stdout"
        }
      ]
    },
    {
      "cell_type": "markdown",
      "metadata": {
        "id": "E5BTdYM-4AMT"
      },
      "source": [
        "I choose next to target $c_2=2.5$ because it is the largest. The ratios in that column are: $\\frac{0}{2},\\frac{0}{-.5},\\frac{500}{1.3},\\frac{250}{.3},1000$. The smallest non-negative ratio is at $(1,2)=2$. Pivoting there yields:"
      ]
    },
    {
      "cell_type": "code",
      "metadata": {
        "colab": {
          "base_uri": "https://localhost:8080/",
          "height": 0
        },
        "id": "lugLuwZb4yiN",
        "outputId": "b6443b9a-1089-4b75-b716-123274f5dc88"
      },
      "source": [
        "#Pivot Number Two\n",
        "d_3=pivot(d_2,1,2,indep_names,dep_names)"
      ],
      "execution_count": 43,
      "outputs": [
        {
          "output_type": "stream",
          "text": [
            "        t2        t1       m_3        -1\n",
            "    -0.000     0.500    -0.500     0.000    = -m_2\n",
            "     0.500     0.250    -0.250     0.000    = -m_1\n",
            "    -0.500    -0.650     1.250   500.000     = -t3\n",
            "     0.000    -0.075     0.375   250.000     = -t4\n",
            "     0.000    -0.025     0.125   100.000     = -t5\n",
            "    -1.000    -1.250     2.250     0.000     = obj\n",
            " \n"
          ],
          "name": "stdout"
        }
      ]
    },
    {
      "cell_type": "markdown",
      "metadata": {
        "id": "5qlWsxO042vX"
      },
      "source": [
        "Targeting $c_3=2.25$, the non-negative ratios are: $400,666\\frac{2}{3},800$. Choosing the smallest, we must pivot on the $(3,3)=1.25$. Doing that gives:"
      ]
    },
    {
      "cell_type": "code",
      "metadata": {
        "colab": {
          "base_uri": "https://localhost:8080/",
          "height": 0
        },
        "id": "2OEcfm0v6D6K",
        "outputId": "7190851d-6d04-447c-dd86-43f900383fa8"
      },
      "source": [
        "#Third and final pivot:\n",
        "d_4=pivot(d_3,3,3,indep_names,dep_names)"
      ],
      "execution_count": 44,
      "outputs": [
        {
          "output_type": "stream",
          "text": [
            "        t2        t1        t3        -1\n",
            "    -0.200     0.240     0.400   200.000    = -m_2\n",
            "     0.400     0.120     0.200   100.000    = -m_1\n",
            "    -0.400    -0.520     0.800   400.000    = -m_3\n",
            "     0.150     0.120    -0.300   100.000     = -t4\n",
            "     0.050     0.040    -0.100    50.000     = -t5\n",
            "    -0.100    -0.080    -1.800  -900.000     = obj\n",
            " \n"
          ],
          "name": "stdout"
        }
      ]
    },
    {
      "cell_type": "markdown",
      "metadata": {
        "id": "ZDZ-ueWZ7UCw"
      },
      "source": [
        "Okay nice, all of the coefficients in the objective function are now negative giving us the three constraints will we will acheive. That is, we set $t_1,t_2,t_3$ to zero and as such set $m_1=100,m_2=200,m_3=300$ with $100$ units of slack in the 4th constraint and 50 units of slack in the 5th constraint. That is, we will retain $100$ pounds of cashews and $50$ pounds of pecans, with zero pounds of peanuts remaining. Maximal profit it $\\$900$."
      ]
    }
  ]
}