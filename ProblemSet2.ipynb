{
  "nbformat": 4,
  "nbformat_minor": 0,
  "metadata": {
    "colab": {
      "name": "ProblemSet2.ipynb",
      "provenance": [],
      "collapsed_sections": [],
      "toc_visible": true,
      "authorship_tag": "ABX9TyODWzncXvQZitPPVIkKq2SQ",
      "include_colab_link": true
    },
    "kernelspec": {
      "name": "python3",
      "display_name": "Python 3"
    }
  },
  "cells": [
    {
      "cell_type": "markdown",
      "metadata": {
        "id": "view-in-github",
        "colab_type": "text"
      },
      "source": [
        "<a href=\"https://colab.research.google.com/github/aarongraybill/Math210/blob/main/ProblemSet2.ipynb\" target=\"_parent\"><img src=\"https://colab.research.google.com/assets/colab-badge.svg\" alt=\"Open In Colab\"/></a>"
      ]
    },
    {
      "cell_type": "markdown",
      "metadata": {
        "id": "hLpSiJM2WkeL"
      },
      "source": [
        "# Math 210\n",
        "## Aaron Graybill\n",
        "### Problem Set 2\n",
        "### 3/4/21"
      ]
    },
    {
      "cell_type": "markdown",
      "metadata": {
        "id": "3Gw4HtjIYwrC"
      },
      "source": [
        "## Problem 1."
      ]
    },
    {
      "cell_type": "markdown",
      "metadata": {
        "id": "79TmejRWY2d3"
      },
      "source": [
        "### a.\n",
        "The objective function remains the same: $g(x_1,x_2)=30x_1+12x_2$.\n",
        "\n",
        "We have the slack equations:\n",
        "\\begin{equation*}\n",
        "10x_1+5x_2-150=-t_1 \\tag{1}\n",
        "\\end{equation*}\n",
        "\\begin{equation*}\n",
        "4x_1+3x_2-80=-t_2 \\tag{2}\n",
        "\\end{equation*}\n",
        "\n",
        "With the same non-negativity constraints, $x_1,x_2\\geq0$ and well as $t_1,t_2\\geq0$.\n"
      ]
    },
    {
      "cell_type": "markdown",
      "metadata": {
        "id": "d_58DUvacLC_"
      },
      "source": [
        "### b.\n",
        "Solving $(1)$ for $x_1$ gives:\n",
        "$$\n",
        "x_1=-\\frac{1}{10}t_1-\\frac{1}{2}x_2+15 \\tag{3}\n",
        "$$\n",
        "Plugging this into $g$ gives:\n",
        "\\begin{align*}\n",
        "g(-\\frac{1}{10}t_1-\\frac{1}{2}x_2+15,x_2)&=30\\left(-\\frac{1}{10}t_1-\\frac{1}{2}x_2+15\\right)+12x_2\\\\\n",
        "&=-3t_1-3x_2+450\n",
        "\\end{align*}\n",
        "\n",
        "We could also rewrite the constraints as:\n",
        "\\begin{align}\n",
        "\\frac{1}{10}t_1+\\frac{1}{2}x_2-15&=-x_1\\\\\n",
        "4\\left(-\\frac{1}{10}t_1-\\frac{1}{2}x_2+15\\right)+3x_2-80&=-t_2\\implies\\\\\n",
        "-\\frac{2}{5}t_1+x_2-20&=-t_2\n",
        "\\end{align}"
      ]
    },
    {
      "cell_type": "markdown",
      "metadata": {
        "id": "u8aiWTxsiizY"
      },
      "source": [
        "### c.\n",
        "\n",
        "Look at the rewritten objective function. Note that by our new non-negativity constraints both $x_2$ and $t_1$ must be greater than or equal to zero. This allows to easily see that the theoretical maximum of this this function is $450$ (because it decreasing in $x_2,t_1$). We have then to show that we can actually attain 450. In order for this to happen both $x_2=t_1=0$. Plugging into our constraints gives:\n",
        "$$\n",
        "\\frac{1}{10}0+\\frac{1}{2}{0}-15=-x_1\\iff x_1=15\\\\\n",
        "-\\frac{2}{5}0+0-20=-t_2\\iff t_2=20\n",
        "$$\n",
        "\n",
        "Neither of those are outside the constraint set. Therefore our full answer must be: $x_1^*=15,x_2^*=0,t_1^*=0,t_2^*=15,g(x_1^*,x_2^*)=450$"
      ]
    },
    {
      "cell_type": "markdown",
      "metadata": {
        "id": "kuoIB_nIkeCy"
      },
      "source": [
        "### d.\n",
        "We can interpret the $t_i$s in the following way. In both cases the $t_i$ gives the amount of remaining slack in constraint $i$. But in context:\n",
        "\n",
        "\n",
        "> $t_1^*=0$: For the solution that maximizes sales, the bakery has $0$ units of flour remaining.\n",
        "\n",
        "> $t_2^*=20$: For the solution that maximizes sales, the baker has $20$ units of sugar remaining. \n",
        "\n"
      ]
    },
    {
      "cell_type": "markdown",
      "metadata": {
        "id": "v7r1BcHNlzu9"
      },
      "source": [
        "## Problem 2.\n",
        "The tableau as given is:\n",
        "\n",
        "| $d$ | $c$ | $-1$ | |\n",
        "| :-: | :-: | :-: | :-:|\n",
        "| 10| 5 | 150| $=-t_1$\n",
        "| <font color='red'>4</font>  | 3 | 80| $=-t_2$\n",
        "| 30 | 20 | 0| $=obj$\n",
        "\n",
        "The red cell is the pivot point.\n",
        "\n",
        "We should first empty the tableau and rename appropriately:\n",
        "\n",
        "| $t_2$ | $c$ | $-1$ | |\n",
        "| :-: | :-: | :-: | :-:|\n",
        "| | | | $=-t_1$\n",
        "|   |  | | $=-d$\n",
        "|  |  | | $=obj$\n",
        "\n",
        "Let's add $\\frac{1}{p}$ giving:\n",
        "\n",
        "| $t_2$ | $c$ | $-1$ | |\n",
        "| :-: | :-: | :-: | :-:|\n",
        "| | | | $=-t_1$\n",
        "| $\\frac{1}{4}$ |  | | $=-d$\n",
        "|  |  | | $=obj$\n",
        "\n",
        "Then let's add the $\\frac{q}{p}$ in the same row as $p$ giving:\n",
        "\n",
        "| $t_2$ | $c$ | $-1$ | |\n",
        "| :-: | :-: | :-: | :-:|\n",
        "| | | | $=-t_1$\n",
        "| $\\frac{1}{4}$ | $\\frac{3}{4}$ | 20| $=-d$\n",
        "|  |  | | $=obj$\n",
        "\n",
        "Now let's do the $-\\frac{q}{p}$ in the same column giving:\n",
        "\n",
        "| $t_2$ | $c$ | $-1$ | |\n",
        "| :-: | :-: | :-: | :-:|\n",
        "| $-\\frac{5}{2}$| | | $=-t_1$\n",
        "| $\\frac{1}{4}$ | $\\frac{3}{4}$ | 20| $=-d$\n",
        "|$-\\frac{15}{2}$ |  | | $=obj$\n",
        "\n",
        "Now applying the $\\frac{ps-qr}{p}$ to the other entries gives:\n",
        "\n",
        "| $t_2$ | $c$ | $-1$ | |\n",
        "| :-: | :-: | :-: | :-:|\n",
        "| $-\\frac{5}{2}$|$-\\frac{5}{2}$ | -50| $=-t_1$\n",
        "| $\\frac{1}{4}$ | $\\frac{3}{4}$ | 20| $=-d$\n",
        "|$-\\frac{15}{2}$ | $-\\frac{5}{2}$ | -60| $=obj$\n",
        "\n",
        "And then making sure that works:"
      ]
    },
    {
      "cell_type": "markdown",
      "metadata": {
        "id": "QJK6GK2g2tLq"
      },
      "source": [
        "## Problem 3\n",
        "\n"
      ]
    },
    {
      "cell_type": "markdown",
      "metadata": {
        "id": "oUfN_Jj32jU6"
      },
      "source": [
        "### 1.\n",
        "The graph of the region is as follows:"
      ]
    },
    {
      "cell_type": "code",
      "metadata": {
        "colab": {
          "base_uri": "https://localhost:8080/",
          "height": 523
        },
        "id": "dSi6trXH2y28",
        "outputId": "fa3324fa-fb9f-4bf3-bd33-df4ce18007fa"
      },
      "source": [
        "%%html\n",
        "<iframe src=\"https://www.desmos.com/calculator/6ubr2jksrz?embed\" width=\"500px\" height=\"500px\" style=\"border: 1px solid #ccc\" frameborder=0></iframe>"
      ],
      "execution_count": 1,
      "outputs": [
        {
          "output_type": "display_data",
          "data": {
            "text/html": [
              "<iframe src=\"https://www.desmos.com/calculator/6ubr2jksrz?embed\" width=\"500px\" height=\"500px\" style=\"border: 1px solid #ccc\" frameborder=0></iframe>"
            ],
            "text/plain": [
              "<IPython.core.display.HTML object>"
            ]
          },
          "metadata": {
            "tags": []
          }
        }
      ]
    },
    {
      "cell_type": "markdown",
      "metadata": {
        "id": "S5glOl2zDx0S"
      },
      "source": [
        "### 2. \n",
        "This only needs some minor manipulations to put it into `CanonicalMax` form. It is as follows:\n",
        "\\begin{align*}\n",
        "x-2y&\\leq-2\\\\\n",
        "-x-y&\\leq-7\\\\\n",
        "-2x+y&\\leq4\\\\\n",
        "x+2y&\\leq18\\\\\n",
        "x,y&\\geq0\n",
        "\\end{align*}"
      ]
    },
    {
      "cell_type": "markdown",
      "metadata": {
        "id": "llZqsuyMGGr3"
      },
      "source": [
        "### 3. \n",
        "\n",
        "Getting this to a Tucker tableau would then be:\n",
        "\n",
        "| $x$ | $y$ | $-1$ | |\n",
        "| :-: | :-: | :-: | :-:|\n",
        "|$1$|$-2$ | $-2$| $=-t_1$\n",
        "| $-1$ | $-1$ | $-7$| $=-t_2$\n",
        "|$-2$ | $1$ | $4$| $=-t_3$\n",
        "|$1$ | $2$ | $18$ | $=-t_4$\n",
        "|$2$ | $3$ | $0$ | $= obj$\n"
      ]
    },
    {
      "cell_type": "markdown",
      "metadata": {
        "id": "dYaA76U8DFFP"
      },
      "source": [
        "### 4. \n",
        "In the below hidden code block I pull in the functions Rob created to pivot tableaus."
      ]
    },
    {
      "cell_type": "code",
      "metadata": {
        "id": "ZShA0POvYkJw",
        "cellView": "form"
      },
      "source": [
        "#@title\n",
        "import numpy as np\n",
        "\n",
        "def print_tableau(a,indep_names,dep_names):\n",
        "#\n",
        "# Given matrix \"a\" and lists of variables names \"indep_names\" and \"dep_names\",\n",
        "# this function prints the matrix and labels in standard tableau format\n",
        "# (including adding the -1, the minus signs in the last column, and labeling the lower-right as obj)\n",
        "#\n",
        "# First, check the inputs: indep_names should be one shorter than the number of columns of A\n",
        "#                          dep_names should be one shorter than the number of rows of A\n",
        "#\n",
        "    nrows = a.shape[0]    # use the shape function to determine number of rows and cols in A\n",
        "    ncols = a.shape[1]\n",
        "    nindep = len(indep_names)\n",
        "    ndep = len(dep_names)\n",
        "    if nindep != ncols-1:\n",
        "        print(\"WARNING: # of indep vbles should be one fewer than # columns of matrix\")\n",
        "    if ndep != nrows-1:\n",
        "        print(\"WARNING: # of dep vbles should be one fewer than # rows of matrix\")\n",
        "# Now do the printing (uses a variety of formatting techniques in Python)        \n",
        "    for j in range(ncols-1):                    # Print the independent variables in the first row\n",
        "        print(indep_names[j].rjust(10),end=\"\")  # rjust(10) makes fields 10 wide and right-justifies;\n",
        "                                                #    the end command prevents newline)\n",
        "    print(\"        -1\")                         # Tack on the -1 at the end of the first row\n",
        "    for i in range(nrows-1):\n",
        "        for j in range(ncols):                  # Print all but the last row of the matrix\n",
        "            print(\"%10.3f\" % a[i][j],end=\"\") # The syntax prints in a field 10 wide, showing 3 decimal points\n",
        "        lab = \"= -\" + dep_names[i]\n",
        "        print(lab.rjust(10))\n",
        "    for j in range(ncols):\n",
        "        print(\"%10.3f\" % a[nrows-1][j],end=\"\")  # Print the last row of the matrix, with label \"obj\" at end\n",
        "    lab = \"= obj\"\n",
        "    print(lab.rjust(10))\n",
        "    print(\" \")    # Put blank line at bottom\n",
        "\n",
        "\n",
        "def pivot(a,pivrow,pivcol,indep_names,dep_names) :\n",
        "# \n",
        "# Given matrix \"a\", a row number \"pivrow\" and column number \"pivcol\", \n",
        "#  and lists of variable names \"indep_names\" and \"dep_names\", this\n",
        "#  function does three things:\n",
        "#    (1) outputs the new version of the matrix after a pivot,\n",
        "#    (2) updates the lists of variable names post-pivot\n",
        "#    (3) prints the new matrix, including labels showing the variable names\n",
        "#\n",
        "# First, check the inputs: indep_names should be one shorter than the number of columns of A\n",
        "#                          dep_names should be one shorter than the number of rows of A\n",
        "#                          you should not be pivoting on the last row or last column\n",
        "#\n",
        "    a = a.astype(float)   # make sure entries are treated as floating point numbers\n",
        "    nrows = a.shape[0]    # use the shape function to determine number of rows and cols in A\n",
        "    ncols = a.shape[1]\n",
        "    nindep = len(indep_names)\n",
        "    ndep = len(dep_names)\n",
        "    if nindep != ncols-1:\n",
        "        print(\"WARNING: # of indep vbles should be one fewer than # columns of matrix\")\n",
        "    if ndep != nrows-1:\n",
        "        print(\"WARNING: # of dep vbles should be one fewer than # rows of matrix\")\n",
        "    if pivrow > nrows-1 or pivcol > ncols-1:\n",
        "        print(\"WARNING: should not pivot on last row or column\")\n",
        "    newa = a.copy()       # make a copy of A, to be filled in below with result of pivot\n",
        "    p = a[pivrow-1][pivcol-1]   # identify pivot element\n",
        "    newa[pivrow-1][pivcol-1] = 1/p   # set new value of pivot element\n",
        "    # Set entries in p's row\n",
        "    for j in range(ncols):\n",
        "        if j != pivcol-1:\n",
        "            newa[pivrow-1][j]=a[pivrow-1][j]/p;\n",
        "    # Set entries in p's column\n",
        "    for i in range(nrows):\n",
        "        if i != pivrow-1:\n",
        "            newa[i][pivcol-1]=-a[i][pivcol-1]/p;\n",
        "    # Set all other entries\n",
        "    for i in range(nrows):\n",
        "        for j in range(ncols):\n",
        "            if i != pivrow-1 and j != pivcol-1:\n",
        "                r = a[i][pivcol-1]\n",
        "                q = a[pivrow-1][j]\n",
        "                s = a[i][j]\n",
        "                newa[i][j]=(p*s-q*r)/p\n",
        "    # Now swap the variable names\n",
        "    temp = indep_names[pivcol-1]\n",
        "    indep_names[pivcol-1]=dep_names[pivrow-1]\n",
        "    dep_names[pivrow-1]=temp\n",
        "    print_tableau(newa,indep_names,dep_names) # Print the matrix with updated labels\n",
        "    return newa;"
      ],
      "execution_count": 8,
      "outputs": []
    },
    {
      "cell_type": "markdown",
      "metadata": {
        "id": "sahnCxKmDjfr"
      },
      "source": [
        "With those imported, and pivoting as desired gives:"
      ]
    },
    {
      "cell_type": "code",
      "metadata": {
        "colab": {
          "base_uri": "https://localhost:8080/"
        },
        "id": "oa5-S5CNBbDn",
        "outputId": "e3cf078a-d74f-4fde-e22e-aa8a3a76b12c"
      },
      "source": [
        "#Define Problem Parameters\n",
        "indep_names=[\"x\",\"y\"]\n",
        "dep_names=[\"t1\",\"t2\",\"t3\",\"t4\"]\n",
        "b_1=np.array([[1,-2,-2],[-1,-1,-7],[-2,1,4],[1,2,18],[2,3,0]])\n",
        "\n",
        "#Do pivots\n",
        "print_tableau(b_1,indep_names,dep_names)\n",
        "b_2=pivot(b_1,1,1,indep_names,dep_names)\n",
        "b_3=pivot(b_2,4,2,indep_names,dep_names)"
      ],
      "execution_count": 19,
      "outputs": [
        {
          "output_type": "stream",
          "text": [
            "         x         y        -1\n",
            "     1.000    -2.000    -2.000     = -t1\n",
            "    -1.000    -1.000    -7.000     = -t2\n",
            "    -2.000     1.000     4.000     = -t3\n",
            "     1.000     2.000    18.000     = -t4\n",
            "     2.000     3.000     0.000     = obj\n",
            " \n",
            "        t1         y        -1\n",
            "     1.000    -2.000    -2.000      = -x\n",
            "     1.000    -3.000    -9.000     = -t2\n",
            "     2.000    -3.000     0.000     = -t3\n",
            "    -1.000     4.000    20.000     = -t4\n",
            "    -2.000     7.000     4.000     = obj\n",
            " \n",
            "        t1        t4        -1\n",
            "     0.500     0.500     8.000      = -x\n",
            "     0.250     0.750     6.000     = -t2\n",
            "     1.250     0.750    15.000     = -t3\n",
            "    -0.250     0.250     5.000      = -y\n",
            "    -0.250    -1.750   -31.000     = obj\n",
            " \n"
          ],
          "name": "stdout"
        }
      ]
    }
  ]
}